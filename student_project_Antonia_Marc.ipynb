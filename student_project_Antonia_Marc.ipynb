{
 "cells": [
  {
   "cell_type": "markdown",
   "metadata": {},
   "source": [
    "# The effect of a Universal Child Benefit - González (2013) revisited\n",
    "\n",
    "## A Project by Antonia Entorf & Marc Lipfert"
   ]
  },
  {
   "cell_type": "markdown",
   "metadata": {},
   "source": [
    "### Overview\n",
    "\n",
    "This notebook replicates the main results presented in the following article:   \n",
    "\n",
    "González, L. (2013): [The Effect of a Universal Child Benefit on Conceptions, Abortions, and Early Maternal Labor Supply](https://www.aeaweb.org/articles?id=10.1257/pol.5.3.160). American Economic Journal: Economic Policy 5(3): 160–188.\n",
    "\n",
    "In that paper, the author investigates the effect of a universal child benefit on fertility, household expenditure patterns and maternal labor supply. In particular, she is able to exploit the unanticipated introduction of a child benefit that took place in Spain in 2007 by utilising a Regression Discontinuity Design.\n",
    "\n",
    "Apart from replicating major findings presented by González, our aim is to enrich her analysis with respect to three different aspects. First, we will examine whether accounting for autocorrelation is necessary in the given context. Secondly, since the benefit was suspended in the aftermath of the financial crisis, we will exploit this fact and apply the identical research design to the abolishment of the policy in order to study the effect on conceptions. Thirdly, we will investigate threats to validity using simulations as well as a placebo test.\n",
    "\n",
    "\n"
   ]
  },
  {
   "cell_type": "markdown",
   "metadata": {},
   "source": [
    "### Introduction"
   ]
  },
  {
   "cell_type": "markdown",
   "metadata": {},
   "source": [
    "On July 3 in 2007 the spanish government announced that all mothers giving birth from July 1 in 2007 on were eligible to receive a child benefit. The child benefit was a one-time cash payment of 2,500€. Libertad González, henceforth LG, analyzes the effect of this child benefit on the number of conceptions and abortions as well as on household expenditures, maternal labor supply and day care use. She uses a sharp regression discontinuity design (RDD) for her analysis, where the running variable is time and the treatment variable is equal to 1 after July 1 2007 and zero before that date.\n",
    "\n",
    "A problem which could occur when using a RDD is self selection into treatment. In this particular setting one could imagine that women try to postpone birth in order to give birth after the cutoff and not before. This scenario seems especially plausible for low income families who need the cash payment. Therefore, the mothers giving birth right before and rigth after the cutoff could differ in personal characteristics, such as income and education. This could lead to a bias in the estimated average treatment effect if low income families react differently to receiving treatment compared to high income families and, additionally, we are not able to control for these personal characteristics.\n",
    "\n",
    "However, self slection into treatment was not possible in our setting, because the introduction of the policy was unexpected and the cutoff date was even two days before the announcement. These two points rule out the possiblity to postpone birth in order to get the benefit.\n",
    "\n",
    "In the following, we will explain the research question in more detail using causal graphs."
   ]
  },
  {
   "cell_type": "markdown",
   "metadata": {},
   "source": [
    "#### Effect on Fertility"
   ]
  },
  {
   "cell_type": "markdown",
   "metadata": {},
   "source": [
    "<img src=\"causal-graphs/causal-graph-fertility.png\" height=\"700\" width=\"700\" />"
   ]
  },
  {
   "cell_type": "markdown",
   "metadata": {},
   "source": [
    "The causal graph above represents two regression analyses. First, LG is interested in the effect of the introduction of the child benefit on the number of conceptions and, second, on the number of abortions. Thus, the treatment variable is the introduction of the child benefit and the dependent variables are number of conceptions and number of abortions. In this graph the treatment should be interpreted as having the possibility to get the benefit and not as already having the benefit.\n",
    "\n",
    "One could expect that the number of conceptions increases after the introduction because the promise of receiving a cash payment increases families' incentives to get a child. The same reasoning can be applied to the number of abortions. Treated women have more incentives to reject an abortion than untreated women. Therefore, the introduction of the benefit should reduce the number of abortions.\n",
    "\n",
    "Obviously, 2,500€ is rather few compared to the costs associated with a child. Thus, a pontential impact of the treatment on the variables of interest should be small.\n",
    "\n",
    "*Here we could think about whether rather low educated families aim for the cash payment not only due to probably lower income but also because they underestimate the costs associated with a child!*"
   ]
  },
  {
   "cell_type": "markdown",
   "metadata": {},
   "source": [
    "### Replication\n",
    "Before we can start with the data analysis we need to prepare the data sets. Therefore we translate the author's Stata code into python code. There are three different do-files using different datasets."
   ]
  },
  {
   "cell_type": "markdown",
   "metadata": {},
   "source": [
    "In the following I will translate the first do-file which you can find in \"Additional Materials\" on the AEJ-website."
   ]
  },
  {
   "cell_type": "code",
   "execution_count": 3,
   "metadata": {},
   "outputs": [],
   "source": [
    "import pandas as pd\n",
    "import numpy as np\n",
    "import statsmodels.formula.api as smf\n",
    "#import statsmodels.api as sm\n",
    "#from patsy import dmatrices"
   ]
  },
  {
   "cell_type": "code",
   "execution_count": 5,
   "metadata": {},
   "outputs": [
    {
     "data": {
      "text/html": [
       "<div>\n",
       "<style scoped>\n",
       "    .dataframe tbody tr th:only-of-type {\n",
       "        vertical-align: middle;\n",
       "    }\n",
       "\n",
       "    .dataframe tbody tr th {\n",
       "        vertical-align: top;\n",
       "    }\n",
       "\n",
       "    .dataframe thead th {\n",
       "        text-align: right;\n",
       "    }\n",
       "</style>\n",
       "<table border=\"1\" class=\"dataframe\">\n",
       "  <thead>\n",
       "    <tr style=\"text-align: right;\">\n",
       "      <th></th>\n",
       "      <th>mesp</th>\n",
       "      <th>year</th>\n",
       "      <th>prem</th>\n",
       "      <th>semanas</th>\n",
       "    </tr>\n",
       "  </thead>\n",
       "  <tbody>\n",
       "    <tr>\n",
       "      <th>0</th>\n",
       "      <td>3.0</td>\n",
       "      <td>2000.0</td>\n",
       "      <td>1</td>\n",
       "      <td>0.0</td>\n",
       "    </tr>\n",
       "    <tr>\n",
       "      <th>1</th>\n",
       "      <td>1.0</td>\n",
       "      <td>2000.0</td>\n",
       "      <td>2</td>\n",
       "      <td>36.0</td>\n",
       "    </tr>\n",
       "    <tr>\n",
       "      <th>2</th>\n",
       "      <td>3.0</td>\n",
       "      <td>2000.0</td>\n",
       "      <td>1</td>\n",
       "      <td>37.0</td>\n",
       "    </tr>\n",
       "    <tr>\n",
       "      <th>3</th>\n",
       "      <td>3.0</td>\n",
       "      <td>2000.0</td>\n",
       "      <td>1</td>\n",
       "      <td>39.0</td>\n",
       "    </tr>\n",
       "    <tr>\n",
       "      <th>4</th>\n",
       "      <td>12.0</td>\n",
       "      <td>2000.0</td>\n",
       "      <td>1</td>\n",
       "      <td>0.0</td>\n",
       "    </tr>\n",
       "  </tbody>\n",
       "</table>\n",
       "</div>"
      ],
      "text/plain": [
       "   mesp    year  prem  semanas\n",
       "0   3.0  2000.0     1      0.0\n",
       "1   1.0  2000.0     2     36.0\n",
       "2   3.0  2000.0     1     37.0\n",
       "3   3.0  2000.0     1     39.0\n",
       "4  12.0  2000.0     1      0.0"
      ]
     },
     "execution_count": 5,
     "metadata": {},
     "output_type": "execute_result"
    }
   ],
   "source": [
    "df_births = pd.read_stata('data/data_births_20110196.dta')\n",
    "df_births.head()"
   ]
  },
  {
   "cell_type": "markdown",
   "metadata": {},
   "source": [
    "#### Variables\n",
    "mesp: Month of birth <br>\n",
    "year: Year of birth <br>\n",
    "prem: Prematurity indicator (1 if baby is not premature, 2 if it is) <br>\n",
    "semanas: Number of weeks of gestation at birth"
   ]
  },
  {
   "cell_type": "code",
   "execution_count": 33,
   "metadata": {},
   "outputs": [
    {
     "data": {
      "text/html": [
       "<div>\n",
       "<style scoped>\n",
       "    .dataframe tbody tr th:only-of-type {\n",
       "        vertical-align: middle;\n",
       "    }\n",
       "\n",
       "    .dataframe tbody tr th {\n",
       "        vertical-align: top;\n",
       "    }\n",
       "\n",
       "    .dataframe thead th {\n",
       "        text-align: right;\n",
       "    }\n",
       "</style>\n",
       "<table border=\"1\" class=\"dataframe\">\n",
       "  <thead>\n",
       "    <tr style=\"text-align: right;\">\n",
       "      <th></th>\n",
       "      <th>mesp</th>\n",
       "      <th>year</th>\n",
       "      <th>prem</th>\n",
       "      <th>semanas</th>\n",
       "      <th>m</th>\n",
       "      <th>mc1</th>\n",
       "      <th>mc2</th>\n",
       "      <th>mc3</th>\n",
       "      <th>mc</th>\n",
       "      <th>n</th>\n",
       "    </tr>\n",
       "  </thead>\n",
       "  <tbody>\n",
       "    <tr>\n",
       "      <th>count</th>\n",
       "      <td>4984066.00</td>\n",
       "      <td>4984066.00</td>\n",
       "      <td>4984066.00</td>\n",
       "      <td>4706361.00</td>\n",
       "      <td>4984066.00</td>\n",
       "      <td>4984066.00</td>\n",
       "      <td>4984066.00</td>\n",
       "      <td>4984066.00</td>\n",
       "      <td>4984066.00</td>\n",
       "      <td>4984066.0</td>\n",
       "    </tr>\n",
       "    <tr>\n",
       "      <th>mean</th>\n",
       "      <td>6.57</td>\n",
       "      <td>2041.50</td>\n",
       "      <td>1.07</td>\n",
       "      <td>34.93</td>\n",
       "      <td>-21.53</td>\n",
       "      <td>-30.40</td>\n",
       "      <td>-30.26</td>\n",
       "      <td>-30.14</td>\n",
       "      <td>-30.14</td>\n",
       "      <td>1.0</td>\n",
       "    </tr>\n",
       "    <tr>\n",
       "      <th>std</th>\n",
       "      <td>3.44</td>\n",
       "      <td>35.83</td>\n",
       "      <td>0.26</td>\n",
       "      <td>11.71</td>\n",
       "      <td>37.52</td>\n",
       "      <td>37.58</td>\n",
       "      <td>37.51</td>\n",
       "      <td>37.59</td>\n",
       "      <td>37.59</td>\n",
       "      <td>0.0</td>\n",
       "    </tr>\n",
       "    <tr>\n",
       "      <th>min</th>\n",
       "      <td>1.00</td>\n",
       "      <td>2000.00</td>\n",
       "      <td>1.00</td>\n",
       "      <td>0.00</td>\n",
       "      <td>-90.00</td>\n",
       "      <td>-99.00</td>\n",
       "      <td>-99.00</td>\n",
       "      <td>-100.00</td>\n",
       "      <td>-100.00</td>\n",
       "      <td>1.0</td>\n",
       "    </tr>\n",
       "    <tr>\n",
       "      <th>25%</th>\n",
       "      <td>4.00</td>\n",
       "      <td>2003.00</td>\n",
       "      <td>1.00</td>\n",
       "      <td>38.00</td>\n",
       "      <td>-53.00</td>\n",
       "      <td>-62.00</td>\n",
       "      <td>-62.00</td>\n",
       "      <td>-62.00</td>\n",
       "      <td>-62.00</td>\n",
       "      <td>1.0</td>\n",
       "    </tr>\n",
       "    <tr>\n",
       "      <th>50%</th>\n",
       "      <td>7.00</td>\n",
       "      <td>2005.00</td>\n",
       "      <td>1.00</td>\n",
       "      <td>39.00</td>\n",
       "      <td>-20.00</td>\n",
       "      <td>-29.00</td>\n",
       "      <td>-29.00</td>\n",
       "      <td>-29.00</td>\n",
       "      <td>-29.00</td>\n",
       "      <td>1.0</td>\n",
       "    </tr>\n",
       "    <tr>\n",
       "      <th>75%</th>\n",
       "      <td>10.00</td>\n",
       "      <td>2008.00</td>\n",
       "      <td>1.00</td>\n",
       "      <td>40.00</td>\n",
       "      <td>11.00</td>\n",
       "      <td>2.00</td>\n",
       "      <td>2.00</td>\n",
       "      <td>2.00</td>\n",
       "      <td>2.00</td>\n",
       "      <td>1.0</td>\n",
       "    </tr>\n",
       "    <tr>\n",
       "      <th>max</th>\n",
       "      <td>12.00</td>\n",
       "      <td>2010.00</td>\n",
       "      <td>2.00</td>\n",
       "      <td>46.00</td>\n",
       "      <td>41.00</td>\n",
       "      <td>32.00</td>\n",
       "      <td>33.00</td>\n",
       "      <td>33.00</td>\n",
       "      <td>33.00</td>\n",
       "      <td>1.0</td>\n",
       "    </tr>\n",
       "  </tbody>\n",
       "</table>\n",
       "</div>"
      ],
      "text/plain": [
       "             mesp        year        prem     semanas           m         mc1  \\\n",
       "count  4984066.00  4984066.00  4984066.00  4706361.00  4984066.00  4984066.00   \n",
       "mean         6.57     2041.50        1.07       34.93      -21.53      -30.40   \n",
       "std          3.44       35.83        0.26       11.71       37.52       37.58   \n",
       "min          1.00     2000.00        1.00        0.00      -90.00      -99.00   \n",
       "25%          4.00     2003.00        1.00       38.00      -53.00      -62.00   \n",
       "50%          7.00     2005.00        1.00       39.00      -20.00      -29.00   \n",
       "75%         10.00     2008.00        1.00       40.00       11.00        2.00   \n",
       "max         12.00     2010.00        2.00       46.00       41.00       32.00   \n",
       "\n",
       "              mc2         mc3          mc          n  \n",
       "count  4984066.00  4984066.00  4984066.00  4984066.0  \n",
       "mean       -30.26      -30.14      -30.14        1.0  \n",
       "std         37.51       37.59       37.59        0.0  \n",
       "min        -99.00     -100.00     -100.00        1.0  \n",
       "25%        -62.00      -62.00      -62.00        1.0  \n",
       "50%        -29.00      -29.00      -29.00        1.0  \n",
       "75%          2.00        2.00        2.00        1.0  \n",
       "max         33.00       33.00       33.00        1.0  "
      ]
     },
     "execution_count": 33,
     "metadata": {},
     "output_type": "execute_result"
    }
   ],
   "source": [
    "df_births.describe().round(2)"
   ]
  },
  {
   "cell_type": "markdown",
   "metadata": {},
   "source": [
    "Create month of birth variable based on month of policy intervention in July 2007. Month of intervention is set equal to zero, the next month = 1, the previos month = -1, and so on."
   ]
  },
  {
   "cell_type": "code",
   "execution_count": 34,
   "metadata": {},
   "outputs": [
    {
     "data": {
      "text/plain": [
       "count    4984066.00\n",
       "mean         -21.53\n",
       "std           37.52\n",
       "min          -90.00\n",
       "25%          -53.00\n",
       "50%          -20.00\n",
       "75%           11.00\n",
       "max           41.00\n",
       "Name: m, dtype: float64"
      ]
     },
     "execution_count": 34,
     "metadata": {},
     "output_type": "execute_result"
    }
   ],
   "source": [
    "df_births['m'] = df_births['mesp'] + 29\n",
    "df_births.loc[df_births['year'] == 2009, 'm'] = df_births['mesp'] + 17\n",
    "df_births.loc[df_births['year'] == 2008, 'm'] = df_births['mesp'] + 5\n",
    "df_births.loc[df_births['year'] == 2007, 'm'] = df_births['mesp'] - 7\n",
    "df_births.loc[df_births['year'] == 2006, 'm'] = df_births['mesp'] - 19\n",
    "df_births.loc[df_births['year'] == 2005, 'm'] = df_births['mesp'] - 31\n",
    "df_births.loc[df_births['year'] == 2004, 'm'] = df_births['mesp'] - 43\n",
    "df_births.loc[df_births['year'] == 2003, 'm'] = df_births['mesp'] - 55\n",
    "df_births.loc[df_births['year'] == 2002, 'm'] = df_births['mesp'] - 67\n",
    "df_births.loc[df_births['year'] == 2001, 'm'] = df_births['mesp'] - 79\n",
    "df_births.loc[df_births['year'] == 2000, 'm'] = df_births['mesp'] - 91\n",
    "\n",
    "df_births['m'].describe().round(2)"
   ]
  },
  {
   "cell_type": "markdown",
   "metadata": {},
   "source": [
    "#### Create month of conception variable\n",
    "We are not interested in the month of birth but in the month of conception. Therefore we subtract e.g. 9 months from the month of birth to get month of conception."
   ]
  },
  {
   "cell_type": "markdown",
   "metadata": {},
   "source": [
    "1. the naive definition: 9 months before birth"
   ]
  },
  {
   "cell_type": "code",
   "execution_count": 35,
   "metadata": {},
   "outputs": [],
   "source": [
    "df_births['mc1'] = df_births['m'] - 9"
   ]
  },
  {
   "cell_type": "markdown",
   "metadata": {},
   "source": [
    "2. naive plus prematures"
   ]
  },
  {
   "cell_type": "code",
   "execution_count": 13,
   "metadata": {},
   "outputs": [
    {
     "data": {
      "text/plain": [
       "0.07037145976798863"
      ]
     },
     "execution_count": 13,
     "metadata": {},
     "output_type": "execute_result"
    }
   ],
   "source": [
    "# share of premature babys\n",
    "sum(df_births['prem'] == 2)/len(df_births['prem'])"
   ]
  },
  {
   "cell_type": "code",
   "execution_count": 14,
   "metadata": {},
   "outputs": [
    {
     "data": {
      "text/plain": [
       "36.0"
      ]
     },
     "execution_count": 14,
     "metadata": {},
     "output_type": "execute_result"
    }
   ],
   "source": [
    "max(df_births.loc[df_births['prem'] == 2, 'semanas'])"
   ]
  },
  {
   "cell_type": "code",
   "execution_count": 15,
   "metadata": {},
   "outputs": [],
   "source": [
    "# generating mc2\n",
    "df_births['mc2'] = np.where((df_births['prem'] == 2) |\n",
    "        # if premature baby subtract only 8 months to get month of conception\n",
    "        ((0 < df_births['semanas']) & (df_births['semanas'] < 38)), df_births['m'] - 8,\n",
    "        # otherwise subtract 9\n",
    "        df_births['m'] - 9)\n",
    "#why 38 and not 39 as in the sophisticated version???"
   ]
  },
  {
   "cell_type": "markdown",
   "metadata": {},
   "source": [
    "3. sophisticated"
   ]
  },
  {
   "cell_type": "code",
   "execution_count": 16,
   "metadata": {},
   "outputs": [
    {
     "data": {
      "text/plain": [
       "0.09286253432438495"
      ]
     },
     "execution_count": 16,
     "metadata": {},
     "output_type": "execute_result"
    }
   ],
   "source": [
    "sum(df_births['semanas'] == 0)/len(df_births['semanas'])\n",
    "# why is semanas zero for some obs?"
   ]
  },
  {
   "cell_type": "code",
   "execution_count": 17,
   "metadata": {},
   "outputs": [],
   "source": [
    "# generating mc3\n",
    "df_births['mc3'] = np.where((df_births['prem'] == 2) |\n",
    "        # if premature baby subtract only 8 months to get month of conception\n",
    "        ((0 < df_births['semanas']) & (df_births['semanas'] < 39)), df_births['m'] - 8,\n",
    "        # otherwise if baby was born only after 43 months --> -10\n",
    "        np.where(df_births['semanas'] > 43, df_births['m'] - 10,\n",
    "        # otherwise  - 9\n",
    "        df_births['m'] - 9))"
   ]
  },
  {
   "cell_type": "code",
   "execution_count": 20,
   "metadata": {},
   "outputs": [
    {
     "data": {
      "text/html": [
       "<div>\n",
       "<style scoped>\n",
       "    .dataframe tbody tr th:only-of-type {\n",
       "        vertical-align: middle;\n",
       "    }\n",
       "\n",
       "    .dataframe tbody tr th {\n",
       "        vertical-align: top;\n",
       "    }\n",
       "\n",
       "    .dataframe thead th {\n",
       "        text-align: right;\n",
       "    }\n",
       "</style>\n",
       "<table border=\"1\" class=\"dataframe\">\n",
       "  <thead>\n",
       "    <tr style=\"text-align: right;\">\n",
       "      <th></th>\n",
       "      <th>semanas</th>\n",
       "      <th>mc1</th>\n",
       "      <th>mc2</th>\n",
       "      <th>mc3</th>\n",
       "    </tr>\n",
       "  </thead>\n",
       "  <tbody>\n",
       "    <tr>\n",
       "      <th>0</th>\n",
       "      <td>0.0</td>\n",
       "      <td>-97.0</td>\n",
       "      <td>-97.0</td>\n",
       "      <td>-97.0</td>\n",
       "    </tr>\n",
       "    <tr>\n",
       "      <th>1</th>\n",
       "      <td>36.0</td>\n",
       "      <td>-99.0</td>\n",
       "      <td>-98.0</td>\n",
       "      <td>-98.0</td>\n",
       "    </tr>\n",
       "    <tr>\n",
       "      <th>2</th>\n",
       "      <td>37.0</td>\n",
       "      <td>-97.0</td>\n",
       "      <td>-96.0</td>\n",
       "      <td>-96.0</td>\n",
       "    </tr>\n",
       "    <tr>\n",
       "      <th>3</th>\n",
       "      <td>39.0</td>\n",
       "      <td>-97.0</td>\n",
       "      <td>-97.0</td>\n",
       "      <td>-97.0</td>\n",
       "    </tr>\n",
       "    <tr>\n",
       "      <th>4</th>\n",
       "      <td>0.0</td>\n",
       "      <td>-88.0</td>\n",
       "      <td>-88.0</td>\n",
       "      <td>-88.0</td>\n",
       "    </tr>\n",
       "  </tbody>\n",
       "</table>\n",
       "</div>"
      ],
      "text/plain": [
       "   semanas   mc1   mc2   mc3\n",
       "0      0.0 -97.0 -97.0 -97.0\n",
       "1     36.0 -99.0 -98.0 -98.0\n",
       "2     37.0 -97.0 -96.0 -96.0\n",
       "3     39.0 -97.0 -97.0 -97.0\n",
       "4      0.0 -88.0 -88.0 -88.0"
      ]
     },
     "execution_count": 20,
     "metadata": {},
     "output_type": "execute_result"
    }
   ],
   "source": [
    "df_births[['semanas','mc1', 'mc2', 'mc3']].head()"
   ]
  },
  {
   "cell_type": "markdown",
   "metadata": {},
   "source": [
    "What about observations with semanas = 0? <br>\n",
    "I would drop all observations with semanas = 0. Furthermore, I would calculate the month of conception with even higher precision by applying the same reasoning as used for semanas < 39 for semanas < 35"
   ]
  },
  {
   "cell_type": "markdown",
   "metadata": {},
   "source": [
    "#### Group Data\n",
    "Only the sophisticated version of month of conception (mc3) is used for the analysis. <br>\n",
    "Now, I will group the data by mc3 and count the number of observations per month."
   ]
  },
  {
   "cell_type": "code",
   "execution_count": 25,
   "metadata": {},
   "outputs": [
    {
     "data": {
      "text/html": [
       "<div>\n",
       "<style scoped>\n",
       "    .dataframe tbody tr th:only-of-type {\n",
       "        vertical-align: middle;\n",
       "    }\n",
       "\n",
       "    .dataframe tbody tr th {\n",
       "        vertical-align: top;\n",
       "    }\n",
       "\n",
       "    .dataframe thead th {\n",
       "        text-align: right;\n",
       "    }\n",
       "</style>\n",
       "<table border=\"1\" class=\"dataframe\">\n",
       "  <thead>\n",
       "    <tr style=\"text-align: right;\">\n",
       "      <th></th>\n",
       "      <th>mc</th>\n",
       "      <th>n</th>\n",
       "    </tr>\n",
       "  </thead>\n",
       "  <tbody>\n",
       "    <tr>\n",
       "      <th>0</th>\n",
       "      <td>-100.0</td>\n",
       "      <td>6</td>\n",
       "    </tr>\n",
       "    <tr>\n",
       "      <th>1</th>\n",
       "      <td>-99.0</td>\n",
       "      <td>24690</td>\n",
       "    </tr>\n",
       "    <tr>\n",
       "      <th>2</th>\n",
       "      <td>-98.0</td>\n",
       "      <td>30595</td>\n",
       "    </tr>\n",
       "    <tr>\n",
       "      <th>3</th>\n",
       "      <td>-97.0</td>\n",
       "      <td>32547</td>\n",
       "    </tr>\n",
       "    <tr>\n",
       "      <th>4</th>\n",
       "      <td>-96.0</td>\n",
       "      <td>32352</td>\n",
       "    </tr>\n",
       "  </tbody>\n",
       "</table>\n",
       "</div>"
      ],
      "text/plain": [
       "      mc      n\n",
       "0 -100.0      6\n",
       "1  -99.0  24690\n",
       "2  -98.0  30595\n",
       "3  -97.0  32547\n",
       "4  -96.0  32352"
      ]
     },
     "execution_count": 25,
     "metadata": {},
     "output_type": "execute_result"
    }
   ],
   "source": [
    "# rename\n",
    "df_births['mc'] = df_births['mc3']\n",
    "# this variable will indicate the number of conceiption per month:\n",
    "df_births['n'] = 1\n",
    "dfb = df_births.groupby('mc', as_index = False)['n'].count()\n",
    "\n",
    "dfb.head()"
   ]
  },
  {
   "cell_type": "code",
   "execution_count": 26,
   "metadata": {},
   "outputs": [
    {
     "data": {
      "text/html": [
       "<div>\n",
       "<style scoped>\n",
       "    .dataframe tbody tr th:only-of-type {\n",
       "        vertical-align: middle;\n",
       "    }\n",
       "\n",
       "    .dataframe tbody tr th {\n",
       "        vertical-align: top;\n",
       "    }\n",
       "\n",
       "    .dataframe thead th {\n",
       "        text-align: right;\n",
       "    }\n",
       "</style>\n",
       "<table border=\"1\" class=\"dataframe\">\n",
       "  <thead>\n",
       "    <tr style=\"text-align: right;\">\n",
       "      <th></th>\n",
       "      <th>mc</th>\n",
       "      <th>n</th>\n",
       "    </tr>\n",
       "  </thead>\n",
       "  <tbody>\n",
       "    <tr>\n",
       "      <th>129</th>\n",
       "      <td>29.0</td>\n",
       "      <td>41709</td>\n",
       "    </tr>\n",
       "    <tr>\n",
       "      <th>130</th>\n",
       "      <td>30.0</td>\n",
       "      <td>42480</td>\n",
       "    </tr>\n",
       "    <tr>\n",
       "      <th>131</th>\n",
       "      <td>31.0</td>\n",
       "      <td>41202</td>\n",
       "    </tr>\n",
       "    <tr>\n",
       "      <th>132</th>\n",
       "      <td>32.0</td>\n",
       "      <td>41703</td>\n",
       "    </tr>\n",
       "    <tr>\n",
       "      <th>133</th>\n",
       "      <td>33.0</td>\n",
       "      <td>11322</td>\n",
       "    </tr>\n",
       "  </tbody>\n",
       "</table>\n",
       "</div>"
      ],
      "text/plain": [
       "       mc      n\n",
       "129  29.0  41709\n",
       "130  30.0  42480\n",
       "131  31.0  41202\n",
       "132  32.0  41703\n",
       "133  33.0  11322"
      ]
     },
     "execution_count": 26,
     "metadata": {},
     "output_type": "execute_result"
    }
   ],
   "source": [
    "dfb.tail()"
   ]
  },
  {
   "cell_type": "markdown",
   "metadata": {},
   "source": [
    "generate calendar month of conception\n",
    "\n",
    "The author made some mistakes here!"
   ]
  },
  {
   "cell_type": "code",
   "execution_count": 27,
   "metadata": {},
   "outputs": [
    {
     "data": {
      "text/plain": [
       "0"
      ]
     },
     "execution_count": 27,
     "metadata": {},
     "output_type": "execute_result"
    }
   ],
   "source": [
    "dfb['month'] = 0\n",
    "\n",
    "#note that range starts at 0 but does not include the last number\n",
    "for i in range(3):\n",
    "    dfb.loc[dfb['mc'] == 0 + 12*i, 'month'] = 7\n",
    "    dfb.loc[dfb['mc'] == 1 + 12*i, 'month'] = 8\n",
    "    dfb.loc[dfb['mc'] == 2 + 12*i, 'month'] = 9\n",
    "    dfb.loc[dfb['mc'] == 3 + 12*i, 'month'] = 10\n",
    "    dfb.loc[dfb['mc'] == 4 + 12*i, 'month'] = 11\n",
    "    dfb.loc[dfb['mc'] == 5 + 12*i, 'month'] = 12\n",
    "    dfb.loc[dfb['mc'] == 6 + 12*i, 'month'] = 1\n",
    "    dfb.loc[dfb['mc'] == 7 + 12*i, 'month'] = 2\n",
    "    dfb.loc[dfb['mc'] == 8 + 12*i, 'month'] = 3\n",
    "    dfb.loc[dfb['mc'] == 9 + 12*i, 'month'] = 4\n",
    "    dfb.loc[dfb['mc'] == 10 + 12*i, 'month'] = 5\n",
    "    dfb.loc[dfb['mc'] == 11 + 12*i, 'month'] = 6\n",
    "       \n",
    "for i in range(9):\n",
    "    dfb.loc[dfb['mc'] == -1 - 12*i, 'month'] = 6\n",
    "    dfb.loc[dfb['mc'] == -2 - 12*i, 'month'] = 5\n",
    "    dfb.loc[dfb['mc'] == -3 - 12*i, 'month'] = 4\n",
    "    dfb.loc[dfb['mc'] == -4 - 12*i, 'month'] = 3\n",
    "    dfb.loc[dfb['mc'] == -5 - 12*i, 'month'] = 2\n",
    "    dfb.loc[dfb['mc'] == -6 - 12*i, 'month'] = 1\n",
    "    dfb.loc[dfb['mc'] == -7 - 12*i, 'month'] = 12\n",
    "    dfb.loc[dfb['mc'] == -8 - 12*i, 'month'] = 11\n",
    "    dfb.loc[dfb['mc'] == -9 - 12*i, 'month'] = 10\n",
    "    dfb.loc[dfb['mc'] == -10 - 12*i, 'month'] = 9\n",
    "    dfb.loc[dfb['mc'] == -11 - 12*i, 'month'] = 8\n",
    "    dfb.loc[dfb['mc'] == -12 - 12*i, 'month'] = 7\n",
    "\n",
    "# check that no zero is left\n",
    "sum(dfb['month'] == 0)"
   ]
  },
  {
   "cell_type": "code",
   "execution_count": 28,
   "metadata": {},
   "outputs": [],
   "source": [
    "# generate July indicator\n",
    "dfb['july'] = np.where(dfb['month'] == 7, 1, 0)"
   ]
  },
  {
   "cell_type": "markdown",
   "metadata": {},
   "source": [
    "generate number of days in a month <br>\n",
    "Note that from 2000 - 2010 there are the following leap years: 2008, 2004, 2000. This is relevant for mc = 7, 7-12 times 4, 7-12 times 8 <br>\n",
    "For some reason the author only adjusted feburary in 2008."
   ]
  },
  {
   "cell_type": "code",
   "execution_count": 29,
   "metadata": {},
   "outputs": [],
   "source": [
    "dfb['days'] = np.where((dfb['mc'] == 7) | (dfb['mc'] == -41) |\n",
    "        (dfb['mc'] == -89), 29,\n",
    "        # for all other feburarys\n",
    "        np.where(dfb['month'] == 2, 28,\n",
    "        # for April, June, September, November\n",
    "        np.where((dfb['month'] == 4) | (dfb['month'] == 6) |\n",
    "                (dfb['month'] == 9) | (dfb['month'] == 11), 30, 31)))\n",
    "\n",
    "\n",
    "\n",
    "# indicator for treatment group (post-policy conception), i.e. after June 2007\n",
    "dfb['post'] = np.where(dfb['mc'] >= 0, 1, 0)\n",
    "\n",
    "\n",
    "# quadratic and cubic mc\n",
    "dfb['mc2'] = dfb['mc']*dfb['mc']\n",
    "dfb['mc3'] = dfb['mc']*dfb['mc']*dfb['mc']\n",
    "\n",
    "# natural log of number of obs n\n",
    "dfb['ln'] = np.log(dfb['n'])\n",
    "\n",
    "# get month dummies\n",
    "dummies = pd.get_dummies(dfb['month'])\n",
    "dummies.columns = ['jan','feb','mar','apr','mai','jun','jul','aug','sep','oct','nov','dec']\n",
    "# bind data frames\n",
    "dfb = pd.concat([dfb, dummies], axis=1)"
   ]
  },
  {
   "cell_type": "markdown",
   "metadata": {},
   "source": [
    "The following is part of the paper's Descriptive Statitics in Table 1"
   ]
  },
  {
   "cell_type": "code",
   "execution_count": 36,
   "metadata": {},
   "outputs": [
    {
     "data": {
      "text/html": [
       "<div>\n",
       "<style scoped>\n",
       "    .dataframe tbody tr th:only-of-type {\n",
       "        vertical-align: middle;\n",
       "    }\n",
       "\n",
       "    .dataframe tbody tr th {\n",
       "        vertical-align: top;\n",
       "    }\n",
       "\n",
       "    .dataframe thead th {\n",
       "        text-align: right;\n",
       "    }\n",
       "</style>\n",
       "<table border=\"1\" class=\"dataframe\">\n",
       "  <thead>\n",
       "    <tr style=\"text-align: right;\">\n",
       "      <th></th>\n",
       "      <th>n</th>\n",
       "      <th>ln</th>\n",
       "      <th>post</th>\n",
       "      <th>mc</th>\n",
       "      <th>month</th>\n",
       "      <th>days</th>\n",
       "    </tr>\n",
       "  </thead>\n",
       "  <tbody>\n",
       "    <tr>\n",
       "      <th>count</th>\n",
       "      <td>120.00</td>\n",
       "      <td>120.00</td>\n",
       "      <td>120.00</td>\n",
       "      <td>120.00</td>\n",
       "      <td>120.00</td>\n",
       "      <td>120.00</td>\n",
       "    </tr>\n",
       "    <tr>\n",
       "      <th>mean</th>\n",
       "      <td>38020.64</td>\n",
       "      <td>10.54</td>\n",
       "      <td>0.25</td>\n",
       "      <td>-30.50</td>\n",
       "      <td>6.50</td>\n",
       "      <td>30.44</td>\n",
       "    </tr>\n",
       "    <tr>\n",
       "      <th>std</th>\n",
       "      <td>3167.55</td>\n",
       "      <td>0.08</td>\n",
       "      <td>0.43</td>\n",
       "      <td>34.79</td>\n",
       "      <td>3.47</td>\n",
       "      <td>0.81</td>\n",
       "    </tr>\n",
       "    <tr>\n",
       "      <th>min</th>\n",
       "      <td>30138.00</td>\n",
       "      <td>10.31</td>\n",
       "      <td>0.00</td>\n",
       "      <td>-90.00</td>\n",
       "      <td>1.00</td>\n",
       "      <td>28.00</td>\n",
       "    </tr>\n",
       "    <tr>\n",
       "      <th>25%</th>\n",
       "      <td>35775.25</td>\n",
       "      <td>10.49</td>\n",
       "      <td>0.00</td>\n",
       "      <td>-60.25</td>\n",
       "      <td>3.75</td>\n",
       "      <td>30.00</td>\n",
       "    </tr>\n",
       "    <tr>\n",
       "      <th>50%</th>\n",
       "      <td>38505.00</td>\n",
       "      <td>10.56</td>\n",
       "      <td>0.00</td>\n",
       "      <td>-30.50</td>\n",
       "      <td>6.50</td>\n",
       "      <td>31.00</td>\n",
       "    </tr>\n",
       "    <tr>\n",
       "      <th>75%</th>\n",
       "      <td>40305.75</td>\n",
       "      <td>10.60</td>\n",
       "      <td>0.25</td>\n",
       "      <td>-0.75</td>\n",
       "      <td>9.25</td>\n",
       "      <td>31.00</td>\n",
       "    </tr>\n",
       "    <tr>\n",
       "      <th>max</th>\n",
       "      <td>44375.00</td>\n",
       "      <td>10.70</td>\n",
       "      <td>1.00</td>\n",
       "      <td>29.00</td>\n",
       "      <td>12.00</td>\n",
       "      <td>31.00</td>\n",
       "    </tr>\n",
       "  </tbody>\n",
       "</table>\n",
       "</div>"
      ],
      "text/plain": [
       "              n      ln    post      mc   month    days\n",
       "count    120.00  120.00  120.00  120.00  120.00  120.00\n",
       "mean   38020.64   10.54    0.25  -30.50    6.50   30.44\n",
       "std     3167.55    0.08    0.43   34.79    3.47    0.81\n",
       "min    30138.00   10.31    0.00  -90.00    1.00   28.00\n",
       "25%    35775.25   10.49    0.00  -60.25    3.75   30.00\n",
       "50%    38505.00   10.56    0.00  -30.50    6.50   31.00\n",
       "75%    40305.75   10.60    0.25   -0.75    9.25   31.00\n",
       "max    44375.00   10.70    1.00   29.00   12.00   31.00"
      ]
     },
     "execution_count": 36,
     "metadata": {},
     "output_type": "execute_result"
    }
   ],
   "source": [
    "dfb.loc[(dfb['mc']>-91) & (dfb['mc']<30), ['n','ln','post','mc','month','days']].describe().round(2)"
   ]
  },
  {
   "cell_type": "markdown",
   "metadata": {},
   "source": [
    "### Regressions\n",
    "The author uses different subsets of the data and slightly different specifications."
   ]
  },
  {
   "cell_type": "code",
   "execution_count": 31,
   "metadata": {},
   "outputs": [],
   "source": [
    "# create necessary subsets of dfb\n",
    "dfb_list = list()\n",
    "\n",
    "dfb_list.append(dfb.loc[(dfb['mc']>-91) & (dfb['mc']<30)])\n",
    "dfb_list.append(dfb.loc[(dfb['mc']>-31) & (dfb['mc']<30)]) # 5 years\n",
    "dfb_list.append(dfb.loc[(dfb['mc']>-13) & (dfb['mc']<12)]) # 12 months\n",
    "dfb_list.append(dfb.loc[(dfb['mc']>-10) & (dfb['mc']<9)]) # 9 months\n",
    "dfb_list.append(dfb.loc[(dfb['mc']>-4) & (dfb['mc']<3)]) # 3 months\n",
    "dfb_list.append(dfb.loc[(dfb['mc']>-67) & (dfb['mc']<30)]) # 8 year"
   ]
  }
 ],
 "metadata": {
  "kernelspec": {
   "display_name": "Python 3",
   "language": "python",
   "name": "python3"
  },
  "language_info": {
   "codemirror_mode": {
    "name": "ipython",
    "version": 3
   },
   "file_extension": ".py",
   "mimetype": "text/x-python",
   "name": "python",
   "nbconvert_exporter": "python",
   "pygments_lexer": "ipython3",
   "version": "3.7.1"
  },
  "varInspector": {
   "cols": {
    "lenName": 16,
    "lenType": 16,
    "lenVar": 40
   },
   "kernels_config": {
    "python": {
     "delete_cmd_postfix": "",
     "delete_cmd_prefix": "del ",
     "library": "var_list.py",
     "varRefreshCmd": "print(var_dic_list())"
    },
    "r": {
     "delete_cmd_postfix": ") ",
     "delete_cmd_prefix": "rm(",
     "library": "var_list.r",
     "varRefreshCmd": "cat(var_dic_list()) "
    }
   },
   "types_to_exclude": [
    "module",
    "function",
    "builtin_function_or_method",
    "instance",
    "_Feature"
   ],
   "window_display": false
  }
 },
 "nbformat": 4,
 "nbformat_minor": 1
}
