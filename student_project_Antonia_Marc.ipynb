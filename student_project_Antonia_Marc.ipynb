{
 "cells": [
  {
   "cell_type": "markdown",
   "metadata": {},
   "source": [
    "# The effect of a Universal Child Benefit - González (2013) revisited\n",
    "\n",
    "## A Project by Antonia Entorf & Marc Lipfert"
   ]
  },
  {
   "cell_type": "markdown",
   "metadata": {},
   "source": [
    "### Overview\n",
    "\n",
    "This notebook replicates the main results presented in the following article:   \n",
    "\n",
    "González, L. (2013): [The Effect of a Universal Child Benefit on Conceptions, Abortions, and Early Maternal Labor Supply](https://www.aeaweb.org/articles?id=10.1257/pol.5.3.160). American Economic Journal: Economic Policy 5(3): 160–188.\n",
    "\n",
    "In that paper, the author investigates the effect of a universal child benefit on fertility, household expenditure patterns and maternal labor supply. In particular, she is able to exploit the unanticipated introduction of a child benefit that took place in Spain in 2007 by utilising a Regression Discontinuity Design.\n",
    "\n",
    "Apart from replicating major findings presented by González, our aim is to enrich her analysis with respect to three different aspects. First, we will examine whether accounting for autocorrelation is necessary in the given context. Secondly, since the benefit was suspended in the aftermath of the financial crisis, we will exploit this fact and apply the identical research design to the abolishment of the policy in order to study the effect on conceptions. Thirdly, we will investigate threats to validity using simulations as well as a placebo test.\n",
    "\n",
    "\n"
   ]
  },
  {
   "cell_type": "markdown",
   "metadata": {},
   "source": [
    "### Introduction"
   ]
  },
  {
   "cell_type": "markdown",
   "metadata": {},
   "source": [
    "On July 3 in 2007 the spanish government announced that all mothers giving birth from July 1 in 2007 on were eligible to receive a child benefit. The child benefit was a one-time cash payment of 2,500€. Libertad González, henceforth LG, analyzes the effect of this child benefit on the number of conceptions and abortions as well as on household expenditures, maternal labor supply and day care use. She uses a sharp regression discontinuity design (RDD) for her analysis, where the running variable is time and the treatment variable is equal to 1 after July 1 2007 and zero before that date.\n",
    "\n",
    "A problem which could occur when using a RDD is self selection into treatment. In this particular setting one could imagine that women try to postpone birth in order to give birth after the cutoff and not before. This scenario seems especially plausible for low income families who need the cash payment. Therefore, the mothers giving birth right before and rigth after the cutoff could differ in personal characteristics, such as income and education. This could lead to a bias in the estimated average treatment effect if low income families react differently to receiving treatment compared to high income families and, additionally, we are not able to control for these personal characteristics.\n",
    "\n",
    "However, self slection into treatment was not possible in our setting, because the introduction of the policy was unexpected and the announcement was even two days after the cutoff date. These two points rule out the possiblity to postpone birth in order to get the benefit.\n",
    "\n",
    "In the following, we will explain the research question in more detail using causal graphs."
   ]
  },
  {
   "cell_type": "markdown",
   "metadata": {},
   "source": [
    "#### Effect on Fertility"
   ]
  },
  {
   "cell_type": "markdown",
   "metadata": {},
   "source": [
    "<img src=\"causal-graphs/causal-graph-fertility.png\" height=\"600\" />"
   ]
  },
  {
   "cell_type": "markdown",
   "metadata": {},
   "source": [
    "The causal graph above represents two regression analyses. First, LG is interested in the effect of the introduction of the child benefit on the number of conceptions per month and, second, on the number of abortions per month. Thus, the treatment variable is the introduction of the child benefit and the dependent variables are number of conceptions and number of abortions per month. In this graph the treatment should be interpreted as having the possibility to get the benefit and not as already having the benefit.\n",
    "\n",
    "The running variable, time, determines assignment to treatment and, furthermore, influences conceptions and abortions through seasonality effects. The treatment variable is supposed to influence conceptions and abortions, which both determine the number of births. Observable and unobservable personal characteristics influence conceptions, abortions, and births. The reason why we draw a path from personal characteristics to births in addition to the paths to conceptions and abortions is that women with specific personal or biological coditions are more likely to giving birth successfully.\n",
    "\n",
    "One could expect that the number of conceptions increases after the introduction because the promise of receiving a cash payment increases families' incentives to get a child. The same reasoning can be applied to the number of abortions. Treated women have more incentives to reject an abortion than untreated women. Therefore, the introduction of the benefit should reduce the number of abortions.\n",
    "\n",
    "Obviously, 2,500€ is rather few compared to the costs associated with a child. Thus, a pontential impact of the treatment on the variables of interest should be small.\n",
    "\n",
    "*We could think about whether rather low educated families aim for the cash payment not only due to probably lower income but also because they underestimate the costs associated with a child!*\n",
    "\n",
    "Important is that we actually do not observe the number of *conceptions* per month but only the number of *births* per month. LG's idea was then to calculate the month of conception based on the month of birth by subtracting the approximate number of months a woman was pregnant.\n",
    "\n",
    "However, birth is a collider variable mutually depending on conceptions and abortions. Thus, when calculating conception while ignoring abortion our results might not be accurate. To illustrate this, imagine that the treatment does not at all affect the number of conceptions. However, at the same time many treated women who are already pregnant decide to not having an abortion while their untreated counterfactual would have decided to have an abortion. Thus, the treatment causes a reduction in the number of abortions which, clearly, leads to an increase in the number of births. If we then calculate conceptions based on births it would look like an increase in the number of conceptions, although it was unchanged. Therefore, we must bear in mind that a change in the conception variable can be partly driven by a change in the abortion variable."
   ]
  },
  {
   "cell_type": "markdown",
   "metadata": {},
   "source": [
    "#### Effect on Economic Variables"
   ]
  },
  {
   "cell_type": "markdown",
   "metadata": {},
   "source": [
    "<img src=\"causal-graphs/causal-graph-economic-variables.png\" height=\"600\" />"
   ]
  },
  {
   "cell_type": "markdown",
   "metadata": {},
   "source": [
    "### Replication\n",
    "Before we can start with the data analysis we need to prepare the data sets. Therefore we translate the author's Stata code into python code. There are three different do-files using different datasets."
   ]
  },
  {
   "cell_type": "markdown",
   "metadata": {},
   "source": [
    "In the following I will translate the births do-file which you can find in \"Additional Materials\" on the AEJ-website."
   ]
  },
  {
   "cell_type": "code",
   "execution_count": 1,
   "metadata": {},
   "outputs": [],
   "source": [
    "import pandas as pd\n",
    "import numpy as np\n",
    "import statsmodels.formula.api as smf\n",
    "#import statsmodels.api as sm\n",
    "#from patsy import dmatrices\n",
    "import matplotlib.pyplot as plt"
   ]
  },
  {
   "cell_type": "markdown",
   "metadata": {},
   "source": [
    "#### Conceptions"
   ]
  },
  {
   "cell_type": "code",
   "execution_count": 2,
   "metadata": {},
   "outputs": [
    {
     "data": {
      "text/html": [
       "<div>\n",
       "<style scoped>\n",
       "    .dataframe tbody tr th:only-of-type {\n",
       "        vertical-align: middle;\n",
       "    }\n",
       "\n",
       "    .dataframe tbody tr th {\n",
       "        vertical-align: top;\n",
       "    }\n",
       "\n",
       "    .dataframe thead th {\n",
       "        text-align: right;\n",
       "    }\n",
       "</style>\n",
       "<table border=\"1\" class=\"dataframe\">\n",
       "  <thead>\n",
       "    <tr style=\"text-align: right;\">\n",
       "      <th></th>\n",
       "      <th>mesp</th>\n",
       "      <th>year</th>\n",
       "      <th>prem</th>\n",
       "      <th>semanas</th>\n",
       "    </tr>\n",
       "  </thead>\n",
       "  <tbody>\n",
       "    <tr>\n",
       "      <th>0</th>\n",
       "      <td>3.0</td>\n",
       "      <td>2000.0</td>\n",
       "      <td>1</td>\n",
       "      <td>0.0</td>\n",
       "    </tr>\n",
       "    <tr>\n",
       "      <th>1</th>\n",
       "      <td>1.0</td>\n",
       "      <td>2000.0</td>\n",
       "      <td>2</td>\n",
       "      <td>36.0</td>\n",
       "    </tr>\n",
       "    <tr>\n",
       "      <th>2</th>\n",
       "      <td>3.0</td>\n",
       "      <td>2000.0</td>\n",
       "      <td>1</td>\n",
       "      <td>37.0</td>\n",
       "    </tr>\n",
       "    <tr>\n",
       "      <th>3</th>\n",
       "      <td>3.0</td>\n",
       "      <td>2000.0</td>\n",
       "      <td>1</td>\n",
       "      <td>39.0</td>\n",
       "    </tr>\n",
       "    <tr>\n",
       "      <th>4</th>\n",
       "      <td>12.0</td>\n",
       "      <td>2000.0</td>\n",
       "      <td>1</td>\n",
       "      <td>0.0</td>\n",
       "    </tr>\n",
       "  </tbody>\n",
       "</table>\n",
       "</div>"
      ],
      "text/plain": [
       "   mesp    year  prem  semanas\n",
       "0   3.0  2000.0     1      0.0\n",
       "1   1.0  2000.0     2     36.0\n",
       "2   3.0  2000.0     1     37.0\n",
       "3   3.0  2000.0     1     39.0\n",
       "4  12.0  2000.0     1      0.0"
      ]
     },
     "execution_count": 2,
     "metadata": {},
     "output_type": "execute_result"
    }
   ],
   "source": [
    "df_births = pd.read_stata('data/data_births_20110196.dta')\n",
    "df_births.head()"
   ]
  },
  {
   "cell_type": "markdown",
   "metadata": {},
   "source": [
    "#### Variables\n",
    "mesp: Month of birth <br>\n",
    "year: Year of birth <br>\n",
    "prem: Prematurity indicator (1 if baby is not premature, 2 if it is) <br>\n",
    "semanas: Number of weeks of gestation at birth"
   ]
  },
  {
   "cell_type": "code",
   "execution_count": 3,
   "metadata": {},
   "outputs": [
    {
     "data": {
      "text/html": [
       "<div>\n",
       "<style scoped>\n",
       "    .dataframe tbody tr th:only-of-type {\n",
       "        vertical-align: middle;\n",
       "    }\n",
       "\n",
       "    .dataframe tbody tr th {\n",
       "        vertical-align: top;\n",
       "    }\n",
       "\n",
       "    .dataframe thead th {\n",
       "        text-align: right;\n",
       "    }\n",
       "</style>\n",
       "<table border=\"1\" class=\"dataframe\">\n",
       "  <thead>\n",
       "    <tr style=\"text-align: right;\">\n",
       "      <th></th>\n",
       "      <th>mesp</th>\n",
       "      <th>year</th>\n",
       "      <th>prem</th>\n",
       "      <th>semanas</th>\n",
       "    </tr>\n",
       "  </thead>\n",
       "  <tbody>\n",
       "    <tr>\n",
       "      <th>count</th>\n",
       "      <td>4984066.00</td>\n",
       "      <td>4984066.00</td>\n",
       "      <td>4984066.00</td>\n",
       "      <td>4706361.00</td>\n",
       "    </tr>\n",
       "    <tr>\n",
       "      <th>mean</th>\n",
       "      <td>6.57</td>\n",
       "      <td>2041.50</td>\n",
       "      <td>1.07</td>\n",
       "      <td>34.93</td>\n",
       "    </tr>\n",
       "    <tr>\n",
       "      <th>std</th>\n",
       "      <td>3.44</td>\n",
       "      <td>35.83</td>\n",
       "      <td>0.26</td>\n",
       "      <td>11.71</td>\n",
       "    </tr>\n",
       "    <tr>\n",
       "      <th>min</th>\n",
       "      <td>1.00</td>\n",
       "      <td>2000.00</td>\n",
       "      <td>1.00</td>\n",
       "      <td>0.00</td>\n",
       "    </tr>\n",
       "    <tr>\n",
       "      <th>25%</th>\n",
       "      <td>4.00</td>\n",
       "      <td>2003.00</td>\n",
       "      <td>1.00</td>\n",
       "      <td>38.00</td>\n",
       "    </tr>\n",
       "    <tr>\n",
       "      <th>50%</th>\n",
       "      <td>7.00</td>\n",
       "      <td>2005.00</td>\n",
       "      <td>1.00</td>\n",
       "      <td>39.00</td>\n",
       "    </tr>\n",
       "    <tr>\n",
       "      <th>75%</th>\n",
       "      <td>10.00</td>\n",
       "      <td>2008.00</td>\n",
       "      <td>1.00</td>\n",
       "      <td>40.00</td>\n",
       "    </tr>\n",
       "    <tr>\n",
       "      <th>max</th>\n",
       "      <td>12.00</td>\n",
       "      <td>2010.00</td>\n",
       "      <td>2.00</td>\n",
       "      <td>46.00</td>\n",
       "    </tr>\n",
       "  </tbody>\n",
       "</table>\n",
       "</div>"
      ],
      "text/plain": [
       "             mesp        year        prem     semanas\n",
       "count  4984066.00  4984066.00  4984066.00  4706361.00\n",
       "mean         6.57     2041.50        1.07       34.93\n",
       "std          3.44       35.83        0.26       11.71\n",
       "min          1.00     2000.00        1.00        0.00\n",
       "25%          4.00     2003.00        1.00       38.00\n",
       "50%          7.00     2005.00        1.00       39.00\n",
       "75%         10.00     2008.00        1.00       40.00\n",
       "max         12.00     2010.00        2.00       46.00"
      ]
     },
     "execution_count": 3,
     "metadata": {},
     "output_type": "execute_result"
    }
   ],
   "source": [
    "df_births.describe().round(2)"
   ]
  },
  {
   "cell_type": "markdown",
   "metadata": {},
   "source": [
    "Create month of birth variable based on month of policy intervention in July 2007. Month of intervention is set equal to zero, the next month = 1, the previos month = -1, and so on."
   ]
  },
  {
   "cell_type": "code",
   "execution_count": 4,
   "metadata": {},
   "outputs": [
    {
     "data": {
      "text/plain": [
       "0"
      ]
     },
     "execution_count": 4,
     "metadata": {},
     "output_type": "execute_result"
    }
   ],
   "source": [
    "df_births['m'] = 500\n",
    "# we have data for 10 years\n",
    "for i in range(11):\n",
    "    df_births.loc[df_births['year'] == 2000 + i,'m'] = df_births['mesp'] - 91 + 12*i\n",
    "# check that no 500 is left\n",
    "sum(df_births['m'] == 500)"
   ]
  },
  {
   "cell_type": "markdown",
   "metadata": {},
   "source": [
    "We can check that in 2007 the smalles number is -6 which is for Janurary and the largest is 5 which is for December:"
   ]
  },
  {
   "cell_type": "code",
   "execution_count": 5,
   "metadata": {},
   "outputs": [
    {
     "data": {
      "text/plain": [
       "(-6.0, 5.0)"
      ]
     },
     "execution_count": 5,
     "metadata": {},
     "output_type": "execute_result"
    }
   ],
   "source": [
    "min(df_births.loc[df_births['year'] == 2007,'m']), max(df_births.loc[df_births['year'] == 2007,'m'])"
   ]
  },
  {
   "cell_type": "code",
   "execution_count": 6,
   "metadata": {},
   "outputs": [
    {
     "data": {
      "text/plain": [
       "count    4984066.00\n",
       "mean         -21.56\n",
       "std           37.63\n",
       "min          -90.00\n",
       "25%          -53.00\n",
       "50%          -20.00\n",
       "75%           11.00\n",
       "max           41.00\n",
       "Name: m, dtype: float64"
      ]
     },
     "execution_count": 6,
     "metadata": {},
     "output_type": "execute_result"
    }
   ],
   "source": [
    "df_births['m'].describe().round(2)"
   ]
  },
  {
   "cell_type": "markdown",
   "metadata": {},
   "source": [
    "#### Create month of conception variable\n",
    "We are not interested in the month of birth but in the month of conception. Therefore we subtract e.g. 9 months from the month of birth to get month of conception."
   ]
  },
  {
   "cell_type": "markdown",
   "metadata": {},
   "source": [
    "1.) the naive definition: 9 months before birth"
   ]
  },
  {
   "cell_type": "code",
   "execution_count": 7,
   "metadata": {},
   "outputs": [],
   "source": [
    "df_births['mc1'] = df_births['m'] - 9"
   ]
  },
  {
   "cell_type": "markdown",
   "metadata": {},
   "source": [
    "2.) naive plus prematures *(I don't know yet why my numbers here are all equal to 1, although this one here is 2 and the next 3 in my local notebook)*"
   ]
  },
  {
   "cell_type": "code",
   "execution_count": 8,
   "metadata": {},
   "outputs": [
    {
     "data": {
      "text/plain": [
       "0.07037145976798863"
      ]
     },
     "execution_count": 8,
     "metadata": {},
     "output_type": "execute_result"
    }
   ],
   "source": [
    "# share of premature babys\n",
    "sum(df_births['prem'] == 2)/len(df_births['prem'])"
   ]
  },
  {
   "cell_type": "code",
   "execution_count": 9,
   "metadata": {},
   "outputs": [
    {
     "data": {
      "text/plain": [
       "36.0"
      ]
     },
     "execution_count": 9,
     "metadata": {},
     "output_type": "execute_result"
    }
   ],
   "source": [
    "max(df_births.loc[df_births['prem'] == 2, 'semanas'])"
   ]
  },
  {
   "cell_type": "code",
   "execution_count": 10,
   "metadata": {},
   "outputs": [],
   "source": [
    "# generating mc2\n",
    "df_births['mc2'] = np.where((df_births['prem'] == 2) |\n",
    "        # if premature baby subtract only 8 months to get month of conception\n",
    "        ((0 < df_births['semanas']) & (df_births['semanas'] < 38)), df_births['m'] - 8,\n",
    "        # otherwise subtract 9\n",
    "        df_births['m'] - 9)\n",
    "#why 38 and not 39 as in the sophisticated version???"
   ]
  },
  {
   "cell_type": "markdown",
   "metadata": {},
   "source": [
    "3.) sophisticated"
   ]
  },
  {
   "cell_type": "code",
   "execution_count": 11,
   "metadata": {},
   "outputs": [
    {
     "data": {
      "text/plain": [
       "0.09286253432438495"
      ]
     },
     "execution_count": 11,
     "metadata": {},
     "output_type": "execute_result"
    }
   ],
   "source": [
    "sum(df_births['semanas'] == 0)/len(df_births['semanas'])\n",
    "# why is semanas zero for some obs?"
   ]
  },
  {
   "cell_type": "code",
   "execution_count": 12,
   "metadata": {},
   "outputs": [],
   "source": [
    "# generating mc3\n",
    "df_births['mc3'] = np.where((df_births['prem'] == 2) |\n",
    "        # if premature baby subtract only 8 months to get month of conception\n",
    "        ((0 < df_births['semanas']) & (df_births['semanas'] < 39)), df_births['m'] - 8,\n",
    "        # otherwise if baby was born only after 43 months --> -10\n",
    "        np.where(df_births['semanas'] > 43, df_births['m'] - 10,\n",
    "        # otherwise  - 9\n",
    "        df_births['m'] - 9))"
   ]
  },
  {
   "cell_type": "code",
   "execution_count": 13,
   "metadata": {},
   "outputs": [
    {
     "data": {
      "text/html": [
       "<div>\n",
       "<style scoped>\n",
       "    .dataframe tbody tr th:only-of-type {\n",
       "        vertical-align: middle;\n",
       "    }\n",
       "\n",
       "    .dataframe tbody tr th {\n",
       "        vertical-align: top;\n",
       "    }\n",
       "\n",
       "    .dataframe thead th {\n",
       "        text-align: right;\n",
       "    }\n",
       "</style>\n",
       "<table border=\"1\" class=\"dataframe\">\n",
       "  <thead>\n",
       "    <tr style=\"text-align: right;\">\n",
       "      <th></th>\n",
       "      <th>semanas</th>\n",
       "      <th>mc1</th>\n",
       "      <th>mc2</th>\n",
       "      <th>mc3</th>\n",
       "    </tr>\n",
       "  </thead>\n",
       "  <tbody>\n",
       "    <tr>\n",
       "      <th>0</th>\n",
       "      <td>0.0</td>\n",
       "      <td>-97.0</td>\n",
       "      <td>-97.0</td>\n",
       "      <td>-97.0</td>\n",
       "    </tr>\n",
       "    <tr>\n",
       "      <th>1</th>\n",
       "      <td>36.0</td>\n",
       "      <td>-99.0</td>\n",
       "      <td>-98.0</td>\n",
       "      <td>-98.0</td>\n",
       "    </tr>\n",
       "    <tr>\n",
       "      <th>2</th>\n",
       "      <td>37.0</td>\n",
       "      <td>-97.0</td>\n",
       "      <td>-96.0</td>\n",
       "      <td>-96.0</td>\n",
       "    </tr>\n",
       "    <tr>\n",
       "      <th>3</th>\n",
       "      <td>39.0</td>\n",
       "      <td>-97.0</td>\n",
       "      <td>-97.0</td>\n",
       "      <td>-97.0</td>\n",
       "    </tr>\n",
       "    <tr>\n",
       "      <th>4</th>\n",
       "      <td>0.0</td>\n",
       "      <td>-88.0</td>\n",
       "      <td>-88.0</td>\n",
       "      <td>-88.0</td>\n",
       "    </tr>\n",
       "  </tbody>\n",
       "</table>\n",
       "</div>"
      ],
      "text/plain": [
       "   semanas   mc1   mc2   mc3\n",
       "0      0.0 -97.0 -97.0 -97.0\n",
       "1     36.0 -99.0 -98.0 -98.0\n",
       "2     37.0 -97.0 -96.0 -96.0\n",
       "3     39.0 -97.0 -97.0 -97.0\n",
       "4      0.0 -88.0 -88.0 -88.0"
      ]
     },
     "execution_count": 13,
     "metadata": {},
     "output_type": "execute_result"
    }
   ],
   "source": [
    "df_births[['semanas','mc1', 'mc2', 'mc3']].head()"
   ]
  },
  {
   "cell_type": "markdown",
   "metadata": {},
   "source": [
    "What about observations with semanas = 0? <br>\n",
    "I would drop all observations with semanas = 0. Furthermore, I would calculate the month of conception with even higher precision by applying the same reasoning as used for semanas < 39 for semanas < 35"
   ]
  },
  {
   "cell_type": "markdown",
   "metadata": {},
   "source": [
    "#### Group Data\n",
    "Only the sophisticated version of month of conception (mc3) is used for the analysis. <br>\n",
    "Now, I will group the data by mc3 and count the number of observations per month."
   ]
  },
  {
   "cell_type": "code",
   "execution_count": 14,
   "metadata": {},
   "outputs": [
    {
     "data": {
      "text/html": [
       "<div>\n",
       "<style scoped>\n",
       "    .dataframe tbody tr th:only-of-type {\n",
       "        vertical-align: middle;\n",
       "    }\n",
       "\n",
       "    .dataframe tbody tr th {\n",
       "        vertical-align: top;\n",
       "    }\n",
       "\n",
       "    .dataframe thead th {\n",
       "        text-align: right;\n",
       "    }\n",
       "</style>\n",
       "<table border=\"1\" class=\"dataframe\">\n",
       "  <thead>\n",
       "    <tr style=\"text-align: right;\">\n",
       "      <th></th>\n",
       "      <th>mc</th>\n",
       "      <th>n</th>\n",
       "    </tr>\n",
       "  </thead>\n",
       "  <tbody>\n",
       "    <tr>\n",
       "      <th>0</th>\n",
       "      <td>-100.0</td>\n",
       "      <td>6</td>\n",
       "    </tr>\n",
       "    <tr>\n",
       "      <th>1</th>\n",
       "      <td>-99.0</td>\n",
       "      <td>24690</td>\n",
       "    </tr>\n",
       "    <tr>\n",
       "      <th>2</th>\n",
       "      <td>-98.0</td>\n",
       "      <td>30595</td>\n",
       "    </tr>\n",
       "    <tr>\n",
       "      <th>3</th>\n",
       "      <td>-97.0</td>\n",
       "      <td>32547</td>\n",
       "    </tr>\n",
       "    <tr>\n",
       "      <th>4</th>\n",
       "      <td>-96.0</td>\n",
       "      <td>32352</td>\n",
       "    </tr>\n",
       "  </tbody>\n",
       "</table>\n",
       "</div>"
      ],
      "text/plain": [
       "      mc      n\n",
       "0 -100.0      6\n",
       "1  -99.0  24690\n",
       "2  -98.0  30595\n",
       "3  -97.0  32547\n",
       "4  -96.0  32352"
      ]
     },
     "execution_count": 14,
     "metadata": {},
     "output_type": "execute_result"
    }
   ],
   "source": [
    "# rename\n",
    "df_births['mc'] = df_births['mc3']\n",
    "# this variable will indicate the number of conceiption per month:\n",
    "df_births['n'] = 1\n",
    "dfb = df_births.groupby('mc', as_index = False)['n'].count()\n",
    "\n",
    "dfb.head()"
   ]
  },
  {
   "cell_type": "code",
   "execution_count": 15,
   "metadata": {},
   "outputs": [
    {
     "data": {
      "text/html": [
       "<div>\n",
       "<style scoped>\n",
       "    .dataframe tbody tr th:only-of-type {\n",
       "        vertical-align: middle;\n",
       "    }\n",
       "\n",
       "    .dataframe tbody tr th {\n",
       "        vertical-align: top;\n",
       "    }\n",
       "\n",
       "    .dataframe thead th {\n",
       "        text-align: right;\n",
       "    }\n",
       "</style>\n",
       "<table border=\"1\" class=\"dataframe\">\n",
       "  <thead>\n",
       "    <tr style=\"text-align: right;\">\n",
       "      <th></th>\n",
       "      <th>mc</th>\n",
       "      <th>n</th>\n",
       "    </tr>\n",
       "  </thead>\n",
       "  <tbody>\n",
       "    <tr>\n",
       "      <th>129</th>\n",
       "      <td>29.0</td>\n",
       "      <td>41709</td>\n",
       "    </tr>\n",
       "    <tr>\n",
       "      <th>130</th>\n",
       "      <td>30.0</td>\n",
       "      <td>42480</td>\n",
       "    </tr>\n",
       "    <tr>\n",
       "      <th>131</th>\n",
       "      <td>31.0</td>\n",
       "      <td>41202</td>\n",
       "    </tr>\n",
       "    <tr>\n",
       "      <th>132</th>\n",
       "      <td>32.0</td>\n",
       "      <td>41703</td>\n",
       "    </tr>\n",
       "    <tr>\n",
       "      <th>133</th>\n",
       "      <td>33.0</td>\n",
       "      <td>11322</td>\n",
       "    </tr>\n",
       "  </tbody>\n",
       "</table>\n",
       "</div>"
      ],
      "text/plain": [
       "       mc      n\n",
       "129  29.0  41709\n",
       "130  30.0  42480\n",
       "131  31.0  41202\n",
       "132  32.0  41703\n",
       "133  33.0  11322"
      ]
     },
     "execution_count": 15,
     "metadata": {},
     "output_type": "execute_result"
    }
   ],
   "source": [
    "dfb.tail()"
   ]
  },
  {
   "cell_type": "markdown",
   "metadata": {},
   "source": [
    "generate calendar month of conception\n",
    "\n",
    "The author made some mistakes here!"
   ]
  },
  {
   "cell_type": "code",
   "execution_count": 16,
   "metadata": {},
   "outputs": [
    {
     "data": {
      "text/plain": [
       "0"
      ]
     },
     "execution_count": 16,
     "metadata": {},
     "output_type": "execute_result"
    }
   ],
   "source": [
    "dfb['month'] = 0\n",
    "\n",
    "#note that range starts at 0 but does not include the last number\n",
    "for i in range(3):\n",
    "    dfb.loc[dfb['mc'] == 0 + 12*i, 'month'] = 7\n",
    "    dfb.loc[dfb['mc'] == 1 + 12*i, 'month'] = 8\n",
    "    dfb.loc[dfb['mc'] == 2 + 12*i, 'month'] = 9\n",
    "    dfb.loc[dfb['mc'] == 3 + 12*i, 'month'] = 10\n",
    "    dfb.loc[dfb['mc'] == 4 + 12*i, 'month'] = 11\n",
    "    dfb.loc[dfb['mc'] == 5 + 12*i, 'month'] = 12\n",
    "    dfb.loc[dfb['mc'] == 6 + 12*i, 'month'] = 1\n",
    "    dfb.loc[dfb['mc'] == 7 + 12*i, 'month'] = 2\n",
    "    dfb.loc[dfb['mc'] == 8 + 12*i, 'month'] = 3\n",
    "    dfb.loc[dfb['mc'] == 9 + 12*i, 'month'] = 4\n",
    "    dfb.loc[dfb['mc'] == 10 + 12*i, 'month'] = 5\n",
    "    dfb.loc[dfb['mc'] == 11 + 12*i, 'month'] = 6\n",
    "       \n",
    "for i in range(9):\n",
    "    dfb.loc[dfb['mc'] == -1 - 12*i, 'month'] = 6\n",
    "    dfb.loc[dfb['mc'] == -2 - 12*i, 'month'] = 5\n",
    "    dfb.loc[dfb['mc'] == -3 - 12*i, 'month'] = 4\n",
    "    dfb.loc[dfb['mc'] == -4 - 12*i, 'month'] = 3\n",
    "    dfb.loc[dfb['mc'] == -5 - 12*i, 'month'] = 2\n",
    "    dfb.loc[dfb['mc'] == -6 - 12*i, 'month'] = 1\n",
    "    dfb.loc[dfb['mc'] == -7 - 12*i, 'month'] = 12\n",
    "    dfb.loc[dfb['mc'] == -8 - 12*i, 'month'] = 11\n",
    "    dfb.loc[dfb['mc'] == -9 - 12*i, 'month'] = 10\n",
    "    dfb.loc[dfb['mc'] == -10 - 12*i, 'month'] = 9\n",
    "    dfb.loc[dfb['mc'] == -11 - 12*i, 'month'] = 8\n",
    "    dfb.loc[dfb['mc'] == -12 - 12*i, 'month'] = 7\n",
    "\n",
    "# check that no zero is left\n",
    "sum(dfb['month'] == 0)"
   ]
  },
  {
   "cell_type": "code",
   "execution_count": 17,
   "metadata": {},
   "outputs": [],
   "source": [
    "# generate July indicator\n",
    "dfb['july'] = np.where(dfb['month'] == 7, 1, 0)"
   ]
  },
  {
   "cell_type": "markdown",
   "metadata": {},
   "source": [
    "generate number of days in a month <br>\n",
    "Note that from 2000 - 2010 there are the following leap years: 2008, 2004, 2000. This is relevant for mc = 7, 7-12 times 4, 7-12 times 8 <br>\n",
    "For some reason the author only adjusted feburary in 2008."
   ]
  },
  {
   "cell_type": "code",
   "execution_count": 18,
   "metadata": {},
   "outputs": [],
   "source": [
    "dfb['days'] = np.where((dfb['mc'] == 7) | (dfb['mc'] == -41) |\n",
    "        (dfb['mc'] == -89), 29,\n",
    "        # for all other feburarys\n",
    "        np.where(dfb['month'] == 2, 28,\n",
    "        # for April, June, September, November\n",
    "        np.where((dfb['month'] == 4) | (dfb['month'] == 6) |\n",
    "                (dfb['month'] == 9) | (dfb['month'] == 11), 30, 31)))\n",
    "\n",
    "\n",
    "\n",
    "# indicator for treatment group (post-policy conception), i.e. after June 2007\n",
    "dfb['post'] = np.where(dfb['mc'] >= 0, 1, 0)\n",
    "\n",
    "\n",
    "# quadratic and cubic mc\n",
    "dfb['mc2'] = dfb['mc']*dfb['mc']\n",
    "dfb['mc3'] = dfb['mc']*dfb['mc']*dfb['mc']\n",
    "\n",
    "# natural log of number of obs n\n",
    "dfb['ln'] = np.log(dfb['n'])\n",
    "\n",
    "# get month dummies\n",
    "dummies = pd.get_dummies(dfb['month'])\n",
    "dummies.columns = ['jan','feb','mar','apr','mai','jun','jul','aug','sep','oct','nov','dec']\n",
    "# bind data frames\n",
    "dfb = pd.concat([dfb, dummies], axis=1)"
   ]
  },
  {
   "cell_type": "markdown",
   "metadata": {},
   "source": [
    "The following is part of the paper's Descriptive Statitics in Table 1"
   ]
  },
  {
   "cell_type": "code",
   "execution_count": 19,
   "metadata": {},
   "outputs": [
    {
     "data": {
      "text/html": [
       "<div>\n",
       "<style scoped>\n",
       "    .dataframe tbody tr th:only-of-type {\n",
       "        vertical-align: middle;\n",
       "    }\n",
       "\n",
       "    .dataframe tbody tr th {\n",
       "        vertical-align: top;\n",
       "    }\n",
       "\n",
       "    .dataframe thead th {\n",
       "        text-align: right;\n",
       "    }\n",
       "</style>\n",
       "<table border=\"1\" class=\"dataframe\">\n",
       "  <thead>\n",
       "    <tr style=\"text-align: right;\">\n",
       "      <th></th>\n",
       "      <th>n</th>\n",
       "      <th>ln</th>\n",
       "      <th>post</th>\n",
       "      <th>mc</th>\n",
       "      <th>month</th>\n",
       "      <th>days</th>\n",
       "    </tr>\n",
       "  </thead>\n",
       "  <tbody>\n",
       "    <tr>\n",
       "      <th>count</th>\n",
       "      <td>120.00</td>\n",
       "      <td>120.00</td>\n",
       "      <td>120.00</td>\n",
       "      <td>120.00</td>\n",
       "      <td>120.00</td>\n",
       "      <td>120.00</td>\n",
       "    </tr>\n",
       "    <tr>\n",
       "      <th>mean</th>\n",
       "      <td>38020.64</td>\n",
       "      <td>10.54</td>\n",
       "      <td>0.25</td>\n",
       "      <td>-30.50</td>\n",
       "      <td>6.50</td>\n",
       "      <td>30.44</td>\n",
       "    </tr>\n",
       "    <tr>\n",
       "      <th>std</th>\n",
       "      <td>3167.55</td>\n",
       "      <td>0.08</td>\n",
       "      <td>0.43</td>\n",
       "      <td>34.79</td>\n",
       "      <td>3.47</td>\n",
       "      <td>0.81</td>\n",
       "    </tr>\n",
       "    <tr>\n",
       "      <th>min</th>\n",
       "      <td>30138.00</td>\n",
       "      <td>10.31</td>\n",
       "      <td>0.00</td>\n",
       "      <td>-90.00</td>\n",
       "      <td>1.00</td>\n",
       "      <td>28.00</td>\n",
       "    </tr>\n",
       "    <tr>\n",
       "      <th>25%</th>\n",
       "      <td>35775.25</td>\n",
       "      <td>10.49</td>\n",
       "      <td>0.00</td>\n",
       "      <td>-60.25</td>\n",
       "      <td>3.75</td>\n",
       "      <td>30.00</td>\n",
       "    </tr>\n",
       "    <tr>\n",
       "      <th>50%</th>\n",
       "      <td>38505.00</td>\n",
       "      <td>10.56</td>\n",
       "      <td>0.00</td>\n",
       "      <td>-30.50</td>\n",
       "      <td>6.50</td>\n",
       "      <td>31.00</td>\n",
       "    </tr>\n",
       "    <tr>\n",
       "      <th>75%</th>\n",
       "      <td>40305.75</td>\n",
       "      <td>10.60</td>\n",
       "      <td>0.25</td>\n",
       "      <td>-0.75</td>\n",
       "      <td>9.25</td>\n",
       "      <td>31.00</td>\n",
       "    </tr>\n",
       "    <tr>\n",
       "      <th>max</th>\n",
       "      <td>44375.00</td>\n",
       "      <td>10.70</td>\n",
       "      <td>1.00</td>\n",
       "      <td>29.00</td>\n",
       "      <td>12.00</td>\n",
       "      <td>31.00</td>\n",
       "    </tr>\n",
       "  </tbody>\n",
       "</table>\n",
       "</div>"
      ],
      "text/plain": [
       "              n      ln    post      mc   month    days\n",
       "count    120.00  120.00  120.00  120.00  120.00  120.00\n",
       "mean   38020.64   10.54    0.25  -30.50    6.50   30.44\n",
       "std     3167.55    0.08    0.43   34.79    3.47    0.81\n",
       "min    30138.00   10.31    0.00  -90.00    1.00   28.00\n",
       "25%    35775.25   10.49    0.00  -60.25    3.75   30.00\n",
       "50%    38505.00   10.56    0.00  -30.50    6.50   31.00\n",
       "75%    40305.75   10.60    0.25   -0.75    9.25   31.00\n",
       "max    44375.00   10.70    1.00   29.00   12.00   31.00"
      ]
     },
     "execution_count": 19,
     "metadata": {},
     "output_type": "execute_result"
    }
   ],
   "source": [
    "dfb.loc[(dfb['mc']>-91) & (dfb['mc']<30), ['n','ln','post','mc','month','days']].describe().round(2)"
   ]
  },
  {
   "cell_type": "markdown",
   "metadata": {},
   "source": [
    "### Plotting monthly conceptions"
   ]
  },
  {
   "cell_type": "code",
   "execution_count": 20,
   "metadata": {},
   "outputs": [
    {
     "data": {
      "text/html": [
       "<div>\n",
       "<style scoped>\n",
       "    .dataframe tbody tr th:only-of-type {\n",
       "        vertical-align: middle;\n",
       "    }\n",
       "\n",
       "    .dataframe tbody tr th {\n",
       "        vertical-align: top;\n",
       "    }\n",
       "\n",
       "    .dataframe thead th {\n",
       "        text-align: right;\n",
       "    }\n",
       "</style>\n",
       "<table border=\"1\" class=\"dataframe\">\n",
       "  <thead>\n",
       "    <tr style=\"text-align: right;\">\n",
       "      <th></th>\n",
       "      <th>year</th>\n",
       "      <th>month</th>\n",
       "      <th>n</th>\n",
       "    </tr>\n",
       "  </thead>\n",
       "  <tbody>\n",
       "    <tr>\n",
       "      <th>0</th>\n",
       "      <td>1999.0</td>\n",
       "      <td>3</td>\n",
       "      <td>6</td>\n",
       "    </tr>\n",
       "    <tr>\n",
       "      <th>1</th>\n",
       "      <td>1999.0</td>\n",
       "      <td>4</td>\n",
       "      <td>24690</td>\n",
       "    </tr>\n",
       "    <tr>\n",
       "      <th>2</th>\n",
       "      <td>1999.0</td>\n",
       "      <td>5</td>\n",
       "      <td>30595</td>\n",
       "    </tr>\n",
       "    <tr>\n",
       "      <th>3</th>\n",
       "      <td>1999.0</td>\n",
       "      <td>6</td>\n",
       "      <td>32547</td>\n",
       "    </tr>\n",
       "    <tr>\n",
       "      <th>4</th>\n",
       "      <td>1999.0</td>\n",
       "      <td>7</td>\n",
       "      <td>32352</td>\n",
       "    </tr>\n",
       "  </tbody>\n",
       "</table>\n",
       "</div>"
      ],
      "text/plain": [
       "     year  month      n\n",
       "0  1999.0      3      6\n",
       "1  1999.0      4  24690\n",
       "2  1999.0      5  30595\n",
       "3  1999.0      6  32547\n",
       "4  1999.0      7  32352"
      ]
     },
     "execution_count": 20,
     "metadata": {},
     "output_type": "execute_result"
    }
   ],
   "source": [
    "# generating year variable\n",
    "\n",
    "dfb['year'] = np.nan\n",
    "\n",
    "x = 0\n",
    "while x < 12:\n",
    "    dfb.loc[dfb['mc'] < 42 -(x*12), 'year'] = (2010 - x)\n",
    "    x += 1\n",
    "\n",
    "dfb.sort_values(by=['mc'], inplace=True)\n",
    "dfb[['year','month','n']].head()"
   ]
  },
  {
   "cell_type": "code",
   "execution_count": 21,
   "metadata": {},
   "outputs": [
    {
     "data": {
      "text/plain": [
       "<matplotlib.axes._subplots.AxesSubplot at 0x19e0e2d70f0>"
      ]
     },
     "execution_count": 21,
     "metadata": {},
     "output_type": "execute_result"
    },
    {
     "data": {
      "image/png": "[encoded data removed]",
      "text/plain": [
       "<Figure size 432x288 with 1 Axes>"
      ]
     },
     "metadata": {
      "needs_background": "light"
     },
     "output_type": "display_data"
    }
   ],
   "source": [
    "dfb.plot(x='month',y='n',kind=\"scatter\")"
   ]
  },
  {
   "cell_type": "code",
   "execution_count": 22,
   "metadata": {},
   "outputs": [
    {
     "data": {
      "text/html": [
       "<div>\n",
       "<style scoped>\n",
       "    .dataframe tbody tr th:only-of-type {\n",
       "        vertical-align: middle;\n",
       "    }\n",
       "\n",
       "    .dataframe tbody tr th {\n",
       "        vertical-align: top;\n",
       "    }\n",
       "\n",
       "    .dataframe thead th {\n",
       "        text-align: right;\n",
       "    }\n",
       "</style>\n",
       "<table border=\"1\" class=\"dataframe\">\n",
       "  <thead>\n",
       "    <tr style=\"text-align: right;\">\n",
       "      <th></th>\n",
       "      <th>year</th>\n",
       "      <th>month</th>\n",
       "      <th>mc</th>\n",
       "      <th>n</th>\n",
       "    </tr>\n",
       "  </thead>\n",
       "  <tbody>\n",
       "    <tr>\n",
       "      <th>0</th>\n",
       "      <td>1999.0</td>\n",
       "      <td>3</td>\n",
       "      <td>-100.0</td>\n",
       "      <td>6</td>\n",
       "    </tr>\n",
       "    <tr>\n",
       "      <th>1</th>\n",
       "      <td>1999.0</td>\n",
       "      <td>4</td>\n",
       "      <td>-99.0</td>\n",
       "      <td>24690</td>\n",
       "    </tr>\n",
       "    <tr>\n",
       "      <th>133</th>\n",
       "      <td>2010.0</td>\n",
       "      <td>4</td>\n",
       "      <td>33.0</td>\n",
       "      <td>11322</td>\n",
       "    </tr>\n",
       "  </tbody>\n",
       "</table>\n",
       "</div>"
      ],
      "text/plain": [
       "       year  month     mc      n\n",
       "0    1999.0      3 -100.0      6\n",
       "1    1999.0      4  -99.0  24690\n",
       "133  2010.0      4   33.0  11322"
      ]
     },
     "execution_count": 22,
     "metadata": {},
     "output_type": "execute_result"
    }
   ],
   "source": [
    "# 3 outliers:\n",
    "dfb.loc[dfb['n']<28000,['year','month','mc','n']]"
   ]
  },
  {
   "cell_type": "markdown",
   "metadata": {},
   "source": [
    "Think about outliers again...."
   ]
  },
  {
   "cell_type": "code",
   "execution_count": 23,
   "metadata": {},
   "outputs": [
    {
     "data": {
      "text/html": [
       "<div>\n",
       "<style scoped>\n",
       "    .dataframe tbody tr th:only-of-type {\n",
       "        vertical-align: middle;\n",
       "    }\n",
       "\n",
       "    .dataframe tbody tr th {\n",
       "        vertical-align: top;\n",
       "    }\n",
       "\n",
       "    .dataframe thead th {\n",
       "        text-align: right;\n",
       "    }\n",
       "</style>\n",
       "<table border=\"1\" class=\"dataframe\">\n",
       "  <thead>\n",
       "    <tr style=\"text-align: right;\">\n",
       "      <th></th>\n",
       "      <th>month</th>\n",
       "      <th>mean</th>\n",
       "    </tr>\n",
       "  </thead>\n",
       "  <tbody>\n",
       "    <tr>\n",
       "      <th>0</th>\n",
       "      <td>1</td>\n",
       "      <td>39399.727273</td>\n",
       "    </tr>\n",
       "    <tr>\n",
       "      <th>1</th>\n",
       "      <td>2</td>\n",
       "      <td>38041.000000</td>\n",
       "    </tr>\n",
       "    <tr>\n",
       "      <th>2</th>\n",
       "      <td>3</td>\n",
       "      <td>37667.000000</td>\n",
       "    </tr>\n",
       "    <tr>\n",
       "      <th>3</th>\n",
       "      <td>4</td>\n",
       "      <td>38290.800000</td>\n",
       "    </tr>\n",
       "    <tr>\n",
       "      <th>4</th>\n",
       "      <td>5</td>\n",
       "      <td>34733.090909</td>\n",
       "    </tr>\n",
       "    <tr>\n",
       "      <th>5</th>\n",
       "      <td>6</td>\n",
       "      <td>37002.272727</td>\n",
       "    </tr>\n",
       "    <tr>\n",
       "      <th>6</th>\n",
       "      <td>7</td>\n",
       "      <td>36967.909091</td>\n",
       "    </tr>\n",
       "    <tr>\n",
       "      <th>7</th>\n",
       "      <td>8</td>\n",
       "      <td>38550.818182</td>\n",
       "    </tr>\n",
       "    <tr>\n",
       "      <th>8</th>\n",
       "      <td>9</td>\n",
       "      <td>36581.545455</td>\n",
       "    </tr>\n",
       "    <tr>\n",
       "      <th>9</th>\n",
       "      <td>10</td>\n",
       "      <td>38334.272727</td>\n",
       "    </tr>\n",
       "    <tr>\n",
       "      <th>10</th>\n",
       "      <td>11</td>\n",
       "      <td>38490.727273</td>\n",
       "    </tr>\n",
       "    <tr>\n",
       "      <th>11</th>\n",
       "      <td>12</td>\n",
       "      <td>39244.363636</td>\n",
       "    </tr>\n",
       "  </tbody>\n",
       "</table>\n",
       "</div>"
      ],
      "text/plain": [
       "    month          mean\n",
       "0       1  39399.727273\n",
       "1       2  38041.000000\n",
       "2       3  37667.000000\n",
       "3       4  38290.800000\n",
       "4       5  34733.090909\n",
       "5       6  37002.272727\n",
       "6       7  36967.909091\n",
       "7       8  38550.818182\n",
       "8       9  36581.545455\n",
       "9      10  38334.272727\n",
       "10     11  38490.727273\n",
       "11     12  39244.363636"
      ]
     },
     "execution_count": 23,
     "metadata": {},
     "output_type": "execute_result"
    }
   ],
   "source": [
    "# collecting mean values per month\n",
    "\n",
    "month = {'month':[1, 2, 3, 4, 5, 6, 7, 8, 9, 10, 11, 12]}\n",
    "df_mean = pd.DataFrame(data=month)\n",
    "\n",
    "df_mean['mean'] = np.nan\n",
    "\n",
    "x=1\n",
    "while x < 13:\n",
    "    df_mean.loc[df_mean['month'] == x, 'mean'] = dfb.loc[(dfb['month']==x) & (dfb['n']>28000),'n'].mean()\n",
    "    x += 1\n",
    "\n",
    "df_mean"
   ]
  },
  {
   "cell_type": "code",
   "execution_count": 24,
   "metadata": {},
   "outputs": [
    {
     "data": {
      "image/png": "[encoded data removed]",
      "text/plain": [
       "<Figure size 432x288 with 1 Axes>"
      ]
     },
     "metadata": {
      "needs_background": "light"
     },
     "output_type": "display_data"
    }
   ],
   "source": [
    "# Plotting scatter with mean\n",
    "\n",
    "ax=dfb.plot(x='month',y='n',kind=\"scatter\",ylim=(25000,50000))\n",
    "ax1=df_mean.plot(x='month',y='mean',kind=\"line\", color=\"r\", ax=ax)\n",
    "df_mean.plot(x='month',y='mean',kind=\"scatter\", color=\"r\", ax=ax1)\n",
    "plt.axvline(x=6.5, color=\"m\")\n",
    "plt.show()"
   ]
  },
  {
   "cell_type": "code",
   "execution_count": 25,
   "metadata": {},
   "outputs": [
    {
     "data": {
      "image/png": "[encoded data removed]",
      "text/plain": [
       "<Figure size 432x288 with 1 Axes>"
      ]
     },
     "metadata": {
      "needs_background": "light"
     },
     "output_type": "display_data"
    }
   ],
   "source": [
    "# Plotting 2007 vs. mean \n",
    "\n",
    "ax1=dfb.loc[dfb['year']==2007,['month','n']].plot(x='month',y='n',kind=\"scatter\",ylim=(25000,50000))\n",
    "df_mean.plot(x='month',y='mean',kind=\"line\", color=\"r\", ax=ax1)\n",
    "plt.axvline(x=6.5, color=\"m\")\n",
    "plt.show()"
   ]
  },
  {
   "cell_type": "markdown",
   "metadata": {},
   "source": [
    "### Regressions\n",
    "The author uses different subsets of the data and slightly different specifications."
   ]
  },
  {
   "cell_type": "code",
   "execution_count": 26,
   "metadata": {},
   "outputs": [],
   "source": [
    "# create necessary subsets of dfb\n",
    "dfb_list = list()\n",
    "\n",
    "dfb_list.append(dfb.loc[(dfb['mc']>-91) & (dfb['mc']<30)])\n",
    "dfb_list.append(dfb.loc[(dfb['mc']>-31) & (dfb['mc']<30)]) # 5 years\n",
    "dfb_list.append(dfb.loc[(dfb['mc']>-13) & (dfb['mc']<12)]) # 12 months\n",
    "dfb_list.append(dfb.loc[(dfb['mc']>-10) & (dfb['mc']<9)]) # 9 months\n",
    "dfb_list.append(dfb.loc[(dfb['mc']>-4) & (dfb['mc']<3)]) # 3 months\n",
    "dfb_list.append(dfb.loc[(dfb['mc']>-67) & (dfb['mc']<30)]) # 8 year\n",
    "\n",
    "# run regressions\n",
    "reg1 = smf.ols(formula =\n",
    "        'ln ~ post + mc + post*mc + mc2 + post*mc2 + mc3 + post*mc3 + days', data=dfb_list[0]).fit(cov_type='HC1')\n",
    "reg2 = smf.ols(formula =\n",
    "        'ln ~ post + mc + post*mc + mc2 + post*mc2 + days', data=dfb_list[1]).fit(cov_type='HC1')\n",
    "reg3 = smf.ols(formula =\n",
    "        'ln ~ post + mc + post*mc + mc2 + post*mc2 + mc3 + days', data=dfb_list[2]).fit(cov_type='HC1')\n",
    "reg4 = smf.ols(formula =\n",
    "        'ln ~ post + mc + post*mc + mc2 + days', data=dfb_list[3]).fit(cov_type='HC1')\n",
    "reg5 = smf.ols(formula =\n",
    "        'ln ~ post + days', data=dfb_list[4]).fit(cov_type='HC1')\n",
    "reg6 = smf.ols(formula =\n",
    "        'ln ~ post + mc + post*mc + mc2 + post*mc2 + mc3 + post*mc3 + days + feb + mar + apr + mai + jun + jul + aug + sep + oct + nov + dec', data=dfb_list[0]).fit(cov_type='HC1')\n",
    "reg7 = smf.ols(formula =\n",
    "        'ln ~ post + mc + post*mc + mc2 + post*mc2 + days + feb + mar + apr + mai + jun + jul + aug + sep + oct + nov + dec', data=dfb_list[5]).fit(cov_type='HC1')\n",
    "reg8 = smf.ols(formula =\n",
    "        'ln ~ post + mc + post*mc + mc2 + post*mc2 + days + feb + mar + apr + mai + jun + jul + aug + sep + oct + nov + dec', data=dfb_list[1]).fit(cov_type='HC1')\n",
    "\n",
    "# store regessions in list\n",
    "reg_list_b = [reg1, reg2, reg3, reg4, reg5, reg6, reg7, reg8]"
   ]
  },
  {
   "cell_type": "markdown",
   "metadata": {},
   "source": [
    "First Part of Table 2 - Fertility Results (Conceptions and Abortions)"
   ]
  },
  {
   "cell_type": "code",
   "execution_count": 27,
   "metadata": {},
   "outputs": [
    {
     "name": "stdout",
     "output_type": "stream",
     "text": [
      "——————————————————————————————————————————————————————————————————————————————————————————————————————————————\n",
      "                 RDD (1)     RDD (2)     RDD (3)     RDD (4)     RDD (5)     DID (6)     DID (7)     DID (8)\n",
      "                10 years     5 years   12 months    9 months    3 months    10 years     7 years     5 years\n",
      "——————————————————————————————————————————————————————————————————————————————————————————————————————————————\n",
      "Conceptions       0.0531      0.0695      0.0445      0.0868      0.0503      0.0495      0.0539      0.0527                                                                                                              \n",
      "                  0.0219      0.0250      0.0370      0.0328      0.0314      0.0103      0.0088      0.0136"
     ]
    }
   ],
   "source": [
    "# Make a table equivalent to Table 2 with coefficients and se for post variable\n",
    "print('\\u2014'*110)\n",
    "print('{:<12s}{:>12s}{:>12s}{:>12s}{:>12s}{:>12s}{:>12s}{:>12s}{:>12s}'\n",
    "      .format(\"\", \"RDD (1)\", \"RDD (2)\", \"RDD (3)\", \"RDD (4)\", \"RDD (5)\", \"DID (6)\", \"DID (7)\", \"DID (8)\"))\n",
    "print('{:<12s}{:>12s}{:>12s}{:>12s}{:>12s}{:>12s}{:>12s}{:>12s}{:>12s}'\n",
    "      .format(\"\", \"10 years\", \"5 years\", \"12 months\", \"9 months\", \"3 months\", \"10 years\", \"7 years\", \"5 years\"))\n",
    "print('\\u2014'*110)\n",
    "print('{:<12s}'.format(\"Conceptions\"), end=\"\")\n",
    "for i in range(len(reg_list_b)):\n",
    "    print ('{:>12.4f}'.format(reg_list_b[i].params.post), end=\"\")\n",
    "print(\" \"*110)\n",
    "print('{:<12s}'.format(\"\"), end=\"\")\n",
    "for j in range(len(reg_list_b)):\n",
    "    print ('{:>12.4f}'.format(reg_list_b[j].bse.post), end=\"\")"
   ]
  },
  {
   "cell_type": "markdown",
   "metadata": {},
   "source": [
    "We can observe small differences because I took all leap years into account! If I run regression without days variable the results are the same as in Stata."
   ]
  },
  {
   "cell_type": "markdown",
   "metadata": {},
   "source": [
    "#### Abortions"
   ]
  },
  {
   "cell_type": "code",
   "execution_count": 28,
   "metadata": {},
   "outputs": [
    {
     "data": {
      "text/html": [
       "<div>\n",
       "<style scoped>\n",
       "    .dataframe tbody tr th:only-of-type {\n",
       "        vertical-align: middle;\n",
       "    }\n",
       "\n",
       "    .dataframe tbody tr th {\n",
       "        vertical-align: top;\n",
       "    }\n",
       "\n",
       "    .dataframe thead th {\n",
       "        text-align: right;\n",
       "    }\n",
       "</style>\n",
       "<table border=\"1\" class=\"dataframe\">\n",
       "  <thead>\n",
       "    <tr style=\"text-align: right;\">\n",
       "      <th></th>\n",
       "      <th>year</th>\n",
       "      <th>month</th>\n",
       "      <th>n_ive_and</th>\n",
       "      <th>n_ive_val</th>\n",
       "      <th>n_ive_rioja</th>\n",
       "      <th>n_ive_cat</th>\n",
       "      <th>n_ive_can</th>\n",
       "      <th>n_ive_mad</th>\n",
       "      <th>n_ive_gal</th>\n",
       "      <th>n_ive_bal</th>\n",
       "      <th>n_ive_pv</th>\n",
       "      <th>n_ive_castlm</th>\n",
       "      <th>n_ive_ast</th>\n",
       "      <th>n_ive_arag</th>\n",
       "    </tr>\n",
       "  </thead>\n",
       "  <tbody>\n",
       "    <tr>\n",
       "      <th>count</th>\n",
       "      <td>144.00</td>\n",
       "      <td>144.00</td>\n",
       "      <td>132.00</td>\n",
       "      <td>132.00</td>\n",
       "      <td>120.00</td>\n",
       "      <td>120.00</td>\n",
       "      <td>144.00</td>\n",
       "      <td>120.00</td>\n",
       "      <td>120.00</td>\n",
       "      <td>120.00</td>\n",
       "      <td>120.00</td>\n",
       "      <td>132.00</td>\n",
       "      <td>132.00</td>\n",
       "      <td>132.00</td>\n",
       "    </tr>\n",
       "    <tr>\n",
       "      <th>mean</th>\n",
       "      <td>2004.50</td>\n",
       "      <td>6.50</td>\n",
       "      <td>1304.08</td>\n",
       "      <td>769.14</td>\n",
       "      <td>40.45</td>\n",
       "      <td>1520.87</td>\n",
       "      <td>303.17</td>\n",
       "      <td>1415.85</td>\n",
       "      <td>215.08</td>\n",
       "      <td>212.16</td>\n",
       "      <td>190.10</td>\n",
       "      <td>251.08</td>\n",
       "      <td>177.80</td>\n",
       "      <td>286.87</td>\n",
       "    </tr>\n",
       "    <tr>\n",
       "      <th>std</th>\n",
       "      <td>3.46</td>\n",
       "      <td>3.46</td>\n",
       "      <td>350.94</td>\n",
       "      <td>173.65</td>\n",
       "      <td>9.08</td>\n",
       "      <td>372.71</td>\n",
       "      <td>84.05</td>\n",
       "      <td>326.50</td>\n",
       "      <td>29.13</td>\n",
       "      <td>33.21</td>\n",
       "      <td>48.82</td>\n",
       "      <td>23.85</td>\n",
       "      <td>25.58</td>\n",
       "      <td>44.14</td>\n",
       "    </tr>\n",
       "    <tr>\n",
       "      <th>min</th>\n",
       "      <td>1999.00</td>\n",
       "      <td>1.00</td>\n",
       "      <td>694.00</td>\n",
       "      <td>430.00</td>\n",
       "      <td>21.00</td>\n",
       "      <td>957.00</td>\n",
       "      <td>161.00</td>\n",
       "      <td>820.00</td>\n",
       "      <td>159.00</td>\n",
       "      <td>146.00</td>\n",
       "      <td>105.00</td>\n",
       "      <td>198.00</td>\n",
       "      <td>117.00</td>\n",
       "      <td>175.00</td>\n",
       "    </tr>\n",
       "    <tr>\n",
       "      <th>25%</th>\n",
       "      <td>2001.75</td>\n",
       "      <td>3.75</td>\n",
       "      <td>1006.50</td>\n",
       "      <td>634.75</td>\n",
       "      <td>34.00</td>\n",
       "      <td>1207.50</td>\n",
       "      <td>236.00</td>\n",
       "      <td>1192.00</td>\n",
       "      <td>196.00</td>\n",
       "      <td>189.00</td>\n",
       "      <td>147.00</td>\n",
       "      <td>234.75</td>\n",
       "      <td>158.00</td>\n",
       "      <td>265.75</td>\n",
       "    </tr>\n",
       "    <tr>\n",
       "      <th>50%</th>\n",
       "      <td>2004.50</td>\n",
       "      <td>6.50</td>\n",
       "      <td>1313.50</td>\n",
       "      <td>772.00</td>\n",
       "      <td>40.00</td>\n",
       "      <td>1411.00</td>\n",
       "      <td>269.50</td>\n",
       "      <td>1383.00</td>\n",
       "      <td>211.50</td>\n",
       "      <td>211.00</td>\n",
       "      <td>184.50</td>\n",
       "      <td>252.00</td>\n",
       "      <td>178.00</td>\n",
       "      <td>287.00</td>\n",
       "    </tr>\n",
       "    <tr>\n",
       "      <th>75%</th>\n",
       "      <td>2007.25</td>\n",
       "      <td>9.25</td>\n",
       "      <td>1580.50</td>\n",
       "      <td>898.25</td>\n",
       "      <td>46.25</td>\n",
       "      <td>1801.00</td>\n",
       "      <td>374.25</td>\n",
       "      <td>1647.50</td>\n",
       "      <td>228.00</td>\n",
       "      <td>235.25</td>\n",
       "      <td>236.25</td>\n",
       "      <td>264.25</td>\n",
       "      <td>196.00</td>\n",
       "      <td>317.00</td>\n",
       "    </tr>\n",
       "    <tr>\n",
       "      <th>max</th>\n",
       "      <td>2010.00</td>\n",
       "      <td>12.00</td>\n",
       "      <td>2021.00</td>\n",
       "      <td>1144.00</td>\n",
       "      <td>67.00</td>\n",
       "      <td>2442.00</td>\n",
       "      <td>483.00</td>\n",
       "      <td>2113.00</td>\n",
       "      <td>341.00</td>\n",
       "      <td>295.00</td>\n",
       "      <td>283.00</td>\n",
       "      <td>315.00</td>\n",
       "      <td>241.00</td>\n",
       "      <td>398.00</td>\n",
       "    </tr>\n",
       "  </tbody>\n",
       "</table>\n",
       "</div>"
      ],
      "text/plain": [
       "          year   month  n_ive_and  n_ive_val  n_ive_rioja  n_ive_cat  \\\n",
       "count   144.00  144.00     132.00     132.00       120.00     120.00   \n",
       "mean   2004.50    6.50    1304.08     769.14        40.45    1520.87   \n",
       "std       3.46    3.46     350.94     173.65         9.08     372.71   \n",
       "min    1999.00    1.00     694.00     430.00        21.00     957.00   \n",
       "25%    2001.75    3.75    1006.50     634.75        34.00    1207.50   \n",
       "50%    2004.50    6.50    1313.50     772.00        40.00    1411.00   \n",
       "75%    2007.25    9.25    1580.50     898.25        46.25    1801.00   \n",
       "max    2010.00   12.00    2021.00    1144.00        67.00    2442.00   \n",
       "\n",
       "       n_ive_can  n_ive_mad  n_ive_gal  n_ive_bal  n_ive_pv  n_ive_castlm  \\\n",
       "count     144.00     120.00     120.00     120.00    120.00        132.00   \n",
       "mean      303.17    1415.85     215.08     212.16    190.10        251.08   \n",
       "std        84.05     326.50      29.13      33.21     48.82         23.85   \n",
       "min       161.00     820.00     159.00     146.00    105.00        198.00   \n",
       "25%       236.00    1192.00     196.00     189.00    147.00        234.75   \n",
       "50%       269.50    1383.00     211.50     211.00    184.50        252.00   \n",
       "75%       374.25    1647.50     228.00     235.25    236.25        264.25   \n",
       "max       483.00    2113.00     341.00     295.00    283.00        315.00   \n",
       "\n",
       "       n_ive_ast  n_ive_arag  \n",
       "count     132.00      132.00  \n",
       "mean      177.80      286.87  \n",
       "std        25.58       44.14  \n",
       "min       117.00      175.00  \n",
       "25%       158.00      265.75  \n",
       "50%       178.00      287.00  \n",
       "75%       196.00      317.00  \n",
       "max       241.00      398.00  "
      ]
     },
     "execution_count": 28,
     "metadata": {},
     "output_type": "execute_result"
    }
   ],
   "source": [
    "dfa = pd.read_stata('D:/Studium/Master/2. Semester/Microeconometrics/Gonzalez_2013_AEJ/data_abortions_20110196.dta')\n",
    "dfa.describe().round(2)"
   ]
  },
  {
   "cell_type": "markdown",
   "metadata": {},
   "source": [
    "The variables starting with \"n_ive_\" are the number of abortions per month in different regions of Spain. For some regions we have observations for 1999-2009 and for others from 2000-2010."
   ]
  },
  {
   "cell_type": "markdown",
   "metadata": {},
   "source": [
    "The following manipulations are comparable to those for the births data set."
   ]
  },
  {
   "cell_type": "code",
   "execution_count": 29,
   "metadata": {},
   "outputs": [],
   "source": [
    "# sum of abortions across all regions\n",
    "# 2:14 chooses columns 3 to 14\n",
    "dfa['n_tot'] = dfa.iloc[:,2:14].sum(axis=1)\n",
    "\n",
    "# month variable that takes value 0 in July 2007:\n",
    "# the data is already sorted and there is only one observations per month and\n",
    "# year.\n",
    "dfa['m'] = range(len(dfa))\n",
    "# find value for July 2007:\n",
    "dfa.loc[(dfa['year'] == 2007) & (dfa['month'] == 7), 'm'] # 102\n",
    "dfa['m'] = dfa['m'] - 102\n",
    "\n",
    "# days in a month:\n",
    "dfa['days'] = np.where((dfa['month'] == 2) & ((dfa['year'] == 2000) | (dfa['year'] == 2004) | (dfa['year'] == 2008)), 29,\n",
    "        # for all other feburarys\n",
    "        np.where(dfa['month'] == 2, 28,\n",
    "        # for April, June, September, November\n",
    "        np.where((dfa['month'] == 4) | (dfa['month'] == 6) |\n",
    "                (dfa['month'] == 9) | (dfa['month'] == 11), 30,\n",
    "        # otherwise\n",
    "        31)))\n",
    "\n",
    "# log-abortions\n",
    "dfa['log_ive'] = np.log(dfa['n_tot'])\n",
    "\n",
    "# squared and cubed terms\n",
    "dfa['m2'] = dfa['m']*dfa['m']\n",
    "dfa['m3'] = dfa['m']*dfa['m']*dfa['m']\n",
    "\n",
    "# post indicator\n",
    "dfa['post'] = np.where(dfa['m'] >= 0, 1, 0)\n",
    "\n",
    "# restrict period\n",
    "dfa = dfa.loc[(dfa['m']> -91) & (dfa['m']<30)]\n",
    "\n",
    "# get month dummies\n",
    "dummies = pd.get_dummies(dfa['month'])\n",
    "dummies.columns = ['jan','feb','mar','apr','mai','jun','jul','aug','sep','oct','nov','dec']\n",
    "# bind data frames\n",
    "dfa = pd.concat([dfa, dummies], axis=1)"
   ]
  },
  {
   "cell_type": "markdown",
   "metadata": {},
   "source": [
    "The following is part of the paper's Table 1 - Descriptive Statitics"
   ]
  },
  {
   "cell_type": "code",
   "execution_count": 30,
   "metadata": {},
   "outputs": [
    {
     "data": {
      "text/html": [
       "<div>\n",
       "<style scoped>\n",
       "    .dataframe tbody tr th:only-of-type {\n",
       "        vertical-align: middle;\n",
       "    }\n",
       "\n",
       "    .dataframe tbody tr th {\n",
       "        vertical-align: top;\n",
       "    }\n",
       "\n",
       "    .dataframe thead th {\n",
       "        text-align: right;\n",
       "    }\n",
       "</style>\n",
       "<table border=\"1\" class=\"dataframe\">\n",
       "  <thead>\n",
       "    <tr style=\"text-align: right;\">\n",
       "      <th></th>\n",
       "      <th>n_tot</th>\n",
       "      <th>log_ive</th>\n",
       "      <th>post</th>\n",
       "      <th>m</th>\n",
       "      <th>month</th>\n",
       "      <th>days</th>\n",
       "    </tr>\n",
       "  </thead>\n",
       "  <tbody>\n",
       "    <tr>\n",
       "      <th>count</th>\n",
       "      <td>120.00</td>\n",
       "      <td>120.00</td>\n",
       "      <td>120.00</td>\n",
       "      <td>120.00</td>\n",
       "      <td>120.00</td>\n",
       "      <td>120.00</td>\n",
       "    </tr>\n",
       "    <tr>\n",
       "      <th>mean</th>\n",
       "      <td>6724.62</td>\n",
       "      <td>8.79</td>\n",
       "      <td>0.25</td>\n",
       "      <td>-30.50</td>\n",
       "      <td>6.50</td>\n",
       "      <td>30.44</td>\n",
       "    </tr>\n",
       "    <tr>\n",
       "      <th>std</th>\n",
       "      <td>1348.07</td>\n",
       "      <td>0.20</td>\n",
       "      <td>0.43</td>\n",
       "      <td>34.79</td>\n",
       "      <td>3.47</td>\n",
       "      <td>0.81</td>\n",
       "    </tr>\n",
       "    <tr>\n",
       "      <th>min</th>\n",
       "      <td>4512.00</td>\n",
       "      <td>8.41</td>\n",
       "      <td>0.00</td>\n",
       "      <td>-90.00</td>\n",
       "      <td>1.00</td>\n",
       "      <td>28.00</td>\n",
       "    </tr>\n",
       "    <tr>\n",
       "      <th>25%</th>\n",
       "      <td>5624.00</td>\n",
       "      <td>8.63</td>\n",
       "      <td>0.00</td>\n",
       "      <td>-60.25</td>\n",
       "      <td>3.75</td>\n",
       "      <td>30.00</td>\n",
       "    </tr>\n",
       "    <tr>\n",
       "      <th>50%</th>\n",
       "      <td>6535.50</td>\n",
       "      <td>8.79</td>\n",
       "      <td>0.00</td>\n",
       "      <td>-30.50</td>\n",
       "      <td>6.50</td>\n",
       "      <td>31.00</td>\n",
       "    </tr>\n",
       "    <tr>\n",
       "      <th>75%</th>\n",
       "      <td>7710.75</td>\n",
       "      <td>8.95</td>\n",
       "      <td>0.25</td>\n",
       "      <td>-0.75</td>\n",
       "      <td>9.25</td>\n",
       "      <td>31.00</td>\n",
       "    </tr>\n",
       "    <tr>\n",
       "      <th>max</th>\n",
       "      <td>9553.00</td>\n",
       "      <td>9.16</td>\n",
       "      <td>1.00</td>\n",
       "      <td>29.00</td>\n",
       "      <td>12.00</td>\n",
       "      <td>31.00</td>\n",
       "    </tr>\n",
       "  </tbody>\n",
       "</table>\n",
       "</div>"
      ],
      "text/plain": [
       "         n_tot  log_ive    post       m   month    days\n",
       "count   120.00   120.00  120.00  120.00  120.00  120.00\n",
       "mean   6724.62     8.79    0.25  -30.50    6.50   30.44\n",
       "std    1348.07     0.20    0.43   34.79    3.47    0.81\n",
       "min    4512.00     8.41    0.00  -90.00    1.00   28.00\n",
       "25%    5624.00     8.63    0.00  -60.25    3.75   30.00\n",
       "50%    6535.50     8.79    0.00  -30.50    6.50   31.00\n",
       "75%    7710.75     8.95    0.25   -0.75    9.25   31.00\n",
       "max    9553.00     9.16    1.00   29.00   12.00   31.00"
      ]
     },
     "execution_count": 30,
     "metadata": {},
     "output_type": "execute_result"
    }
   ],
   "source": [
    "dfa[['n_tot','log_ive','post','m','month','days']].describe().round(2)"
   ]
  },
  {
   "cell_type": "markdown",
   "metadata": {},
   "source": [
    "#### Regressions"
   ]
  },
  {
   "cell_type": "code",
   "execution_count": 31,
   "metadata": {},
   "outputs": [
    {
     "name": "stdout",
     "output_type": "stream",
     "text": [
      "——————————————————————————————————————————————————————————————————————————————————————————————————————————————\n",
      "                 RDD (1)     RDD (2)     RDD (3)     RDD (4)     RDD (5)     DID (6)     DID (7)     DID (8)\n",
      "                10 years     5 years   12 months    9 months    3 months    10 years     7 years     5 years\n",
      "——————————————————————————————————————————————————————————————————————————————————————————————————————————————\n",
      "Conceptions       0.0531      0.0695      0.0445      0.0868      0.0503      0.0495      0.0539      0.0527                                                                                                              \n",
      "                  0.0219      0.0250      0.0370      0.0328      0.0314      0.0103      0.0088      0.0136                                                                                                              \n",
      "Abortions        -0.1248     -0.1730     -0.2187     -0.2165     -0.1304     -0.0751     -0.0610     -0.0649                                                                                                              \n",
      "                  0.0427      0.0504      0.0781      0.0613      0.0310      0.0268      0.0254      0.0366"
     ]
    }
   ],
   "source": [
    "# create necessary subsets of dfb\n",
    "dfa_list = list()\n",
    "\n",
    "# same subsets as for births data set\n",
    "dfa_list.append(dfa.loc[(dfa['m']>-91) & (dfa['m']<30)])\n",
    "dfa_list.append(dfa.loc[(dfa['m']>-31) & (dfa['m']<30)]) # 5 years\n",
    "dfa_list.append(dfa.loc[(dfa['m']>-13) & (dfa['m']<12)]) # 12 months\n",
    "dfa_list.append(dfa.loc[(dfa['m']>-10) & (dfa['m']<9)]) # 9 months\n",
    "dfa_list.append(dfa.loc[(dfa['m']>-4) & (dfa['m']<3)]) # 3 months\n",
    "dfa_list.append(dfa.loc[(dfa['m']>-67) & (dfa['m']<30)]) # 8 years\n",
    "\n",
    "reg1 = smf.ols(formula =\n",
    "        'log_ive ~ post + m + post*m + m2 + post*m2 + m3 + post*m3 + days', data=dfa_list[0]).fit(cov_type='HC1')\n",
    "reg2 = smf.ols(formula =\n",
    "        'log_ive ~ post + m + post*m + m2 + post*m2 + days', data=dfa_list[1]).fit(cov_type='HC1')\n",
    "reg3 = smf.ols(formula =\n",
    "        'log_ive ~ post + m + post*m + m2 + post*m2 + days', data=dfa_list[2]).fit(cov_type='HC1')\n",
    "reg4 = smf.ols(formula =\n",
    "        'log_ive ~ post + m + post*m + days', data=dfa_list[3]).fit(cov_type='HC1')\n",
    "reg5 = smf.ols(formula =\n",
    "        'log_ive ~ post + days', data=dfa_list[4]).fit(cov_type='HC1')\n",
    "reg6 = smf.ols(formula =\n",
    "        'log_ive ~ post + m + post*m + m2 + post*m2 + m3 + post*m3 + days + feb + mar + apr + mai + jun + jul + aug + sep + oct + nov + dec', data=dfa_list[0]).fit(cov_type='HC1')\n",
    "reg7 = smf.ols(formula =\n",
    "        'log_ive ~ post + m + post*m + m2 + post*m2 + days + feb + mar + apr + mai + jun + jul + aug + sep + oct + nov + dec', data=dfa_list[5]).fit(cov_type='HC1')\n",
    "reg8 = smf.ols(formula =\n",
    "        'log_ive ~ post + m + post*m + m2 + post*m2 + days + feb + mar + apr + mai + jun + jul + aug + sep + oct + nov + dec', data=dfa_list[1]).fit(cov_type='HC1')\n",
    "\n",
    "reg_list_a = [reg1, reg2, reg3, reg4, reg5, reg6, reg7, reg8]\n",
    "\n",
    "\n",
    "# Make a table equivalent to Table 2 with coefficients and se for post variable\n",
    "print('\\u2014'*110)\n",
    "print('{:<12s}{:>12s}{:>12s}{:>12s}{:>12s}{:>12s}{:>12s}{:>12s}{:>12s}'\n",
    "      .format(\"\", \"RDD (1)\", \"RDD (2)\", \"RDD (3)\", \"RDD (4)\", \"RDD (5)\", \"DID (6)\", \"DID (7)\", \"DID (8)\"))\n",
    "print('{:<12s}{:>12s}{:>12s}{:>12s}{:>12s}{:>12s}{:>12s}{:>12s}{:>12s}'\n",
    "      .format(\"\", \"10 years\", \"5 years\", \"12 months\", \"9 months\", \"3 months\", \"10 years\", \"7 years\", \"5 years\"))\n",
    "print('\\u2014'*110)\n",
    "\n",
    "print('{:<12s}'.format(\"Conceptions\"), end=\"\")\n",
    "for i in range(len(reg_list_b)):\n",
    "    print ('{:>12.4f}'.format(reg_list_b[i].params.post), end=\"\")\n",
    "print(\" \"*110)\n",
    "print('{:<12s}'.format(\"\"), end=\"\")\n",
    "for j in range(len(reg_list_b)):\n",
    "    print ('{:>12.4f}'.format(reg_list_b[j].bse.post), end=\"\")\n",
    "print(\" \"*110)\n",
    "print('{:<12s}'.format(\"Abortions\"), end=\"\")\n",
    "for i in range(len(reg_list_a)):\n",
    "    print ('{:>12.4f}'.format(reg_list_a[i].params.post), end=\"\")\n",
    "print(\" \"*110)\n",
    "print('{:<12s}'.format(\"\"), end=\"\")\n",
    "for j in range(len(reg_list_a)):\n",
    "    print ('{:>12.4f}'.format(reg_list_a[j].bse.post), end=\"\")"
   ]
  },
  {
   "cell_type": "markdown",
   "metadata": {},
   "source": [
    "The above table shows regression results for number of conceptions and number of abortions as dependent variable. In the first row are the coefficient estimates for the variable \"post\". In the second row are the corresponding standard errors.\n",
    "\n",
    "Our results for conceptions are sligtly different than those in the paper because we accounted for all three leap years while LG accounted only for one (as mentioned earlier). However, for abortions LG accounted for all three leap years as well and, therefore, our results are identical to those in the paper."
   ]
  }
 ],
 "metadata": {
  "kernelspec": {
   "display_name": "Python 3",
   "language": "python",
   "name": "python3"
  },
  "language_info": {
   "codemirror_mode": {
    "name": "ipython",
    "version": 3
   },
   "file_extension": ".py",
   "mimetype": "text/x-python",
   "name": "python",
   "nbconvert_exporter": "python",
   "pygments_lexer": "ipython3",
   "version": "3.7.1"
  },
  "varInspector": {
   "cols": {
    "lenName": 16,
    "lenType": 16,
    "lenVar": 40
   },
   "kernels_config": {
    "python": {
     "delete_cmd_postfix": "",
     "delete_cmd_prefix": "del ",
     "library": "var_list.py",
     "varRefreshCmd": "print(var_dic_list())"
    },
    "r": {
     "delete_cmd_postfix": ") ",
     "delete_cmd_prefix": "rm(",
     "library": "var_list.r",
     "varRefreshCmd": "cat(var_dic_list()) "
    }
   },
   "types_to_exclude": [
    "module",
    "function",
    "builtin_function_or_method",
    "instance",
    "_Feature"
   ],
   "window_display": false
  }
 },
 "nbformat": 4,
 "nbformat_minor": 1
}
