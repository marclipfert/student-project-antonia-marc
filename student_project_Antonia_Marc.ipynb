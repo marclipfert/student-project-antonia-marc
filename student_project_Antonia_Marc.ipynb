{
 "cells": [
  {
   "cell_type": "markdown",
   "metadata": {},
   "source": [
    "# The effect of a Universal Child Benefit - González (2013) Revisited\n",
    "\n",
    "### A Project by Antonia Entorf & Marc Lipfert"
   ]
  },
  {
   "cell_type": "markdown",
   "metadata": {},
   "source": [
    "## Overview\n",
    "\n",
    "This notebook replicates the main results presented in the following article:   \n",
    "\n",
    "González, L. (2013): [The Effect of a Universal Child Benefit on Conceptions, Abortions, and Early Maternal Labor Supply](https://www.aeaweb.org/articles?id=10.1257/pol.5.3.160). American Economic Journal: Economic Policy 5(3): 160–188.\n",
    "\n",
    "In that paper, the author investigates the effect of a universal child benefit on fertility, household expenditure patterns and maternal labor supply. In particular, she is able to exploit the unanticipated introduction of a child benefit that took place in Spain in 2007 by utilising a Regression Discontinuity Design.\n",
    "\n",
    "Apart from replicating major findings presented by González, our aim is to enrich her analysis with respect to a range different aspects. First, we will examine whether accounting for autocorrelation is necessary in the given context. Secondly, since the benefit was suspended in the aftermath of the financial crisis, we will exploit this fact and apply the identical research design to the abolishment of the policy in order to study the effect on conceptions. Thirdly, we will investigate threats to validity using simulations as well as a placebo test.\n",
    "\n",
    "\n"
   ]
  },
  {
   "cell_type": "markdown",
   "metadata": {},
   "source": [
    "## Table of Contents\n",
    "\n",
    "[1.) Brief Summary of the Article](#summary)\n",
    "\n",
    "[2.) Description of the Policy and of its (potential) Effects](#policy) \n",
    "\n",
    "[3.) Empirical Strategy](#empirical_strategy)\n",
    "\n",
    "[4.) Replication of Main Results](#replication)\n",
    "\n",
    "   [4.1) Data Processing](#processing)\n",
    "   \n",
    "   [4.2) Regression Results and Visualization](#regression)\n",
    "\n",
    "[5.) Critical Assesment of the Author's Empirical Work](#critique)\n",
    "\n",
    "   [5.1) Autocorrelation](#autocorr)\n",
    "   \n",
    "   [5.2) Computing Month of Conception More Precisely](#mc_revised)\n",
    "   \n",
    "   [5.3) Global Polynomial](#global_poly)\n",
    "\n",
    "[6.) Further Analyses](#further_analyses)\n",
    "\n",
    "   [6.1) Heterogenous Treatment Effects](#hetero_treat)\n",
    "   \n",
    "   [6.2) Abolishment of the Policy](#abolishment)\n",
    "   \n",
    "   [6.3) General Reliability (Placebo Test & Simulation)](#general_reliability)\n",
    "   \n",
    "\n",
    "[7.) Conclusion](#conclusion)\n",
    "\n",
    "[References](#references)\n",
    "\n",
    "[Appendix](#appendix)"
   ]
  },
  {
   "cell_type": "markdown",
   "metadata": {},
   "source": [
    "<a id='policy'></a>\n",
    "## 1.) Description of the Policy and of its (potential) Effects "
   ]
  },
  {
   "cell_type": "markdown",
   "metadata": {},
   "source": [
    "On July 3 in 2007, the Spanish government announced the introduction of a universal child benefit. Mothers giving birth from July 1, 2007 onwards were eligible to receive a one-time cash payment of 2,500€. Libertad González, henceforth LG, analyzes the effect of this child benefit on the number of conceptions and abortions as well as on household expenditures, maternal labor supply and day care use. She uses a sharp regression discontinuity design (RDD) for her analysis, where the running variable is time and the treatment variable is equal to 1 after July 1, 2007 and 0 before that date.\n",
    "\n",
    "A problem which could hypothetically occur when using a RDD is self selection into treatment. In this particular setting one could imagine that women try to postpone birth in order to give birth after the cutoff date and not before. This scenario seems especially plausible for low income families who are in greater need of the cash payment. Therefore, the mothers giving birth right before and rigth after the cutoff could differ in personal characteristics, such as income and education. This could lead to a bias in the estimated average treatment effect if low income families react differently to receiving treatment compared to high income families and, additionally, we are not able to control for these personal characteristics.\n",
    "\n",
    "However, self slection into treatment was not possible in our setting, because the introduction of the policy was unexpected and the announcement was even two days after the actual cutoff date. These two aspects rule out the possiblity to postpone birth in order to receive the benefit."
   ]
  },
  {
   "cell_type": "markdown",
   "metadata": {},
   "source": [
    "#### Effects on Fertility"
   ]
  },
  {
   "cell_type": "markdown",
   "metadata": {},
   "source": [
    "<img src=\"causal-graphs/causal-graph-fertility.png\" width=\"600\" />"
   ]
  },
  {
   "cell_type": "markdown",
   "metadata": {},
   "source": [
    "The causal graph above represents two regression analyses of the article. First, LG is interested in the effect of the introduction of the child benefit on the number of conceptions per month and, second, on the number of abortions per month. Thus, the treatment variable, D, is the introduction of the child benefit and the dependent variables (Y1 & Y2) are number of conceptions and number of abortions per month. In this graph the treatment should be interpreted as having the possibility to get the benefit and not as already having the benefit.\n",
    "\n",
    "The running variable, time, determines assignment to treatment and, furthermore, influences conceptions and abortions through seasonality effects. The treatment variable is supposed to influence conceptions and abortions, which both determine the number of births. Furthermore, the number of abortions is influenced by the number of conceptions.\n",
    "\n",
    "One could expect that the number of conceptions increases after the introduction because the promise of receiving a cash payment increases families' incentives to get a child. The same reasoning can be applied to the number of abortions. Treated women have more incentives to reject an abortion than untreated women. Therefore, the introduction of the benefit should reduce the number of abortions.\n",
    "\n",
    "Obviously, 2,500€ is rather few compared to the costs associated with a child. Thus, a pontential impact of the treatment on the outcome variables should be small.\n",
    "\n",
    "*We could think about whether rather low educated families aim for the cash payment not only due to probably lower income but also because they underestimate the costs associated with a child!*\n",
    "\n",
    "Important is that we actually do not observe the number of *conceptions* per month but only the number of *births* per month. LG's idea was then to calculate the month of conception based on the month of birth by subtracting the approximate number of months a woman was pregnant.\n",
    "\n",
    "However, birth is a collider variable mutually depending on conceptions and abortions. Thus, when calculating conceptions while ignoring abortions our results might not be accurate. To illustrate this, imagine that the treatment does not at all affect the number of conceptions. However, at the same time many treated women decide to not having an abortion while their untreated counterfactual would have decided to have an abortion. Thus, the treatment causes a reduction in the number of abortions which, clearly, leads to an increase in the number of births. If we then calculate conceptions based on births it would look like an increase in the number of conceptions, although it was unchanged.\n",
    "\n",
    "Therefore, we must bear in mind that a change in the conceptions variable can be partly driven by a change in the abortions variable! The author also mentions this dependence of the conceptions variable on abortions.\n",
    "\n",
    "Considering the back-door path criterion for identification, we see that there is the path over time, T, to both depending variables. Therefore, it is necessary to condition on T to block the back door path which is done by the author.\n",
    "\n",
    "For the regession of Y2 on D, there is a second back door path over Y1. This path is not blocked. The same holds true for Y1 on D due to the way conceptions are computed using information about births which depend on abortions."
   ]
  },
  {
   "cell_type": "markdown",
   "metadata": {},
   "source": [
    "#### Effects on Economic Variables"
   ]
  },
  {
   "cell_type": "markdown",
   "metadata": {},
   "source": [
    "<img src=\"causal-graphs/causal-graph-economic-variables.png\" width=\"600\" />"
   ]
  },
  {
   "cell_type": "markdown",
   "metadata": {},
   "source": [
    "The second causal graph represents the remaining three regression analyses of the article. This time the dependent variables are household expenditures, maternal labor supply, and child care use.\n",
    "\n",
    "There is slight different in the interpretation of the treatment variable, D, compared to the first causal graph. This time, D should be interpreted as already having received the cash payment because LG compares families *having* children shortly before and after the cut-off date."
   ]
  },
  {
   "cell_type": "markdown",
   "metadata": {},
   "source": [
    "<a id='empirical_strategy'></a>\n",
    "## 2.) Empirical Strategy"
   ]
  },
  {
   "cell_type": "markdown",
   "metadata": {},
   "source": [
    "To illustrate the empirical strategy and its potential pitfalls, we make use of the potential outcomes framework first proposed by Rubin (1974). Notation is borrow from the textbooks by Morgan and Winship (2015) as well as Frölich and Sperlich (2019).\n",
    "\n",
    "The research question by González (2013) can be condensed as follows: she aims at quantifying the impact of the introduction of a universal child benefit on a range of outcome variables. Her study therefore constitutes a classical policy evaluation, i.e. an ex-post investigation in which the researcher seeks to obtain empirical evidence on the causal effect of a policy measure. The challenge, however, is that the outcome variables are typically affected by many other factors - otherwise one could simply conduct a before-after comparison. Therefore, the causal effect has to be disentangled from the influence of those confounding factors.\n",
    "\n",
    "More formally, in the given setting there is a binary variable $D$ indicating treatment (\"receiving the child benefit\"). Also, let $Y^d$ denote the potential outcome for treatment status $D = d$. Thus, $Y^1$ refers to the potential outcome with exposure to treatment and $Y^0$ to the potential outcome without treatment. The difference between them, $Y^1 - Y^0$, gives the causal eﬀect of the intervention. Naturally, both cannot be observed at the same time since treatment status is either $D = 1$ or $D = 0$.  The observed outcome $Y$ is given by: <a id='eq1'></a>\n",
    "\n",
    "\\begin{align*}\n",
    "\\text{(1)} \\qquad Y = (1 - D) \\cdot Y^0 + D \\cdot Y^1   \\text{ with } D \\in \\{0,1\\}.\n",
    "\\end{align*}\n",
    "\n",
    "Further, the treatment status is determined by a variable $Z$ (\"running variable\"), which is time in the given context: only mothers giving birth after a specified cut-off date $z_0$, i.e. July 1 2007, were eligible to claim the benefit. González (2013) provides several reasons why the treatment status can be viewed as being deterministically dependent on the running variable time, i.e. practically all eligible mothers actually received the benefit. Importantly, administrative barriers were very low and merely entailed completing a one-page form. In 2008, the Spanish tax authorities reported paying out 491,557 child benefits which corresponds to 95% of the total number of births in that year (including ineligible mothers, i.e. those not having resided legally in Spain for at least two years before giving birth). Thus, treatment assignment can be formalised as follows: <a id='eq2'></a>\n",
    "\n",
    "\\begin{align*}\n",
    "\\text{(2)} \\qquad  D = \\boldsymbol{1} \\{Z \\geq z_{0} \\}.\n",
    "\\end{align*}\n",
    "\n",
    "Taken together, such a setup lends itself to a sharp Regression Discontinuity Design (RDD). This identiﬁcation strategy, first introduced and applied by Thistlethwaite and Campbell (1960), exploits the discontinuous change in $D$ that occurs when the running variable $Z$ reaches the known threshold value $z_0$. Then, under certain conditions,  changes in the observed outcome $Y$ at the cut-oﬀ value $z_0$ can be ascribed to the alteration of the treatment status. Note, however, that this only allows causal inference at or around the threshold value, that is, a Local Average Treatment Effect (LATE) is retrieved. The evidence obtained regarding those local behaviour changes can ususally not be generalised.\n",
    "\n",
    "A Regression Discontinuity Design is typically applied to cross-sectional data - and with many observations close to the cut-off value $z_0$, it allows to infer the causal effect without extensive paramentric assumptions by simply comparing actual outcomes just below and right above the threshold. In such a convenient cross-sectional setting, clean identification is achieved even without conditioning on control variables. Hahn et. al. (2001) formalise this approach which, in our notation, reads as follows: <a id='eq3'></a>\n",
    "\n",
    "\\begin{align*}\n",
    "\\text{(3)} \\qquad E[Y^{1}-Y^{0} | Z=z_{0}] = \\lim_{\\varepsilon \\to 0} E[Y|Z=z_{0}+\\varepsilon]-\\lim_{\\varepsilon \\to 0} E[Y|Z=z_{0}-\\varepsilon].\n",
    "\\end{align*}\n",
    "\n",
    "The only assumption necessary, in the cross-sectional case as well as when dealing with time series data, is that potential outcomes evolve smoothly around the cut-off value: if $Y^1$ or $Y^0$ were exhibiting a jump at the threshold anyway, it would not be possible to extract the causal impact of treatment which would render the whole method inapplicable. Following Lee and Lemieux (2010), this assumption is commonly violated when individuals can manipulate their value of $Z$ and intend to sort into or out of treatment. Formally, drawing again on Hahn et. al. (2001), the crucial identifying assumption (A) can be stated as follows: <a id='A'></a>\n",
    "\n",
    "\\begin{align*}\n",
    "\\text{(A)} \\qquad E[Y^{d}|Z=z] \\text{ continuous in } z \\text{ around } z_{0} \\text{ for } d \\in \\{0,1\\}.\n",
    "\\end{align*}\n",
    "\n",
    "Coming back to the actual setting, there are upsides and downsides. First, time as running variable and the particular features of time series data pose certain problematic issues. Secondly, sorting around the threshold can be ruled out in the matter at hand, but still smoothness of the potential outcomes cannot be claimed without further ado. Both aspects shall be discussed in the following.\n",
    "\n",
    "With regard to the fist point, it would be more precise to refer to the employed research design as Regression Discontinuity in Time (RDiT). Its corresponding pitfalls and the conceptual differences compared to the classical cross-sectional RDD are emphasised by Hausman and Rapson (2018).  For a start, once pure time series data is considered, the only way to reach an appropriate degree of statistical power is to expand the time frame. While in cross-sectional applications precision can, in principle, be increased by increasing the number of observations within a given bandwidth around the threshold, pure time series data has by definition only one observation per discrete point in time. This is for example the case when González (2013) analyses the effect on conceptions - there she only has monthly sums available. However, drawing on observations further away from the cutoff-date constitutes a major departure from the cross-sectional approach described above. In particular, the method becomes more vulnerable to bias from unobserved confouding variables.\n",
    "\n",
    "Further, an inherent issue when dealing with time series data is that the error terms are likely to exhibit serial correlation. There are different solution approaches to address this problem, one of them would be the use of clustered standard errors. Alternatively, heteroscedasticity and autocorrelation robust estimation techniques can be employed, such as the one proposed by Newey and West (1987). Since González (2013) does not explicitly refer to this problem in her article, we will take up this issue later on. \n",
    "\n",
    "Regarding the second point, the setup in Spain is particularly suitable for applying a RDiT since anticipation effects and corresponding sorting around the threshold are ruled out. According to González (2013), the policy was unexpectedly announced on July 03 2007 and the eligibility cut-off date was subsequently moved to July 01 2007. Therefore, sorting into treatment is rendered practically impossible. Interestingly, González together with coauthors investigates such anticipation effects with respect to the abolishment of the Spanish child benefit that occurred in the course of the financial crisis. Their paper will be picked up on later on.\n",
    "\n",
    "Still, concerns that the key identification assumption, i.e. smoothness of potential outcomes around the threshold, is violated are not overcome just by ruling out sorting around the threshold. The focus is therefore on other factors discontinuously affecting potential outcomes during the period under consideration. González (2013) argues that \"no  other  policy  changes  in  2007  or  thereafter  applied  differentially  to  children  born  before  and  after July 1, 2007\" - a claim that we can neither verify nor falsify. \n",
    "\n",
    "Apart from discontinuous policy changes, major concerns relate to seasonality effects and the overall time trend. While in the cleanest cross-sectional RDD one can retrieve an unbiased estimate of the causal effect without conditioning on control variables, those are needed in a RDiT setting to prevent bias. Clearly, controlling for the number of days of the month when considering monthly conceptions or abortions appears to be reasonable. Furthermore, it has to be accounted for the overall time trend as well as for monthly patterns if possible. \n",
    "\n",
    "Turing towards the regression equations that are actually estimated by the author, first consider the specification without calender month dummies: <a id='eq4'></a>\n",
    "\n",
    "\\begin{align*}\n",
    "\\text{(4)} \\qquad Y_m = \\alpha + \\theta \\cdot m + \\delta (m \\cdot D) + \\beta \\cdot D + \\lambda \\cdot X_m + \\epsilon_m.\n",
    "\\end{align*}\n",
    "\n",
    "This is applied to (the natural logarithm of) the number of conceptions (and subsequently also to the number of arbortions) in month $m$, in form of the dependent variable $Y_m$. The treatment effect is given by $\\beta$ which is the coefficient of an indicator variable $D$ taking value 1 beginning in July 2007, the month when the policy was adopted. $X_m$ denotes the number of calender days of the respective month. As can be seen in the equation, the running variable time, in form of month $m$ which is normalized to zero at the threshold (July 2007), is included as regressor such that a linear time trend is estimated that is allowed to differ pre/post treatment, which is captured by the interaction term $(m \\cdot D)$. Note that in specifications with longer time frames, the author also employs higher order polynomial time trends, while in the shortest specification (3 months pre/post-treatment) only $X_m$ but no time trend is included as regressor.\n",
    "\n",
    "Longer time frames allow to control even more precisely for seasonal patterns because then calender month fixed effects can be estimated by adding respective dummy variables to the regression equation. That is why the authors also applies the following regression equation to the same two dependet variables conceptions and abortions: <a id='eq5'></a>\n",
    "\n",
    "\\begin{align*}\n",
    "\\text{(5)} \\qquad Y_m = \\alpha + \\theta \\cdot m + \\delta (m \\cdot D) + \\beta \\cdot D + \\lambda \\cdot X_m + \\sum_{c=2}^{12} \\mu_c \\cdot month_m + \\epsilon_m.\n",
    "\\end{align*}\n",
    "\n",
    "Lastly, González (2013) also has cross-sectional survey data available allowing her to apply the research design with respect to the labor supply decision of the mother as well as to different kinds of household expenditures and the use of day care as dependent variables. Therefore, she estimates the following regression equation: <a id='eq6'></a>\n",
    "\n",
    "\\begin{align*}\n",
    "\\text{(6)} \\qquad Y_{im} = \\alpha + \\theta \\cdot m + \\delta (m \\cdot D) + \\beta \\cdot D + \\Pi \\cdot \\mathbf{X}^T_{im} + \\epsilon_{im}.\n",
    "\\end{align*}\n",
    "\n",
    "This specification is quite similar to equation [(4)](#eq4) but now a subscript $i$ denoting the individual household is added such that, for example, the row vector $\\mathbf{X}_{im}$ comprises control variables like educational attainment of mother and father for household $i$ with their child being born in month $m$, where the running variable is, as always, normalized with zero at July 2007."
   ]
  },
  {
   "cell_type": "markdown",
   "metadata": {},
   "source": [
    "<a id='replication'></a>\n",
    "## 3.) Replication of Main Results"
   ]
  },
  {
   "cell_type": "markdown",
   "metadata": {},
   "source": [
    "<a id='processing'></a>\n",
    "### 4.1) Data Processing\n",
    "Before we can start with the data analysis we need to prepare the data sets. Therefore we translate the author's Stata code into python code. There are three different do-files using different datasets."
   ]
  },
  {
   "cell_type": "markdown",
   "metadata": {},
   "source": [
    "In the following I will give a brief overview over the translation of the \"dofile_fertility_20110196.do\" which can be found [(here)](https://www.aeaweb.org/articles?id=10.1257/pol.5.3.160) or in our data folder."
   ]
  },
  {
   "cell_type": "code",
   "execution_count": 1,
   "metadata": {},
   "outputs": [],
   "source": [
    "import pandas as pd\n",
    "import numpy as np\n",
    "import statsmodels.formula.api as smf\n",
    "import statsmodels.tsa.api as smt\n",
    "import matplotlib.pyplot as plt\n",
    "\n",
    "from auxiliary.auxiliary_a import *\n",
    "from auxiliary.auxiliary_m import *\n",
    "from auxiliary.mc_more_precisely import *\n",
    "from auxiliary.plots import *"
   ]
  },
  {
   "cell_type": "markdown",
   "metadata": {},
   "source": [
    "#### Conceptions:"
   ]
  },
  {
   "cell_type": "markdown",
   "metadata": {},
   "source": [
    "The raw data is shown here:\n",
    "\n",
    "*Variables* <br>\n",
    "mesp: Month of birth <br>\n",
    "year: Year of birth <br>\n",
    "prem: Prematurity indicator (1 if baby is not premature, 2 if it is) <br>\n",
    "semanas: Number of weeks of gestation at birth"
   ]
  },
  {
   "cell_type": "code",
   "execution_count": 2,
   "metadata": {
    "scrolled": true
   },
   "outputs": [
    {
     "data": {
      "text/html": [
       "<div>\n",
       "<style scoped>\n",
       "    .dataframe tbody tr th:only-of-type {\n",
       "        vertical-align: middle;\n",
       "    }\n",
       "\n",
       "    .dataframe tbody tr th {\n",
       "        vertical-align: top;\n",
       "    }\n",
       "\n",
       "    .dataframe thead th {\n",
       "        text-align: right;\n",
       "    }\n",
       "</style>\n",
       "<table border=\"1\" class=\"dataframe\">\n",
       "  <thead>\n",
       "    <tr style=\"text-align: right;\">\n",
       "      <th></th>\n",
       "      <th>mesp</th>\n",
       "      <th>year</th>\n",
       "      <th>prem</th>\n",
       "      <th>semanas</th>\n",
       "    </tr>\n",
       "  </thead>\n",
       "  <tbody>\n",
       "    <tr>\n",
       "      <th>0</th>\n",
       "      <td>3.0</td>\n",
       "      <td>2000.0</td>\n",
       "      <td>1</td>\n",
       "      <td>0.0</td>\n",
       "    </tr>\n",
       "    <tr>\n",
       "      <th>1</th>\n",
       "      <td>1.0</td>\n",
       "      <td>2000.0</td>\n",
       "      <td>2</td>\n",
       "      <td>36.0</td>\n",
       "    </tr>\n",
       "    <tr>\n",
       "      <th>2</th>\n",
       "      <td>3.0</td>\n",
       "      <td>2000.0</td>\n",
       "      <td>1</td>\n",
       "      <td>37.0</td>\n",
       "    </tr>\n",
       "    <tr>\n",
       "      <th>3</th>\n",
       "      <td>3.0</td>\n",
       "      <td>2000.0</td>\n",
       "      <td>1</td>\n",
       "      <td>39.0</td>\n",
       "    </tr>\n",
       "    <tr>\n",
       "      <th>4</th>\n",
       "      <td>12.0</td>\n",
       "      <td>2000.0</td>\n",
       "      <td>1</td>\n",
       "      <td>0.0</td>\n",
       "    </tr>\n",
       "  </tbody>\n",
       "</table>\n",
       "</div>"
      ],
      "text/plain": [
       "   mesp    year  prem  semanas\n",
       "0   3.0  2000.0     1      0.0\n",
       "1   1.0  2000.0     2     36.0\n",
       "2   3.0  2000.0     1     37.0\n",
       "3   3.0  2000.0     1     39.0\n",
       "4  12.0  2000.0     1      0.0"
      ]
     },
     "execution_count": 2,
     "metadata": {},
     "output_type": "execute_result"
    }
   ],
   "source": [
    "pd.read_stata('data/data_births_20110196.dta').head()"
   ]
  },
  {
   "cell_type": "code",
   "execution_count": 3,
   "metadata": {},
   "outputs": [
    {
     "data": {
      "text/html": [
       "<div>\n",
       "<style scoped>\n",
       "    .dataframe tbody tr th:only-of-type {\n",
       "        vertical-align: middle;\n",
       "    }\n",
       "\n",
       "    .dataframe tbody tr th {\n",
       "        vertical-align: top;\n",
       "    }\n",
       "\n",
       "    .dataframe thead th {\n",
       "        text-align: right;\n",
       "    }\n",
       "</style>\n",
       "<table border=\"1\" class=\"dataframe\">\n",
       "  <thead>\n",
       "    <tr style=\"text-align: right;\">\n",
       "      <th></th>\n",
       "      <th>mesp</th>\n",
       "      <th>year</th>\n",
       "      <th>prem</th>\n",
       "      <th>semanas</th>\n",
       "    </tr>\n",
       "  </thead>\n",
       "  <tbody>\n",
       "    <tr>\n",
       "      <th>count</th>\n",
       "      <td>4984066.00</td>\n",
       "      <td>4984066.00</td>\n",
       "      <td>4984066.00</td>\n",
       "      <td>4706361.00</td>\n",
       "    </tr>\n",
       "    <tr>\n",
       "      <th>mean</th>\n",
       "      <td>6.57</td>\n",
       "      <td>2041.50</td>\n",
       "      <td>1.07</td>\n",
       "      <td>34.93</td>\n",
       "    </tr>\n",
       "    <tr>\n",
       "      <th>std</th>\n",
       "      <td>3.44</td>\n",
       "      <td>35.83</td>\n",
       "      <td>0.26</td>\n",
       "      <td>11.71</td>\n",
       "    </tr>\n",
       "    <tr>\n",
       "      <th>min</th>\n",
       "      <td>1.00</td>\n",
       "      <td>2000.00</td>\n",
       "      <td>1.00</td>\n",
       "      <td>0.00</td>\n",
       "    </tr>\n",
       "    <tr>\n",
       "      <th>25%</th>\n",
       "      <td>4.00</td>\n",
       "      <td>2003.00</td>\n",
       "      <td>1.00</td>\n",
       "      <td>38.00</td>\n",
       "    </tr>\n",
       "    <tr>\n",
       "      <th>50%</th>\n",
       "      <td>7.00</td>\n",
       "      <td>2005.00</td>\n",
       "      <td>1.00</td>\n",
       "      <td>39.00</td>\n",
       "    </tr>\n",
       "    <tr>\n",
       "      <th>75%</th>\n",
       "      <td>10.00</td>\n",
       "      <td>2008.00</td>\n",
       "      <td>1.00</td>\n",
       "      <td>40.00</td>\n",
       "    </tr>\n",
       "    <tr>\n",
       "      <th>max</th>\n",
       "      <td>12.00</td>\n",
       "      <td>2010.00</td>\n",
       "      <td>2.00</td>\n",
       "      <td>46.00</td>\n",
       "    </tr>\n",
       "  </tbody>\n",
       "</table>\n",
       "</div>"
      ],
      "text/plain": [
       "             mesp        year        prem     semanas\n",
       "count  4984066.00  4984066.00  4984066.00  4706361.00\n",
       "mean         6.57     2041.50        1.07       34.93\n",
       "std          3.44       35.83        0.26       11.71\n",
       "min          1.00     2000.00        1.00        0.00\n",
       "25%          4.00     2003.00        1.00       38.00\n",
       "50%          7.00     2005.00        1.00       39.00\n",
       "75%         10.00     2008.00        1.00       40.00\n",
       "max         12.00     2010.00        2.00       46.00"
      ]
     },
     "execution_count": 3,
     "metadata": {},
     "output_type": "execute_result"
    }
   ],
   "source": [
    "pd.read_stata('data/data_births_20110196.dta').describe().round(2)"
   ]
  },
  {
   "cell_type": "markdown",
   "metadata": {},
   "source": [
    "The author creates a month of birth variable based on the month of the policy intervention in July 2007. The month of intervention is set equal to zero, the next month = 1, the previos month = -1, and so on."
   ]
  },
  {
   "cell_type": "code",
   "execution_count": 4,
   "metadata": {},
   "outputs": [
    {
     "data": {
      "text/plain": [
       "count    4984066.00\n",
       "mean         -21.56\n",
       "std           37.63\n",
       "min          -90.00\n",
       "25%          -53.00\n",
       "50%          -20.00\n",
       "75%           11.00\n",
       "max           41.00\n",
       "Name: m, dtype: float64"
      ]
     },
     "execution_count": 4,
     "metadata": {},
     "output_type": "execute_result"
    }
   ],
   "source": [
    "dfb = gen_var_m()\n",
    "dfb['m'].describe().round(2)"
   ]
  },
  {
   "cell_type": "markdown",
   "metadata": {},
   "source": [
    "For our analysis we are not interested in the month of birth but in the month of *conception*. Therefore we subtract for examaple 9 months from the month of birth to get the month of conception. LG uses information about how many weeks the woman was pregnant (variable \"semanas\")."
   ]
  },
  {
   "cell_type": "code",
   "execution_count": 5,
   "metadata": {},
   "outputs": [
    {
     "data": {
      "text/html": [
       "<div>\n",
       "<style scoped>\n",
       "    .dataframe tbody tr th:only-of-type {\n",
       "        vertical-align: middle;\n",
       "    }\n",
       "\n",
       "    .dataframe tbody tr th {\n",
       "        vertical-align: top;\n",
       "    }\n",
       "\n",
       "    .dataframe thead th {\n",
       "        text-align: right;\n",
       "    }\n",
       "</style>\n",
       "<table border=\"1\" class=\"dataframe\">\n",
       "  <thead>\n",
       "    <tr style=\"text-align: right;\">\n",
       "      <th></th>\n",
       "      <th>semanas</th>\n",
       "      <th>m</th>\n",
       "      <th>mc</th>\n",
       "    </tr>\n",
       "  </thead>\n",
       "  <tbody>\n",
       "    <tr>\n",
       "      <th>0</th>\n",
       "      <td>0.0</td>\n",
       "      <td>-88.0</td>\n",
       "      <td>-97.0</td>\n",
       "    </tr>\n",
       "    <tr>\n",
       "      <th>1</th>\n",
       "      <td>36.0</td>\n",
       "      <td>-90.0</td>\n",
       "      <td>-98.0</td>\n",
       "    </tr>\n",
       "    <tr>\n",
       "      <th>2</th>\n",
       "      <td>37.0</td>\n",
       "      <td>-88.0</td>\n",
       "      <td>-96.0</td>\n",
       "    </tr>\n",
       "    <tr>\n",
       "      <th>3</th>\n",
       "      <td>39.0</td>\n",
       "      <td>-88.0</td>\n",
       "      <td>-97.0</td>\n",
       "    </tr>\n",
       "    <tr>\n",
       "      <th>4</th>\n",
       "      <td>0.0</td>\n",
       "      <td>-79.0</td>\n",
       "      <td>-88.0</td>\n",
       "    </tr>\n",
       "  </tbody>\n",
       "</table>\n",
       "</div>"
      ],
      "text/plain": [
       "   semanas     m    mc\n",
       "0      0.0 -88.0 -97.0\n",
       "1     36.0 -90.0 -98.0\n",
       "2     37.0 -88.0 -96.0\n",
       "3     39.0 -88.0 -97.0\n",
       "4      0.0 -79.0 -88.0"
      ]
     },
     "execution_count": 5,
     "metadata": {},
     "output_type": "execute_result"
    }
   ],
   "source": [
    "dfb = gen_var_mc()\n",
    "dfb[['semanas', 'm', 'mc']].head()"
   ]
  },
  {
   "cell_type": "markdown",
   "metadata": {},
   "source": [
    "Now, I the data is grouped by mc and the number of observations per month is counted. The resulting dataframe looks the following way:"
   ]
  },
  {
   "cell_type": "code",
   "execution_count": 6,
   "metadata": {},
   "outputs": [
    {
     "data": {
      "text/html": [
       "<div>\n",
       "<style scoped>\n",
       "    .dataframe tbody tr th:only-of-type {\n",
       "        vertical-align: middle;\n",
       "    }\n",
       "\n",
       "    .dataframe tbody tr th {\n",
       "        vertical-align: top;\n",
       "    }\n",
       "\n",
       "    .dataframe thead th {\n",
       "        text-align: right;\n",
       "    }\n",
       "</style>\n",
       "<table border=\"1\" class=\"dataframe\">\n",
       "  <thead>\n",
       "    <tr style=\"text-align: right;\">\n",
       "      <th></th>\n",
       "      <th>mc</th>\n",
       "      <th>n</th>\n",
       "    </tr>\n",
       "  </thead>\n",
       "  <tbody>\n",
       "    <tr>\n",
       "      <th>0</th>\n",
       "      <td>-100.0</td>\n",
       "      <td>6</td>\n",
       "    </tr>\n",
       "    <tr>\n",
       "      <th>1</th>\n",
       "      <td>-99.0</td>\n",
       "      <td>24690</td>\n",
       "    </tr>\n",
       "    <tr>\n",
       "      <th>2</th>\n",
       "      <td>-98.0</td>\n",
       "      <td>30595</td>\n",
       "    </tr>\n",
       "    <tr>\n",
       "      <th>3</th>\n",
       "      <td>-97.0</td>\n",
       "      <td>32547</td>\n",
       "    </tr>\n",
       "    <tr>\n",
       "      <th>4</th>\n",
       "      <td>-96.0</td>\n",
       "      <td>32352</td>\n",
       "    </tr>\n",
       "  </tbody>\n",
       "</table>\n",
       "</div>"
      ],
      "text/plain": [
       "      mc      n\n",
       "0 -100.0      6\n",
       "1  -99.0  24690\n",
       "2  -98.0  30595\n",
       "3  -97.0  32547\n",
       "4  -96.0  32352"
      ]
     },
     "execution_count": 6,
     "metadata": {},
     "output_type": "execute_result"
    }
   ],
   "source": [
    "dfb = group_data()\n",
    "dfb.head()"
   ]
  },
  {
   "cell_type": "markdown",
   "metadata": {},
   "source": [
    "In the following some additional variables are generated. The author made some mistakes in generating two variables! The first one is a variable indicating the calendar month of conception (\"month\"), where she assigned the wrong calendar month to some observations. The second variable which has mistakes is a variable indicating how many days a particular month had (\"days\"). Thereby, LG did not take all leap years into account but only adjusted feburary in 2008 and missed feburary 2000 and 2004.\n",
    "\n",
    "Other variables generated are: <br>\n",
    "july = july indicator <br>\n",
    "post = indicator for treatment group (post-policy conception), i.e. after June 2007 <br>\n",
    "mc2, mc3 = quadratic and cubic mc <br>\n",
    "ln = natural log of number of conceptions per month \"n\" <br>\n",
    "month dummies <br>"
   ]
  },
  {
   "cell_type": "code",
   "execution_count": 7,
   "metadata": {},
   "outputs": [
    {
     "data": {
      "text/html": [
       "<div>\n",
       "<style scoped>\n",
       "    .dataframe tbody tr th:only-of-type {\n",
       "        vertical-align: middle;\n",
       "    }\n",
       "\n",
       "    .dataframe tbody tr th {\n",
       "        vertical-align: top;\n",
       "    }\n",
       "\n",
       "    .dataframe thead th {\n",
       "        text-align: right;\n",
       "    }\n",
       "</style>\n",
       "<table border=\"1\" class=\"dataframe\">\n",
       "  <thead>\n",
       "    <tr style=\"text-align: right;\">\n",
       "      <th></th>\n",
       "      <th>mc</th>\n",
       "      <th>n</th>\n",
       "      <th>month</th>\n",
       "      <th>july</th>\n",
       "      <th>days</th>\n",
       "      <th>post</th>\n",
       "      <th>mc2</th>\n",
       "      <th>mc3</th>\n",
       "      <th>ln</th>\n",
       "      <th>jan</th>\n",
       "      <th>...</th>\n",
       "      <th>mar</th>\n",
       "      <th>apr</th>\n",
       "      <th>mai</th>\n",
       "      <th>jun</th>\n",
       "      <th>jul</th>\n",
       "      <th>aug</th>\n",
       "      <th>sep</th>\n",
       "      <th>oct</th>\n",
       "      <th>nov</th>\n",
       "      <th>dec</th>\n",
       "    </tr>\n",
       "  </thead>\n",
       "  <tbody>\n",
       "    <tr>\n",
       "      <th>0</th>\n",
       "      <td>-100.0</td>\n",
       "      <td>6</td>\n",
       "      <td>3</td>\n",
       "      <td>0</td>\n",
       "      <td>31</td>\n",
       "      <td>0</td>\n",
       "      <td>10000.0</td>\n",
       "      <td>-1000000.0</td>\n",
       "      <td>1.791759</td>\n",
       "      <td>0</td>\n",
       "      <td>...</td>\n",
       "      <td>1</td>\n",
       "      <td>0</td>\n",
       "      <td>0</td>\n",
       "      <td>0</td>\n",
       "      <td>0</td>\n",
       "      <td>0</td>\n",
       "      <td>0</td>\n",
       "      <td>0</td>\n",
       "      <td>0</td>\n",
       "      <td>0</td>\n",
       "    </tr>\n",
       "    <tr>\n",
       "      <th>1</th>\n",
       "      <td>-99.0</td>\n",
       "      <td>24690</td>\n",
       "      <td>4</td>\n",
       "      <td>0</td>\n",
       "      <td>30</td>\n",
       "      <td>0</td>\n",
       "      <td>9801.0</td>\n",
       "      <td>-970299.0</td>\n",
       "      <td>10.114154</td>\n",
       "      <td>0</td>\n",
       "      <td>...</td>\n",
       "      <td>0</td>\n",
       "      <td>1</td>\n",
       "      <td>0</td>\n",
       "      <td>0</td>\n",
       "      <td>0</td>\n",
       "      <td>0</td>\n",
       "      <td>0</td>\n",
       "      <td>0</td>\n",
       "      <td>0</td>\n",
       "      <td>0</td>\n",
       "    </tr>\n",
       "    <tr>\n",
       "      <th>2</th>\n",
       "      <td>-98.0</td>\n",
       "      <td>30595</td>\n",
       "      <td>5</td>\n",
       "      <td>0</td>\n",
       "      <td>31</td>\n",
       "      <td>0</td>\n",
       "      <td>9604.0</td>\n",
       "      <td>-941192.0</td>\n",
       "      <td>10.328592</td>\n",
       "      <td>0</td>\n",
       "      <td>...</td>\n",
       "      <td>0</td>\n",
       "      <td>0</td>\n",
       "      <td>1</td>\n",
       "      <td>0</td>\n",
       "      <td>0</td>\n",
       "      <td>0</td>\n",
       "      <td>0</td>\n",
       "      <td>0</td>\n",
       "      <td>0</td>\n",
       "      <td>0</td>\n",
       "    </tr>\n",
       "    <tr>\n",
       "      <th>3</th>\n",
       "      <td>-97.0</td>\n",
       "      <td>32547</td>\n",
       "      <td>6</td>\n",
       "      <td>0</td>\n",
       "      <td>30</td>\n",
       "      <td>0</td>\n",
       "      <td>9409.0</td>\n",
       "      <td>-912673.0</td>\n",
       "      <td>10.390440</td>\n",
       "      <td>0</td>\n",
       "      <td>...</td>\n",
       "      <td>0</td>\n",
       "      <td>0</td>\n",
       "      <td>0</td>\n",
       "      <td>1</td>\n",
       "      <td>0</td>\n",
       "      <td>0</td>\n",
       "      <td>0</td>\n",
       "      <td>0</td>\n",
       "      <td>0</td>\n",
       "      <td>0</td>\n",
       "    </tr>\n",
       "    <tr>\n",
       "      <th>4</th>\n",
       "      <td>-96.0</td>\n",
       "      <td>32352</td>\n",
       "      <td>7</td>\n",
       "      <td>1</td>\n",
       "      <td>31</td>\n",
       "      <td>0</td>\n",
       "      <td>9216.0</td>\n",
       "      <td>-884736.0</td>\n",
       "      <td>10.384431</td>\n",
       "      <td>0</td>\n",
       "      <td>...</td>\n",
       "      <td>0</td>\n",
       "      <td>0</td>\n",
       "      <td>0</td>\n",
       "      <td>0</td>\n",
       "      <td>1</td>\n",
       "      <td>0</td>\n",
       "      <td>0</td>\n",
       "      <td>0</td>\n",
       "      <td>0</td>\n",
       "      <td>0</td>\n",
       "    </tr>\n",
       "  </tbody>\n",
       "</table>\n",
       "<p>5 rows × 21 columns</p>\n",
       "</div>"
      ],
      "text/plain": [
       "      mc      n  month  july  days  post      mc2        mc3         ln  jan  \\\n",
       "0 -100.0      6      3     0    31     0  10000.0 -1000000.0   1.791759    0   \n",
       "1  -99.0  24690      4     0    30     0   9801.0  -970299.0  10.114154    0   \n",
       "2  -98.0  30595      5     0    31     0   9604.0  -941192.0  10.328592    0   \n",
       "3  -97.0  32547      6     0    30     0   9409.0  -912673.0  10.390440    0   \n",
       "4  -96.0  32352      7     1    31     0   9216.0  -884736.0  10.384431    0   \n",
       "\n",
       "  ...   mar  apr  mai  jun  jul  aug  sep  oct  nov  dec  \n",
       "0 ...     1    0    0    0    0    0    0    0    0    0  \n",
       "1 ...     0    1    0    0    0    0    0    0    0    0  \n",
       "2 ...     0    0    1    0    0    0    0    0    0    0  \n",
       "3 ...     0    0    0    1    0    0    0    0    0    0  \n",
       "4 ...     0    0    0    0    1    0    0    0    0    0  \n",
       "\n",
       "[5 rows x 21 columns]"
      ]
     },
     "execution_count": 7,
     "metadata": {},
     "output_type": "execute_result"
    }
   ],
   "source": [
    "dfb = complete_processing_conceptions_data()\n",
    "dfb.head()"
   ]
  },
  {
   "cell_type": "markdown",
   "metadata": {},
   "source": [
    "The following is part of the paper's Table 1 - Descriptive Statistics (p.167). The numbers we calculated are the same as the numbers in the paper."
   ]
  },
  {
   "cell_type": "code",
   "execution_count": 8,
   "metadata": {},
   "outputs": [
    {
     "name": "stdout",
     "output_type": "stream",
     "text": [
      "Table 1 - Descriptive Statistics - Conceptions\n",
      "              n    post      mc\n",
      "count    120.00  120.00  120.00\n",
      "mean   38020.64    0.25  -30.50\n",
      "std     3167.55    0.43   34.79\n",
      "min    30138.00    0.00  -90.00\n",
      "25%    35775.25    0.00  -60.25\n",
      "50%    38505.00    0.00  -30.50\n",
      "75%    40305.75    0.25   -0.75\n",
      "max    44375.00    1.00   29.00\n"
     ]
    }
   ],
   "source": [
    "print('Table 1 - Descriptive Statistics - Conceptions')\n",
    "print(dfb.loc[(dfb['mc']>-91) & (dfb['mc']<30), ['n','post','mc']].describe().round(2))"
   ]
  },
  {
   "cell_type": "markdown",
   "metadata": {},
   "source": [
    "### Plotting monthly conceptions"
   ]
  },
  {
   "cell_type": "code",
   "execution_count": 9,
   "metadata": {},
   "outputs": [
    {
     "data": {
      "text/html": [
       "<div>\n",
       "<style scoped>\n",
       "    .dataframe tbody tr th:only-of-type {\n",
       "        vertical-align: middle;\n",
       "    }\n",
       "\n",
       "    .dataframe tbody tr th {\n",
       "        vertical-align: top;\n",
       "    }\n",
       "\n",
       "    .dataframe thead th {\n",
       "        text-align: right;\n",
       "    }\n",
       "</style>\n",
       "<table border=\"1\" class=\"dataframe\">\n",
       "  <thead>\n",
       "    <tr style=\"text-align: right;\">\n",
       "      <th></th>\n",
       "      <th>year</th>\n",
       "      <th>month</th>\n",
       "      <th>n</th>\n",
       "    </tr>\n",
       "  </thead>\n",
       "  <tbody>\n",
       "    <tr>\n",
       "      <th>0</th>\n",
       "      <td>1999.0</td>\n",
       "      <td>3</td>\n",
       "      <td>6</td>\n",
       "    </tr>\n",
       "    <tr>\n",
       "      <th>1</th>\n",
       "      <td>1999.0</td>\n",
       "      <td>4</td>\n",
       "      <td>24690</td>\n",
       "    </tr>\n",
       "    <tr>\n",
       "      <th>2</th>\n",
       "      <td>1999.0</td>\n",
       "      <td>5</td>\n",
       "      <td>30595</td>\n",
       "    </tr>\n",
       "    <tr>\n",
       "      <th>3</th>\n",
       "      <td>1999.0</td>\n",
       "      <td>6</td>\n",
       "      <td>32547</td>\n",
       "    </tr>\n",
       "    <tr>\n",
       "      <th>4</th>\n",
       "      <td>1999.0</td>\n",
       "      <td>7</td>\n",
       "      <td>32352</td>\n",
       "    </tr>\n",
       "  </tbody>\n",
       "</table>\n",
       "</div>"
      ],
      "text/plain": [
       "     year  month      n\n",
       "0  1999.0      3      6\n",
       "1  1999.0      4  24690\n",
       "2  1999.0      5  30595\n",
       "3  1999.0      6  32547\n",
       "4  1999.0      7  32352"
      ]
     },
     "execution_count": 9,
     "metadata": {},
     "output_type": "execute_result"
    }
   ],
   "source": [
    "# generating year variable\n",
    "\n",
    "dfb['year'] = np.nan\n",
    "\n",
    "x = 0\n",
    "while x < 12:\n",
    "    dfb.loc[dfb['mc'] < 42 -(x*12), 'year'] = (2010 - x)\n",
    "    x += 1\n",
    "\n",
    "dfb.sort_values(by=['mc'], inplace=True)\n",
    "dfb[['year','month','n']].head()"
   ]
  },
  {
   "cell_type": "code",
   "execution_count": 10,
   "metadata": {},
   "outputs": [
    {
     "data": {
      "text/plain": [
       "<matplotlib.axes._subplots.AxesSubplot at 0x1f5d8446c50>"
      ]
     },
     "execution_count": 10,
     "metadata": {},
     "output_type": "execute_result"
    },
    {
     "data": {
      "image/png": "[encoded data removed]",
      "text/plain": [
       "<Figure size 432x288 with 1 Axes>"
      ]
     },
     "metadata": {
      "needs_background": "light"
     },
     "output_type": "display_data"
    }
   ],
   "source": [
    "dfb.plot(x='month',y='n',kind=\"scatter\")"
   ]
  },
  {
   "cell_type": "code",
   "execution_count": 11,
   "metadata": {},
   "outputs": [
    {
     "data": {
      "text/html": [
       "<div>\n",
       "<style scoped>\n",
       "    .dataframe tbody tr th:only-of-type {\n",
       "        vertical-align: middle;\n",
       "    }\n",
       "\n",
       "    .dataframe tbody tr th {\n",
       "        vertical-align: top;\n",
       "    }\n",
       "\n",
       "    .dataframe thead th {\n",
       "        text-align: right;\n",
       "    }\n",
       "</style>\n",
       "<table border=\"1\" class=\"dataframe\">\n",
       "  <thead>\n",
       "    <tr style=\"text-align: right;\">\n",
       "      <th></th>\n",
       "      <th>year</th>\n",
       "      <th>month</th>\n",
       "      <th>mc</th>\n",
       "      <th>n</th>\n",
       "    </tr>\n",
       "  </thead>\n",
       "  <tbody>\n",
       "    <tr>\n",
       "      <th>0</th>\n",
       "      <td>1999.0</td>\n",
       "      <td>3</td>\n",
       "      <td>-100.0</td>\n",
       "      <td>6</td>\n",
       "    </tr>\n",
       "    <tr>\n",
       "      <th>1</th>\n",
       "      <td>1999.0</td>\n",
       "      <td>4</td>\n",
       "      <td>-99.0</td>\n",
       "      <td>24690</td>\n",
       "    </tr>\n",
       "    <tr>\n",
       "      <th>133</th>\n",
       "      <td>2010.0</td>\n",
       "      <td>4</td>\n",
       "      <td>33.0</td>\n",
       "      <td>11322</td>\n",
       "    </tr>\n",
       "  </tbody>\n",
       "</table>\n",
       "</div>"
      ],
      "text/plain": [
       "       year  month     mc      n\n",
       "0    1999.0      3 -100.0      6\n",
       "1    1999.0      4  -99.0  24690\n",
       "133  2010.0      4   33.0  11322"
      ]
     },
     "execution_count": 11,
     "metadata": {},
     "output_type": "execute_result"
    }
   ],
   "source": [
    "# 3 outliers:\n",
    "dfb.loc[dfb['n']<28000,['year','month','mc','n']]"
   ]
  },
  {
   "cell_type": "markdown",
   "metadata": {},
   "source": [
    "Think about outliers again...."
   ]
  },
  {
   "cell_type": "code",
   "execution_count": 12,
   "metadata": {},
   "outputs": [
    {
     "data": {
      "text/html": [
       "<div>\n",
       "<style scoped>\n",
       "    .dataframe tbody tr th:only-of-type {\n",
       "        vertical-align: middle;\n",
       "    }\n",
       "\n",
       "    .dataframe tbody tr th {\n",
       "        vertical-align: top;\n",
       "    }\n",
       "\n",
       "    .dataframe thead th {\n",
       "        text-align: right;\n",
       "    }\n",
       "</style>\n",
       "<table border=\"1\" class=\"dataframe\">\n",
       "  <thead>\n",
       "    <tr style=\"text-align: right;\">\n",
       "      <th></th>\n",
       "      <th>month</th>\n",
       "      <th>mean</th>\n",
       "    </tr>\n",
       "  </thead>\n",
       "  <tbody>\n",
       "    <tr>\n",
       "      <th>0</th>\n",
       "      <td>1</td>\n",
       "      <td>39091.7</td>\n",
       "    </tr>\n",
       "    <tr>\n",
       "      <th>1</th>\n",
       "      <td>2</td>\n",
       "      <td>37724.9</td>\n",
       "    </tr>\n",
       "    <tr>\n",
       "      <th>2</th>\n",
       "      <td>3</td>\n",
       "      <td>37263.4</td>\n",
       "    </tr>\n",
       "    <tr>\n",
       "      <th>3</th>\n",
       "      <td>4</td>\n",
       "      <td>38290.8</td>\n",
       "    </tr>\n",
       "    <tr>\n",
       "      <th>4</th>\n",
       "      <td>5</td>\n",
       "      <td>35146.9</td>\n",
       "    </tr>\n",
       "    <tr>\n",
       "      <th>5</th>\n",
       "      <td>6</td>\n",
       "      <td>37447.8</td>\n",
       "    </tr>\n",
       "    <tr>\n",
       "      <th>6</th>\n",
       "      <td>7</td>\n",
       "      <td>37429.5</td>\n",
       "    </tr>\n",
       "    <tr>\n",
       "      <th>7</th>\n",
       "      <td>8</td>\n",
       "      <td>39047.9</td>\n",
       "    </tr>\n",
       "    <tr>\n",
       "      <th>8</th>\n",
       "      <td>9</td>\n",
       "      <td>37088.8</td>\n",
       "    </tr>\n",
       "    <tr>\n",
       "      <th>9</th>\n",
       "      <td>10</td>\n",
       "      <td>38873.9</td>\n",
       "    </tr>\n",
       "    <tr>\n",
       "      <th>10</th>\n",
       "      <td>11</td>\n",
       "      <td>39025.7</td>\n",
       "    </tr>\n",
       "    <tr>\n",
       "      <th>11</th>\n",
       "      <td>12</td>\n",
       "      <td>39816.4</td>\n",
       "    </tr>\n",
       "  </tbody>\n",
       "</table>\n",
       "</div>"
      ],
      "text/plain": [
       "    month     mean\n",
       "0       1  39091.7\n",
       "1       2  37724.9\n",
       "2       3  37263.4\n",
       "3       4  38290.8\n",
       "4       5  35146.9\n",
       "5       6  37447.8\n",
       "6       7  37429.5\n",
       "7       8  39047.9\n",
       "8       9  37088.8\n",
       "9      10  38873.9\n",
       "10     11  39025.7\n",
       "11     12  39816.4"
      ]
     },
     "execution_count": 12,
     "metadata": {},
     "output_type": "execute_result"
    }
   ],
   "source": [
    "# collecting mean values per month\n",
    "\n",
    "month = {'month':[1, 2, 3, 4, 5, 6, 7, 8, 9, 10, 11, 12]}\n",
    "df_mean = pd.DataFrame(data=month)\n",
    "\n",
    "df_mean['mean'] = np.nan\n",
    "\n",
    "x=1\n",
    "while x < 13:\n",
    "    df_mean.loc[df_mean['month'] == x, 'mean'] = dfb.loc[(dfb['month']==x) & (dfb['year']>=2000) & \\\n",
    "                                                         (dfb['year']<=2009),'n'].mean()\n",
    "    x += 1\n",
    "\n",
    "df_mean"
   ]
  },
  {
   "cell_type": "code",
   "execution_count": 13,
   "metadata": {
    "scrolled": false
   },
   "outputs": [
    {
     "data": {
      "image/png": "[encoded data removed]",
      "text/plain": [
       "<Figure size 432x288 with 1 Axes>"
      ]
     },
     "metadata": {
      "needs_background": "light"
     },
     "output_type": "display_data"
    }
   ],
   "source": [
    "# Plotting scatter with mean\n",
    "\n",
    "ax=dfb.plot(x='month',y='n',kind=\"scatter\",ylim=(25000,50000))\n",
    "ax1=df_mean.plot(x='month',y='mean',kind=\"line\", color=\"r\", ax=ax)\n",
    "df_mean.plot(x='month',y='mean',kind=\"scatter\", color=\"r\", ax=ax1)\n",
    "plt.axvline(x=6.5, color=\"m\")\n",
    "plt.show()"
   ]
  },
  {
   "cell_type": "code",
   "execution_count": 14,
   "metadata": {},
   "outputs": [
    {
     "data": {
      "image/png": "[encoded data removed]",
      "text/plain": [
       "<Figure size 504x360 with 1 Axes>"
      ]
     },
     "metadata": {
      "needs_background": "light"
     },
     "output_type": "display_data"
    }
   ],
   "source": [
    "# Plotting years\n",
    "\n",
    "fig, ax = plt.subplots()\n",
    "\n",
    "\n",
    "x=0\n",
    "while x<10 :\n",
    "    y=x/14\n",
    "    dfb.loc[dfb['year']==2000+x].plot(x='month',y='n',linestyle='-',linewidth=0.5, marker='.',ylim=(30000,45000), \\\n",
    "                                      ax=ax, label=2000+x, legend=None, color=str(y), figsize=(7,5))\n",
    "    x+=1\n",
    "\n",
    "df_mean.plot(x='month',y='mean',linestyle='-',linewidth=1, marker='o', color=\"r\", ax=ax)\n",
    "fig.legend(loc=7)\n",
    "plt.axvline(x=6.5, color=\"black\")\n",
    "fig.subplots_adjust(right=0.82)\n",
    "plt.xticks(np.arange(1,13, step=1))\n",
    "plt.yticks(np.arange(30000,45000, step=2000))\n",
    "plt.show()"
   ]
  },
  {
   "cell_type": "markdown",
   "metadata": {},
   "source": [
    "Clearly, there is a seasonal pattern, e.g. a drop in May and Spetember as well as a peak in August. Note, that this seasonal pattern in the number of conceptions also partly reflects differences in the number of days per month."
   ]
  },
  {
   "cell_type": "markdown",
   "metadata": {},
   "source": [
    "Include also years 2007 and 2008-2010? Or Print 2007 in different color? Also, be aware, how mean is calculated..."
   ]
  },
  {
   "cell_type": "code",
   "execution_count": 15,
   "metadata": {
    "scrolled": true
   },
   "outputs": [
    {
     "data": {
      "text/html": [
       "<div>\n",
       "<style scoped>\n",
       "    .dataframe tbody tr th:only-of-type {\n",
       "        vertical-align: middle;\n",
       "    }\n",
       "\n",
       "    .dataframe tbody tr th {\n",
       "        vertical-align: top;\n",
       "    }\n",
       "\n",
       "    .dataframe thead th {\n",
       "        text-align: right;\n",
       "    }\n",
       "</style>\n",
       "<table border=\"1\" class=\"dataframe\">\n",
       "  <thead>\n",
       "    <tr style=\"text-align: right;\">\n",
       "      <th></th>\n",
       "      <th>mc</th>\n",
       "      <th>n</th>\n",
       "      <th>month</th>\n",
       "      <th>july</th>\n",
       "      <th>days</th>\n",
       "      <th>post</th>\n",
       "      <th>mc2</th>\n",
       "      <th>mc3</th>\n",
       "      <th>ln</th>\n",
       "      <th>jan</th>\n",
       "      <th>...</th>\n",
       "      <th>apr</th>\n",
       "      <th>mai</th>\n",
       "      <th>jun</th>\n",
       "      <th>jul</th>\n",
       "      <th>aug</th>\n",
       "      <th>sep</th>\n",
       "      <th>oct</th>\n",
       "      <th>nov</th>\n",
       "      <th>dec</th>\n",
       "      <th>year</th>\n",
       "    </tr>\n",
       "  </thead>\n",
       "  <tbody>\n",
       "    <tr>\n",
       "      <th>0</th>\n",
       "      <td>-100.0</td>\n",
       "      <td>6</td>\n",
       "      <td>3</td>\n",
       "      <td>0</td>\n",
       "      <td>31</td>\n",
       "      <td>0</td>\n",
       "      <td>10000.0</td>\n",
       "      <td>-1000000.0</td>\n",
       "      <td>1.791759</td>\n",
       "      <td>0</td>\n",
       "      <td>...</td>\n",
       "      <td>0</td>\n",
       "      <td>0</td>\n",
       "      <td>0</td>\n",
       "      <td>0</td>\n",
       "      <td>0</td>\n",
       "      <td>0</td>\n",
       "      <td>0</td>\n",
       "      <td>0</td>\n",
       "      <td>0</td>\n",
       "      <td>1999.0</td>\n",
       "    </tr>\n",
       "    <tr>\n",
       "      <th>1</th>\n",
       "      <td>-99.0</td>\n",
       "      <td>24690</td>\n",
       "      <td>4</td>\n",
       "      <td>0</td>\n",
       "      <td>30</td>\n",
       "      <td>0</td>\n",
       "      <td>9801.0</td>\n",
       "      <td>-970299.0</td>\n",
       "      <td>10.114154</td>\n",
       "      <td>0</td>\n",
       "      <td>...</td>\n",
       "      <td>1</td>\n",
       "      <td>0</td>\n",
       "      <td>0</td>\n",
       "      <td>0</td>\n",
       "      <td>0</td>\n",
       "      <td>0</td>\n",
       "      <td>0</td>\n",
       "      <td>0</td>\n",
       "      <td>0</td>\n",
       "      <td>1999.0</td>\n",
       "    </tr>\n",
       "    <tr>\n",
       "      <th>2</th>\n",
       "      <td>-98.0</td>\n",
       "      <td>30595</td>\n",
       "      <td>5</td>\n",
       "      <td>0</td>\n",
       "      <td>31</td>\n",
       "      <td>0</td>\n",
       "      <td>9604.0</td>\n",
       "      <td>-941192.0</td>\n",
       "      <td>10.328592</td>\n",
       "      <td>0</td>\n",
       "      <td>...</td>\n",
       "      <td>0</td>\n",
       "      <td>1</td>\n",
       "      <td>0</td>\n",
       "      <td>0</td>\n",
       "      <td>0</td>\n",
       "      <td>0</td>\n",
       "      <td>0</td>\n",
       "      <td>0</td>\n",
       "      <td>0</td>\n",
       "      <td>1999.0</td>\n",
       "    </tr>\n",
       "    <tr>\n",
       "      <th>3</th>\n",
       "      <td>-97.0</td>\n",
       "      <td>32547</td>\n",
       "      <td>6</td>\n",
       "      <td>0</td>\n",
       "      <td>30</td>\n",
       "      <td>0</td>\n",
       "      <td>9409.0</td>\n",
       "      <td>-912673.0</td>\n",
       "      <td>10.390440</td>\n",
       "      <td>0</td>\n",
       "      <td>...</td>\n",
       "      <td>0</td>\n",
       "      <td>0</td>\n",
       "      <td>1</td>\n",
       "      <td>0</td>\n",
       "      <td>0</td>\n",
       "      <td>0</td>\n",
       "      <td>0</td>\n",
       "      <td>0</td>\n",
       "      <td>0</td>\n",
       "      <td>1999.0</td>\n",
       "    </tr>\n",
       "    <tr>\n",
       "      <th>4</th>\n",
       "      <td>-96.0</td>\n",
       "      <td>32352</td>\n",
       "      <td>7</td>\n",
       "      <td>1</td>\n",
       "      <td>31</td>\n",
       "      <td>0</td>\n",
       "      <td>9216.0</td>\n",
       "      <td>-884736.0</td>\n",
       "      <td>10.384431</td>\n",
       "      <td>0</td>\n",
       "      <td>...</td>\n",
       "      <td>0</td>\n",
       "      <td>0</td>\n",
       "      <td>0</td>\n",
       "      <td>1</td>\n",
       "      <td>0</td>\n",
       "      <td>0</td>\n",
       "      <td>0</td>\n",
       "      <td>0</td>\n",
       "      <td>0</td>\n",
       "      <td>1999.0</td>\n",
       "    </tr>\n",
       "  </tbody>\n",
       "</table>\n",
       "<p>5 rows × 22 columns</p>\n",
       "</div>"
      ],
      "text/plain": [
       "      mc      n  month  july  days  post      mc2        mc3         ln  jan  \\\n",
       "0 -100.0      6      3     0    31     0  10000.0 -1000000.0   1.791759    0   \n",
       "1  -99.0  24690      4     0    30     0   9801.0  -970299.0  10.114154    0   \n",
       "2  -98.0  30595      5     0    31     0   9604.0  -941192.0  10.328592    0   \n",
       "3  -97.0  32547      6     0    30     0   9409.0  -912673.0  10.390440    0   \n",
       "4  -96.0  32352      7     1    31     0   9216.0  -884736.0  10.384431    0   \n",
       "\n",
       "    ...    apr  mai  jun  jul  aug  sep  oct  nov  dec    year  \n",
       "0   ...      0    0    0    0    0    0    0    0    0  1999.0  \n",
       "1   ...      1    0    0    0    0    0    0    0    0  1999.0  \n",
       "2   ...      0    1    0    0    0    0    0    0    0  1999.0  \n",
       "3   ...      0    0    1    0    0    0    0    0    0  1999.0  \n",
       "4   ...      0    0    0    1    0    0    0    0    0  1999.0  \n",
       "\n",
       "[5 rows x 22 columns]"
      ]
     },
     "execution_count": 15,
     "metadata": {},
     "output_type": "execute_result"
    }
   ],
   "source": [
    "dfb.head()"
   ]
  },
  {
   "cell_type": "code",
   "execution_count": 16,
   "metadata": {},
   "outputs": [
    {
     "data": {
      "text/plain": [
       "<matplotlib.lines.Line2D at 0x1f580184ac8>"
      ]
     },
     "execution_count": 16,
     "metadata": {},
     "output_type": "execute_result"
    },
    {
     "data": {
      "image/png": "[encoded data removed]",
      "text/plain": [
       "<Figure size 936x360 with 1 Axes>"
      ]
     },
     "metadata": {
      "needs_background": "light"
     },
     "output_type": "display_data"
    }
   ],
   "source": [
    "dfb.loc[(dfb['year']>=2000)&(dfb['year']<=2009)].plot(x='mc',y='n',linestyle='-',linewidth=0.5, marker='.',\\\n",
    "                                                      figsize=(13,5), label=\"monthly conceptions\")\n",
    "plt.axvline(x=0, color=\"black\", linewidth=0.5)"
   ]
  },
  {
   "cell_type": "code",
   "execution_count": 17,
   "metadata": {
    "scrolled": true
   },
   "outputs": [
    {
     "data": {
      "image/png": "[encoded data removed]",
      "text/plain": [
       "<Figure size 432x288 with 1 Axes>"
      ]
     },
     "metadata": {
      "needs_background": "light"
     },
     "output_type": "display_data"
    }
   ],
   "source": [
    "# Plotting 2007 vs. mean \n",
    "\n",
    "ax1=dfb.loc[dfb['year']==2007,['month','n']].plot(x='month',y='n',kind=\"scatter\",ylim=(25000,50000))\n",
    "df_mean.plot(x='month',y='mean',kind=\"line\", color=\"r\", ax=ax1)\n",
    "plt.axvline(x=6.5, color=\"m\")\n",
    "plt.show()"
   ]
  },
  {
   "cell_type": "markdown",
   "metadata": {},
   "source": [
    "#### Abortions:"
   ]
  },
  {
   "cell_type": "markdown",
   "metadata": {},
   "source": [
    "Now, processing the second data set containing information about abortions.\n",
    "\n",
    "First, the raw data:"
   ]
  },
  {
   "cell_type": "code",
   "execution_count": 18,
   "metadata": {
    "scrolled": true
   },
   "outputs": [
    {
     "data": {
      "text/html": [
       "<div>\n",
       "<style scoped>\n",
       "    .dataframe tbody tr th:only-of-type {\n",
       "        vertical-align: middle;\n",
       "    }\n",
       "\n",
       "    .dataframe tbody tr th {\n",
       "        vertical-align: top;\n",
       "    }\n",
       "\n",
       "    .dataframe thead th {\n",
       "        text-align: right;\n",
       "    }\n",
       "</style>\n",
       "<table border=\"1\" class=\"dataframe\">\n",
       "  <thead>\n",
       "    <tr style=\"text-align: right;\">\n",
       "      <th></th>\n",
       "      <th>year</th>\n",
       "      <th>month</th>\n",
       "      <th>n_ive_and</th>\n",
       "      <th>n_ive_val</th>\n",
       "      <th>n_ive_rioja</th>\n",
       "      <th>n_ive_cat</th>\n",
       "      <th>n_ive_can</th>\n",
       "      <th>n_ive_mad</th>\n",
       "      <th>n_ive_gal</th>\n",
       "      <th>n_ive_bal</th>\n",
       "      <th>n_ive_pv</th>\n",
       "      <th>n_ive_castlm</th>\n",
       "      <th>n_ive_ast</th>\n",
       "      <th>n_ive_arag</th>\n",
       "    </tr>\n",
       "  </thead>\n",
       "  <tbody>\n",
       "    <tr>\n",
       "      <th>count</th>\n",
       "      <td>144.00</td>\n",
       "      <td>144.00</td>\n",
       "      <td>132.00</td>\n",
       "      <td>132.00</td>\n",
       "      <td>120.00</td>\n",
       "      <td>120.00</td>\n",
       "      <td>144.00</td>\n",
       "      <td>120.00</td>\n",
       "      <td>120.00</td>\n",
       "      <td>120.00</td>\n",
       "      <td>120.00</td>\n",
       "      <td>132.00</td>\n",
       "      <td>132.00</td>\n",
       "      <td>132.00</td>\n",
       "    </tr>\n",
       "    <tr>\n",
       "      <th>mean</th>\n",
       "      <td>2004.50</td>\n",
       "      <td>6.50</td>\n",
       "      <td>1304.08</td>\n",
       "      <td>769.14</td>\n",
       "      <td>40.45</td>\n",
       "      <td>1520.87</td>\n",
       "      <td>303.17</td>\n",
       "      <td>1415.85</td>\n",
       "      <td>215.08</td>\n",
       "      <td>212.16</td>\n",
       "      <td>190.10</td>\n",
       "      <td>251.08</td>\n",
       "      <td>177.80</td>\n",
       "      <td>286.87</td>\n",
       "    </tr>\n",
       "    <tr>\n",
       "      <th>std</th>\n",
       "      <td>3.46</td>\n",
       "      <td>3.46</td>\n",
       "      <td>350.94</td>\n",
       "      <td>173.65</td>\n",
       "      <td>9.08</td>\n",
       "      <td>372.71</td>\n",
       "      <td>84.05</td>\n",
       "      <td>326.50</td>\n",
       "      <td>29.13</td>\n",
       "      <td>33.21</td>\n",
       "      <td>48.82</td>\n",
       "      <td>23.85</td>\n",
       "      <td>25.58</td>\n",
       "      <td>44.14</td>\n",
       "    </tr>\n",
       "    <tr>\n",
       "      <th>min</th>\n",
       "      <td>1999.00</td>\n",
       "      <td>1.00</td>\n",
       "      <td>694.00</td>\n",
       "      <td>430.00</td>\n",
       "      <td>21.00</td>\n",
       "      <td>957.00</td>\n",
       "      <td>161.00</td>\n",
       "      <td>820.00</td>\n",
       "      <td>159.00</td>\n",
       "      <td>146.00</td>\n",
       "      <td>105.00</td>\n",
       "      <td>198.00</td>\n",
       "      <td>117.00</td>\n",
       "      <td>175.00</td>\n",
       "    </tr>\n",
       "    <tr>\n",
       "      <th>25%</th>\n",
       "      <td>2001.75</td>\n",
       "      <td>3.75</td>\n",
       "      <td>1006.50</td>\n",
       "      <td>634.75</td>\n",
       "      <td>34.00</td>\n",
       "      <td>1207.50</td>\n",
       "      <td>236.00</td>\n",
       "      <td>1192.00</td>\n",
       "      <td>196.00</td>\n",
       "      <td>189.00</td>\n",
       "      <td>147.00</td>\n",
       "      <td>234.75</td>\n",
       "      <td>158.00</td>\n",
       "      <td>265.75</td>\n",
       "    </tr>\n",
       "    <tr>\n",
       "      <th>50%</th>\n",
       "      <td>2004.50</td>\n",
       "      <td>6.50</td>\n",
       "      <td>1313.50</td>\n",
       "      <td>772.00</td>\n",
       "      <td>40.00</td>\n",
       "      <td>1411.00</td>\n",
       "      <td>269.50</td>\n",
       "      <td>1383.00</td>\n",
       "      <td>211.50</td>\n",
       "      <td>211.00</td>\n",
       "      <td>184.50</td>\n",
       "      <td>252.00</td>\n",
       "      <td>178.00</td>\n",
       "      <td>287.00</td>\n",
       "    </tr>\n",
       "    <tr>\n",
       "      <th>75%</th>\n",
       "      <td>2007.25</td>\n",
       "      <td>9.25</td>\n",
       "      <td>1580.50</td>\n",
       "      <td>898.25</td>\n",
       "      <td>46.25</td>\n",
       "      <td>1801.00</td>\n",
       "      <td>374.25</td>\n",
       "      <td>1647.50</td>\n",
       "      <td>228.00</td>\n",
       "      <td>235.25</td>\n",
       "      <td>236.25</td>\n",
       "      <td>264.25</td>\n",
       "      <td>196.00</td>\n",
       "      <td>317.00</td>\n",
       "    </tr>\n",
       "    <tr>\n",
       "      <th>max</th>\n",
       "      <td>2010.00</td>\n",
       "      <td>12.00</td>\n",
       "      <td>2021.00</td>\n",
       "      <td>1144.00</td>\n",
       "      <td>67.00</td>\n",
       "      <td>2442.00</td>\n",
       "      <td>483.00</td>\n",
       "      <td>2113.00</td>\n",
       "      <td>341.00</td>\n",
       "      <td>295.00</td>\n",
       "      <td>283.00</td>\n",
       "      <td>315.00</td>\n",
       "      <td>241.00</td>\n",
       "      <td>398.00</td>\n",
       "    </tr>\n",
       "  </tbody>\n",
       "</table>\n",
       "</div>"
      ],
      "text/plain": [
       "          year   month  n_ive_and  n_ive_val  n_ive_rioja  n_ive_cat  \\\n",
       "count   144.00  144.00     132.00     132.00       120.00     120.00   \n",
       "mean   2004.50    6.50    1304.08     769.14        40.45    1520.87   \n",
       "std       3.46    3.46     350.94     173.65         9.08     372.71   \n",
       "min    1999.00    1.00     694.00     430.00        21.00     957.00   \n",
       "25%    2001.75    3.75    1006.50     634.75        34.00    1207.50   \n",
       "50%    2004.50    6.50    1313.50     772.00        40.00    1411.00   \n",
       "75%    2007.25    9.25    1580.50     898.25        46.25    1801.00   \n",
       "max    2010.00   12.00    2021.00    1144.00        67.00    2442.00   \n",
       "\n",
       "       n_ive_can  n_ive_mad  n_ive_gal  n_ive_bal  n_ive_pv  n_ive_castlm  \\\n",
       "count     144.00     120.00     120.00     120.00    120.00        132.00   \n",
       "mean      303.17    1415.85     215.08     212.16    190.10        251.08   \n",
       "std        84.05     326.50      29.13      33.21     48.82         23.85   \n",
       "min       161.00     820.00     159.00     146.00    105.00        198.00   \n",
       "25%       236.00    1192.00     196.00     189.00    147.00        234.75   \n",
       "50%       269.50    1383.00     211.50     211.00    184.50        252.00   \n",
       "75%       374.25    1647.50     228.00     235.25    236.25        264.25   \n",
       "max       483.00    2113.00     341.00     295.00    283.00        315.00   \n",
       "\n",
       "       n_ive_ast  n_ive_arag  \n",
       "count     132.00      132.00  \n",
       "mean      177.80      286.87  \n",
       "std        25.58       44.14  \n",
       "min       117.00      175.00  \n",
       "25%       158.00      265.75  \n",
       "50%       178.00      287.00  \n",
       "75%       196.00      317.00  \n",
       "max       241.00      398.00  "
      ]
     },
     "execution_count": 18,
     "metadata": {},
     "output_type": "execute_result"
    }
   ],
   "source": [
    "pd.read_stata('data/data_abortions_20110196.dta').describe().round(2)"
   ]
  },
  {
   "cell_type": "markdown",
   "metadata": {},
   "source": [
    "The variables starting with \"n_ive_\" are the number of abortions per month in different regions of Spain. For some regions we have observations for 1999-2009 and for others from 2000-2010.\n",
    "\n",
    "The manipulations are comparable to those for the births data set and can be found in the auxiliary-file."
   ]
  },
  {
   "cell_type": "markdown",
   "metadata": {},
   "source": [
    "The following is part of the paper's Table 1 - Descriptive Statitics"
   ]
  },
  {
   "cell_type": "code",
   "execution_count": 19,
   "metadata": {
    "scrolled": true
   },
   "outputs": [
    {
     "name": "stdout",
     "output_type": "stream",
     "text": [
      "Table 2 - Descriptive Statistics - Abortions\n",
      "         n_tot    post       m\n",
      "count   120.00  120.00  120.00\n",
      "mean   6724.62    0.25  -30.50\n",
      "std    1348.07    0.43   34.79\n",
      "min    4512.00    0.00  -90.00\n",
      "25%    5624.00    0.00  -60.25\n",
      "50%    6535.50    0.00  -30.50\n",
      "75%    7710.75    0.25   -0.75\n",
      "max    9553.00    1.00   29.00\n"
     ]
    }
   ],
   "source": [
    "dfa = process_abortions_data()\n",
    "print('Table 2 - Descriptive Statistics - Abortions')\n",
    "print(dfa[['n_tot','post','m']].describe().round(2))"
   ]
  },
  {
   "cell_type": "markdown",
   "metadata": {},
   "source": [
    "<a id='regression'></a>\n",
    "### 4.1) Regression Results and Visualization\n",
    "The specifications, the author uses, differ with respect to the number of months included in the dataset and with respect to the order of the month-polynomial."
   ]
  },
  {
   "cell_type": "markdown",
   "metadata": {},
   "source": [
    "The following tabale corresponds to Table 2 - Fertility Results (Conceptions and Abortions) (p. 170)"
   ]
  },
  {
   "cell_type": "code",
   "execution_count": 20,
   "metadata": {
    "scrolled": false
   },
   "outputs": [
    {
     "name": "stdout",
     "output_type": "stream",
     "text": [
      "Table 3 - Fertility Results (Conceptions and Abortions)\n",
      "——————————————————————————————————————————————————————————————————————————————————————————————————————————————\n",
      "                 RDD (1)     RDD (2)     RDD (3)     RDD (4)     RDD (5)     DID (6)     DID (7)     DID (8)\n",
      "                10 years     5 years   12 months    9 months    3 months    10 years     7 years     5 years\n",
      "——————————————————————————————————————————————————————————————————————————————————————————————————————————————\n",
      "Conceptions       0.0531      0.0695      0.0852      0.0750      0.0503      0.0495      0.0539      0.0527                                                                                                              \n",
      "            \u001b[34m      0.0219\u001b[0m\u001b[34m      0.0250\u001b[0m\u001b[34m      0.0359\u001b[0m\u001b[34m      0.0285\u001b[0m\u001b[34m      0.0314\u001b[0m\u001b[34m      0.0103\u001b[0m\u001b[34m      0.0088\u001b[0m\u001b[34m      0.0136\u001b[0m                                                                                                              \n",
      "            \u001b[31m      0.0156\u001b[0m\u001b[31m      0.0055\u001b[0m\u001b[31m      0.0177\u001b[0m\u001b[31m      0.0085\u001b[0m\u001b[31m      0.1085\u001b[0m\u001b[31m      0.0000\u001b[0m\u001b[31m      0.0000\u001b[0m\u001b[31m      0.0001\u001b[0m                                                                                                              \n",
      "                                                                                                              \n",
      "Abortions        -0.1248     -0.1730     -0.2187     -0.2165     -0.1304     -0.0751     -0.0610     -0.0649                                                                                                              \n",
      "            \u001b[34m      0.0427\u001b[0m\u001b[34m      0.0504\u001b[0m\u001b[34m      0.0781\u001b[0m\u001b[34m      0.0613\u001b[0m\u001b[34m      0.0310\u001b[0m\u001b[34m      0.0268\u001b[0m\u001b[34m      0.0254\u001b[0m\u001b[34m      0.0366\u001b[0m                                                                                                              \n",
      "            \u001b[31m      0.0035\u001b[0m\u001b[31m      0.0006\u001b[0m\u001b[31m      0.0051\u001b[0m\u001b[31m      0.0004\u001b[0m\u001b[31m      0.0000\u001b[0m\u001b[31m      0.0050\u001b[0m\u001b[31m      0.0162\u001b[0m\u001b[31m      0.0758\u001b[0m                                                                                                              \n",
      "——————————————————————————————————————————————————————————————————————————————————————————————————————————————\n",
      "Notes: The dependent variables are the natural logarithm of the monthly number of conceptions and abortions,\n",
      "respectively. For each of them, the coefficient, standard error, and p-value of the binary treatment indicator\n",
      "variable is reported.\n",
      "- coefficient estimates\n",
      "\u001b[34m- standard errors\u001b[0m\n",
      "\u001b[31m- p-values\u001b[0m\n"
     ]
    }
   ],
   "source": [
    "reg_list_b = reg_conception(dfb)\n",
    "reg_list_a = reg_abortion(dfa)\n",
    "table_reg_output(reg_list_b, reg_list_a)"
   ]
  },
  {
   "cell_type": "markdown",
   "metadata": {},
   "source": [
    "For conceptions: We can observe small differences with respect to the 7 and 10 years specifications because because we take into account all leap years during those time periods while the author took only 2008 into account.\n",
    "\n",
    "For abortions: LG accounted for all three leap years as well and, therefore, our results are identical to those in the paper."
   ]
  },
  {
   "cell_type": "markdown",
   "metadata": {},
   "source": [
    "#### Visualization of Regression Results\n",
    "The following two plots show the data and the fitted regression line from the specification RDD(2). The range of mc is chosen according to Figure 1. Fertility Effect: Conceptions and Abortions by Month on page 171 of the article."
   ]
  },
  {
   "cell_type": "code",
   "execution_count": 21,
   "metadata": {},
   "outputs": [
    {
     "data": {
      "image/png": "[encoded data removed]",
      "text/plain": [
       "<Figure size 432x288 with 1 Axes>"
      ]
     },
     "metadata": {
      "needs_background": "light"
     },
     "output_type": "display_data"
    }
   ],
   "source": [
    "RDD_plot_conceptions(dfb, reg_list_b[1])"
   ]
  },
  {
   "cell_type": "markdown",
   "metadata": {},
   "source": [
    "Visually, there might be an increase shortly after the inroduction of the policy. Especially if we compare the july-observations (shown in red). On the other hand, it could as well look like a continuation of the increasing time trend."
   ]
  },
  {
   "cell_type": "code",
   "execution_count": 22,
   "metadata": {},
   "outputs": [
    {
     "data": {
      "image/png": "[encoded data removed]",
      "text/plain": [
       "<Figure size 432x288 with 1 Axes>"
      ]
     },
     "metadata": {
      "needs_background": "light"
     },
     "output_type": "display_data"
    }
   ],
   "source": [
    "RDD_plot_abortions(dfa, reg_list_a[1])"
   ]
  },
  {
   "cell_type": "markdown",
   "metadata": {},
   "source": [
    "#### Figures to compare with Figure 1. Fertility Effect (p. 171)"
   ]
  },
  {
   "cell_type": "markdown",
   "metadata": {},
   "source": [
    "<img src=\"causal-graphs/Figure 1. Fertility Effect.png\" width=\"400\" />"
   ]
  },
  {
   "cell_type": "code",
   "execution_count": 23,
   "metadata": {},
   "outputs": [
    {
     "data": {
      "image/png": "[encoded data removed]",
      "text/plain": [
       "<Figure size 432x288 with 1 Axes>"
      ]
     },
     "metadata": {
      "needs_background": "light"
     },
     "output_type": "display_data"
    }
   ],
   "source": [
    "b_reg_for_plot = smf.ols(formula =\n",
    "            'ln ~ post + mc + post*mc', data=dfb.loc[(dfb['mc']>-31) & (dfb['mc']<21)]).fit(cov_type='HC1')\n",
    "RDD_plot_conceptions(dfb, b_reg_for_plot)"
   ]
  },
  {
   "cell_type": "markdown",
   "metadata": {},
   "source": [
    "An important difference is that the plot in the paper uses bimonthly data, meaning that two months are summed up for the plot. Therefore, the jump at the cutoff looks much huger than it actually is."
   ]
  },
  {
   "cell_type": "code",
   "execution_count": 24,
   "metadata": {},
   "outputs": [
    {
     "data": {
      "image/png": "[encoded data removed]",
      "text/plain": [
       "<Figure size 432x288 with 1 Axes>"
      ]
     },
     "metadata": {
      "needs_background": "light"
     },
     "output_type": "display_data"
    }
   ],
   "source": [
    "a_reg_for_plot = smf.ols(formula =\n",
    "            'log_ive ~ post + m + post*m', data=dfa.loc[(dfa['m']>-31) & (dfa['m']<21)]).fit(cov_type='HC1')\n",
    "RDD_plot_abortions(dfa, a_reg_for_plot)"
   ]
  },
  {
   "cell_type": "markdown",
   "metadata": {},
   "source": [
    "#### Replication of the do-file \"hbs\""
   ]
  },
  {
   "cell_type": "code",
   "execution_count": 25,
   "metadata": {},
   "outputs": [],
   "source": [
    "df_hbs = read_and_manipulate_hbs()"
   ]
  },
  {
   "cell_type": "code",
   "execution_count": 26,
   "metadata": {
    "scrolled": false
   },
   "outputs": [
    {
     "name": "stdout",
     "output_type": "stream",
     "text": [
      "\u001b[1mTable 3: Descriptive Statistics - Household Budget Survey (2008)\n"
     ]
    },
    {
     "data": {
      "text/html": [
       "<div>\n",
       "<style scoped>\n",
       "    .dataframe tbody tr th:only-of-type {\n",
       "        vertical-align: middle;\n",
       "    }\n",
       "\n",
       "    .dataframe tbody tr th {\n",
       "        vertical-align: top;\n",
       "    }\n",
       "\n",
       "    .dataframe thead th {\n",
       "        text-align: right;\n",
       "    }\n",
       "</style>\n",
       "<table border=\"1\" class=\"dataframe\">\n",
       "  <thead>\n",
       "    <tr style=\"text-align: right;\">\n",
       "      <th></th>\n",
       "      <th>gastmon</th>\n",
       "      <th>c_m_exp</th>\n",
       "      <th>dur_exp</th>\n",
       "      <th>m_exp12312</th>\n",
       "      <th>post</th>\n",
       "      <th>month</th>\n",
       "      <th>agemom</th>\n",
       "      <th>sec1mom</th>\n",
       "      <th>sec2mom</th>\n",
       "      <th>unimom</th>\n",
       "      <th>immig</th>\n",
       "      <th>sib</th>\n",
       "    </tr>\n",
       "  </thead>\n",
       "  <tbody>\n",
       "    <tr>\n",
       "      <th>mean</th>\n",
       "      <td>30507.152</td>\n",
       "      <td>4778.250</td>\n",
       "      <td>5654.333</td>\n",
       "      <td>305.794</td>\n",
       "      <td>0.487</td>\n",
       "      <td>-0.780</td>\n",
       "      <td>32.521</td>\n",
       "      <td>0.234</td>\n",
       "      <td>0.326</td>\n",
       "      <td>0.320</td>\n",
       "      <td>0.165</td>\n",
       "      <td>0.539</td>\n",
       "    </tr>\n",
       "    <tr>\n",
       "      <th>std</th>\n",
       "      <td>17721.420</td>\n",
       "      <td>4274.954</td>\n",
       "      <td>8740.152</td>\n",
       "      <td>848.094</td>\n",
       "      <td>0.500</td>\n",
       "      <td>5.056</td>\n",
       "      <td>5.448</td>\n",
       "      <td>0.423</td>\n",
       "      <td>0.469</td>\n",
       "      <td>0.467</td>\n",
       "      <td>0.371</td>\n",
       "      <td>0.499</td>\n",
       "    </tr>\n",
       "    <tr>\n",
       "      <th>min</th>\n",
       "      <td>3784.887</td>\n",
       "      <td>0.000</td>\n",
       "      <td>0.000</td>\n",
       "      <td>0.000</td>\n",
       "      <td>0.000</td>\n",
       "      <td>-9.000</td>\n",
       "      <td>0.000</td>\n",
       "      <td>0.000</td>\n",
       "      <td>0.000</td>\n",
       "      <td>0.000</td>\n",
       "      <td>0.000</td>\n",
       "      <td>0.000</td>\n",
       "    </tr>\n",
       "    <tr>\n",
       "      <th>50%</th>\n",
       "      <td>26144.552</td>\n",
       "      <td>3561.401</td>\n",
       "      <td>2276.193</td>\n",
       "      <td>0.000</td>\n",
       "      <td>0.000</td>\n",
       "      <td>-1.000</td>\n",
       "      <td>33.000</td>\n",
       "      <td>0.000</td>\n",
       "      <td>0.000</td>\n",
       "      <td>0.000</td>\n",
       "      <td>0.000</td>\n",
       "      <td>1.000</td>\n",
       "    </tr>\n",
       "  </tbody>\n",
       "</table>\n",
       "</div>"
      ],
      "text/plain": [
       "        gastmon   c_m_exp   dur_exp  m_exp12312   post  month  agemom  \\\n",
       "mean  30507.152  4778.250  5654.333     305.794  0.487 -0.780  32.521   \n",
       "std   17721.420  4274.954  8740.152     848.094  0.500  5.056   5.448   \n",
       "min    3784.887     0.000     0.000       0.000  0.000 -9.000   0.000   \n",
       "50%   26144.552  3561.401  2276.193       0.000  0.000 -1.000  33.000   \n",
       "\n",
       "      sec1mom  sec2mom  unimom  immig    sib  \n",
       "mean    0.234    0.326   0.320  0.165  0.539  \n",
       "std     0.423    0.469   0.467  0.371  0.499  \n",
       "min     0.000    0.000   0.000  0.000  0.000  \n",
       "50%     0.000    0.000   0.000  0.000  1.000  "
      ]
     },
     "execution_count": 26,
     "metadata": {},
     "output_type": "execute_result"
    }
   ],
   "source": [
    "print('\\x1b[1m' 'Table 3: Descriptive Statistics - Household Budget Survey (2008)')\n",
    "df_hbs.loc[(df_hbs['month']>-10) & (df_hbs['month']<9), ['gastmon', 'c_m_exp', 'dur_exp', \\\n",
    "            'm_exp12312', 'post', 'month', 'agemom', 'sec1mom', 'sec2mom', 'unimom','immig', \\\n",
    "            'sib']].describe().loc[['mean','std','min','50%']].round(3)"
   ]
  },
  {
   "cell_type": "code",
   "execution_count": 27,
   "metadata": {},
   "outputs": [
    {
     "name": "stderr",
     "output_type": "stream",
     "text": [
      "C:\\Users\\Marc\\Documents\\GitHub\\student-project-antonia-marc\\auxiliary\\auxiliary_m.py:93: RuntimeWarning: divide by zero encountered in log\n",
      "  df_hbs.loc[df_hbs['c_m_exp']!=0, 'lcexp'] = np.log(df_hbs.c_m_exp)\n",
      "C:\\Users\\Marc\\Documents\\GitHub\\student-project-antonia-marc\\auxiliary\\auxiliary_m.py:95: RuntimeWarning: divide by zero encountered in log\n",
      "  df_hbs.loc[df_hbs['dur_exp']!=0, 'ldurexp'] = np.log(df_hbs.dur_exp)\n"
     ]
    }
   ],
   "source": [
    "df_hbs = preparation_hbs()"
   ]
  },
  {
   "cell_type": "markdown",
   "metadata": {},
   "source": [
    "Household Expenditures"
   ]
  },
  {
   "cell_type": "code",
   "execution_count": 28,
   "metadata": {},
   "outputs": [],
   "source": [
    "# time windows:\n",
    "spec1 = df_hbs.loc[(df_hbs['month']>-10) & (df_hbs['month']<9)]\n",
    "spec2 = df_hbs.loc[(df_hbs['month']>-7) & (df_hbs['month']<6)]\n",
    "spec3 = df_hbs.loc[(df_hbs['month']>-5) & (df_hbs['month']<4)]\n",
    "spec4 = df_hbs.loc[(df_hbs['month']>-4) & (df_hbs['month']<3)]\n",
    "spec5_6 = df_hbs.loc[(df_hbs['month']>-3) & (df_hbs['month']<2)]\n",
    "spec7 = df_hbs\n",
    "\n",
    "# creating lists:\n",
    "dep_vars = [\"gastmon\", \"ltotexp\", \"c_m_exp\", \"lcexp\", \"dur_exp\", \"ldurexp\"]\n",
    "dep_vars_name = [\"Tot. exp.\", \"ln[Tot. exp.]\", \"Child-rel. exp.\", \"ln[Child-rel. exp.]\",\\\n",
    "                  \"Dur. goods exp.\", \"ln[Dur. goods exp.]\"]\n",
    "\n",
    "#regressions:\n",
    "reg_spec1 = []\n",
    "for dep_var in dep_vars:\n",
    "    formula = dep_var + \"~ post + month + month2 + nomom + agemom + age2 + age3 + sec1mom + sec2mom + unimom + immig + sib + post_month + post_month2 + mes_enc_2 + mes_enc_3 + mes_enc_4 + mes_enc_5 + mes_enc_6  + mes_enc_7 + mes_enc_8 + mes_enc_9 + mes_enc_10 + mes_enc_11 +  mes_enc_12\"\n",
    "    reg_spec1.append(smf.ols(formula=formula, data = spec1).fit(cov_type='HC1'))\n",
    "\n",
    "reg_spec2 = []\n",
    "for dep_var in dep_vars:\n",
    "    formula = dep_var + \"~ post + month + nomom + agemom + age2 + age3 + sec1mom + sec2mom + unimom + immig + sib + post_month + mes_enc_2 + mes_enc_3 + mes_enc_4 + mes_enc_5 + mes_enc_6  + mes_enc_7 + mes_enc_8 + mes_enc_9 + mes_enc_10 + mes_enc_11 +  mes_enc_12\"\n",
    "    reg_spec2.append(smf.ols(formula=formula, data = spec2).fit(cov_type='HC1'))\n",
    "\n",
    "reg_spec3 = []\n",
    "for dep_var in dep_vars:\n",
    "    formula = dep_var + \"~ post + month + nomom + agemom + age2 + age3 + sec1mom + sec2mom + unimom + immig + sib + post_month + mes_enc_2 + mes_enc_3 + mes_enc_4 + mes_enc_5 + mes_enc_6  + mes_enc_7 + mes_enc_8 + mes_enc_9 + mes_enc_10 + mes_enc_11 +  mes_enc_12\"\n",
    "    reg_spec3.append(smf.ols(formula=formula, data = spec3).fit(cov_type='HC1'))\n",
    "\n",
    "reg_spec4 = []\n",
    "for dep_var in dep_vars:\n",
    "    formula = dep_var + \"~ post + nomom + agemom + age2 + age3 + sec1mom + sec2mom + unimom + immig + sib  + mes_enc_2 + mes_enc_3 + mes_enc_4 + mes_enc_5 + mes_enc_6  + mes_enc_7 + mes_enc_8 + mes_enc_9 + mes_enc_10 + mes_enc_11 +  mes_enc_12\"\n",
    "    reg_spec4.append(smf.ols(formula=formula, data = spec4).fit(cov_type='HC1'))\n",
    "\n",
    "reg_spec5 = []\n",
    "for dep_var in dep_vars:\n",
    "    formula = dep_var + \"~ post\"\n",
    "    reg_spec5.append(smf.ols(formula=formula, data = spec5_6).fit(cov_type='HC1'))\n",
    "\n",
    "reg_spec6 = []\n",
    "for dep_var in dep_vars:\n",
    "    formula = dep_var + \"~ post + nomom + agemom + age2 + age3 + sec1mom + sec2mom + unimom + immig + sib  + mes_enc_2 + mes_enc_3 + mes_enc_4 + mes_enc_5 + mes_enc_6  + mes_enc_7 + mes_enc_8 + mes_enc_9 + mes_enc_10 + mes_enc_11 +  mes_enc_12\"\n",
    "    reg_spec6.append(smf.ols(formula=formula, data = spec5_6).fit(cov_type='HC1'))\n",
    "    \n",
    "reg_spec7 = []\n",
    "for dep_var in dep_vars:\n",
    "    formula = dep_var + \"~ post + month + month2 + nomom + agemom + age2 + age3 + sec1mom + sec2mom + unimom + immig + sib + post_month + post_month2 + mes_enc_2 + mes_enc_3 + mes_enc_4 + mes_enc_5 + mes_enc_6  + mes_enc_7 + mes_enc_8 + mes_enc_9 + mes_enc_10 + mes_enc_11 +  mes_enc_12 + n_month_2 + n_month_3 + n_month_4 + n_month_5 + n_month_6 + n_month_7 + n_month_8 + n_month_9 + n_month_10 + n_month_11 + n_month_12\"\n",
    "    reg_spec7.append(smf.ols(formula=formula, data = spec7).fit(cov_type='HC1'))"
   ]
  },
  {
   "cell_type": "code",
   "execution_count": 29,
   "metadata": {
    "scrolled": false
   },
   "outputs": [
    {
     "name": "stdout",
     "output_type": "stream",
     "text": [
      "———————————————————————————————————————————————————————————————————————————————————————————————————————\n",
      "                        RDD 9m      RDD 6m      RDD 4m      RDD 3m      RDD 2m      RDD 2m       DiD 1\n",
      "                           (1)         (2)         (3)         (4)         (5)         (6)         (7)\n",
      "———————————————————————————————————————————————————————————————————————————————————————————————————————\n",
      "Tot. exp.             -3175.158   -2247.452     404.622    -579.998   -1774.182   -1084.494   -1306.658\n",
      "\u001b[34m                       2838.302    2244.167    2885.447    1552.861    2032.318    1831.721    2193.823\u001b[0m\n",
      "\u001b[31m                          0.263       0.317       0.888       0.709       0.383       0.554       0.551\u001b[0m\n",
      "\n",
      "ln[Tot. exp.]            -0.142      -0.105      -0.034      -0.041      -0.072      -0.060      -0.049\n",
      "\u001b[34m                          0.092       0.074       0.092       0.052       0.067       0.063       0.071\u001b[0m\n",
      "\u001b[31m                          0.124       0.155       0.707       0.426       0.279       0.346       0.490\u001b[0m\n",
      "\n",
      "Child-rel. exp.        -406.931    -599.337     357.109     -21.104    -150.272       9.929      94.298\n",
      "\u001b[34m                        765.670     617.533     794.858     443.929     536.103     533.908     591.801\u001b[0m\n",
      "\u001b[31m                          0.595       0.332       0.653       0.962       0.779       0.985       0.873\u001b[0m\n",
      "\n",
      "ln[Child-rel. exp.]      -0.011      -0.034       0.087       0.018       0.002      -0.001       0.017\n",
      "\u001b[34m                          0.195       0.151       0.194       0.103       0.127       0.128       0.132\u001b[0m\n",
      "\u001b[31m                          0.956       0.820       0.654       0.863       0.988       0.992       0.899\u001b[0m\n",
      "\n",
      "Dur. goods exp.       -1513.256   -1849.083   -1011.180    -760.261   -1045.535    -999.227   -1720.538\n",
      "\u001b[34m                       1688.123    1344.743    1703.762     926.838    1105.165    1098.521    1137.376\u001b[0m\n",
      "\u001b[31m                          0.370       0.169       0.553       0.412       0.344       0.363       0.130\u001b[0m\n",
      "\n",
      "ln[Dur. goods exp.]       0.157       0.025       0.230       0.089       0.080       0.071       0.022\n",
      "\u001b[34m                          0.297       0.239       0.302       0.170       0.200       0.213       0.208\u001b[0m\n",
      "\u001b[31m                          0.596       0.915       0.447       0.599       0.690       0.739       0.917\u001b[0m\n",
      "\n",
      "———————————————————————————————————————————————————————————————————————————————————————————————————————\n",
      "Notes: For each of the dependent variables, the coefficient, standard error and p-value of the binary\n",
      "treatment indicator variable are reported:\n",
      "- coefficient estimates\n",
      "\u001b[34m- standard errors\u001b[0m\n",
      "\u001b[31m- p-values\u001b[0m\n"
     ]
    }
   ],
   "source": [
    "table_expenditures(dep_vars,dep_vars_name,reg_spec1,reg_spec2,reg_spec3,reg_spec4,reg_spec5,reg_spec6,reg_spec7)"
   ]
  },
  {
   "cell_type": "markdown",
   "metadata": {},
   "source": [
    "Childcare Expenditures"
   ]
  },
  {
   "cell_type": "code",
   "execution_count": 30,
   "metadata": {},
   "outputs": [],
   "source": [
    "# creating lists:\n",
    "dep_vars_childcare = [\"m_exp12312\", \"daycare_bin\"]\n",
    "dep_vars_childcare_name = [\"Priv. day care\", \"Priv. day care (binary)\"]\n",
    "\n",
    "#regressions:\n",
    "reg_spec1_childcare = []\n",
    "for dep_var in dep_vars_childcare:\n",
    "    formula = dep_var + \"~ post + month + month2 + nomom + agemom + age2 + age3 + sec1mom + sec2mom + unimom + immig + sib + post_month + post_month2 + mes_enc_2 + mes_enc_3 + mes_enc_4 + mes_enc_5 + mes_enc_6  + mes_enc_7 + mes_enc_8 + mes_enc_9 + mes_enc_10 + mes_enc_11 +  mes_enc_12\"\n",
    "    reg_spec1_childcare.append(smf.ols(formula=formula, data = spec1).fit(cov_type='HC1'))\n",
    "\n",
    "reg_spec2_childcare = []\n",
    "for dep_var in dep_vars_childcare:\n",
    "    formula = dep_var + \"~ post + month + nomom + agemom + age2 + age3 + sec1mom + sec2mom + unimom + immig + sib + post_month + mes_enc_2 + mes_enc_3 + mes_enc_4 + mes_enc_5 + mes_enc_6  + mes_enc_7 + mes_enc_8 + mes_enc_9 + mes_enc_10 + mes_enc_11 +  mes_enc_12\"\n",
    "    reg_spec2_childcare.append(smf.ols(formula=formula, data = spec2).fit(cov_type='HC1'))\n",
    "\n",
    "reg_spec3_childcare = []\n",
    "for dep_var in dep_vars_childcare:\n",
    "    formula = dep_var + \"~ post + month + nomom + agemom + age2 + age3 + sec1mom + sec2mom + unimom + immig + sib + post_month + mes_enc_2 + mes_enc_3 + mes_enc_4 + mes_enc_5 + mes_enc_6  + mes_enc_7 + mes_enc_8 + mes_enc_9 + mes_enc_10 + mes_enc_11 +  mes_enc_12\"\n",
    "    reg_spec3_childcare.append(smf.ols(formula=formula, data = spec3).fit(cov_type='HC1'))\n",
    "\n",
    "reg_spec4_childcare = []\n",
    "for dep_var in dep_vars_childcare:\n",
    "    formula = dep_var + \"~ post + nomom + agemom + age2 + age3 + sec1mom + sec2mom + unimom + immig + sib  + mes_enc_2 + mes_enc_3 + mes_enc_4 + mes_enc_5 + mes_enc_6  + mes_enc_7 + mes_enc_8 + mes_enc_9 + mes_enc_10 + mes_enc_11 +  mes_enc_12\"\n",
    "    reg_spec4_childcare.append(smf.ols(formula=formula, data = spec4).fit(cov_type='HC1'))\n",
    "\n",
    "reg_spec5_childcare = []\n",
    "for dep_var in dep_vars_childcare:\n",
    "    formula = dep_var + \"~ post\"\n",
    "    reg_spec5_childcare.append(smf.ols(formula=formula, data = spec5_6).fit(cov_type='HC1'))\n",
    "\n",
    "reg_spec6_childcare = []\n",
    "for dep_var in dep_vars_childcare:\n",
    "    formula = dep_var + \"~ post + nomom + agemom + age2 + age3 + sec1mom + sec2mom + unimom + immig + sib  + mes_enc_2 + mes_enc_3 + mes_enc_4 + mes_enc_5 + mes_enc_6  + mes_enc_7 + mes_enc_8 + mes_enc_9 + mes_enc_10 + mes_enc_11 +  mes_enc_12\"\n",
    "    reg_spec6_childcare.append(smf.ols(formula=formula, data = spec5_6).fit(cov_type='HC1'))\n",
    "    \n",
    "\n",
    "reg_spec7_childcare = []\n",
    "for dep_var in dep_vars_childcare:\n",
    "    formula = dep_var + \"~ post + month + month2 + post_month + post_month2 + nomom + agemom + age2 + age3 + sec1mom + sec2mom + unimom + immig + sib  + mes_enc_2 + mes_enc_3 + mes_enc_4 + mes_enc_5 + mes_enc_6  + mes_enc_7 + mes_enc_8 + mes_enc_9 + mes_enc_10 + mes_enc_11 +  mes_enc_12 + n_month_2 + n_month_3 + n_month_4 + n_month_5 + n_month_6 + n_month_7 + n_month_8 + n_month_9 + n_month_10 + n_month_11 + n_month_12\"\n",
    "    reg_spec7_childcare.append(smf.ols(formula=formula, data = spec7).fit(cov_type='HC1'))\n"
   ]
  },
  {
   "cell_type": "code",
   "execution_count": 31,
   "metadata": {
    "scrolled": true
   },
   "outputs": [
    {
     "name": "stdout",
     "output_type": "stream",
     "text": [
      "—————————————————————————————————————————————————————————————————————————————————————————————————————————————\n",
      "                             RDD 9m      RDD 6m      RDD 4m      RDD 3m      RDD 2m      RDD 2m       DiD 1\n",
      "                                (1)         (2)         (3)         (4)         (5)         (6)        (7)*\n",
      "—————————————————————————————————————————————————————————————————————————————————————————————————————————————\n",
      "Priv. day care              -137.915    -123.215    -195.384    -156.693    -147.121    -158.186    -107.566\n",
      "\u001b[34m                             169.540     121.075     160.720      80.009     101.274     103.271     125.126\u001b[0m\n",
      "\u001b[31m                               0.416       0.309       0.224       0.050       0.146       0.126       0.390\u001b[0m\n",
      "\n",
      "Priv. day care (binary)       -0.080      -0.099      -0.104      -0.094      -0.110      -0.125       0.024\n",
      "\u001b[34m                               0.094       0.074       0.094       0.054       0.062       0.064       0.072\u001b[0m\n",
      "\u001b[31m                               0.397       0.185       0.267       0.079       0.079       0.053       0.734\u001b[0m\n",
      "\n",
      "—————————————————————————————————————————————————————————————————————————————————————————————————————————————\n",
      "Notes: For each of the dependent variables, the coefficient, standard error and p-value of the binary\n",
      "treatment indicator variable are reported:\n",
      "- coefficient estimates\n",
      "\u001b[34m- standard errors\u001b[0m\n",
      "\u001b[31m- p-values\u001b[0m\n"
     ]
    }
   ],
   "source": [
    "table_childcare(dep_vars_childcare,dep_vars_childcare_name,reg_spec1_childcare,reg_spec2_childcare,reg_spec3_childcare,reg_spec4_childcare,reg_spec5_childcare,reg_spec6_childcare,reg_spec7_childcare)"
   ]
  },
  {
   "cell_type": "markdown",
   "metadata": {},
   "source": [
    "In regression specification (7), the author forgot to specify an interaction term which allows the time trend to differ before and after the cut-off. For this reason, the results  in this column differ compared to those reported by the author: while the coefficient of private day care was significant at the 5 percent level, the coefficient is now far from being significant."
   ]
  },
  {
   "cell_type": "markdown",
   "metadata": {},
   "source": [
    "#### Replication of the do-file \"lfs\""
   ]
  },
  {
   "cell_type": "code",
   "execution_count": 32,
   "metadata": {},
   "outputs": [],
   "source": [
    "df_lfs = read_and_manipulate_lfs()"
   ]
  },
  {
   "cell_type": "code",
   "execution_count": 33,
   "metadata": {
    "scrolled": true
   },
   "outputs": [
    {
     "name": "stdout",
     "output_type": "stream",
     "text": [
      "\u001b[1mTable 4: Descriptive Statistics - Labor force survey (2008)\n"
     ]
    },
    {
     "data": {
      "text/html": [
       "<div>\n",
       "<style scoped>\n",
       "    .dataframe tbody tr th:only-of-type {\n",
       "        vertical-align: middle;\n",
       "    }\n",
       "\n",
       "    .dataframe tbody tr th {\n",
       "        vertical-align: top;\n",
       "    }\n",
       "\n",
       "    .dataframe thead th {\n",
       "        text-align: right;\n",
       "    }\n",
       "</style>\n",
       "<table border=\"1\" class=\"dataframe\">\n",
       "  <thead>\n",
       "    <tr style=\"text-align: right;\">\n",
       "      <th></th>\n",
       "      <th>work</th>\n",
       "      <th>work2</th>\n",
       "      <th>post</th>\n",
       "      <th>m</th>\n",
       "      <th>age</th>\n",
       "      <th>primary</th>\n",
       "      <th>hsgrad</th>\n",
       "      <th>univ</th>\n",
       "      <th>immig</th>\n",
       "      <th>sib</th>\n",
       "    </tr>\n",
       "  </thead>\n",
       "  <tbody>\n",
       "    <tr>\n",
       "      <th>mean</th>\n",
       "      <td>0.422</td>\n",
       "      <td>0.541</td>\n",
       "      <td>0.477</td>\n",
       "      <td>-0.815</td>\n",
       "      <td>32.376</td>\n",
       "      <td>0.236</td>\n",
       "      <td>0.343</td>\n",
       "      <td>0.297</td>\n",
       "      <td>0.170</td>\n",
       "      <td>0.523</td>\n",
       "    </tr>\n",
       "    <tr>\n",
       "      <th>std</th>\n",
       "      <td>0.494</td>\n",
       "      <td>0.498</td>\n",
       "      <td>0.499</td>\n",
       "      <td>5.128</td>\n",
       "      <td>5.252</td>\n",
       "      <td>0.425</td>\n",
       "      <td>0.475</td>\n",
       "      <td>0.457</td>\n",
       "      <td>0.376</td>\n",
       "      <td>0.500</td>\n",
       "    </tr>\n",
       "    <tr>\n",
       "      <th>50%</th>\n",
       "      <td>0.000</td>\n",
       "      <td>1.000</td>\n",
       "      <td>0.000</td>\n",
       "      <td>-1.000</td>\n",
       "      <td>33.000</td>\n",
       "      <td>0.000</td>\n",
       "      <td>0.000</td>\n",
       "      <td>0.000</td>\n",
       "      <td>0.000</td>\n",
       "      <td>1.000</td>\n",
       "    </tr>\n",
       "  </tbody>\n",
       "</table>\n",
       "</div>"
      ],
      "text/plain": [
       "       work  work2   post      m     age  primary  hsgrad   univ  immig    sib\n",
       "mean  0.422  0.541  0.477 -0.815  32.376    0.236   0.343  0.297  0.170  0.523\n",
       "std   0.494  0.498  0.499  5.128   5.252    0.425   0.475  0.457  0.376  0.500\n",
       "50%   0.000  1.000  0.000 -1.000  33.000    0.000   0.000  0.000  0.000  1.000"
      ]
     },
     "execution_count": 33,
     "metadata": {},
     "output_type": "execute_result"
    }
   ],
   "source": [
    "print('\\x1b[1m' 'Table 4: Descriptive Statistics - Labor force survey (2008)')\n",
    "df_lfs.loc[(df_lfs['m']>-10) & (df_lfs['m']<9), ['work', 'work2', 'post', 'm', 'age', \\\n",
    "       'primary', 'hsgrad', 'univ', 'immig', 'sib']].describe().loc[['mean','std','50%']].round(3)"
   ]
  },
  {
   "cell_type": "code",
   "execution_count": 34,
   "metadata": {},
   "outputs": [],
   "source": [
    "df_lfs = preparation_lfs()"
   ]
  },
  {
   "cell_type": "markdown",
   "metadata": {},
   "source": [
    "(Only for year 2008, since the data set for 2009 has not been provided)"
   ]
  },
  {
   "cell_type": "code",
   "execution_count": 35,
   "metadata": {
    "scrolled": false
   },
   "outputs": [],
   "source": [
    "# time windows:\n",
    "spec1 = df_lfs.loc[(df_lfs['m']>-10) & (df_lfs['m']<9)]\n",
    "spec2 = df_lfs.loc[(df_lfs['m']>-7) & (df_lfs['m']<6)]\n",
    "spec3 = df_lfs.loc[(df_lfs['m']>-5) & (df_lfs['m']<4)]\n",
    "spec4 = df_lfs.loc[(df_lfs['m']>-4) & (df_lfs['m']<3)]\n",
    "spec5_6 = df_lfs.loc[(df_lfs['m']>-3) & (df_lfs['m']<2)]\n",
    "spec7 = df_lfs\n",
    "\n",
    "#creating lists:\n",
    "dep_vars_LS = [\"work\", \"work2\"]\n",
    "dep_vars_LS_name = [\"Working last week\", \"Employed\"]\n",
    "\n",
    "\n",
    "# regressions:\n",
    "reg_spec1_LS = []\n",
    "for dep_var in dep_vars_LS:\n",
    "    formula = dep_var + \"~ post + m + post_m + m2 + post_m2 + age + age2 + age3 + immig + primary + hsgrad + univ + sib + pleave + q_2 + q_3 + q_4\"\n",
    "    reg_spec1_LS.append(smf.ols(formula=formula, data = spec1).fit(cov_type='HC1'))\n",
    "\n",
    "reg_spec2_LS = []\n",
    "for dep_var in dep_vars_LS:\n",
    "    formula = dep_var + \"~ post + m + post_m +  age + age2 + age3 + immig + primary + hsgrad + univ + sib + pleave + q_2 + q_3 + q_4\"\n",
    "    reg_spec2_LS.append(smf.ols(formula=formula, data = spec2).fit(cov_type='HC1'))\n",
    "\n",
    "reg_spec3_LS = []\n",
    "for dep_var in dep_vars_LS:\n",
    "    formula = dep_var + \"~ post + m + post_m +  age + age2 + age3 + immig + primary + hsgrad + univ + sib + pleave + q_2 + q_3 + q_4\"\n",
    "    reg_spec3_LS.append(smf.ols(formula=formula, data = spec3).fit(cov_type='HC1'))\n",
    "\n",
    "reg_spec4_LS = []\n",
    "for dep_var in dep_vars_LS:\n",
    "    formula = dep_var + \"~ post + age + age2 + age3 + immig + primary + hsgrad + univ + sib + pleave + q_2 + q_3 + q_4\"\n",
    "    reg_spec4_LS.append(smf.ols(formula=formula, data = spec4).fit(cov_type='HC1'))\n",
    "\n",
    "reg_spec5_LS = []\n",
    "for dep_var in dep_vars_LS:\n",
    "    formula = dep_var + \"~ post \"\n",
    "    reg_spec5_LS.append(smf.ols(formula=formula, data = spec5_6).fit(cov_type='HC1'))\n",
    "\n",
    "reg_spec6_LS = []\n",
    "for dep_var in dep_vars_LS:\n",
    "    formula = dep_var + \"~ post + age + age2 + age3 + immig + primary + hsgrad + univ + sib + q_2 + q_3 + q_4\"\n",
    "    reg_spec6_LS.append(smf.ols(formula=formula, data = spec5_6).fit(cov_type='HC1'))\n",
    "\n",
    "reg_spec7_LS = []\n",
    "for dep_var in dep_vars_LS:\n",
    "    formula = dep_var + \"~ post + m + m2 + age + age2 + age3 + immig + primary + hsgrad + univ + sib + pleave + q_2 + q_3 + q_4 + n_month_2 + n_month_3 + n_month_4 + n_month_5 + n_month_6 + n_month_7 + n_month_8 + n_month_9 + n_month_10 + n_month_11 + n_month_12\"\n",
    "    reg_spec7_LS.append(smf.ols(formula=formula, data = spec7).fit(cov_type='cluster', cov_kwds={'groups': df_lfs['m']}))\n",
    "\n",
    "reg_spec8_LS = []\n",
    "for dep_var in dep_vars_LS:\n",
    "    formula = dep_var + \"~ post + m + post_m + m2 + post_m2 + age + age2 + age3 + immig + primary + hsgrad + univ + sib + pleave + q_2 + q_3 + q_4 + n_month_2 + n_month_3 + n_month_4 + n_month_5 + n_month_6 + n_month_7 + n_month_8 + n_month_9 + n_month_10 + n_month_11 + n_month_12\"\n",
    "    reg_spec8_LS.append(smf.ols(formula=formula, data = spec7).fit(cov_type='cluster', cov_kwds={'groups': df_lfs['m']}))"
   ]
  },
  {
   "cell_type": "code",
   "execution_count": 36,
   "metadata": {},
   "outputs": [
    {
     "name": "stdout",
     "output_type": "stream",
     "text": [
      "————————————————————————————————————————————————————————————————————————————————————————————————————————————————————\n",
      "                         RDD 9m      RDD 6m      RDD 4m      RDD 3m      RDD 2m      RDD 2m       DiD 1      DID 1*\n",
      "                            (1)         (2)         (3)         (4)         (5)         (6)         (7)         (8)\n",
      "————————————————————————————————————————————————————————————————————————————————————————————————————————————————————\n",
      "Working last week         -0.064      -0.043      -0.058      -0.053      -0.055      -0.058      -0.044      -0.021\n",
      "\u001b[34m                           0.032       0.025       0.031       0.018       0.022       0.021       0.015       0.018\u001b[0m\n",
      "\u001b[31m                           0.044       0.084       0.064       0.003       0.013       0.007       0.004       0.249\u001b[0m\n",
      "\n",
      "Employed                  -0.063      -0.039      -0.080      -0.053      -0.061      -0.061      -0.020       0.005\n",
      "\u001b[34m                           0.031       0.024       0.030       0.017       0.022       0.021       0.017       0.017\u001b[0m\n",
      "\u001b[31m                           0.043       0.107       0.009       0.002       0.005       0.003       0.220       0.778\u001b[0m\n",
      "\n",
      "————————————————————————————————————————————————————————————————————————————————————————————————————————————————————\n",
      "Notes: For each of the dependent variables, the coefficient, standard error and p-value of the binary\n",
      "treatment indicator variable are reported:\n",
      "- coefficient estimates\n",
      "\u001b[34m- standard errors\u001b[0m\n",
      "\u001b[31m- p-values\u001b[0m\n"
     ]
    }
   ],
   "source": [
    "table_LS(dep_vars_LS, dep_vars_LS_name, reg_spec1_LS, reg_spec2_LS, reg_spec3_LS, reg_spec4_LS, reg_spec5_LS, reg_spec6_LS, reg_spec7_LS, reg_spec8_LS)"
   ]
  },
  {
   "cell_type": "markdown",
   "metadata": {},
   "source": [
    "#### Autocorrelation Plots"
   ]
  },
  {
   "cell_type": "code",
   "execution_count": 37,
   "metadata": {},
   "outputs": [
    {
     "data": {
      "image/png": "[encoded data removed]",
      "text/plain": [
       "<Figure size 864x360 with 8 Axes>"
      ]
     },
     "metadata": {
      "needs_background": "light"
     },
     "output_type": "display_data"
    }
   ],
   "source": [
    "fig, axes = plt.subplots(ncols=4, nrows=2, sharex=True, figsize=(12,5))\n",
    "\n",
    "\n",
    "plt.tight_layout()\n",
    "fig.suptitle('ACF - Plots')\n",
    "plt.subplots_adjust(top=0.9)\n",
    "\n",
    "for x in range(4):\n",
    "    smt.graphics.plot_acf(reg_list_b[x].resid,lags=5,alpha=0.05, ax=axes[0,x])\n",
    "    axes[0,x].set_title('Spec. ('+str(x+1)+')')\n",
    "    smt.graphics.plot_acf(reg_list_b[x+4].resid,lags=5,alpha=0.05, ax=axes[1,x])\n",
    "    axes[1,x].set_title('Spec. ('+str(x+5)+')')\n",
    "\n"
   ]
  },
  {
   "cell_type": "markdown",
   "metadata": {},
   "source": [
    "Accounting for Autocorrelation appears to be necessary at least in some specifications..."
   ]
  },
  {
   "cell_type": "markdown",
   "metadata": {},
   "source": [
    "<a id='critique'></a>\n",
    "## 4.) Critical Assesment of the Author's Empirical Work"
   ]
  },
  {
   "cell_type": "markdown",
   "metadata": {},
   "source": [
    "<a id='mc_revised'></a>\n",
    "### 4.2) Computing Month of Conception More Precisely"
   ]
  },
  {
   "cell_type": "markdown",
   "metadata": {},
   "source": [
    "The author used the variables semanas to compute month of conception (mc). However, for some reason she did not extract the full information from this variable: If a woman stated that pregnancy lasted less than 39 weeks the author subtracted only 8 months from the variable month of birth. However, for a duration of less than 35 weeks the author did not subtract only 7 months but 8 months as well.\n",
    "\n",
    "Because the variable month of conception is the running variable and, therefore, the most important explaining variable of the analysis, we want to compute it as precisely as possible and check whether our results will be different than the author's results."
   ]
  },
  {
   "cell_type": "code",
   "execution_count": 38,
   "metadata": {},
   "outputs": [
    {
     "name": "stdout",
     "output_type": "stream",
     "text": [
      "——————————————————————————————————————————————————————————————————————————————————————————————————————————————\n",
      "                 RDD (1)     RDD (2)     RDD (3)     RDD (4)     RDD (5)     DID (6)     DID (7)     DID (8)\n",
      "                10 years     5 years   12 months    9 months    3 months    10 years     7 years     5 years\n",
      "——————————————————————————————————————————————————————————————————————————————————————————————————————————————\n",
      "mc revised        0.0525      0.0686      0.0843      0.0730      0.0495      0.0501      0.0544      0.0540                                                                                                              \n",
      "                  0.0218      0.0252      0.0369      0.0290      0.0321      0.0104      0.0087      0.0136                                                                                                              \n",
      "            \u001b[1m      0.0158\u001b[0m\u001b[1m      0.0065\u001b[0m\u001b[1m      0.0225\u001b[0m\u001b[1m      0.0119\u001b[0m\u001b[1m      0.1227\u001b[0m\u001b[1m      0.0000\u001b[0m\u001b[1m      0.0000\u001b[0m\u001b[1m      0.0001\u001b[0m                                                                                                              \n",
      "mc old            0.0531      0.0695      0.0852      0.0750      0.0503      0.0495      0.0539      0.0527                                                                                                              \n",
      "                  0.0219      0.0250      0.0359      0.0285      0.0314      0.0103      0.0088      0.0136                                                                                                              \n",
      "            \u001b[1m      0.0156\u001b[0m\u001b[1m      0.0055\u001b[0m\u001b[1m      0.0177\u001b[0m\u001b[1m      0.0085\u001b[0m\u001b[1m      0.1085\u001b[0m\u001b[1m      0.0000\u001b[0m\u001b[1m      0.0000\u001b[0m\u001b[1m      0.0001\u001b[0m"
     ]
    }
   ],
   "source": [
    "dfb_mc_new = mc_more_precisely()\n",
    "reg_list_b_mc_new = reg_conception(dfb_mc_new)\n",
    "table_reg_output_2(reg_list_b_mc_new, reg_list_b)"
   ]
  },
  {
   "cell_type": "markdown",
   "metadata": {},
   "source": [
    "The coefficient estimates using mc revised differ only slightly from our previous esimates. The significance levels at which one would reject the hypothesis that the policy had no effect on conceptions stay the same except for RDD (4). In RDD (4), with mc revised as dependent variable, the treatment dummy is significant at the 5 % level and not at the 1 % level anymore."
   ]
  },
  {
   "cell_type": "markdown",
   "metadata": {},
   "source": [
    "<a id='further_analyses'></a>\n",
    "## 5.) Further Analyses"
   ]
  },
  {
   "cell_type": "markdown",
   "metadata": {},
   "source": [
    "<a id='abolishment'></a>\n",
    "### 5.1) Abolishment of the Policy"
   ]
  },
  {
   "cell_type": "code",
   "execution_count": 39,
   "metadata": {},
   "outputs": [],
   "source": [
    "df_births = create_births()"
   ]
  },
  {
   "cell_type": "code",
   "execution_count": 40,
   "metadata": {
    "scrolled": true
   },
   "outputs": [
    {
     "data": {
      "text/html": [
       "<div>\n",
       "<style scoped>\n",
       "    .dataframe tbody tr th:only-of-type {\n",
       "        vertical-align: middle;\n",
       "    }\n",
       "\n",
       "    .dataframe tbody tr th {\n",
       "        vertical-align: top;\n",
       "    }\n",
       "\n",
       "    .dataframe thead th {\n",
       "        text-align: right;\n",
       "    }\n",
       "</style>\n",
       "<table border=\"1\" class=\"dataframe\">\n",
       "  <thead>\n",
       "    <tr style=\"text-align: right;\">\n",
       "      <th></th>\n",
       "      <th>mesp</th>\n",
       "      <th>year</th>\n",
       "      <th>prem</th>\n",
       "      <th>semanas</th>\n",
       "    </tr>\n",
       "  </thead>\n",
       "  <tbody>\n",
       "    <tr>\n",
       "      <th>count</th>\n",
       "      <td>7.979638e+06</td>\n",
       "      <td>7.979638e+06</td>\n",
       "      <td>7.979638e+06</td>\n",
       "      <td>7.245241e+06</td>\n",
       "    </tr>\n",
       "    <tr>\n",
       "      <th>mean</th>\n",
       "      <td>6.567206e+00</td>\n",
       "      <td>2.008489e+03</td>\n",
       "      <td>1.071309e+00</td>\n",
       "      <td>3.653140e+01</td>\n",
       "    </tr>\n",
       "    <tr>\n",
       "      <th>std</th>\n",
       "      <td>3.438349e+00</td>\n",
       "      <td>5.017516e+00</td>\n",
       "      <td>2.573403e-01</td>\n",
       "      <td>9.724730e+00</td>\n",
       "    </tr>\n",
       "    <tr>\n",
       "      <th>min</th>\n",
       "      <td>1.000000e+00</td>\n",
       "      <td>2.000000e+03</td>\n",
       "      <td>1.000000e+00</td>\n",
       "      <td>0.000000e+00</td>\n",
       "    </tr>\n",
       "    <tr>\n",
       "      <th>25%</th>\n",
       "      <td>4.000000e+00</td>\n",
       "      <td>2.004000e+03</td>\n",
       "      <td>1.000000e+00</td>\n",
       "      <td>3.800000e+01</td>\n",
       "    </tr>\n",
       "    <tr>\n",
       "      <th>50%</th>\n",
       "      <td>7.000000e+00</td>\n",
       "      <td>2.008000e+03</td>\n",
       "      <td>1.000000e+00</td>\n",
       "      <td>3.900000e+01</td>\n",
       "    </tr>\n",
       "    <tr>\n",
       "      <th>75%</th>\n",
       "      <td>1.000000e+01</td>\n",
       "      <td>2.013000e+03</td>\n",
       "      <td>1.000000e+00</td>\n",
       "      <td>4.000000e+01</td>\n",
       "    </tr>\n",
       "    <tr>\n",
       "      <th>max</th>\n",
       "      <td>1.200000e+01</td>\n",
       "      <td>2.017000e+03</td>\n",
       "      <td>2.000000e+00</td>\n",
       "      <td>4.600000e+01</td>\n",
       "    </tr>\n",
       "  </tbody>\n",
       "</table>\n",
       "</div>"
      ],
      "text/plain": [
       "               mesp          year          prem       semanas\n",
       "count  7.979638e+06  7.979638e+06  7.979638e+06  7.245241e+06\n",
       "mean   6.567206e+00  2.008489e+03  1.071309e+00  3.653140e+01\n",
       "std    3.438349e+00  5.017516e+00  2.573403e-01  9.724730e+00\n",
       "min    1.000000e+00  2.000000e+03  1.000000e+00  0.000000e+00\n",
       "25%    4.000000e+00  2.004000e+03  1.000000e+00  3.800000e+01\n",
       "50%    7.000000e+00  2.008000e+03  1.000000e+00  3.900000e+01\n",
       "75%    1.000000e+01  2.013000e+03  1.000000e+00  4.000000e+01\n",
       "max    1.200000e+01  2.017000e+03  2.000000e+00  4.600000e+01"
      ]
     },
     "execution_count": 40,
     "metadata": {},
     "output_type": "execute_result"
    }
   ],
   "source": [
    "df_births.describe()"
   ]
  },
  {
   "cell_type": "code",
   "execution_count": 41,
   "metadata": {},
   "outputs": [],
   "source": [
    "df_abolishment = preparation_abolishment(df_births)"
   ]
  },
  {
   "cell_type": "code",
   "execution_count": 42,
   "metadata": {},
   "outputs": [],
   "source": [
    "# create necessary subsets of df_abolishment\n",
    "df_abolishment_list = list()\n",
    "\n",
    "df_abolishment_list.append(df_abolishment.loc[(df_abolishment['mc']>-31) & (df_abolishment['mc']<30)]) # 5 years\n",
    "df_abolishment_list.append(df_abolishment.loc[(df_abolishment['mc']>-13) & (df_abolishment['mc']<12)]) # 12 months\n",
    "df_abolishment_list.append(df_abolishment.loc[(df_abolishment['mc']>-10) & (df_abolishment['mc']<9)]) # 9 months\n",
    "df_abolishment_list.append(df_abolishment.loc[(df_abolishment['mc']>-4) & (df_abolishment['mc']<3)]) # 3 months\n",
    "\n",
    "# run regressions\n",
    "reg1 = smf.ols(formula =\n",
    "        'ln ~ post + mc + post*mc + mc2 + post*mc2 + days', data=df_abolishment_list[0]).fit(cov_type='HC1')\n",
    "reg2 = smf.ols(formula =\n",
    "        'ln ~ post + mc + post*mc + mc2 + post*mc2 + days', data=df_abolishment_list[1]).fit(cov_type='HC1')\n",
    "reg3 = smf.ols(formula =\n",
    "        'ln ~ post + mc + post*mc + days', data=df_abolishment_list[2]).fit(cov_type='HC1')\n",
    "reg4 = smf.ols(formula =\n",
    "        'ln ~ post + days', data=df_abolishment_list[3]).fit(cov_type='HC1')\n",
    "reg5 = smf.ols(formula =\n",
    "        'ln ~ post + mc + post*mc + mc2 + post*mc2 + days + feb + mar + apr + mai + jun + jul + aug + sep + oct + nov + dec', data=df_abolishment_list[0]).fit(cov_type='HC1')\n",
    "\n",
    "# store regessions in list\n",
    "reg_list_abolishment = [reg1, reg2, reg3, reg4, reg5]"
   ]
  },
  {
   "cell_type": "code",
   "execution_count": 43,
   "metadata": {},
   "outputs": [
    {
     "name": "stdout",
     "output_type": "stream",
     "text": [
      "————————————————————————————————————————————————————————————————————————\n",
      "                 RDD (1)     RDD (2)     RDD (3)     RDD (4)     DID (5)\n",
      "                 5 years   12 months    9 months    3 months     5 years\n",
      "————————————————————————————————————————————————————————————————————————\n",
      "Conceptions      -0.0961     -0.1052     -0.1266     -0.0756     -0.0397                                                                        \n",
      "            \u001b[34m      0.0263\u001b[0m\u001b[34m      0.0417\u001b[0m\u001b[34m      0.0388\u001b[0m\u001b[34m      0.0375\u001b[0m\u001b[34m      0.0166\u001b[0m                                                                        \n",
      "            \u001b[31m      0.0003\u001b[0m\u001b[31m      0.0117\u001b[0m\u001b[31m      0.0011\u001b[0m\u001b[31m      0.0441\u001b[0m\u001b[31m      0.0167\u001b[0m                                                                        \n",
      "————————————————————————————————————————————————————————————————————————\n",
      "Notes: The dependent variable is the natural logarithm of the monthly number of conceptions.\n",
      "For each of the specifications, the coefficient, standard error and p-value of the binary treatment indicator\n",
      "variable are reported:\n",
      "- coefficient estimates\n",
      "\u001b[34m- standard errors\u001b[0m\n",
      "\u001b[31m- p-values\u001b[0m\n"
     ]
    }
   ],
   "source": [
    "table_abolishment(reg_list_abolishment)"
   ]
  },
  {
   "cell_type": "markdown",
   "metadata": {},
   "source": [
    "## Placebo Tests"
   ]
  },
  {
   "cell_type": "markdown",
   "metadata": {},
   "source": [
    "### Cutoff-Month: 07/2016"
   ]
  },
  {
   "cell_type": "code",
   "execution_count": 48,
   "metadata": {},
   "outputs": [
    {
     "data": {
      "text/html": [
       "<div>\n",
       "<style scoped>\n",
       "    .dataframe tbody tr th:only-of-type {\n",
       "        vertical-align: middle;\n",
       "    }\n",
       "\n",
       "    .dataframe tbody tr th {\n",
       "        vertical-align: top;\n",
       "    }\n",
       "\n",
       "    .dataframe thead th {\n",
       "        text-align: right;\n",
       "    }\n",
       "</style>\n",
       "<table border=\"1\" class=\"dataframe\">\n",
       "  <thead>\n",
       "    <tr style=\"text-align: right;\">\n",
       "      <th></th>\n",
       "      <th>mesp</th>\n",
       "      <th>year</th>\n",
       "      <th>prem</th>\n",
       "      <th>semanas</th>\n",
       "    </tr>\n",
       "  </thead>\n",
       "  <tbody>\n",
       "    <tr>\n",
       "      <th>count</th>\n",
       "      <td>7.979638e+06</td>\n",
       "      <td>7.979638e+06</td>\n",
       "      <td>7.979638e+06</td>\n",
       "      <td>7.245241e+06</td>\n",
       "    </tr>\n",
       "    <tr>\n",
       "      <th>mean</th>\n",
       "      <td>6.567206e+00</td>\n",
       "      <td>2.008489e+03</td>\n",
       "      <td>1.071309e+00</td>\n",
       "      <td>3.653140e+01</td>\n",
       "    </tr>\n",
       "    <tr>\n",
       "      <th>std</th>\n",
       "      <td>3.438349e+00</td>\n",
       "      <td>5.017516e+00</td>\n",
       "      <td>2.573403e-01</td>\n",
       "      <td>9.724730e+00</td>\n",
       "    </tr>\n",
       "    <tr>\n",
       "      <th>min</th>\n",
       "      <td>1.000000e+00</td>\n",
       "      <td>2.000000e+03</td>\n",
       "      <td>1.000000e+00</td>\n",
       "      <td>0.000000e+00</td>\n",
       "    </tr>\n",
       "    <tr>\n",
       "      <th>25%</th>\n",
       "      <td>4.000000e+00</td>\n",
       "      <td>2.004000e+03</td>\n",
       "      <td>1.000000e+00</td>\n",
       "      <td>3.800000e+01</td>\n",
       "    </tr>\n",
       "    <tr>\n",
       "      <th>50%</th>\n",
       "      <td>7.000000e+00</td>\n",
       "      <td>2.008000e+03</td>\n",
       "      <td>1.000000e+00</td>\n",
       "      <td>3.900000e+01</td>\n",
       "    </tr>\n",
       "    <tr>\n",
       "      <th>75%</th>\n",
       "      <td>1.000000e+01</td>\n",
       "      <td>2.013000e+03</td>\n",
       "      <td>1.000000e+00</td>\n",
       "      <td>4.000000e+01</td>\n",
       "    </tr>\n",
       "    <tr>\n",
       "      <th>max</th>\n",
       "      <td>1.200000e+01</td>\n",
       "      <td>2.017000e+03</td>\n",
       "      <td>2.000000e+00</td>\n",
       "      <td>4.600000e+01</td>\n",
       "    </tr>\n",
       "  </tbody>\n",
       "</table>\n",
       "</div>"
      ],
      "text/plain": [
       "               mesp          year          prem       semanas\n",
       "count  7.979638e+06  7.979638e+06  7.979638e+06  7.245241e+06\n",
       "mean   6.567206e+00  2.008489e+03  1.071309e+00  3.653140e+01\n",
       "std    3.438349e+00  5.017516e+00  2.573403e-01  9.724730e+00\n",
       "min    1.000000e+00  2.000000e+03  1.000000e+00  0.000000e+00\n",
       "25%    4.000000e+00  2.004000e+03  1.000000e+00  3.800000e+01\n",
       "50%    7.000000e+00  2.008000e+03  1.000000e+00  3.900000e+01\n",
       "75%    1.000000e+01  2.013000e+03  1.000000e+00  4.000000e+01\n",
       "max    1.200000e+01  2.017000e+03  2.000000e+00  4.600000e+01"
      ]
     },
     "execution_count": 48,
     "metadata": {},
     "output_type": "execute_result"
    }
   ],
   "source": [
    "df_births3 = pd.read_stata('data/data_births_20110196.dta')\n",
    "df_births3.head()\n",
    "\n",
    "df_births3.year = df_births3.year.astype(int)\n",
    "df_births3.mesp = df_births3.mesp.astype(int)\n",
    "df_births3.prem = df_births3.prem.astype(int)\n",
    "\n",
    "# append data frame \n",
    "    \n",
    "years = [\"2011\", \"2012\", \"2013\", \"2014\", \"2015\", \"2016\", \"2017\"]\n",
    "\n",
    "list_2011_2017 = []\n",
    "for year in years:\n",
    "    path = \"data/partos_\"+year+\".csv\"\n",
    "    df = pd.read_csv(path, sep = ';')\n",
    "    list_2011_2017.append(df)\n",
    "         \n",
    "x = 0\n",
    "while x < 7:\n",
    "    list_2011_2017[x].year = list_2011_2017[x].year.astype(int)\n",
    "    list_2011_2017[x].mesp = list_2011_2017[x].mesp.astype(int)\n",
    "    list_2011_2017[x].prem = list_2011_2017[x].prem.astype(int)\n",
    "    df_births3 = df_births3.append(list_2011_2017[x], ignore_index = True)\n",
    "    x += 1\n",
    "        \n",
    "df_births3.describe()\n"
   ]
  },
  {
   "cell_type": "code",
   "execution_count": 49,
   "metadata": {},
   "outputs": [],
   "source": [
    "# Create month of birth variable\n",
    "df_births3['m'] = np.nan\n",
    "\n",
    "x = 0\n",
    "while x < 18:\n",
    "    df_births3.loc[df_births3['year'] == 2017 - x, 'm'] = df_births3['mesp'] + 5 - (x*12)\n",
    "    x += 1\n",
    "    \n",
    "df_births3.loc[df_births3['year']==2016, ['year', 'mesp', 'm']]\n",
    "\n",
    "####\n",
    "# Create month of conception (sophisticated version)\n",
    "\n",
    "df_births3['mc'] = np.where((df_births3['prem'] == 2) |\n",
    "        # if premature baby subtract only 8 months to get month of conception\n",
    "        ((0 < df_births3['semanas']) & (df_births3['semanas'] < 39)), df_births3['m'] - 8,\n",
    "        # otherwise if baby was born only after 43 months --> -10\n",
    "        np.where(df_births3['semanas'] > 43, df_births3['m'] - 10,\n",
    "        # otherwise  - 9\n",
    "        df_births3['m'] - 9))\n",
    "\n",
    "df_births3['n'] = 1\n",
    "dfp = df_births3.groupby('mc', as_index = False)['n'].count()"
   ]
  },
  {
   "cell_type": "code",
   "execution_count": 50,
   "metadata": {},
   "outputs": [],
   "source": [
    "####\n",
    "# Create calender month of conception:\n",
    "\n",
    "dfp['month'] = 0\n",
    "\n",
    "for i in range(3):\n",
    "    dfp.loc[dfp['mc'] == 0 + 12*i, 'month'] = 7\n",
    "    dfp.loc[dfp['mc'] == 1 + 12*i, 'month'] = 8\n",
    "    dfp.loc[dfp['mc'] == 2 + 12*i, 'month'] = 9\n",
    "    dfp.loc[dfp['mc'] == 3 + 12*i, 'month'] = 10\n",
    "    dfp.loc[dfp['mc'] == 4 + 12*i, 'month'] = 11\n",
    "    dfp.loc[dfp['mc'] == 5 + 12*i, 'month'] = 12\n",
    "    dfp.loc[dfp['mc'] == 6 + 12*i, 'month'] = 1\n",
    "    dfp.loc[dfp['mc'] == 7 + 12*i, 'month'] = 2\n",
    "    dfp.loc[dfp['mc'] == 8 + 12*i, 'month'] = 3\n",
    "    dfp.loc[dfp['mc'] == 9 + 12*i, 'month'] = 4\n",
    "    dfp.loc[dfp['mc'] == 10 + 12*i, 'month'] = 5\n",
    "    dfp.loc[dfp['mc'] == 11 + 12*i, 'month'] = 6\n",
    "       \n",
    "for i in range(18):\n",
    "    dfp.loc[dfp['mc'] == -1 - 12*i, 'month'] = 6\n",
    "    dfp.loc[dfp['mc'] == -2 - 12*i, 'month'] = 5\n",
    "    dfp.loc[dfp['mc'] == -3 - 12*i, 'month'] = 4\n",
    "    dfp.loc[dfp['mc'] == -4 - 12*i, 'month'] = 3\n",
    "    dfp.loc[dfp['mc'] == -5 - 12*i, 'month'] = 2\n",
    "    dfp.loc[dfp['mc'] == -6 - 12*i, 'month'] = 1\n",
    "    dfp.loc[dfp['mc'] == -7 - 12*i, 'month'] = 12\n",
    "    dfp.loc[dfp['mc'] == -8 - 12*i, 'month'] = 11\n",
    "    dfp.loc[dfp['mc'] == -9 - 12*i, 'month'] = 10\n",
    "    dfp.loc[dfp['mc'] == -10 - 12*i, 'month'] = 9\n",
    "    dfp.loc[dfp['mc'] == -11 - 12*i, 'month'] = 8\n",
    "    dfp.loc[dfp['mc'] == -12 - 12*i, 'month'] = 7\n",
    "\n",
    "sum(dfp['month'] == 0)\n",
    "\n",
    "# generate July indicator\n",
    "dfp['july'] = np.where(dfp['month'] == 7, 1, 0)\n",
    "\n",
    "\n",
    "\n",
    "# number of days in a month\n",
    "dfp['days'] = np.where((dfp['mc'] == -5) | (dfp['mc'] == -53) |\n",
    "        (dfp['mc'] == -101) | (dfp['mc'] == -149) | (dfp['mc'] == -197), 29,\n",
    "        # for all other feburarys\n",
    "        np.where(dfp['month'] == 2, 28,\n",
    "        # for April, June, September, November\n",
    "        np.where((dfp['month'] == 4) | (dfp['month'] == 6) |\n",
    "                (dfp['month'] == 9) | (dfp['month'] == 11), 30, 31)))\n",
    "\n",
    "\n",
    "# indicator for treatment group (post-policy conception), i.e. after June 2007\n",
    "dfp['post'] = np.where(dfp['mc'] >= 0, 1, 0)\n",
    "\n",
    "# quadratic and cubic mc:\n",
    "dfp['mc2'] = dfp['mc']*dfp['mc']\n",
    "dfp['mc3'] = dfp['mc']*dfp['mc']*dfp['mc']\n",
    "\n",
    "dfp[['mc','mc2','mc3']].head()\n",
    "\n",
    "# natural log of number of obs n\n",
    "dfp['ln'] = np.log(dfp['n'])\n"
   ]
  },
  {
   "cell_type": "code",
   "execution_count": 51,
   "metadata": {},
   "outputs": [
    {
     "name": "stdout",
     "output_type": "stream",
     "text": [
      "————————————————————————————————————————\n",
      "                 RDD (1)     RDD (2)\n",
      "                9 months    3 months\n",
      "————————————————————————————————————————\n",
      "Conceptions       0.0480      0.0085                                        \n",
      "                  0.0339      0.0234                                        \n",
      "            \u001b[1m      0.1567\u001b[0m\u001b[1m      0.7152\u001b[0m"
     ]
    }
   ],
   "source": [
    "# create necessary subsets of dfp\n",
    "dfp_list = list()\n",
    "\n",
    "dfp_list.append(dfp.loc[(dfp['mc']>-10) & (dfp['mc']<9)]) # 9 months\n",
    "dfp_list.append(dfp.loc[(dfp['mc']>-4) & (dfp['mc']<3)]) # 3 months\n",
    "\n",
    "reg1 = smf.ols(formula =\n",
    "        'ln ~ post + mc + post*mc + days', data=dfp_list[0]).fit(cov_type='HC1')\n",
    "reg2 = smf.ols(formula =\n",
    "        'ln ~ post + days', data=dfp_list[1]).fit(cov_type='HC1')\n",
    "\n",
    "\n",
    "# store regessions in list\n",
    "reg_list_p = [reg1, reg2]\n",
    "\n",
    "# Make a table equivalent to Table 2 with coefficients and se for post variable\n",
    "print('\\u2014'*40)\n",
    "print('{:<12s}{:>12s}{:>12s}'\n",
    "      .format(\"\", \"RDD (1)\", \"RDD (2)\"))\n",
    "print('{:<12s}{:>12s}{:>12s}'\n",
    "      .format(\"\", \"9 months\", \"3 months\"))\n",
    "print('\\u2014'*40)\n",
    "print('{:<12s}'.format(\"Conceptions\"), end=\"\")\n",
    "for i in range(len(reg_list_p)):\n",
    "    print ('{:>12.4f}'.format(reg_list_p[i].params.post), end=\"\")\n",
    "print(\" \"*40)\n",
    "print('{:<12s}'.format(\"\"), end=\"\")\n",
    "for j in range(len(reg_list_p)):\n",
    "    print ('{:>12.4f}'.format(reg_list_p[j].bse.post), end=\"\")\n",
    "print(\" \"*40)\n",
    "print('{:<12s}'.format(\"\"), end=\"\")\n",
    "for j in range(len(reg_list_p)):\n",
    "    print ('\\x1b[1m' '{:>12.4f}' '\\x1b[0m'.format(reg_list_p[j].pvalues.post), end=\"\")\n",
    "    \n"
   ]
  },
  {
   "cell_type": "markdown",
   "metadata": {},
   "source": [
    "Placebo test with respect to the cut-off month 07/2016 does not display a significant effect in the both feasible specifications. This supports the identification strategy."
   ]
  },
  {
   "cell_type": "markdown",
   "metadata": {},
   "source": [
    "### Cut-off Month: 05/2016"
   ]
  },
  {
   "cell_type": "code",
   "execution_count": 52,
   "metadata": {},
   "outputs": [
    {
     "data": {
      "text/html": [
       "<div>\n",
       "<style scoped>\n",
       "    .dataframe tbody tr th:only-of-type {\n",
       "        vertical-align: middle;\n",
       "    }\n",
       "\n",
       "    .dataframe tbody tr th {\n",
       "        vertical-align: top;\n",
       "    }\n",
       "\n",
       "    .dataframe thead th {\n",
       "        text-align: right;\n",
       "    }\n",
       "</style>\n",
       "<table border=\"1\" class=\"dataframe\">\n",
       "  <thead>\n",
       "    <tr style=\"text-align: right;\">\n",
       "      <th></th>\n",
       "      <th>mesp</th>\n",
       "      <th>year</th>\n",
       "      <th>prem</th>\n",
       "      <th>semanas</th>\n",
       "    </tr>\n",
       "  </thead>\n",
       "  <tbody>\n",
       "    <tr>\n",
       "      <th>count</th>\n",
       "      <td>7.979638e+06</td>\n",
       "      <td>7.979638e+06</td>\n",
       "      <td>7.979638e+06</td>\n",
       "      <td>7.245241e+06</td>\n",
       "    </tr>\n",
       "    <tr>\n",
       "      <th>mean</th>\n",
       "      <td>6.567206e+00</td>\n",
       "      <td>2.008489e+03</td>\n",
       "      <td>1.071309e+00</td>\n",
       "      <td>3.653140e+01</td>\n",
       "    </tr>\n",
       "    <tr>\n",
       "      <th>std</th>\n",
       "      <td>3.438349e+00</td>\n",
       "      <td>5.017516e+00</td>\n",
       "      <td>2.573403e-01</td>\n",
       "      <td>9.724730e+00</td>\n",
       "    </tr>\n",
       "    <tr>\n",
       "      <th>min</th>\n",
       "      <td>1.000000e+00</td>\n",
       "      <td>2.000000e+03</td>\n",
       "      <td>1.000000e+00</td>\n",
       "      <td>0.000000e+00</td>\n",
       "    </tr>\n",
       "    <tr>\n",
       "      <th>25%</th>\n",
       "      <td>4.000000e+00</td>\n",
       "      <td>2.004000e+03</td>\n",
       "      <td>1.000000e+00</td>\n",
       "      <td>3.800000e+01</td>\n",
       "    </tr>\n",
       "    <tr>\n",
       "      <th>50%</th>\n",
       "      <td>7.000000e+00</td>\n",
       "      <td>2.008000e+03</td>\n",
       "      <td>1.000000e+00</td>\n",
       "      <td>3.900000e+01</td>\n",
       "    </tr>\n",
       "    <tr>\n",
       "      <th>75%</th>\n",
       "      <td>1.000000e+01</td>\n",
       "      <td>2.013000e+03</td>\n",
       "      <td>1.000000e+00</td>\n",
       "      <td>4.000000e+01</td>\n",
       "    </tr>\n",
       "    <tr>\n",
       "      <th>max</th>\n",
       "      <td>1.200000e+01</td>\n",
       "      <td>2.017000e+03</td>\n",
       "      <td>2.000000e+00</td>\n",
       "      <td>4.600000e+01</td>\n",
       "    </tr>\n",
       "  </tbody>\n",
       "</table>\n",
       "</div>"
      ],
      "text/plain": [
       "               mesp          year          prem       semanas\n",
       "count  7.979638e+06  7.979638e+06  7.979638e+06  7.245241e+06\n",
       "mean   6.567206e+00  2.008489e+03  1.071309e+00  3.653140e+01\n",
       "std    3.438349e+00  5.017516e+00  2.573403e-01  9.724730e+00\n",
       "min    1.000000e+00  2.000000e+03  1.000000e+00  0.000000e+00\n",
       "25%    4.000000e+00  2.004000e+03  1.000000e+00  3.800000e+01\n",
       "50%    7.000000e+00  2.008000e+03  1.000000e+00  3.900000e+01\n",
       "75%    1.000000e+01  2.013000e+03  1.000000e+00  4.000000e+01\n",
       "max    1.200000e+01  2.017000e+03  2.000000e+00  4.600000e+01"
      ]
     },
     "execution_count": 52,
     "metadata": {},
     "output_type": "execute_result"
    }
   ],
   "source": [
    "\n",
    "\n",
    "df_births4 = pd.read_stata('data/data_births_20110196.dta')\n",
    "df_births4.head()\n",
    "\n",
    "df_births4.year = df_births4.year.astype(int)\n",
    "df_births4.mesp = df_births4.mesp.astype(int)\n",
    "df_births4.prem = df_births4.prem.astype(int)\n",
    "\n",
    "# append data frame \n",
    "    \n",
    "years = [\"2011\", \"2012\", \"2013\", \"2014\", \"2015\", \"2016\", \"2017\"]\n",
    "\n",
    "list_2011_2017 = []\n",
    "for year in years:\n",
    "    path = \"data/partos_\"+year+\".csv\"\n",
    "    df = pd.read_csv(path, sep = ';')\n",
    "    list_2011_2017.append(df)\n",
    "         \n",
    "x = 0\n",
    "while x < 7:\n",
    "    list_2011_2017[x].year = list_2011_2017[x].year.astype(int)\n",
    "    list_2011_2017[x].mesp = list_2011_2017[x].mesp.astype(int)\n",
    "    list_2011_2017[x].prem = list_2011_2017[x].prem.astype(int)\n",
    "    df_births4 = df_births4.append(list_2011_2017[x], ignore_index = True)\n",
    "    x += 1\n",
    "        \n",
    "df_births4.describe()"
   ]
  },
  {
   "cell_type": "code",
   "execution_count": 53,
   "metadata": {},
   "outputs": [],
   "source": [
    "# Create month of birth variable\n",
    "df_births4['m'] = np.nan\n",
    "\n",
    "x = 0\n",
    "while x < 18:\n",
    "    df_births4.loc[df_births4['year'] == 2017 - x, 'm'] = df_births4['mesp'] + 7 - (x*12)\n",
    "    x += 1\n",
    "    \n",
    "df_births4.loc[df_births4['year']==2016, ['year', 'mesp', 'm']]\n",
    "\n",
    "####\n",
    "# Create month of conception (sophisticated version)\n",
    "\n",
    "df_births4['mc'] = np.where((df_births4['prem'] == 2) |\n",
    "        # if premature baby subtract only 8 months to get month of conception\n",
    "        ((0 < df_births4['semanas']) & (df_births4['semanas'] < 39)), df_births4['m'] - 8,\n",
    "        # otherwise if baby was born only after 43 months --> -10\n",
    "        np.where(df_births4['semanas'] > 43, df_births4['m'] - 10,\n",
    "        # otherwise  - 9\n",
    "        df_births4['m'] - 9))\n",
    "\n",
    "df_births4['n'] = 1\n",
    "dfp2 = df_births4.groupby('mc', as_index = False)['n'].count()\n"
   ]
  },
  {
   "cell_type": "code",
   "execution_count": 54,
   "metadata": {},
   "outputs": [
    {
     "name": "stdout",
     "output_type": "stream",
     "text": [
      "————————————————————————————————————————\n",
      "                 RDD (1)     RDD (2)\n",
      "                9 months    3 months\n",
      "————————————————————————————————————————\n",
      "Conceptions      -0.0987     -0.0445                                        \n",
      "                  0.0373      0.0160                                        \n",
      "            \u001b[1m      0.0081\u001b[0m\u001b[1m      0.0055\u001b[0m"
     ]
    }
   ],
   "source": [
    "####\n",
    "# Create calender month of conception:\n",
    "\n",
    "dfp2['month'] = 0\n",
    "\n",
    "for i in range(3):\n",
    "    dfp2.loc[dfp2['mc'] == 0 + 12*i, 'month'] = 5\n",
    "    dfp2.loc[dfp2['mc'] == 1 + 12*i, 'month'] = 6\n",
    "    dfp2.loc[dfp2['mc'] == 2 + 12*i, 'month'] = 7\n",
    "    dfp2.loc[dfp2['mc'] == 3 + 12*i, 'month'] = 8\n",
    "    dfp2.loc[dfp2['mc'] == 4 + 12*i, 'month'] = 9\n",
    "    dfp2.loc[dfp2['mc'] == 5 + 12*i, 'month'] = 10\n",
    "    dfp2.loc[dfp2['mc'] == 6 + 12*i, 'month'] = 11\n",
    "    dfp2.loc[dfp2['mc'] == 7 + 12*i, 'month'] = 12\n",
    "    dfp2.loc[dfp2['mc'] == 8 + 12*i, 'month'] = 1\n",
    "    dfp2.loc[dfp2['mc'] == 9 + 12*i, 'month'] = 2\n",
    "    dfp2.loc[dfp2['mc'] == 10 + 12*i, 'month'] = 3\n",
    "    dfp2.loc[dfp2['mc'] == 11 + 12*i, 'month'] = 4\n",
    "       \n",
    "for i in range(18):\n",
    "    dfp2.loc[dfp2['mc'] == -1 - 12*i, 'month'] = 4\n",
    "    dfp2.loc[dfp2['mc'] == -2 - 12*i, 'month'] = 3\n",
    "    dfp2.loc[dfp2['mc'] == -3 - 12*i, 'month'] = 2\n",
    "    dfp2.loc[dfp2['mc'] == -4 - 12*i, 'month'] = 1\n",
    "    dfp2.loc[dfp2['mc'] == -5 - 12*i, 'month'] = 12\n",
    "    dfp2.loc[dfp2['mc'] == -6 - 12*i, 'month'] = 11\n",
    "    dfp2.loc[dfp2['mc'] == -7 - 12*i, 'month'] = 10\n",
    "    dfp2.loc[dfp2['mc'] == -8 - 12*i, 'month'] = 9\n",
    "    dfp2.loc[dfp2['mc'] == -9 - 12*i, 'month'] = 8\n",
    "    dfp2.loc[dfp2['mc'] == -10 - 12*i, 'month'] = 7\n",
    "    dfp2.loc[dfp2['mc'] == -11 - 12*i, 'month'] = 6\n",
    "    dfp2.loc[dfp2['mc'] == -12 - 12*i, 'month'] = 5\n",
    "\n",
    "sum(dfp2['month'] == 0)\n",
    "\n",
    "# generate May indicator\n",
    "dfp2['may'] = np.where(dfp2['month'] == 5, 1, 0)\n",
    "\n",
    "\n",
    "\n",
    "# number of days in a month\n",
    "dfp2['days'] = np.where((dfp2['mc'] == -3) | (dfp2['mc'] == -51) |\n",
    "        (dfp2['mc'] == -99) | (dfp2['mc'] == -147) | (dfp2['mc'] == -195), 29,\n",
    "        # for all other feburarys\n",
    "        np.where(dfp2['month'] == 2, 28,\n",
    "        # for April, June, September, November\n",
    "        np.where((dfp2['month'] == 4) | (dfp2['month'] == 6) |\n",
    "                (dfp2['month'] == 9) | (dfp2['month'] == 11), 30, 31)))\n",
    "\n",
    "\n",
    "# indicator for treatment group (post-policy conception), i.e. after June 2007\n",
    "dfp2['post'] = np.where(dfp2['mc'] >= 0, 1, 0)\n",
    "\n",
    "# quadratic and cubic mc:\n",
    "dfp2['mc2'] = dfp2['mc']*dfp2['mc']\n",
    "dfp2['mc3'] = dfp2['mc']*dfp2['mc']*dfp2['mc']\n",
    "\n",
    "dfp2[['mc','mc2','mc3']].head()\n",
    "\n",
    "# natural log of number of obs n\n",
    "dfp2['ln'] = np.log(dfp2['n'])\n",
    "\n",
    "\n",
    "# create necessary subsets of dfp2\n",
    "dfp2_list = list()\n",
    "\n",
    "dfp2_list.append(dfp2.loc[(dfp2['mc']>-10) & (dfp2['mc']<9)]) # 9 months\n",
    "dfp2_list.append(dfp2.loc[(dfp2['mc']>-4) & (dfp2['mc']<3)]) # 3 months\n",
    "\n",
    "reg1 = smf.ols(formula =\n",
    "        'ln ~ post + mc + post*mc + days', data=dfp2_list[0]).fit(cov_type='HC1')\n",
    "reg2 = smf.ols(formula =\n",
    "        'ln ~ post + days', data=dfp2_list[1]).fit(cov_type='HC1')\n",
    "\n",
    "\n",
    "# store regessions in list\n",
    "reg_list_p2 = [reg1, reg2]\n",
    "\n",
    "# Make a table equivalent to Table 2 with coefficients and se for post variable\n",
    "print('\\u2014'*40)\n",
    "print('{:<12s}{:>12s}{:>12s}'\n",
    "      .format(\"\", \"RDD (1)\", \"RDD (2)\"))\n",
    "print('{:<12s}{:>12s}{:>12s}'\n",
    "      .format(\"\", \"9 months\", \"3 months\"))\n",
    "print('\\u2014'*40)\n",
    "print('{:<12s}'.format(\"Conceptions\"), end=\"\")\n",
    "for i in range(len(reg_list_p2)):\n",
    "    print ('{:>12.4f}'.format(reg_list_p2[i].params.post), end=\"\")\n",
    "print(\" \"*40)\n",
    "print('{:<12s}'.format(\"\"), end=\"\")\n",
    "for j in range(len(reg_list_p2)):\n",
    "    print ('{:>12.4f}'.format(reg_list_p2[j].bse.post), end=\"\")\n",
    "print(\" \"*40)\n",
    "print('{:<12s}'.format(\"\"), end=\"\")\n",
    "for j in range(len(reg_list_p2)):\n",
    "    print ('\\x1b[1m' '{:>12.4f}' '\\x1b[0m'.format(reg_list_p2[j].pvalues.post), end=\"\")\n"
   ]
  },
  {
   "cell_type": "markdown",
   "metadata": {},
   "source": [
    "The placebo test with respect to the cut-off month 05/2016 suggests a significant decrease in conceptions. This is probably driven by seasonality and casts doubts on the general identification streategy using RDD. However, since applying a Diff-in-Diff is not feasible in this context, it remains unclear whether such an approach would be able to appropriately account for seasonality. In any case, the placebo test suggests a cautious interpretation of the above described findings regarding the abolishment of the policy."
   ]
  },
  {
   "cell_type": "markdown",
   "metadata": {},
   "source": [
    "<a id='conclusion'></a>\n",
    "## 6.) Conclusion"
   ]
  },
  {
   "cell_type": "markdown",
   "metadata": {},
   "source": [
    "<a id='references'></a>\n",
    "## References"
   ]
  },
  {
   "cell_type": "markdown",
   "metadata": {},
   "source": [
    "\n",
    "Frölich, M., & Sperlich, S. (2019). Impact evaluation. Cambridge University Press.\n",
    "\n",
    "González, L. (2013). The effect of a universal child benefit on conceptions, abortions, and early maternal labor supply. American Economic Journal: Economic Policy, 5(3), 160-88.\n",
    "\n",
    "Hahn, J., Todd, P., & Van der Klaauw, W. (2001). Identification and estimation of treatment effects with a regression‐discontinuity design. Econometrica, 69(1), 201-209.\n",
    "\n",
    "Hausman, C., & Rapson, D. S. (2018). Regression discontinuity in time: Considerations for empirical applications. Annual Review of Resource Economics, 10, 533-552.\n",
    "\n",
    "Lee, D. S., & Lemieux, T. (2010). Regression discontinuity designs in economics. Journal of economic literature, 48(2), 281-355.\n",
    "\n",
    "Morgan, S. L., & Winship, C. (2015). Counterfactuals and causal inference. Cambridge University Press.\n",
    "\n",
    "Newey, W. K., & West, K. D. (1987). A Simple, Positive Semi-Definite, Heteroskedasticity and Autocorrelation Consistent Covariance Matrix. Econometrica: Journal of the Econometric Society, 703-708.\n",
    "\n",
    "Rubin, D. B. (1974). Estimating causal effects of treatments in randomized and nonrandomized studies. Journal of educational Psychology, 66(5), 688.\n",
    "\n",
    "Thistlethwaite, D. L., & Campbell, D. T. (1960). Regression-discontinuity analysis: An alternative to the ex post facto experiment. Journal of Educational psychology, 51(6), 309.\n"
   ]
  },
  {
   "cell_type": "markdown",
   "metadata": {},
   "source": [
    "<a id='appendix'></a>\n",
    "## Appendix"
   ]
  },
  {
   "cell_type": "code",
   "execution_count": null,
   "metadata": {},
   "outputs": [],
   "source": []
  }
 ],
 "metadata": {
  "kernelspec": {
   "display_name": "Python 3",
   "language": "python",
   "name": "python3"
  },
  "language_info": {
   "codemirror_mode": {
    "name": "ipython",
    "version": 3
   },
   "file_extension": ".py",
   "mimetype": "text/x-python",
   "name": "python",
   "nbconvert_exporter": "python",
   "pygments_lexer": "ipython3",
   "version": "3.7.1"
  },
  "varInspector": {
   "cols": {
    "lenName": 16,
    "lenType": 16,
    "lenVar": 40
   },
   "kernels_config": {
    "python": {
     "delete_cmd_postfix": "",
     "delete_cmd_prefix": "del ",
     "library": "var_list.py",
     "varRefreshCmd": "print(var_dic_list())"
    },
    "r": {
     "delete_cmd_postfix": ") ",
     "delete_cmd_prefix": "rm(",
     "library": "var_list.r",
     "varRefreshCmd": "cat(var_dic_list()) "
    }
   },
   "types_to_exclude": [
    "module",
    "function",
    "builtin_function_or_method",
    "instance",
    "_Feature"
   ],
   "window_display": false
  }
 },
 "nbformat": 4,
 "nbformat_minor": 1
}
