{
 "cells": [
  {
   "cell_type": "markdown",
   "metadata": {},
   "source": [
    "# The effect of a Universal Child Benefit - González (2013) Revisited\n",
    "\n",
    "### A Project by Antonia Entorf & Marc Lipfert"
   ]
  },
  {
   "cell_type": "markdown",
   "metadata": {},
   "source": [
    "## Overview\n",
    "\n",
    "This notebook replicates the main results presented in the following article:   \n",
    "\n",
    "González, L. (2013): [The Effect of a Universal Child Benefit on Conceptions, Abortions, and Early Maternal Labor Supply](https://www.aeaweb.org/articles?id=10.1257/pol.5.3.160). American Economic Journal: Economic Policy 5(3): 160–188.\n",
    "\n",
    "In that article, the author investigates the effects of a universal child benefit on fertility, household expenditure patterns and maternal labor supply. In particular, she exploits the unanticipated introduction of such a policy that took place in Spain in 2007 by utilizing a sharp Regression Discontinuity Design.\n",
    "\n",
    "The author's results suggest a significant increase in fertility, partly driven by a reduction in the number of abortions. Furthermore, she finds no effect on overall household expenditures, a significantly negative effect on mothers' labor supply during the year after giving birth and significantly lower use of formal day care.\n",
    "\n",
    "Apart from replicating key findings presented by González, our aim is to enrich her analysis with respect to two major aspects. First, we will conduct a critical assessment of the author's empircal work. For this, we will examine whether accounting for autocorrelation is necessary in the given context and show revised estimates based on a more precise computation of the month of conception. Secondly, we will perform further analyses. On the one hand, since the benefit was suspended in the aftermath of the financial crisis, we will exploit this fact and apply the identical research design to the abolishment of the policy in order to study the effect on conceptions. On the other hand, we will investigate the general reliability of the research design by executing two Placebo tests and a simulation study."
   ]
  },
  {
   "cell_type": "markdown",
   "metadata": {},
   "source": [
    "## Table of Contents\n",
    "\n",
    "[1.) Description of the Policy and of its (potential) Effects (Antonia)](#policy) \n",
    "\n",
    "[2.) Empirical Strategy (Marc)](#empirical_strategy)\n",
    "\n",
    "[3.) Replication of Main Results](#replication)\n",
    "\n",
    "$\\qquad$ [3.1) Fertility (Antonia)](#fertility)\n",
    "   \n",
    "$\\qquad$ [3.2) Household Expenditure and Labor Supply (Marc)](#hbs_lfs)\n",
    "\n",
    "[4.) Critical Assesment of the Author's Empirical Work](#critique)\n",
    "\n",
    "$\\qquad$ [4.1) Autocorrelation (Marc)](#autocorr)\n",
    "   \n",
    "$\\qquad$ [4.2) Computing Month of Conception More Precisely (Antonia)](#mc_revised)\n",
    "   \n",
    "$\\qquad$ [4.3) Global vs. Local Polynomial Time Trend (Marc)](#global_poly)\n",
    "\n",
    "[5.) Further Analyses](#further_analyses)\n",
    "\n",
    "$\\qquad$ [5.1) Abolishment of the Policy (Marc)](#abolishment)\n",
    "   \n",
    "$\\qquad$ [5.2) General Reliability of the Research Design](#reliability)\n",
    "\n",
    "$\\qquad$ $\\qquad$ [5.2.1) Placebo Tests (Marc)](#placebo)\n",
    "\n",
    "$\\qquad$ $\\qquad$ [5.2.2) Simulation Study (Antonia)](#simulation)\n",
    "\n",
    "[6.) Conclusion](#conclusion)\n",
    "\n",
    "[References](#references)\n",
    "\n",
    "[Appendix](#appendix)"
   ]
  },
  {
   "cell_type": "markdown",
   "metadata": {},
   "source": [
    "<a id='policy'></a>\n",
    "## 1.) Description of the Policy and of its (potential) Effects "
   ]
  },
  {
   "cell_type": "markdown",
   "metadata": {},
   "source": [
    "On July 3, 2007, the Spanish government announced the introduction of a universal child benefit. Mothers giving birth from July 1, 2007, onwards were eligible to receive a one-time cash payment of 2,500€. The only requirement was being a legal resident of Spain for at least two years prior to the date of birth. Official reports by the Spanish tax authorities suggest a take-up rate of at least 95% (González 2013: p. 163) which implies that the policy was known and relevant.\n",
    "\n",
    "González (2013) analyzes the effect of this child benefit on the monthly number of conceptions and abortions as well as on household expenditures, maternal labor supply and the use of day care. She uses a sharp regression discontinuity design (RDD) for her analysis, where the running variable is time and the treatment variable is equal to 1 from July 2007 onwards and 0 beforehand.\n",
    "\n",
    "An aspect that could subsequently cause problems for the estimation of the effect of the policy is self-selection into treatment. In this particular setting one could imagine that women try to postpone birth in order to give birth after the cutoff date and not before. This scenario seems especially plausible for low income families who are in greater need of the cash payment. Therefore, mothers giving birth right before and right after the cutoff could differ in personal characteristics, such as income and education. This could lead to a bias in the estimated treatment effect if low income families react differently to receiving treatment compared to high income families and, additionally, the data often does not permit to control for these personal characteristics.\n",
    "\n",
    "However, self-selection into treatment was not possible in the given setting because the introduction of the policy happened unexpectedly and the announcement was even two days after the actual cutoff date. These two aspects rule out the possibility to postpone birth in order to receive the benefit."
   ]
  },
  {
   "cell_type": "markdown",
   "metadata": {},
   "source": [
    "**Effects on Fertility**"
   ]
  },
  {
   "cell_type": "markdown",
   "metadata": {},
   "source": [
    "<img src=\"causal-graphs/causal-graph-fertility.png\" width=\"700\" />"
   ]
  },
  {
   "cell_type": "markdown",
   "metadata": {},
   "source": [
    "Following Pearl (2000), we use graphical models to shed light on the (assumed) causal relationships between the involved variables. The causal graph above represents two regression analyses conducted in the article. First, González is interested in the effect of the introduction of the child benefit on the number of conceptions per month ($Y_1$) and, secondly, on the number of abortions per month ($Y_2$). Thus, the binary treatment variable, $D$, represents the introduction of the child benefit and $Y_1$ as well as $Y_2$ are the dependent variables. In this graph, the treatment should be interpreted as having the possibility to get the benefit and not as already having received the benefit.\n",
    "\n",
    "The running variable, time $T$, determines assignment to treatment and, furthermore, influences conceptions and abortions through seasonality effects. The treatment variable is supposed to influence conceptions and abortions, which both determine the number of births. Furthermore, the number of abortions is influenced by the number of conceptions.\n",
    "\n",
    "Drawing again on Pearl (2000), we consider back-door paths from the treatment variable $D$ to the dependent variables. As can be inferred from the graph, there are the paths $D \\leftarrow T \\rightarrow Y_1$ and $D \\leftarrow T \\rightarrow Y_2$. The effect of $D$ on $Y_1$ and $Y_2$ is confounded by $T$. Therefore, it is necessary to condition on $T$ to block the back-door path and, thereby, to obtain an unbiased estimate of the treatment effect. This is done by the author by specifying a time trend which is then employed in her regression analysis.\n",
    "\n",
    "Considering the identification of the causal effect of $D$ on $Y_2$, one can see that the total treatment effect is also influenced by the effect of $D$ on $Y_1$. This appears to be plausible as changes in the number of conceptions are likely to affect the number of abortions. Thus, the estimated effect of $D$ on $Y_2$ usually cannot be interpreted as partial (direct) effect but as total impact of the policy. The only exception would be the change in $Y_2$ observed shortly after the introduction of the policy since the channel through $Y_1$ needs some time to make an impact.\n",
    "\n",
    "It is important to note that we actually do not observe the number of *conceptions* per month but only the monthly number of *births*. González' idea was then to calculate the month of conception based on the month of birth by subtracting the approximate number of months a woman was pregnant. However, birth is a collider variable mutually depending on conceptions and abortions. Thus, when calculating conceptions while ignoring abortions our results might not be accurate. To illustrate this, imagine that the treatment does not at all affect the number of conceptions. However, at the same time many treated women decide against an abortion while their untreated counterfactual would have decided for an abortion. Thus, the treatment causes a reduction in the number of abortions which, clearly, leads to an increase in the number of births. If we then calculate conceptions based on births, it would look like an increase in the number of conceptions, although this number was unchanged. Therefore, one must bear in mind that a change in the conceptions variable can be partly driven by a change in the abortions variable. The author also mentions this dependence of the conceptions variable on abortions and communicates her estimated effect as the impact on fertility.\n",
    "\n",
    "Finally, the identifying assumption of a RDD, as described in more detail in the following section, is that unobservable factors ($U$) do not have a discontinuous effect on $Y_1$ and $Y_2$ around the introduction of the policy."
   ]
  },
  {
   "cell_type": "markdown",
   "metadata": {},
   "source": [
    "**Effects on Economic Variables**"
   ]
  },
  {
   "cell_type": "markdown",
   "metadata": {},
   "source": [
    "<img src=\"causal-graphs/causal-graph-economic-variables.png\" width=\"600\" />"
   ]
  },
  {
   "cell_type": "markdown",
   "metadata": {},
   "source": [
    "The second causal graph represents the remaining three regression analyses of the article. Now, the dependent variables are household expenditures, maternal labor supply and day care use.\n",
    "\n",
    "There is a slight difference in the interpretation of the treatment variable, $D$, compared to the first causal graph. This time, $D$ should be interpreted as already having received the cash payment, because González compares families *having* children shortly before and after the cut-off date.\n",
    "\n",
    "Again, $T$ determines treatment status, $D$, and we are interested in the effects of $D$ on different outcome variables. At the threshold, treatment should be assigned “as-if” it happened randomly and differences between treatment and control group could only occur by chance since influencing the treatment status was not possible. Thus, we do not have any back-door path that needs to be blocked.\n",
    "\n",
    "The treatment effect on household expenditures ($Y_3$) seems to be identified given our assumed causal graph. Personal characteristics have an effect on $Y_3$, but they do not have an influence on $D$ and, therefore, they do not bias the estimated treatment effect. Still, controlling for them increases the precision of the obtained estimate. Further, it might be fruitful to investigate heterogeneous treatment effects of the cash payment on expenditures for rich and poor families, because one can plausibly expect them to be different. However, since the data set does not allow to draw on  household income, we must leave this as a hypothetical idea.\n",
    "\n",
    "Considering the causal effect on $Y_4$ and $Y_5$ requires a careful interpretation. The author does not mention any dependence between these two variables, but we argue that maternal labor supply and day care use influence each other. A mother who is not working may not need a day care for her child, and a mother who does not find a day care may not be able to work. Consequently, we have reverse causality between $Y_4$ and $Y_5$. In order to identify the effect, González does not condition on day care use in the regression with labor supply as dependent variable and vice versa. Thus, the estimated treatment effects should be interpreted as total effects and not as partial (direct) effects."
   ]
  },
  {
   "cell_type": "markdown",
   "metadata": {},
   "source": [
    "<a id='empirical_strategy'></a>\n",
    "## 2.) Empirical Strategy"
   ]
  },
  {
   "cell_type": "markdown",
   "metadata": {},
   "source": [
    "To illustrate the empirical strategy and its potential pitfalls, we make use of the potential outcome framework first proposed by Rubin (1974). Notation is borrowed from the textbooks by Morgan and Winship (2015) as well as Frölich and Sperlich (2019).\n",
    "\n",
    "The research question by González (2013) can be condensed as follows: she aims at quantifying the impact of the introduction of a universal child benefit on a range of outcome variables. Her study therefore constitutes a classical policy evaluation, i.e. an ex-post investigation in which the researcher seeks to obtain empirical evidence on the causal effect of a policy measure. The challenge, however, is that the outcome variables are typically affected by many other factors - otherwise one could simply conduct a before-after comparison. Therefore, the causal effect has to be disentangled from the influence of those confounding factors.\n",
    "\n",
    "Let $Y^d$ denote the potential outcome for treatment status $D = d$. Thus, $Y^1$ refers to the potential outcome with exposure to treatment and $Y^0$ to the potential outcome without treatment. The difference between them, $Y^1 - Y^0$, gives the causal eﬀect of the intervention. Naturally, both cannot be observed at the same time since treatment status is either $D = 1$ or $D = 0$.  The observed outcome $Y$ is given by: <a id='eq1'></a>\n",
    "\n",
    "\\begin{align*}\n",
    "\\text{(1)} \\qquad Y = (1 - D) \\cdot Y^0 + D \\cdot Y^1   \\text{ with } D \\in \\{0,1\\}.\n",
    "\\end{align*}\n",
    "\n",
    "In the given setting, the treatment status is determined by the variable $T$ (\"running variable\"), which is time in the given context: only mothers giving birth after a specified cut-off date $t_0$, i.e. July 1 2007, were eligible to claim the benefit. González (2013) provides several reasons why the treatment status can be viewed as being deterministically dependent on the running variable time, i.e. practically, all eligible mothers actually received the benefit. Importantly, administrative barriers were very low and merely entailed completing a one-page form. In 2008, the Spanish tax authorities reported paying out 491,557 child benefits which corresponds to 95% of the total number of births in that year (including ineligible mothers, i.e. those not having resided legally in Spain for at least two years before giving birth). Thus, treatment assignment can be formalized as follows: <a id='eq2'></a>\n",
    "\n",
    "\\begin{align*}\n",
    "\\text{(2)} \\qquad  D = \\boldsymbol{1} \\{T \\geq t_{0} \\}.\n",
    "\\end{align*}\n",
    "\n",
    "Taken together, such a setup lends itself to a sharp Regression Discontinuity Design (RDD). This identiﬁcation strategy, first introduced and applied by Thistlethwaite and Campbell (1960), exploits the discontinuous change in $D$ that occurs when the running variable $T$ reaches the known threshold value $t_0$. Then, under certain conditions, changes in the observed outcome $Y$ at the cut-oﬀ value $t_0$ can be ascribed to the alteration of the treatment status. Note, however, that this only allows causal inference at or around the threshold value, that is, a Local Average Treatment Effect (LATE) is retrieved. The evidence obtained regarding those local behavior changes can ususally not be generalised.\n",
    "\n",
    "A Regression Discontinuity Design is typically applied to cross-sectional data. Generally, denoting the treatment variable with $Z$ and the threshold value with $z_0$, a RDD allows to infer the causal effect of treatment without imposing extensive paramentric assumptions by simply comparing actual outcomes just below and right above the threshold $z_0$ - under the condition that there are many observations close to the cut-off value. In an ideal cross-sectional setting, clean identification is achieved even without conditioning on control variables. Hahn et. al. (2001) formalize this approach which, in more general notation, reads as follows: <a id='eq3'></a>\n",
    "\n",
    "\\begin{align*}\n",
    "\\text{(3)} \\qquad E[Y^{1}-Y^{0} | Z=z_{0}] = \\lim_{\\varepsilon \\to 0} E[Y|Z=z_{0}+\\varepsilon]-\\lim_{\\varepsilon \\to 0} E[Y|Z=z_{0}-\\varepsilon].\n",
    "\\end{align*}\n",
    "\n",
    "The only assumption necessary, in the cross-sectional case as well as when dealing with time series data, is that potential outcomes evolve smoothly around the cut-off value: if $Y^1$ or $Y^0$ were exhibiting a jump at the threshold anyway, it would not be possible to extract the causal impact of treatment which would render the whole method inapplicable. Following Lee and Lemieux (2010), this assumption is commonly violated when individuals can manipulate their value of the running variable $Z$ and intend to sort into or out of treatment. Drawing again on Hahn et. al. (2001) and using the notation that is more specific to the given context, the crucial identifying assumption $(A)$ can be stated as follows: <a id='A'></a>\n",
    "\n",
    "\\begin{align*}\n",
    "\\text{(A)} \\qquad E[Y^{d}|T=t] \\text{ continuous in } t \\text{ around } t_{0} \\text{ for } d \\in \\{0,1\\}.\n",
    "\\end{align*}\n",
    "\n",
    "Coming back to the actual setting, there are upsides and downsides. First, time as running variable and the particular features of time series data pose certain problematic issues. Secondly, sorting around the threshold can be ruled out in the matter at hand, but still smoothness of the potential outcomes cannot be claimed without further ado. Both aspects shall be discussed in the following.\n",
    "\n",
    "With regard to the fist point, it would be more precise to refer to the employed research design as Regression Discontinuity in Time (RDiT). Its corresponding pitfalls and the conceptual differences compared to the classical cross-sectional RDD are emphasised by Hausman and Rapson (2018).  For a start, once pure time series data is considered, the only way to reach an appropriate degree of statistical power is to expand the time frame. While in cross-sectional applications precision can, in principle, be raised by increasing the number of observations within a given bandwidth around the threshold, pure time series data has, by definition, only one observation per discrete point in time. This is for example the case when González (2013) analyzes the effect on conceptions - there she only has monthly sums available. However, drawing on observations further away from the cutoff-date constitutes a major departure from the cross-sectional approach described above. In particular, the method becomes more vulnerable to bias from unobserved confouding variables.\n",
    "\n",
    "Further, an inherent issue when dealing with time series data is that the error terms are likely to exhibit serial correlation. There are different solution approaches to address this problem, one of them would be the use of clustered standard errors. Alternatively, heteroscedasticity and autocorrelation robust estimation techniques can be employed, such as the one proposed by Newey and West (1987). Since González (2013) does not explicitly refer to this problem in her article, we will take up this issue later on. \n",
    "\n",
    "Regarding the second point, the setup in Spain is particularly suitable for applying a RDiT since anticipation effects and corresponding sorting around the threshold are ruled out. According to González (2013), the policy was unexpectedly announced on July 03, 2007, and the eligibility cut-off date was subsequently moved to July 01, 2007. Therefore, sorting into treatment is rendered practically impossible. \n",
    "\n",
    "Still, concerns that the key identification assumption [(A)](#A), i.e. smoothness of potential outcomes around the threshold, is violated are not overcome just by ruling out sorting around the threshold. The focus is therefore on other factors discontinuously affecting potential outcomes during the period under consideration. González (2013) argues that \"no  other  policy  changes  in  2007  or  thereafter  applied  differentially  to  children  born  before  and  after July 1, 2007\" - a claim that we can neither verify nor falsify. \n",
    "\n",
    "Apart from discontinuous policy changes, major concerns relate to seasonality effects and the overall time trend. While in the cleanest cross-sectional RDD one can retrieve an unbiased estimate of the causal effect without conditioning on control variables, those are needed in a RDiT setting to prevent bias. Clearly, controlling for the number of days of the month when considering monthly conceptions or abortions appears to be reasonable. Furthermore, it has to be accounted for the overall time trend as well as for monthly patterns if possible. \n",
    "\n",
    "Turing towards the regression equations that are actually estimated by the author, first consider the specification without calender month dummies: <a id='eq4'></a>\n",
    "\n",
    "\\begin{align*}\n",
    "\\text{(4)} \\qquad Y_m = \\alpha + \\theta \\cdot m + \\delta (m \\cdot D) + \\beta \\cdot D + \\lambda \\cdot X_m + \\epsilon_m.\n",
    "\\end{align*}\n",
    "\n",
    "This is applied to (the natural logarithm of) the number of conceptions (and subsequently also to the number of arbortions) in month $m$, in form of the dependent variable $Y_m$. The treatment effect is given by $\\beta$ which is the coefficient of the indicator variable $D$ taking value 1 beginning in July 2007, the month when the policy was adopted. $X_m$ denotes the number of calender days of the respective month. As can be seen from the equation, the running variable time, in form of month $m$, is included as regressor such that a time trend is estimated. The trend is allowed to differ pre/post treatment, which is captured by the interaction term $(m \\cdot D)$. Note that in specifications with longer time frames, the author employs higher order polynomial time trends, while in the shortest specification (3 months pre/post-treatment) no time trend is included as regressor.\n",
    "\n",
    "Longer time frames allow to control even more precisely for seasonal patterns because then calender month fixed effects can be estimated by adding respective dummy variables to the regression equation. That is why the author also applies the following regression equation to the same two dependet variables conceptions and abortions: <a id='eq5'></a>\n",
    "\n",
    "\\begin{align*}\n",
    "\\text{(5)} \\qquad Y_m = \\alpha + \\theta \\cdot m + \\delta (m \\cdot D) + \\beta \\cdot D + \\lambda \\cdot X_m + \\sum_{c=2}^{12} \\mu_c \\cdot month_m + \\epsilon_m.\n",
    "\\end{align*}\n",
    "\n",
    "The author refers to this specification as a Difference-in-Difference (DiD) approach. However, we doubt that this term is approriate in this context. Therefore, we will refer to it as a monthly fixed effect (MFE) specification in the following\n",
    "\n",
    "Lastly, González (2013) also has cross-sectional survey data available allowing her to apply the research design with respect to the labor supply decision of the mother as well as to different kinds of household expenditures and the use of day care as dependent variables. Therefore, she estimates the following regression equation: <a id='eq6'></a>\n",
    "\n",
    "\\begin{align*}\n",
    "\\text{(6)} \\qquad Y_{im} = \\alpha + \\theta \\cdot m + \\delta (m \\cdot D) + \\beta \\cdot D + \\Pi \\cdot \\mathbf{X}^T_{im} + \\epsilon_{im}.\n",
    "\\end{align*}\n",
    "\n",
    "This specification is quite similar to equation [(4)](#eq4) but now a subscript $i$ denoting the individual household is added such that, for example, the row vector $\\mathbf{X}_{im}$ comprises control variables, like educational attainment of mother and father, for household $i$ with their child being born in month $m$. Analogously to equation [(5)](#eq5), also a specification with monthly fixed effects is estimated: <a id='eq7'></a>\n",
    "\n",
    "\\begin{align*}\n",
    "\\text{(7)} \\qquad Y_{im} = \\alpha + \\theta \\cdot m + \\delta (m \\cdot D) + \\beta \\cdot D + \\Pi \\cdot \\mathbf{X}^T_{im} + \\sum_{c=2}^{12} \\mu_c \\cdot month_m + \\epsilon_{im}.\n",
    "\\end{align*}\n",
    "\n"
   ]
  },
  {
   "cell_type": "markdown",
   "metadata": {},
   "source": [
    "<a id='replication'></a>\n",
    "## 3.) Replication of Main Results"
   ]
  },
  {
   "cell_type": "markdown",
   "metadata": {},
   "source": [
    "<a id='fertility'></a>\n",
    "### 3.1) Fertility\n",
    "Before we can start with the data analysis we need to prepare the data sets. Therefore we translate the author's Stata code into python code. There are three different do-files using four different datasets."
   ]
  },
  {
   "cell_type": "markdown",
   "metadata": {},
   "source": [
    "In the following I will give a brief overview over the translation of the \"dofile_fertility_20110196.do\" which can be found [(here)](https://www.aeaweb.org/articles?id=10.1257/pol.5.3.160) or in our data folder."
   ]
  },
  {
   "cell_type": "code",
   "execution_count": 1,
   "metadata": {},
   "outputs": [],
   "source": [
    "import math as math\n",
    "import matplotlib.pyplot as plt\n",
    "import numpy as np\n",
    "import pandas as pd\n",
    "import scipy.stats as ss\n",
    "import statsmodels.formula.api as smf\n",
    "import statsmodels.tsa.api as smt\n",
    "\n",
    "from auxiliary.auxiliary_a import *\n",
    "from auxiliary.auxiliary_m import *\n",
    "from auxiliary.mc_more_precisely import *\n",
    "from auxiliary.plots import *\n",
    "from auxiliary.simulation_study import *"
   ]
  },
  {
   "cell_type": "markdown",
   "metadata": {},
   "source": [
    "#### Conceptions:"
   ]
  },
  {
   "cell_type": "markdown",
   "metadata": {},
   "source": [
    "The raw data is shown here:"
   ]
  },
  {
   "cell_type": "code",
   "execution_count": 2,
   "metadata": {},
   "outputs": [
    {
     "name": "stdout",
     "output_type": "stream",
     "text": [
      "\u001b[1mVariables\u001b[0m\n",
      "————————————————————————————————————————————————————————————————————————————————\n",
      "Variable Name     Description       \n",
      "————————————————————————————————————————————————————————————————————————————————\n",
      "mesp              Month of birth    \n",
      "year              Year of birth     \n",
      "prem              Prematurity indicator (1 if baby is not premature, 2 if it is)\n",
      "semanas           Number of weeks of gestation at birth\n"
     ]
    }
   ],
   "source": [
    "table_with_variables()"
   ]
  },
  {
   "cell_type": "code",
   "execution_count": 3,
   "metadata": {
    "scrolled": true
   },
   "outputs": [
    {
     "data": {
      "text/html": [
       "<div>\n",
       "<style scoped>\n",
       "    .dataframe tbody tr th:only-of-type {\n",
       "        vertical-align: middle;\n",
       "    }\n",
       "\n",
       "    .dataframe tbody tr th {\n",
       "        vertical-align: top;\n",
       "    }\n",
       "\n",
       "    .dataframe thead th {\n",
       "        text-align: right;\n",
       "    }\n",
       "</style>\n",
       "<table border=\"1\" class=\"dataframe\">\n",
       "  <thead>\n",
       "    <tr style=\"text-align: right;\">\n",
       "      <th></th>\n",
       "      <th>mesp</th>\n",
       "      <th>year</th>\n",
       "      <th>prem</th>\n",
       "      <th>semanas</th>\n",
       "    </tr>\n",
       "  </thead>\n",
       "  <tbody>\n",
       "    <tr>\n",
       "      <th>0</th>\n",
       "      <td>3.0</td>\n",
       "      <td>2000.0</td>\n",
       "      <td>1</td>\n",
       "      <td>0.0</td>\n",
       "    </tr>\n",
       "    <tr>\n",
       "      <th>1</th>\n",
       "      <td>1.0</td>\n",
       "      <td>2000.0</td>\n",
       "      <td>2</td>\n",
       "      <td>36.0</td>\n",
       "    </tr>\n",
       "    <tr>\n",
       "      <th>2</th>\n",
       "      <td>3.0</td>\n",
       "      <td>2000.0</td>\n",
       "      <td>1</td>\n",
       "      <td>37.0</td>\n",
       "    </tr>\n",
       "    <tr>\n",
       "      <th>3</th>\n",
       "      <td>3.0</td>\n",
       "      <td>2000.0</td>\n",
       "      <td>1</td>\n",
       "      <td>39.0</td>\n",
       "    </tr>\n",
       "    <tr>\n",
       "      <th>4</th>\n",
       "      <td>12.0</td>\n",
       "      <td>2000.0</td>\n",
       "      <td>1</td>\n",
       "      <td>0.0</td>\n",
       "    </tr>\n",
       "  </tbody>\n",
       "</table>\n",
       "</div>"
      ],
      "text/plain": [
       "   mesp    year  prem  semanas\n",
       "0   3.0  2000.0     1      0.0\n",
       "1   1.0  2000.0     2     36.0\n",
       "2   3.0  2000.0     1     37.0\n",
       "3   3.0  2000.0     1     39.0\n",
       "4  12.0  2000.0     1      0.0"
      ]
     },
     "execution_count": 3,
     "metadata": {},
     "output_type": "execute_result"
    }
   ],
   "source": [
    "pd.read_stata('data/data_births_20110196.dta').head()"
   ]
  },
  {
   "cell_type": "code",
   "execution_count": 4,
   "metadata": {},
   "outputs": [
    {
     "data": {
      "text/html": [
       "<div>\n",
       "<style scoped>\n",
       "    .dataframe tbody tr th:only-of-type {\n",
       "        vertical-align: middle;\n",
       "    }\n",
       "\n",
       "    .dataframe tbody tr th {\n",
       "        vertical-align: top;\n",
       "    }\n",
       "\n",
       "    .dataframe thead th {\n",
       "        text-align: right;\n",
       "    }\n",
       "</style>\n",
       "<table border=\"1\" class=\"dataframe\">\n",
       "  <thead>\n",
       "    <tr style=\"text-align: right;\">\n",
       "      <th></th>\n",
       "      <th>mesp</th>\n",
       "      <th>year</th>\n",
       "      <th>prem</th>\n",
       "      <th>semanas</th>\n",
       "    </tr>\n",
       "  </thead>\n",
       "  <tbody>\n",
       "    <tr>\n",
       "      <th>count</th>\n",
       "      <td>4984066.00</td>\n",
       "      <td>4984066.00</td>\n",
       "      <td>4984066.00</td>\n",
       "      <td>4706361.00</td>\n",
       "    </tr>\n",
       "    <tr>\n",
       "      <th>mean</th>\n",
       "      <td>6.57</td>\n",
       "      <td>2041.50</td>\n",
       "      <td>1.07</td>\n",
       "      <td>34.93</td>\n",
       "    </tr>\n",
       "    <tr>\n",
       "      <th>std</th>\n",
       "      <td>3.44</td>\n",
       "      <td>35.83</td>\n",
       "      <td>0.26</td>\n",
       "      <td>11.71</td>\n",
       "    </tr>\n",
       "    <tr>\n",
       "      <th>min</th>\n",
       "      <td>1.00</td>\n",
       "      <td>2000.00</td>\n",
       "      <td>1.00</td>\n",
       "      <td>0.00</td>\n",
       "    </tr>\n",
       "    <tr>\n",
       "      <th>25%</th>\n",
       "      <td>4.00</td>\n",
       "      <td>2003.00</td>\n",
       "      <td>1.00</td>\n",
       "      <td>38.00</td>\n",
       "    </tr>\n",
       "    <tr>\n",
       "      <th>50%</th>\n",
       "      <td>7.00</td>\n",
       "      <td>2005.00</td>\n",
       "      <td>1.00</td>\n",
       "      <td>39.00</td>\n",
       "    </tr>\n",
       "    <tr>\n",
       "      <th>75%</th>\n",
       "      <td>10.00</td>\n",
       "      <td>2008.00</td>\n",
       "      <td>1.00</td>\n",
       "      <td>40.00</td>\n",
       "    </tr>\n",
       "    <tr>\n",
       "      <th>max</th>\n",
       "      <td>12.00</td>\n",
       "      <td>2010.00</td>\n",
       "      <td>2.00</td>\n",
       "      <td>46.00</td>\n",
       "    </tr>\n",
       "  </tbody>\n",
       "</table>\n",
       "</div>"
      ],
      "text/plain": [
       "             mesp        year        prem     semanas\n",
       "count  4984066.00  4984066.00  4984066.00  4706361.00\n",
       "mean         6.57     2041.50        1.07       34.93\n",
       "std          3.44       35.83        0.26       11.71\n",
       "min          1.00     2000.00        1.00        0.00\n",
       "25%          4.00     2003.00        1.00       38.00\n",
       "50%          7.00     2005.00        1.00       39.00\n",
       "75%         10.00     2008.00        1.00       40.00\n",
       "max         12.00     2010.00        2.00       46.00"
      ]
     },
     "execution_count": 4,
     "metadata": {},
     "output_type": "execute_result"
    }
   ],
   "source": [
    "pd.read_stata('data/data_births_20110196.dta').describe().round(2)"
   ]
  },
  {
   "cell_type": "markdown",
   "metadata": {},
   "source": [
    "The author creates a month of birth variable based on the month of the policy intervention in July 2007. The month of intervention is set equal to zero, the next month = 1, the previos month = -1, and so on."
   ]
  },
  {
   "cell_type": "code",
   "execution_count": 5,
   "metadata": {},
   "outputs": [
    {
     "data": {
      "text/plain": [
       "count    4984066.00\n",
       "mean         -21.56\n",
       "std           37.63\n",
       "min          -90.00\n",
       "25%          -53.00\n",
       "50%          -20.00\n",
       "75%           11.00\n",
       "max           41.00\n",
       "Name: m, dtype: float64"
      ]
     },
     "execution_count": 5,
     "metadata": {},
     "output_type": "execute_result"
    }
   ],
   "source": [
    "dfb = gen_var_m()\n",
    "dfb['m'].describe().round(2)"
   ]
  },
  {
   "cell_type": "markdown",
   "metadata": {},
   "source": [
    "However, González is not interested in the month of *birth* (variable \"m\") but in the month of *conception* (variable \"mc\"). Therefore she subtracts for example 9 months from the month of birth to get the month of conception. More precisely, she uses information about how many weeks the woman was pregnant (variable \"semanas\")."
   ]
  },
  {
   "cell_type": "code",
   "execution_count": 6,
   "metadata": {},
   "outputs": [
    {
     "data": {
      "text/html": [
       "<div>\n",
       "<style scoped>\n",
       "    .dataframe tbody tr th:only-of-type {\n",
       "        vertical-align: middle;\n",
       "    }\n",
       "\n",
       "    .dataframe tbody tr th {\n",
       "        vertical-align: top;\n",
       "    }\n",
       "\n",
       "    .dataframe thead th {\n",
       "        text-align: right;\n",
       "    }\n",
       "</style>\n",
       "<table border=\"1\" class=\"dataframe\">\n",
       "  <thead>\n",
       "    <tr style=\"text-align: right;\">\n",
       "      <th></th>\n",
       "      <th>semanas</th>\n",
       "      <th>m</th>\n",
       "      <th>mc</th>\n",
       "    </tr>\n",
       "  </thead>\n",
       "  <tbody>\n",
       "    <tr>\n",
       "      <th>0</th>\n",
       "      <td>0.0</td>\n",
       "      <td>-88.0</td>\n",
       "      <td>-97.0</td>\n",
       "    </tr>\n",
       "    <tr>\n",
       "      <th>1</th>\n",
       "      <td>36.0</td>\n",
       "      <td>-90.0</td>\n",
       "      <td>-98.0</td>\n",
       "    </tr>\n",
       "    <tr>\n",
       "      <th>2</th>\n",
       "      <td>37.0</td>\n",
       "      <td>-88.0</td>\n",
       "      <td>-96.0</td>\n",
       "    </tr>\n",
       "    <tr>\n",
       "      <th>3</th>\n",
       "      <td>39.0</td>\n",
       "      <td>-88.0</td>\n",
       "      <td>-97.0</td>\n",
       "    </tr>\n",
       "    <tr>\n",
       "      <th>4</th>\n",
       "      <td>0.0</td>\n",
       "      <td>-79.0</td>\n",
       "      <td>-88.0</td>\n",
       "    </tr>\n",
       "  </tbody>\n",
       "</table>\n",
       "</div>"
      ],
      "text/plain": [
       "   semanas     m    mc\n",
       "0      0.0 -88.0 -97.0\n",
       "1     36.0 -90.0 -98.0\n",
       "2     37.0 -88.0 -96.0\n",
       "3     39.0 -88.0 -97.0\n",
       "4      0.0 -79.0 -88.0"
      ]
     },
     "execution_count": 6,
     "metadata": {},
     "output_type": "execute_result"
    }
   ],
   "source": [
    "dfb = gen_var_mc()\n",
    "dfb[['semanas', 'm', 'mc']].head()"
   ]
  },
  {
   "cell_type": "markdown",
   "metadata": {},
   "source": [
    "Now, the data is grouped by mc and the number of observations per month is counted (variable \"n\"). The resulting dataframe looks the following way:"
   ]
  },
  {
   "cell_type": "code",
   "execution_count": 7,
   "metadata": {},
   "outputs": [
    {
     "data": {
      "text/html": [
       "<div>\n",
       "<style scoped>\n",
       "    .dataframe tbody tr th:only-of-type {\n",
       "        vertical-align: middle;\n",
       "    }\n",
       "\n",
       "    .dataframe tbody tr th {\n",
       "        vertical-align: top;\n",
       "    }\n",
       "\n",
       "    .dataframe thead th {\n",
       "        text-align: right;\n",
       "    }\n",
       "</style>\n",
       "<table border=\"1\" class=\"dataframe\">\n",
       "  <thead>\n",
       "    <tr style=\"text-align: right;\">\n",
       "      <th></th>\n",
       "      <th>mc</th>\n",
       "      <th>n</th>\n",
       "    </tr>\n",
       "  </thead>\n",
       "  <tbody>\n",
       "    <tr>\n",
       "      <th>0</th>\n",
       "      <td>-100.0</td>\n",
       "      <td>6</td>\n",
       "    </tr>\n",
       "    <tr>\n",
       "      <th>1</th>\n",
       "      <td>-99.0</td>\n",
       "      <td>24690</td>\n",
       "    </tr>\n",
       "    <tr>\n",
       "      <th>2</th>\n",
       "      <td>-98.0</td>\n",
       "      <td>30595</td>\n",
       "    </tr>\n",
       "    <tr>\n",
       "      <th>3</th>\n",
       "      <td>-97.0</td>\n",
       "      <td>32547</td>\n",
       "    </tr>\n",
       "    <tr>\n",
       "      <th>4</th>\n",
       "      <td>-96.0</td>\n",
       "      <td>32352</td>\n",
       "    </tr>\n",
       "  </tbody>\n",
       "</table>\n",
       "</div>"
      ],
      "text/plain": [
       "      mc      n\n",
       "0 -100.0      6\n",
       "1  -99.0  24690\n",
       "2  -98.0  30595\n",
       "3  -97.0  32547\n",
       "4  -96.0  32352"
      ]
     },
     "execution_count": 7,
     "metadata": {},
     "output_type": "execute_result"
    }
   ],
   "source": [
    "dfb = group_data()\n",
    "dfb.head()"
   ]
  },
  {
   "cell_type": "markdown",
   "metadata": {},
   "source": [
    "In the following some additional variables are generated. The author made some mistakes in generating two variables! The first one is a variable indicating the calendar month of conception (\"month\"), where she assigned the wrong calendar month to some observations. The second variable which has mistakes is a variable indicating how many days a particular month had (\"days\"). Thereby, LG did not take all leap years into account but only adjusted feburary in 2008 and missed feburary 2000 and 2004.\n",
    "\n",
    "Other variables generated are:"
   ]
  },
  {
   "cell_type": "code",
   "execution_count": 8,
   "metadata": {},
   "outputs": [
    {
     "name": "stdout",
     "output_type": "stream",
     "text": [
      "\u001b[1mOther Variables\u001b[0m\n",
      "————————————————————————————————————————————————————————————————————————————————————————————————————\n",
      "Variable Name     Description       \n",
      "————————————————————————————————————————————————————————————————————————————————————————————————————\n",
      "july              july indicator    \n",
      "post              indicator for treatment group (post-policy conception), i.e. after June 2007\n",
      "mc2, mc3          quadratic and cubic mc\n",
      "ln                natural logarithm of number of conceptions per month\n",
      "jan, feb, ...     month dummies     \n"
     ]
    }
   ],
   "source": [
    "table_with_other_variables()"
   ]
  },
  {
   "cell_type": "code",
   "execution_count": 9,
   "metadata": {},
   "outputs": [
    {
     "data": {
      "text/html": [
       "<div>\n",
       "<style scoped>\n",
       "    .dataframe tbody tr th:only-of-type {\n",
       "        vertical-align: middle;\n",
       "    }\n",
       "\n",
       "    .dataframe tbody tr th {\n",
       "        vertical-align: top;\n",
       "    }\n",
       "\n",
       "    .dataframe thead th {\n",
       "        text-align: right;\n",
       "    }\n",
       "</style>\n",
       "<table border=\"1\" class=\"dataframe\">\n",
       "  <thead>\n",
       "    <tr style=\"text-align: right;\">\n",
       "      <th></th>\n",
       "      <th>mc</th>\n",
       "      <th>n</th>\n",
       "      <th>month</th>\n",
       "      <th>july</th>\n",
       "      <th>days</th>\n",
       "      <th>post</th>\n",
       "      <th>mc2</th>\n",
       "      <th>mc3</th>\n",
       "      <th>ln</th>\n",
       "      <th>jan</th>\n",
       "      <th>...</th>\n",
       "      <th>mar</th>\n",
       "      <th>apr</th>\n",
       "      <th>mai</th>\n",
       "      <th>jun</th>\n",
       "      <th>jul</th>\n",
       "      <th>aug</th>\n",
       "      <th>sep</th>\n",
       "      <th>oct</th>\n",
       "      <th>nov</th>\n",
       "      <th>dec</th>\n",
       "    </tr>\n",
       "  </thead>\n",
       "  <tbody>\n",
       "    <tr>\n",
       "      <th>0</th>\n",
       "      <td>-100.0</td>\n",
       "      <td>6</td>\n",
       "      <td>3</td>\n",
       "      <td>0</td>\n",
       "      <td>31</td>\n",
       "      <td>0</td>\n",
       "      <td>10000.0</td>\n",
       "      <td>-1000000.0</td>\n",
       "      <td>1.791759</td>\n",
       "      <td>0</td>\n",
       "      <td>...</td>\n",
       "      <td>1</td>\n",
       "      <td>0</td>\n",
       "      <td>0</td>\n",
       "      <td>0</td>\n",
       "      <td>0</td>\n",
       "      <td>0</td>\n",
       "      <td>0</td>\n",
       "      <td>0</td>\n",
       "      <td>0</td>\n",
       "      <td>0</td>\n",
       "    </tr>\n",
       "    <tr>\n",
       "      <th>1</th>\n",
       "      <td>-99.0</td>\n",
       "      <td>24690</td>\n",
       "      <td>4</td>\n",
       "      <td>0</td>\n",
       "      <td>30</td>\n",
       "      <td>0</td>\n",
       "      <td>9801.0</td>\n",
       "      <td>-970299.0</td>\n",
       "      <td>10.114154</td>\n",
       "      <td>0</td>\n",
       "      <td>...</td>\n",
       "      <td>0</td>\n",
       "      <td>1</td>\n",
       "      <td>0</td>\n",
       "      <td>0</td>\n",
       "      <td>0</td>\n",
       "      <td>0</td>\n",
       "      <td>0</td>\n",
       "      <td>0</td>\n",
       "      <td>0</td>\n",
       "      <td>0</td>\n",
       "    </tr>\n",
       "    <tr>\n",
       "      <th>2</th>\n",
       "      <td>-98.0</td>\n",
       "      <td>30595</td>\n",
       "      <td>5</td>\n",
       "      <td>0</td>\n",
       "      <td>31</td>\n",
       "      <td>0</td>\n",
       "      <td>9604.0</td>\n",
       "      <td>-941192.0</td>\n",
       "      <td>10.328592</td>\n",
       "      <td>0</td>\n",
       "      <td>...</td>\n",
       "      <td>0</td>\n",
       "      <td>0</td>\n",
       "      <td>1</td>\n",
       "      <td>0</td>\n",
       "      <td>0</td>\n",
       "      <td>0</td>\n",
       "      <td>0</td>\n",
       "      <td>0</td>\n",
       "      <td>0</td>\n",
       "      <td>0</td>\n",
       "    </tr>\n",
       "    <tr>\n",
       "      <th>3</th>\n",
       "      <td>-97.0</td>\n",
       "      <td>32547</td>\n",
       "      <td>6</td>\n",
       "      <td>0</td>\n",
       "      <td>30</td>\n",
       "      <td>0</td>\n",
       "      <td>9409.0</td>\n",
       "      <td>-912673.0</td>\n",
       "      <td>10.390440</td>\n",
       "      <td>0</td>\n",
       "      <td>...</td>\n",
       "      <td>0</td>\n",
       "      <td>0</td>\n",
       "      <td>0</td>\n",
       "      <td>1</td>\n",
       "      <td>0</td>\n",
       "      <td>0</td>\n",
       "      <td>0</td>\n",
       "      <td>0</td>\n",
       "      <td>0</td>\n",
       "      <td>0</td>\n",
       "    </tr>\n",
       "    <tr>\n",
       "      <th>4</th>\n",
       "      <td>-96.0</td>\n",
       "      <td>32352</td>\n",
       "      <td>7</td>\n",
       "      <td>1</td>\n",
       "      <td>31</td>\n",
       "      <td>0</td>\n",
       "      <td>9216.0</td>\n",
       "      <td>-884736.0</td>\n",
       "      <td>10.384431</td>\n",
       "      <td>0</td>\n",
       "      <td>...</td>\n",
       "      <td>0</td>\n",
       "      <td>0</td>\n",
       "      <td>0</td>\n",
       "      <td>0</td>\n",
       "      <td>1</td>\n",
       "      <td>0</td>\n",
       "      <td>0</td>\n",
       "      <td>0</td>\n",
       "      <td>0</td>\n",
       "      <td>0</td>\n",
       "    </tr>\n",
       "  </tbody>\n",
       "</table>\n",
       "<p>5 rows × 21 columns</p>\n",
       "</div>"
      ],
      "text/plain": [
       "      mc      n  month  july  days  post      mc2        mc3         ln  jan  \\\n",
       "0 -100.0      6      3     0    31     0  10000.0 -1000000.0   1.791759    0   \n",
       "1  -99.0  24690      4     0    30     0   9801.0  -970299.0  10.114154    0   \n",
       "2  -98.0  30595      5     0    31     0   9604.0  -941192.0  10.328592    0   \n",
       "3  -97.0  32547      6     0    30     0   9409.0  -912673.0  10.390440    0   \n",
       "4  -96.0  32352      7     1    31     0   9216.0  -884736.0  10.384431    0   \n",
       "\n",
       "  ...   mar  apr  mai  jun  jul  aug  sep  oct  nov  dec  \n",
       "0 ...     1    0    0    0    0    0    0    0    0    0  \n",
       "1 ...     0    1    0    0    0    0    0    0    0    0  \n",
       "2 ...     0    0    1    0    0    0    0    0    0    0  \n",
       "3 ...     0    0    0    1    0    0    0    0    0    0  \n",
       "4 ...     0    0    0    0    1    0    0    0    0    0  \n",
       "\n",
       "[5 rows x 21 columns]"
      ]
     },
     "execution_count": 9,
     "metadata": {},
     "output_type": "execute_result"
    }
   ],
   "source": [
    "dfb = complete_processing_conceptions_data()\n",
    "dfb.head()"
   ]
  },
  {
   "cell_type": "markdown",
   "metadata": {},
   "source": [
    "The following is part of the paper's Table 1 - Descriptive Statistics (p.167). The numbers we calculated are the same as the numbers in the paper."
   ]
  },
  {
   "cell_type": "code",
   "execution_count": 10,
   "metadata": {},
   "outputs": [
    {
     "name": "stdout",
     "output_type": "stream",
     "text": [
      "\u001b[1mTable 1 - Descriptive Statistics - Conceptions\u001b[0m\n"
     ]
    },
    {
     "data": {
      "text/html": [
       "<div>\n",
       "<style scoped>\n",
       "    .dataframe tbody tr th:only-of-type {\n",
       "        vertical-align: middle;\n",
       "    }\n",
       "\n",
       "    .dataframe tbody tr th {\n",
       "        vertical-align: top;\n",
       "    }\n",
       "\n",
       "    .dataframe thead th {\n",
       "        text-align: right;\n",
       "    }\n",
       "</style>\n",
       "<table border=\"1\" class=\"dataframe\">\n",
       "  <thead>\n",
       "    <tr style=\"text-align: right;\">\n",
       "      <th></th>\n",
       "      <th>n</th>\n",
       "      <th>post</th>\n",
       "      <th>mc</th>\n",
       "    </tr>\n",
       "  </thead>\n",
       "  <tbody>\n",
       "    <tr>\n",
       "      <th>mean</th>\n",
       "      <td>38020.64</td>\n",
       "      <td>0.25</td>\n",
       "      <td>-30.50</td>\n",
       "    </tr>\n",
       "    <tr>\n",
       "      <th>std</th>\n",
       "      <td>3167.55</td>\n",
       "      <td>0.43</td>\n",
       "      <td>34.79</td>\n",
       "    </tr>\n",
       "    <tr>\n",
       "      <th>50%</th>\n",
       "      <td>38505.00</td>\n",
       "      <td>0.00</td>\n",
       "      <td>-30.50</td>\n",
       "    </tr>\n",
       "  </tbody>\n",
       "</table>\n",
       "</div>"
      ],
      "text/plain": [
       "             n  post     mc\n",
       "mean  38020.64  0.25 -30.50\n",
       "std    3167.55  0.43  34.79\n",
       "50%   38505.00  0.00 -30.50"
      ]
     },
     "execution_count": 10,
     "metadata": {},
     "output_type": "execute_result"
    }
   ],
   "source": [
    "print('\\033[1m' 'Table 1 - Descriptive Statistics - Conceptions' '\\033[0m')\n",
    "dfb.loc[(dfb['mc']>-91) & (dfb['mc']<30), ['n','post','mc']].describe().loc[['mean','std','50%']].round(2)"
   ]
  },
  {
   "cell_type": "markdown",
   "metadata": {},
   "source": [
    "The time trend of conceptions is shown in the following."
   ]
  },
  {
   "cell_type": "code",
   "execution_count": 11,
   "metadata": {},
   "outputs": [
    {
     "data": {
      "text/plain": [
       "Text(0.5, 1.0, 'Time Trend - Conceptions')"
      ]
     },
     "execution_count": 11,
     "metadata": {},
     "output_type": "execute_result"
    },
    {
     "data": {
      "image/png": "[encoded data removed]",
      "text/plain": [
       "<Figure size 936x360 with 1 Axes>"
      ]
     },
     "metadata": {
      "needs_background": "light"
     },
     "output_type": "display_data"
    }
   ],
   "source": [
    "# generating year variable\n",
    "dfb['year'] = np.nan\n",
    "for x in range(12):\n",
    "    dfb.loc[dfb['mc'] < 42 -(x*12), 'year'] = (2010 - x)\n",
    "# plot\n",
    "dfb.loc[(dfb['year']>=2000)&(dfb['year']<=2009)].plot(x='mc',y='n',linestyle='-',linewidth=0.5, marker='.',\n",
    "                                                      figsize=(13,5), label=\"monthly conceptions\")\n",
    "plt.axvline(x=0, color=\"black\", linewidth=0.5)\n",
    "plt.title('Time Trend - Conceptions')"
   ]
  },
  {
   "cell_type": "markdown",
   "metadata": {},
   "source": [
    "The number of conceptions is increasing in time. After 2007 it is decreasing, potentially because of the financial crisis."
   ]
  },
  {
   "cell_type": "markdown",
   "metadata": {},
   "source": [
    "#### Abortions:"
   ]
  },
  {
   "cell_type": "markdown",
   "metadata": {},
   "source": [
    "Now, processing the second data set containing information about abortions.\n",
    "\n",
    "First, the raw data:"
   ]
  },
  {
   "cell_type": "code",
   "execution_count": 12,
   "metadata": {
    "scrolled": true
   },
   "outputs": [
    {
     "data": {
      "text/html": [
       "<div>\n",
       "<style scoped>\n",
       "    .dataframe tbody tr th:only-of-type {\n",
       "        vertical-align: middle;\n",
       "    }\n",
       "\n",
       "    .dataframe tbody tr th {\n",
       "        vertical-align: top;\n",
       "    }\n",
       "\n",
       "    .dataframe thead th {\n",
       "        text-align: right;\n",
       "    }\n",
       "</style>\n",
       "<table border=\"1\" class=\"dataframe\">\n",
       "  <thead>\n",
       "    <tr style=\"text-align: right;\">\n",
       "      <th></th>\n",
       "      <th>year</th>\n",
       "      <th>month</th>\n",
       "      <th>n_ive_and</th>\n",
       "      <th>n_ive_val</th>\n",
       "      <th>n_ive_rioja</th>\n",
       "      <th>n_ive_cat</th>\n",
       "      <th>n_ive_can</th>\n",
       "      <th>n_ive_mad</th>\n",
       "      <th>n_ive_gal</th>\n",
       "      <th>n_ive_bal</th>\n",
       "      <th>n_ive_pv</th>\n",
       "      <th>n_ive_castlm</th>\n",
       "      <th>n_ive_ast</th>\n",
       "      <th>n_ive_arag</th>\n",
       "    </tr>\n",
       "  </thead>\n",
       "  <tbody>\n",
       "    <tr>\n",
       "      <th>count</th>\n",
       "      <td>144.00</td>\n",
       "      <td>144.00</td>\n",
       "      <td>132.00</td>\n",
       "      <td>132.00</td>\n",
       "      <td>120.00</td>\n",
       "      <td>120.00</td>\n",
       "      <td>144.00</td>\n",
       "      <td>120.00</td>\n",
       "      <td>120.00</td>\n",
       "      <td>120.00</td>\n",
       "      <td>120.00</td>\n",
       "      <td>132.00</td>\n",
       "      <td>132.00</td>\n",
       "      <td>132.00</td>\n",
       "    </tr>\n",
       "    <tr>\n",
       "      <th>mean</th>\n",
       "      <td>2004.50</td>\n",
       "      <td>6.50</td>\n",
       "      <td>1304.08</td>\n",
       "      <td>769.14</td>\n",
       "      <td>40.45</td>\n",
       "      <td>1520.87</td>\n",
       "      <td>303.17</td>\n",
       "      <td>1415.85</td>\n",
       "      <td>215.08</td>\n",
       "      <td>212.16</td>\n",
       "      <td>190.10</td>\n",
       "      <td>251.08</td>\n",
       "      <td>177.80</td>\n",
       "      <td>286.87</td>\n",
       "    </tr>\n",
       "    <tr>\n",
       "      <th>std</th>\n",
       "      <td>3.46</td>\n",
       "      <td>3.46</td>\n",
       "      <td>350.94</td>\n",
       "      <td>173.65</td>\n",
       "      <td>9.08</td>\n",
       "      <td>372.71</td>\n",
       "      <td>84.05</td>\n",
       "      <td>326.50</td>\n",
       "      <td>29.13</td>\n",
       "      <td>33.21</td>\n",
       "      <td>48.82</td>\n",
       "      <td>23.85</td>\n",
       "      <td>25.58</td>\n",
       "      <td>44.14</td>\n",
       "    </tr>\n",
       "    <tr>\n",
       "      <th>min</th>\n",
       "      <td>1999.00</td>\n",
       "      <td>1.00</td>\n",
       "      <td>694.00</td>\n",
       "      <td>430.00</td>\n",
       "      <td>21.00</td>\n",
       "      <td>957.00</td>\n",
       "      <td>161.00</td>\n",
       "      <td>820.00</td>\n",
       "      <td>159.00</td>\n",
       "      <td>146.00</td>\n",
       "      <td>105.00</td>\n",
       "      <td>198.00</td>\n",
       "      <td>117.00</td>\n",
       "      <td>175.00</td>\n",
       "    </tr>\n",
       "    <tr>\n",
       "      <th>25%</th>\n",
       "      <td>2001.75</td>\n",
       "      <td>3.75</td>\n",
       "      <td>1006.50</td>\n",
       "      <td>634.75</td>\n",
       "      <td>34.00</td>\n",
       "      <td>1207.50</td>\n",
       "      <td>236.00</td>\n",
       "      <td>1192.00</td>\n",
       "      <td>196.00</td>\n",
       "      <td>189.00</td>\n",
       "      <td>147.00</td>\n",
       "      <td>234.75</td>\n",
       "      <td>158.00</td>\n",
       "      <td>265.75</td>\n",
       "    </tr>\n",
       "    <tr>\n",
       "      <th>50%</th>\n",
       "      <td>2004.50</td>\n",
       "      <td>6.50</td>\n",
       "      <td>1313.50</td>\n",
       "      <td>772.00</td>\n",
       "      <td>40.00</td>\n",
       "      <td>1411.00</td>\n",
       "      <td>269.50</td>\n",
       "      <td>1383.00</td>\n",
       "      <td>211.50</td>\n",
       "      <td>211.00</td>\n",
       "      <td>184.50</td>\n",
       "      <td>252.00</td>\n",
       "      <td>178.00</td>\n",
       "      <td>287.00</td>\n",
       "    </tr>\n",
       "    <tr>\n",
       "      <th>75%</th>\n",
       "      <td>2007.25</td>\n",
       "      <td>9.25</td>\n",
       "      <td>1580.50</td>\n",
       "      <td>898.25</td>\n",
       "      <td>46.25</td>\n",
       "      <td>1801.00</td>\n",
       "      <td>374.25</td>\n",
       "      <td>1647.50</td>\n",
       "      <td>228.00</td>\n",
       "      <td>235.25</td>\n",
       "      <td>236.25</td>\n",
       "      <td>264.25</td>\n",
       "      <td>196.00</td>\n",
       "      <td>317.00</td>\n",
       "    </tr>\n",
       "    <tr>\n",
       "      <th>max</th>\n",
       "      <td>2010.00</td>\n",
       "      <td>12.00</td>\n",
       "      <td>2021.00</td>\n",
       "      <td>1144.00</td>\n",
       "      <td>67.00</td>\n",
       "      <td>2442.00</td>\n",
       "      <td>483.00</td>\n",
       "      <td>2113.00</td>\n",
       "      <td>341.00</td>\n",
       "      <td>295.00</td>\n",
       "      <td>283.00</td>\n",
       "      <td>315.00</td>\n",
       "      <td>241.00</td>\n",
       "      <td>398.00</td>\n",
       "    </tr>\n",
       "  </tbody>\n",
       "</table>\n",
       "</div>"
      ],
      "text/plain": [
       "          year   month  n_ive_and  n_ive_val  n_ive_rioja  n_ive_cat  \\\n",
       "count   144.00  144.00     132.00     132.00       120.00     120.00   \n",
       "mean   2004.50    6.50    1304.08     769.14        40.45    1520.87   \n",
       "std       3.46    3.46     350.94     173.65         9.08     372.71   \n",
       "min    1999.00    1.00     694.00     430.00        21.00     957.00   \n",
       "25%    2001.75    3.75    1006.50     634.75        34.00    1207.50   \n",
       "50%    2004.50    6.50    1313.50     772.00        40.00    1411.00   \n",
       "75%    2007.25    9.25    1580.50     898.25        46.25    1801.00   \n",
       "max    2010.00   12.00    2021.00    1144.00        67.00    2442.00   \n",
       "\n",
       "       n_ive_can  n_ive_mad  n_ive_gal  n_ive_bal  n_ive_pv  n_ive_castlm  \\\n",
       "count     144.00     120.00     120.00     120.00    120.00        132.00   \n",
       "mean      303.17    1415.85     215.08     212.16    190.10        251.08   \n",
       "std        84.05     326.50      29.13      33.21     48.82         23.85   \n",
       "min       161.00     820.00     159.00     146.00    105.00        198.00   \n",
       "25%       236.00    1192.00     196.00     189.00    147.00        234.75   \n",
       "50%       269.50    1383.00     211.50     211.00    184.50        252.00   \n",
       "75%       374.25    1647.50     228.00     235.25    236.25        264.25   \n",
       "max       483.00    2113.00     341.00     295.00    283.00        315.00   \n",
       "\n",
       "       n_ive_ast  n_ive_arag  \n",
       "count     132.00      132.00  \n",
       "mean      177.80      286.87  \n",
       "std        25.58       44.14  \n",
       "min       117.00      175.00  \n",
       "25%       158.00      265.75  \n",
       "50%       178.00      287.00  \n",
       "75%       196.00      317.00  \n",
       "max       241.00      398.00  "
      ]
     },
     "execution_count": 12,
     "metadata": {},
     "output_type": "execute_result"
    }
   ],
   "source": [
    "pd.read_stata('data/data_abortions_20110196.dta').describe().round(2)"
   ]
  },
  {
   "cell_type": "markdown",
   "metadata": {},
   "source": [
    "The variables starting with \"n_ive_\" are the number of abortions per month in different regions of Spain. For some regions we have observations for 1999-2009 and for others from 2000-2010.\n",
    "\n",
    "The manipulations are comparable to those for the births data set and can be found in the auxiliary_a-file."
   ]
  },
  {
   "cell_type": "markdown",
   "metadata": {},
   "source": [
    "The following is part of the paper's Table 1 - Descriptive Statitics"
   ]
  },
  {
   "cell_type": "code",
   "execution_count": 13,
   "metadata": {
    "scrolled": true
   },
   "outputs": [
    {
     "name": "stdout",
     "output_type": "stream",
     "text": [
      "\u001b[1mTable 2 - Descriptive Statistics - Abortions\u001b[0m\n"
     ]
    },
    {
     "data": {
      "text/html": [
       "<div>\n",
       "<style scoped>\n",
       "    .dataframe tbody tr th:only-of-type {\n",
       "        vertical-align: middle;\n",
       "    }\n",
       "\n",
       "    .dataframe tbody tr th {\n",
       "        vertical-align: top;\n",
       "    }\n",
       "\n",
       "    .dataframe thead th {\n",
       "        text-align: right;\n",
       "    }\n",
       "</style>\n",
       "<table border=\"1\" class=\"dataframe\">\n",
       "  <thead>\n",
       "    <tr style=\"text-align: right;\">\n",
       "      <th></th>\n",
       "      <th>n_tot</th>\n",
       "      <th>post</th>\n",
       "      <th>m</th>\n",
       "    </tr>\n",
       "  </thead>\n",
       "  <tbody>\n",
       "    <tr>\n",
       "      <th>mean</th>\n",
       "      <td>6724.62</td>\n",
       "      <td>0.25</td>\n",
       "      <td>-30.50</td>\n",
       "    </tr>\n",
       "    <tr>\n",
       "      <th>std</th>\n",
       "      <td>1348.07</td>\n",
       "      <td>0.43</td>\n",
       "      <td>34.79</td>\n",
       "    </tr>\n",
       "    <tr>\n",
       "      <th>50%</th>\n",
       "      <td>6535.50</td>\n",
       "      <td>0.00</td>\n",
       "      <td>-30.50</td>\n",
       "    </tr>\n",
       "  </tbody>\n",
       "</table>\n",
       "</div>"
      ],
      "text/plain": [
       "        n_tot  post      m\n",
       "mean  6724.62  0.25 -30.50\n",
       "std   1348.07  0.43  34.79\n",
       "50%   6535.50  0.00 -30.50"
      ]
     },
     "execution_count": 13,
     "metadata": {},
     "output_type": "execute_result"
    }
   ],
   "source": [
    "dfa = process_abortions_data()\n",
    "print('\\033[1m' 'Table 2 - Descriptive Statistics - Abortions' '\\033[0m')\n",
    "dfa[['n_tot','post','m']].describe().loc[['mean','std','50%']].round(2)"
   ]
  },
  {
   "cell_type": "markdown",
   "metadata": {},
   "source": [
    "\n",
    "**Regression Results**"
   ]
  },
  {
   "cell_type": "markdown",
   "metadata": {},
   "source": [
    "The specifications, the author uses, differ with respect to the number of observations included in the dataset which is used for the regression and with respect to the order of the month-polynomial."
   ]
  },
  {
   "cell_type": "markdown",
   "metadata": {},
   "source": [
    "The following table corresponds to Table 2 - Fertility Results (Conceptions and Abortions) (p. 170)\n",
    "<a id='table_fertility'></a>"
   ]
  },
  {
   "cell_type": "code",
   "execution_count": 14,
   "metadata": {
    "scrolled": false
   },
   "outputs": [
    {
     "name": "stdout",
     "output_type": "stream",
     "text": [
      "\u001b[1mTable 3 - Fertility Results (Conceptions and Abortions)\u001b[0m\n",
      "————————————————————————————————————————————————————————————————————————————————————————————————————————————————————\n",
      "               RDD (1)      RDD (2)      RDD (3)      RDD (4)      RDD (5)      MFE (6)      MFE (7)      MFE (8)   \n",
      "              10 years      5 years    12 months     9 months     3 months     10 years      7 years      5 years   \n",
      "————————————————————————————————————————————————————————————————————————————————————————————————————————————————————\n",
      "Conceptions \u001b[1m    0.0531** \u001b[0m\u001b[1m    0.0695***\u001b[0m\u001b[1m    0.0852** \u001b[0m\u001b[1m    0.0750***\u001b[0m\u001b[1m    0.0503   \u001b[0m\u001b[1m    0.0495***\u001b[0m\u001b[1m    0.0539***\u001b[0m\u001b[1m    0.0527***\u001b[0m                                                                                                                    \n",
      "                0.0219       0.0250       0.0359       0.0285       0.0314       0.0103       0.0088       0.0136                                                                                                                       \n",
      "                                                                                                                    \n",
      "Abortions   \u001b[1m   -0.1248***\u001b[0m\u001b[1m   -0.1730***\u001b[0m\u001b[1m   -0.2187***\u001b[0m\u001b[1m   -0.2165***\u001b[0m\u001b[1m   -0.1304***\u001b[0m\u001b[1m   -0.0751***\u001b[0m\u001b[1m   -0.0610** \u001b[0m\u001b[1m   -0.0649*  \u001b[0m                                                                                                                    \n",
      "                0.0427       0.0504       0.0781       0.0613       0.0310       0.0268       0.0254       0.0366                                                                                                                       \n",
      "Linear trend     Yes          Yes          Yes          Yes          No           Yes          Yes          Yes          \n",
      "Quadratic        Yes          Yes          Yes          No           No           Yes          Yes          Yes          \n",
      "Cubic            Yes          No           No           No           No           Yes          No           No           \n",
      "————————————————————————————————————————————————————————————————————————————————————————————————————————————————————\n",
      "Notes: The dependent variables are the natural logarithm of the monthly number of conceptions and abortions,\n",
      "respectively. For each of them the coefficient of the binary treatment indicator variable, post, is printed in\n",
      "bold font. The corresponding standard errors are always reported below.\n",
      "***Significance at the 1 percent level.\n",
      " **Significance at the 5 percent level.\n",
      "  *Significance at the 10 percent level.\n"
     ]
    }
   ],
   "source": [
    "reg_list_b = reg_conception(dfb)\n",
    "reg_list_a = reg_abortion(dfa)\n",
    "table_reg_output(reg_list_b, reg_list_a)"
   ]
  },
  {
   "cell_type": "markdown",
   "metadata": {},
   "source": [
    "For conceptions: We can observe small differences with respect to the 7 and 10 years specifications because we take  all leap years during those time periods into account while the author took only 2008 into account.\n",
    "\n",
    "For abortions: LG accounted for all three leap years as well and, therefore, our results are identical to those in the paper."
   ]
  },
  {
   "cell_type": "markdown",
   "metadata": {},
   "source": [
    "**Visualization of Regression Results** <br>\n",
    "The following two plots show the data and the fitted regression line from the specification RDD(2). The range of mc is chosen according to Figure 1. Fertility Effect: Conceptions and Abortions by Month on page 171 of the article."
   ]
  },
  {
   "cell_type": "code",
   "execution_count": 15,
   "metadata": {},
   "outputs": [
    {
     "data": {
      "image/png": "[encoded data removed]",
      "text/plain": [
       "<Figure size 432x288 with 1 Axes>"
      ]
     },
     "metadata": {
      "needs_background": "light"
     },
     "output_type": "display_data"
    }
   ],
   "source": [
    "RDD_plot_conceptions(dfb, reg_list_b[1])"
   ]
  },
  {
   "cell_type": "markdown",
   "metadata": {},
   "source": [
    "Visually, there might be an increase shortly after the introduction of the policy. Especially, if we compare the july-observations (shown in red). On the other hand, it could as well look like a continuation of the increasing time trend. The discontinuity in the fitted regression lines at the cut-off date corresponds to the estimated effect of the policy."
   ]
  },
  {
   "cell_type": "code",
   "execution_count": 16,
   "metadata": {},
   "outputs": [
    {
     "data": {
      "image/png": "[encoded data removed]",
      "text/plain": [
       "<Figure size 432x288 with 1 Axes>"
      ]
     },
     "metadata": {
      "needs_background": "light"
     },
     "output_type": "display_data"
    }
   ],
   "source": [
    "RDD_plot_abortions(dfa, reg_list_a[1])"
   ]
  },
  {
   "cell_type": "markdown",
   "metadata": {},
   "source": [
    "**Figures to compare with Figure 1. Fertility Effect (p. 171)**"
   ]
  },
  {
   "cell_type": "markdown",
   "metadata": {},
   "source": [
    "We replicate the following figure from the article. However, we do not use *bimonthly* conception data, meaning that two months are summed up for the plot, like González but *monthly* conception data. Furthermore, we used the natural logaritm of the number of conceptions, but this had no influence on the shape of the data."
   ]
  },
  {
   "cell_type": "markdown",
   "metadata": {},
   "source": [
    "<img src=\"causal-graphs/Figure 1. Fertility Effect.png\" width=\"500\" />"
   ]
  },
  {
   "cell_type": "code",
   "execution_count": 17,
   "metadata": {},
   "outputs": [
    {
     "data": {
      "image/png": "[encoded data removed]",
      "text/plain": [
       "<Figure size 432x288 with 1 Axes>"
      ]
     },
     "metadata": {
      "needs_background": "light"
     },
     "output_type": "display_data"
    }
   ],
   "source": [
    "b_reg_for_plot = smf.ols(formula =\n",
    "            'ln ~ post + mc + post*mc', data=dfb.loc[(dfb['mc']>-31) & (dfb['mc']<21)]).fit(cov_type='HC1')\n",
    "RDD_plot_conceptions(dfb, b_reg_for_plot)"
   ]
  },
  {
   "cell_type": "markdown",
   "metadata": {},
   "source": [
    "Comparing the above plot to the bimonthly data, presented by the author, the size of the discontinuity at the cut-off looks much less impressive in our plot!"
   ]
  },
  {
   "cell_type": "code",
   "execution_count": 18,
   "metadata": {
    "scrolled": true
   },
   "outputs": [
    {
     "data": {
      "image/png": "[encoded data removed]",
      "text/plain": [
       "<Figure size 432x288 with 1 Axes>"
      ]
     },
     "metadata": {
      "needs_background": "light"
     },
     "output_type": "display_data"
    }
   ],
   "source": [
    "a_reg_for_plot = smf.ols(formula =\n",
    "            'log_ive ~ post + m + post*m', data=dfa.loc[(dfa['m']>-31) & (dfa['m']<21)]).fit(cov_type='HC1')\n",
    "RDD_plot_abortions(dfa, a_reg_for_plot)"
   ]
  },
  {
   "cell_type": "markdown",
   "metadata": {},
   "source": [
    "For the abortions data the discontinuity looks as well less impressive without creating bimonthly data like González."
   ]
  },
  {
   "cell_type": "markdown",
   "metadata": {},
   "source": [
    "<a id='hbs_lfs'></a>\n",
    "### 3.2) Household Expenditure and Labor Supply"
   ]
  },
  {
   "cell_type": "markdown",
   "metadata": {},
   "source": [
    "*Household Expenditure and Use of Daycare*"
   ]
  },
  {
   "cell_type": "markdown",
   "metadata": {},
   "source": [
    "For analyzing the effect on household expenditure and the use of day care, the author exploits the so-called \"Household Budget Survey\" (HBS), a cross-sectional data set provieded by the Spanish National Statistics Institute. In particular, González considers only households that were interviewed in 2008 and had a baby between October 2006 and March 2008 (both included), which leaves her with 958 observations. A description of the utilized variables and their corresponding descriptive statistics can be found below. "
   ]
  },
  {
   "cell_type": "code",
   "execution_count": 19,
   "metadata": {},
   "outputs": [],
   "source": [
    "df_hbs = read_and_manipulate_hbs()"
   ]
  },
  {
   "cell_type": "code",
   "execution_count": 20,
   "metadata": {
    "scrolled": false
   },
   "outputs": [
    {
     "name": "stdout",
     "output_type": "stream",
     "text": [
      "\u001b[1mTable 3: Descriptive Statistics - Household Budget Survey (2008)\n"
     ]
    },
    {
     "data": {
      "text/html": [
       "<div>\n",
       "<style scoped>\n",
       "    .dataframe tbody tr th:only-of-type {\n",
       "        vertical-align: middle;\n",
       "    }\n",
       "\n",
       "    .dataframe tbody tr th {\n",
       "        vertical-align: top;\n",
       "    }\n",
       "\n",
       "    .dataframe thead th {\n",
       "        text-align: right;\n",
       "    }\n",
       "</style>\n",
       "<table border=\"1\" class=\"dataframe\">\n",
       "  <thead>\n",
       "    <tr style=\"text-align: right;\">\n",
       "      <th></th>\n",
       "      <th>gastmon</th>\n",
       "      <th>c_m_exp</th>\n",
       "      <th>dur_exp</th>\n",
       "      <th>m_exp12312</th>\n",
       "      <th>post</th>\n",
       "      <th>month</th>\n",
       "      <th>agemom</th>\n",
       "      <th>sec1mom</th>\n",
       "      <th>sec2mom</th>\n",
       "      <th>unimom</th>\n",
       "      <th>immig</th>\n",
       "      <th>sib</th>\n",
       "    </tr>\n",
       "  </thead>\n",
       "  <tbody>\n",
       "    <tr>\n",
       "      <th>mean</th>\n",
       "      <td>30507.152</td>\n",
       "      <td>4778.250</td>\n",
       "      <td>5654.333</td>\n",
       "      <td>305.794</td>\n",
       "      <td>0.487</td>\n",
       "      <td>-0.780</td>\n",
       "      <td>32.521</td>\n",
       "      <td>0.234</td>\n",
       "      <td>0.326</td>\n",
       "      <td>0.320</td>\n",
       "      <td>0.165</td>\n",
       "      <td>0.539</td>\n",
       "    </tr>\n",
       "    <tr>\n",
       "      <th>std</th>\n",
       "      <td>17721.420</td>\n",
       "      <td>4274.954</td>\n",
       "      <td>8740.152</td>\n",
       "      <td>848.094</td>\n",
       "      <td>0.500</td>\n",
       "      <td>5.056</td>\n",
       "      <td>5.448</td>\n",
       "      <td>0.423</td>\n",
       "      <td>0.469</td>\n",
       "      <td>0.467</td>\n",
       "      <td>0.371</td>\n",
       "      <td>0.499</td>\n",
       "    </tr>\n",
       "    <tr>\n",
       "      <th>min</th>\n",
       "      <td>3784.887</td>\n",
       "      <td>0.000</td>\n",
       "      <td>0.000</td>\n",
       "      <td>0.000</td>\n",
       "      <td>0.000</td>\n",
       "      <td>-9.000</td>\n",
       "      <td>0.000</td>\n",
       "      <td>0.000</td>\n",
       "      <td>0.000</td>\n",
       "      <td>0.000</td>\n",
       "      <td>0.000</td>\n",
       "      <td>0.000</td>\n",
       "    </tr>\n",
       "    <tr>\n",
       "      <th>50%</th>\n",
       "      <td>26144.552</td>\n",
       "      <td>3561.401</td>\n",
       "      <td>2276.193</td>\n",
       "      <td>0.000</td>\n",
       "      <td>0.000</td>\n",
       "      <td>-1.000</td>\n",
       "      <td>33.000</td>\n",
       "      <td>0.000</td>\n",
       "      <td>0.000</td>\n",
       "      <td>0.000</td>\n",
       "      <td>0.000</td>\n",
       "      <td>1.000</td>\n",
       "    </tr>\n",
       "  </tbody>\n",
       "</table>\n",
       "</div>"
      ],
      "text/plain": [
       "        gastmon   c_m_exp   dur_exp  m_exp12312   post  month  agemom  \\\n",
       "mean  30507.152  4778.250  5654.333     305.794  0.487 -0.780  32.521   \n",
       "std   17721.420  4274.954  8740.152     848.094  0.500  5.056   5.448   \n",
       "min    3784.887     0.000     0.000       0.000  0.000 -9.000   0.000   \n",
       "50%   26144.552  3561.401  2276.193       0.000  0.000 -1.000  33.000   \n",
       "\n",
       "      sec1mom  sec2mom  unimom  immig    sib  \n",
       "mean    0.234    0.326   0.320  0.165  0.539  \n",
       "std     0.423    0.469   0.467  0.371  0.499  \n",
       "min     0.000    0.000   0.000  0.000  0.000  \n",
       "50%     0.000    0.000   0.000  0.000  1.000  "
      ]
     },
     "execution_count": 20,
     "metadata": {},
     "output_type": "execute_result"
    }
   ],
   "source": [
    "print('\\x1b[1m' 'Table 3: Descriptive Statistics - Household Budget Survey (2008)')\n",
    "df_hbs.loc[(df_hbs['month']>-10) & (df_hbs['month']<9), ['gastmon', 'c_m_exp', 'dur_exp', \\\n",
    "            'm_exp12312', 'post', 'month', 'agemom', 'sec1mom', 'sec2mom', 'unimom','immig', \\\n",
    "            'sib']].describe().loc[['mean','std','min','50%']].round(3)"
   ]
  },
  {
   "cell_type": "code",
   "execution_count": 21,
   "metadata": {},
   "outputs": [
    {
     "name": "stderr",
     "output_type": "stream",
     "text": [
      "C:\\Users\\Marc\\Documents\\GitHub\\student-project-antonia-marc\\auxiliary\\auxiliary_m.py:93: RuntimeWarning: divide by zero encountered in log\n",
      "  df_hbs.loc[df_hbs['c_m_exp']!=0, 'lcexp'] = np.log(df_hbs.c_m_exp)\n",
      "C:\\Users\\Marc\\Documents\\GitHub\\student-project-antonia-marc\\auxiliary\\auxiliary_m.py:95: RuntimeWarning: divide by zero encountered in log\n",
      "  df_hbs.loc[df_hbs['dur_exp']!=0, 'ldurexp'] = np.log(df_hbs.dur_exp)\n"
     ]
    }
   ],
   "source": [
    "df_hbs = preparation_hbs()\n",
    "# note: zero observations are explicitly excluded in the code line when computing the ln(), still python returns a notification"
   ]
  },
  {
   "cell_type": "markdown",
   "metadata": {},
   "source": [
    "The author then applies a range of different regression specifications to three different dependent variables: total household expenditure, child-related expenditure and durable goods expenditure. The same is repeated with the natural logarithm of them as dependent variables. The results are presented in the following table. "
   ]
  },
  {
   "cell_type": "code",
   "execution_count": 22,
   "metadata": {},
   "outputs": [],
   "source": [
    "# time windows:\n",
    "spec1 = df_hbs.loc[(df_hbs['month']>-10) & (df_hbs['month']<9)]\n",
    "spec2 = df_hbs.loc[(df_hbs['month']>-7) & (df_hbs['month']<6)]\n",
    "spec3 = df_hbs.loc[(df_hbs['month']>-5) & (df_hbs['month']<4)]\n",
    "spec4 = df_hbs.loc[(df_hbs['month']>-4) & (df_hbs['month']<3)]\n",
    "spec5_6 = df_hbs.loc[(df_hbs['month']>-3) & (df_hbs['month']<2)]\n",
    "spec7 = df_hbs\n",
    "\n",
    "# creating lists:\n",
    "dep_vars = [\"gastmon\", \"ltotexp\", \"c_m_exp\", \"lcexp\", \"dur_exp\", \"ldurexp\"]\n",
    "dep_vars_name = [\"Tot. exp.\", \"ln[Tot. exp.]\", \"Child-rel. exp.\", \"ln[Child-rel. exp.]\",\\\n",
    "                  \"Dur. goods exp.\", \"ln[Dur. goods exp.]\"]\n",
    "\n",
    "#regressions:\n",
    "reg_spec1 = []\n",
    "for dep_var in dep_vars:\n",
    "    formula = dep_var + \"~ post + month + month2 + nomom + agemom + age2 + age3 + sec1mom + sec2mom + unimom + immig + sib + post_month + post_month2 + mes_enc_2 + mes_enc_3 + mes_enc_4 + mes_enc_5 + mes_enc_6  + mes_enc_7 + mes_enc_8 + mes_enc_9 + mes_enc_10 + mes_enc_11 +  mes_enc_12\"\n",
    "    reg_spec1.append(smf.ols(formula=formula, data = spec1).fit(cov_type='HC1'))\n",
    "\n",
    "reg_spec2 = []\n",
    "for dep_var in dep_vars:\n",
    "    formula = dep_var + \"~ post + month + nomom + agemom + age2 + age3 + sec1mom + sec2mom + unimom + immig + sib + post_month + mes_enc_2 + mes_enc_3 + mes_enc_4 + mes_enc_5 + mes_enc_6  + mes_enc_7 + mes_enc_8 + mes_enc_9 + mes_enc_10 + mes_enc_11 +  mes_enc_12\"\n",
    "    reg_spec2.append(smf.ols(formula=formula, data = spec2).fit(cov_type='HC1'))\n",
    "\n",
    "reg_spec3 = []\n",
    "for dep_var in dep_vars:\n",
    "    formula = dep_var + \"~ post + month + nomom + agemom + age2 + age3 + sec1mom + sec2mom + unimom + immig + sib + post_month + mes_enc_2 + mes_enc_3 + mes_enc_4 + mes_enc_5 + mes_enc_6  + mes_enc_7 + mes_enc_8 + mes_enc_9 + mes_enc_10 + mes_enc_11 +  mes_enc_12\"\n",
    "    reg_spec3.append(smf.ols(formula=formula, data = spec3).fit(cov_type='HC1'))\n",
    "\n",
    "reg_spec4 = []\n",
    "for dep_var in dep_vars:\n",
    "    formula = dep_var + \"~ post + nomom + agemom + age2 + age3 + sec1mom + sec2mom + unimom + immig + sib  + mes_enc_2 + mes_enc_3 + mes_enc_4 + mes_enc_5 + mes_enc_6  + mes_enc_7 + mes_enc_8 + mes_enc_9 + mes_enc_10 + mes_enc_11 +  mes_enc_12\"\n",
    "    reg_spec4.append(smf.ols(formula=formula, data = spec4).fit(cov_type='HC1'))\n",
    "\n",
    "reg_spec5 = []\n",
    "for dep_var in dep_vars:\n",
    "    formula = dep_var + \"~ post\"\n",
    "    reg_spec5.append(smf.ols(formula=formula, data = spec5_6).fit(cov_type='HC1'))\n",
    "\n",
    "reg_spec6 = []\n",
    "for dep_var in dep_vars:\n",
    "    formula = dep_var + \"~ post + nomom + agemom + age2 + age3 + sec1mom + sec2mom + unimom + immig + sib  + mes_enc_2 + mes_enc_3 + mes_enc_4 + mes_enc_5 + mes_enc_6  + mes_enc_7 + mes_enc_8 + mes_enc_9 + mes_enc_10 + mes_enc_11 +  mes_enc_12\"\n",
    "    reg_spec6.append(smf.ols(formula=formula, data = spec5_6).fit(cov_type='HC1'))\n",
    "    \n",
    "reg_spec7 = []\n",
    "for dep_var in dep_vars:\n",
    "    formula = dep_var + \"~ post + month + month2 + nomom + agemom + age2 + age3 + sec1mom + sec2mom + unimom + immig + sib + post_month + post_month2 + mes_enc_2 + mes_enc_3 + mes_enc_4 + mes_enc_5 + mes_enc_6  + mes_enc_7 + mes_enc_8 + mes_enc_9 + mes_enc_10 + mes_enc_11 +  mes_enc_12 + n_month_2 + n_month_3 + n_month_4 + n_month_5 + n_month_6 + n_month_7 + n_month_8 + n_month_9 + n_month_10 + n_month_11 + n_month_12\"\n",
    "    reg_spec7.append(smf.ols(formula=formula, data = spec7).fit(cov_type='HC1'))"
   ]
  },
  {
   "cell_type": "code",
   "execution_count": 23,
   "metadata": {
    "scrolled": false
   },
   "outputs": [
    {
     "name": "stdout",
     "output_type": "stream",
     "text": [
      "———————————————————————————————————————————————————————————————————————————————————————————————————————\n",
      "                        RDD 9m      RDD 6m      RDD 4m      RDD 3m      RDD 2m      RDD 2m         MFE   \n",
      "                           (1)         (2)         (3)         (4)         (5)         (6)         (7)   \n",
      "———————————————————————————————————————————————————————————————————————————————————————————————————————\n",
      "Tot. exp.          \u001b[1m   -3175.158   -2247.452     404.622    -579.998   -1774.182   -1084.494   -1306.658   \u001b[0m\n",
      "                       2838.302    2244.167    2885.447    1552.861    2032.318    1831.721    2193.823   \n",
      "\n",
      "ln[Tot. exp.]      \u001b[1m      -0.142      -0.105      -0.034      -0.041      -0.072      -0.060      -0.049   \u001b[0m\n",
      "                          0.092       0.074       0.092       0.052       0.067       0.063       0.071   \n",
      "\n",
      "Child-rel. exp.    \u001b[1m    -406.931    -599.337     357.109     -21.104    -150.272       9.929      94.298   \u001b[0m\n",
      "                        765.670     617.533     794.858     443.929     536.103     533.908     591.801   \n",
      "\n",
      "ln[Child-rel. exp.]\u001b[1m      -0.011      -0.034       0.087       0.018       0.002      -0.001       0.017   \u001b[0m\n",
      "                          0.195       0.151       0.194       0.103       0.127       0.128       0.132   \n",
      "\n",
      "Dur. goods exp.    \u001b[1m   -1513.256   -1849.083   -1011.180    -760.261   -1045.535    -999.227   -1720.538   \u001b[0m\n",
      "                       1688.123    1344.743    1703.762     926.838    1105.165    1098.521    1137.376   \n",
      "\n",
      "ln[Dur. goods exp.]\u001b[1m       0.157       0.025       0.230       0.089       0.080       0.071       0.022   \u001b[0m\n",
      "                          0.297       0.239       0.302       0.170       0.200       0.213       0.208   \n",
      "\n",
      "Linear trend in m          Yes         Yes         Yes          No          No          No         Yes\n",
      "Quad. trend in m           Yes          No          No          No          No          No         Yes\n",
      "Controls                   Yes         Yes         Yes         Yes          No         Yes         Yes\n",
      "———————————————————————————————————————————————————————————————————————————————————————————————————————\n",
      "Notes: For each of the dependent variables, the coefficient of the binary treatment indicator variable\n",
      "is printed in bold font. Heteroscedasticity-robust standard errors are always reported below.\n",
      "***Significance at the 1 percent level.\n",
      " **Significance at the 5 percent level.\n",
      "  *Significance at the 10 percent level.\n"
     ]
    }
   ],
   "source": [
    "table_expenditures(dep_vars,dep_vars_name,reg_spec1,reg_spec2,reg_spec3,reg_spec4,reg_spec5,reg_spec6,reg_spec7)"
   ]
  },
  {
   "cell_type": "markdown",
   "metadata": {},
   "source": [
    "In the simplest version, specification 5, González merely compares the means of the two months before and after the introduction of the policy. The same is done in specification 6 but there control variables, such as educational attainment of mother and father, are included - as it is done in all other specifications. In specification 1, it is controlled for a polynomial time trend up to order two, while in specifications 2-3 a linear time trend is employed. Time is not included as regressor in specifications 4-6.\n",
    "\n",
    "While specifications 1-6 are more or less based on regression equation [(6)](#eq6), specification 7 is grounded on regression equation 5. Here, the author estimates monthly fixed effects to account for seasonality effects. \n",
    "\n",
    "None of the dependent variables exhibits a significant effect in any of the specifications. Therefore, the author concludes that the policy did not affect household expenditure. Note, that we are able to replicate the same numbers for the estimated coefficients as presented in the article. However, we are not able to reproduce specification 8 from the article which is based on an extended HBS data set that has not been provided by the author and which is also not publicly accessible online from the Spanish  National Statistics Institute. "
   ]
  },
  {
   "cell_type": "markdown",
   "metadata": {},
   "source": [
    "Turning towards childcare, González employs the same specifications as described in the previous paragraph. In the following, we will present the results with respect to two dependent variables: expenditure on private daycare as well as a binary variable indicating whether private day care was used at all. In her article, González further considers the use of babysitters and official infant centers as dependent variables. However, the corresponding regressions were not listed in her do-file and unfortunately we were not able to identify the respective variables in the data set since variable labels are missing and we are not familiar with Spanish abbreviations. Note that according to the results presented in the article, the respective coefficient estimates were insignificant, anyway."
   ]
  },
  {
   "cell_type": "code",
   "execution_count": 24,
   "metadata": {},
   "outputs": [],
   "source": [
    "# creating lists:\n",
    "dep_vars_childcare = [\"m_exp12312\", \"daycare_bin\"]\n",
    "dep_vars_childcare_name = [\"Private day care\", \"Priv. day care (binary)\"]\n",
    "\n",
    "#regressions:\n",
    "reg_spec1_childcare = []\n",
    "for dep_var in dep_vars_childcare:\n",
    "    formula = dep_var + \"~ post + month + month2 + nomom + agemom + age2 + age3 + sec1mom + sec2mom + unimom + immig + sib + post_month + post_month2 + mes_enc_2 + mes_enc_3 + mes_enc_4 + mes_enc_5 + mes_enc_6  + mes_enc_7 + mes_enc_8 + mes_enc_9 + mes_enc_10 + mes_enc_11 +  mes_enc_12\"\n",
    "    reg_spec1_childcare.append(smf.ols(formula=formula, data = spec1).fit(cov_type='HC1'))\n",
    "\n",
    "reg_spec2_childcare = []\n",
    "for dep_var in dep_vars_childcare:\n",
    "    formula = dep_var + \"~ post + month + nomom + agemom + age2 + age3 + sec1mom + sec2mom + unimom + immig + sib + post_month + mes_enc_2 + mes_enc_3 + mes_enc_4 + mes_enc_5 + mes_enc_6  + mes_enc_7 + mes_enc_8 + mes_enc_9 + mes_enc_10 + mes_enc_11 +  mes_enc_12\"\n",
    "    reg_spec2_childcare.append(smf.ols(formula=formula, data = spec2).fit(cov_type='HC1'))\n",
    "\n",
    "reg_spec3_childcare = []\n",
    "for dep_var in dep_vars_childcare:\n",
    "    formula = dep_var + \"~ post + month + nomom + agemom + age2 + age3 + sec1mom + sec2mom + unimom + immig + sib + post_month + mes_enc_2 + mes_enc_3 + mes_enc_4 + mes_enc_5 + mes_enc_6  + mes_enc_7 + mes_enc_8 + mes_enc_9 + mes_enc_10 + mes_enc_11 +  mes_enc_12\"\n",
    "    reg_spec3_childcare.append(smf.ols(formula=formula, data = spec3).fit(cov_type='HC1'))\n",
    "\n",
    "reg_spec4_childcare = []\n",
    "for dep_var in dep_vars_childcare:\n",
    "    formula = dep_var + \"~ post + nomom + agemom + age2 + age3 + sec1mom + sec2mom + unimom + immig + sib  + mes_enc_2 + mes_enc_3 + mes_enc_4 + mes_enc_5 + mes_enc_6  + mes_enc_7 + mes_enc_8 + mes_enc_9 + mes_enc_10 + mes_enc_11 +  mes_enc_12\"\n",
    "    reg_spec4_childcare.append(smf.ols(formula=formula, data = spec4).fit(cov_type='HC1'))\n",
    "\n",
    "reg_spec5_childcare = []\n",
    "for dep_var in dep_vars_childcare:\n",
    "    formula = dep_var + \"~ post\"\n",
    "    reg_spec5_childcare.append(smf.ols(formula=formula, data = spec5_6).fit(cov_type='HC1'))\n",
    "\n",
    "reg_spec6_childcare = []\n",
    "for dep_var in dep_vars_childcare:\n",
    "    formula = dep_var + \"~ post + nomom + agemom + age2 + age3 + sec1mom + sec2mom + unimom + immig + sib  + mes_enc_2 + mes_enc_3 + mes_enc_4 + mes_enc_5 + mes_enc_6  + mes_enc_7 + mes_enc_8 + mes_enc_9 + mes_enc_10 + mes_enc_11 +  mes_enc_12\"\n",
    "    reg_spec6_childcare.append(smf.ols(formula=formula, data = spec5_6).fit(cov_type='HC1'))\n",
    "    \n",
    "\n",
    "reg_spec7_childcare = []\n",
    "for dep_var in dep_vars_childcare:\n",
    "    formula = dep_var + \"~ post + month + month2 + post_month + post_month2 + nomom + agemom + age2 + age3 + sec1mom + sec2mom + unimom + immig + sib  + mes_enc_2 + mes_enc_3 + mes_enc_4 + mes_enc_5 + mes_enc_6  + mes_enc_7 + mes_enc_8 + mes_enc_9 + mes_enc_10 + mes_enc_11 +  mes_enc_12 + n_month_2 + n_month_3 + n_month_4 + n_month_5 + n_month_6 + n_month_7 + n_month_8 + n_month_9 + n_month_10 + n_month_11 + n_month_12\"\n",
    "    reg_spec7_childcare.append(smf.ols(formula=formula, data = spec7).fit(cov_type='HC1'))\n",
    "    \n",
    "# regression with a global polynomial:\n",
    "reg_spec7_childcare_global = []\n",
    "for dep_var in dep_vars_childcare:\n",
    "    formula = dep_var + \"~ post + month + month2 + nomom + agemom + age2 + age3 + sec1mom + sec2mom + unimom + immig + sib  + mes_enc_2 + mes_enc_3 + mes_enc_4 + mes_enc_5 + mes_enc_6  + mes_enc_7 + mes_enc_8 + mes_enc_9 + mes_enc_10 + mes_enc_11 +  mes_enc_12 + n_month_2 + n_month_3 + n_month_4 + n_month_5 + n_month_6 + n_month_7 + n_month_8 + n_month_9 + n_month_10 + n_month_11 + n_month_12\"\n",
    "    reg_spec7_childcare_global.append(smf.ols(formula=formula, data = spec7).fit(cov_type='HC1'))\n",
    "    \n"
   ]
  },
  {
   "cell_type": "markdown",
   "metadata": {},
   "source": [
    "<a id='table_daycare'></a>"
   ]
  },
  {
   "cell_type": "code",
   "execution_count": 25,
   "metadata": {
    "scrolled": false
   },
   "outputs": [
    {
     "name": "stdout",
     "output_type": "stream",
     "text": [
      "—————————————————————————————————————————————————————————————————————————————————————————————————————————————\n",
      "                             RDD 9m      RDD 6m      RDD 4m      RDD 3m      RDD 2m      RDD 2m         MFE   \n",
      "                                (1)         (2)         (3)         (4)         (5)         (6)         (7)   \n",
      "—————————————————————————————————————————————————————————————————————————————————————————————————————————————\n",
      "Private day care        \u001b[1m    -137.915    -123.215    -195.384    -156.693*   -147.121    -158.186    -107.566   \u001b[0m\n",
      "                             169.540     121.075     160.720      80.009     101.274     103.271     125.126   \n",
      "\n",
      "Priv. day care (binary) \u001b[1m      -0.080      -0.099      -0.104      -0.094*     -0.110*     -0.125*      0.024   \u001b[0m\n",
      "                               0.094       0.074       0.094       0.054       0.062       0.064       0.072   \n",
      "\n",
      "Linear trend in m               Yes         Yes         Yes          No          No          No         Yes\n",
      "Quad. trend in m                Yes          No          No          No          No          No         Yes\n",
      "Controls                        Yes         Yes         Yes         Yes          No         Yes         Yes\n",
      "—————————————————————————————————————————————————————————————————————————————————————————————————————————————\n",
      "Notes: For each of the dependent variables, the coefficient of the binary treatment indicator variable is\n",
      "printed in bold font. The corresponding heteroscedasticity-robust standard errors are always reported below.\n",
      "***Significance at the 1 percent level.\n",
      " **Significance at the 5 percent level.\n",
      "  *Significance at the 10 percent level.\n"
     ]
    }
   ],
   "source": [
    "table_childcare(dep_vars_childcare,dep_vars_childcare_name,reg_spec1_childcare,reg_spec2_childcare,reg_spec3_childcare,reg_spec4_childcare,reg_spec5_childcare,reg_spec6_childcare,reg_spec7_childcare)"
   ]
  },
  {
   "cell_type": "markdown",
   "metadata": {},
   "source": [
    "While the point estimates are for the most part negative, merely some of them turn out to be significant on the 10 percent level. Still, the author concludes in her article that \n",
    "\n",
    "Regarding specification 7, we present here the estimates based on a local polynomial time trend, i.e. the coefficients of the trend in $m$ are allowed to differ pre/post-treatment. Interestingly, the author at this point employs a global polynomial time trend - without mentioning this in the article. A comparison of the results of both approaches will be presented later on."
   ]
  },
  {
   "cell_type": "markdown",
   "metadata": {},
   "source": [
    "*Labor Supply*"
   ]
  },
  {
   "cell_type": "markdown",
   "metadata": {},
   "source": [
    "In order to analyze the effect of the child benefit on maternal labor supply, González draws on another data set provided by the Spanish National Statistics Institute: the Labor Force Survey (LFS). Her sample consists of all households that had a child between October 2006 and March 2008 (both included) and that were interviewed in 2008. This results in 8,691 observations. A description of the relevant variables as well as table reporting descriptive statistics are presented below."
   ]
  },
  {
   "cell_type": "code",
   "execution_count": 26,
   "metadata": {},
   "outputs": [],
   "source": [
    "df_lfs = read_and_manipulate_lfs()"
   ]
  },
  {
   "cell_type": "code",
   "execution_count": 27,
   "metadata": {
    "scrolled": true
   },
   "outputs": [
    {
     "name": "stdout",
     "output_type": "stream",
     "text": [
      "\u001b[1mTable 4: Descriptive Statistics - Labor force survey (2008)\n"
     ]
    },
    {
     "data": {
      "text/html": [
       "<div>\n",
       "<style scoped>\n",
       "    .dataframe tbody tr th:only-of-type {\n",
       "        vertical-align: middle;\n",
       "    }\n",
       "\n",
       "    .dataframe tbody tr th {\n",
       "        vertical-align: top;\n",
       "    }\n",
       "\n",
       "    .dataframe thead th {\n",
       "        text-align: right;\n",
       "    }\n",
       "</style>\n",
       "<table border=\"1\" class=\"dataframe\">\n",
       "  <thead>\n",
       "    <tr style=\"text-align: right;\">\n",
       "      <th></th>\n",
       "      <th>work</th>\n",
       "      <th>work2</th>\n",
       "      <th>post</th>\n",
       "      <th>m</th>\n",
       "      <th>age</th>\n",
       "      <th>primary</th>\n",
       "      <th>hsgrad</th>\n",
       "      <th>univ</th>\n",
       "      <th>immig</th>\n",
       "      <th>sib</th>\n",
       "    </tr>\n",
       "  </thead>\n",
       "  <tbody>\n",
       "    <tr>\n",
       "      <th>mean</th>\n",
       "      <td>0.422</td>\n",
       "      <td>0.541</td>\n",
       "      <td>0.477</td>\n",
       "      <td>-0.815</td>\n",
       "      <td>32.376</td>\n",
       "      <td>0.236</td>\n",
       "      <td>0.343</td>\n",
       "      <td>0.297</td>\n",
       "      <td>0.170</td>\n",
       "      <td>0.523</td>\n",
       "    </tr>\n",
       "    <tr>\n",
       "      <th>std</th>\n",
       "      <td>0.494</td>\n",
       "      <td>0.498</td>\n",
       "      <td>0.499</td>\n",
       "      <td>5.128</td>\n",
       "      <td>5.252</td>\n",
       "      <td>0.425</td>\n",
       "      <td>0.475</td>\n",
       "      <td>0.457</td>\n",
       "      <td>0.376</td>\n",
       "      <td>0.500</td>\n",
       "    </tr>\n",
       "    <tr>\n",
       "      <th>50%</th>\n",
       "      <td>0.000</td>\n",
       "      <td>1.000</td>\n",
       "      <td>0.000</td>\n",
       "      <td>-1.000</td>\n",
       "      <td>33.000</td>\n",
       "      <td>0.000</td>\n",
       "      <td>0.000</td>\n",
       "      <td>0.000</td>\n",
       "      <td>0.000</td>\n",
       "      <td>1.000</td>\n",
       "    </tr>\n",
       "  </tbody>\n",
       "</table>\n",
       "</div>"
      ],
      "text/plain": [
       "       work  work2   post      m     age  primary  hsgrad   univ  immig    sib\n",
       "mean  0.422  0.541  0.477 -0.815  32.376    0.236   0.343  0.297  0.170  0.523\n",
       "std   0.494  0.498  0.499  5.128   5.252    0.425   0.475  0.457  0.376  0.500\n",
       "50%   0.000  1.000  0.000 -1.000  33.000    0.000   0.000  0.000  0.000  1.000"
      ]
     },
     "execution_count": 27,
     "metadata": {},
     "output_type": "execute_result"
    }
   ],
   "source": [
    "print('\\x1b[1m' 'Table 4: Descriptive Statistics - Labor force survey (2008)')\n",
    "df_lfs.loc[(df_lfs['m']>-10) & (df_lfs['m']<9), ['work', 'work2', 'post', 'm', 'age', \\\n",
    "       'primary', 'hsgrad', 'univ', 'immig', 'sib']].describe().loc[['mean','std','50%']].round(3)"
   ]
  },
  {
   "cell_type": "code",
   "execution_count": 28,
   "metadata": {},
   "outputs": [],
   "source": [
    "df_lfs = preparation_lfs()"
   ]
  },
  {
   "cell_type": "markdown",
   "metadata": {},
   "source": [
    "González then applies the same regression specifications as described above. As dependent variables she uses a variable indicating whether the mother worked in the week before the interview as well as a variable indicating whether the mother states that she is currently employed. The results are presented below. Note that the author estimates another specification based on an extended LFS data set which cannot be replicated because we do not have access to the data."
   ]
  },
  {
   "cell_type": "code",
   "execution_count": 29,
   "metadata": {
    "scrolled": false
   },
   "outputs": [],
   "source": [
    "# time windows:\n",
    "spec1 = df_lfs.loc[(df_lfs['m']>-10) & (df_lfs['m']<9)]\n",
    "spec2 = df_lfs.loc[(df_lfs['m']>-7) & (df_lfs['m']<6)]\n",
    "spec3 = df_lfs.loc[(df_lfs['m']>-5) & (df_lfs['m']<4)]\n",
    "spec4 = df_lfs.loc[(df_lfs['m']>-4) & (df_lfs['m']<3)]\n",
    "spec5_6 = df_lfs.loc[(df_lfs['m']>-3) & (df_lfs['m']<2)]\n",
    "spec7 = df_lfs\n",
    "\n",
    "#creating lists:\n",
    "dep_vars_LS = [\"work\", \"work2\"]\n",
    "dep_vars_LS_name = [\"Working last week\", \"Employed\"]\n",
    "\n",
    "\n",
    "# regressions:\n",
    "reg_spec1_LS = []\n",
    "for dep_var in dep_vars_LS:\n",
    "    formula = dep_var + \"~ post + m + post_m + m2 + post_m2 + age + age2 + age3 + immig + primary + hsgrad + univ + sib + pleave + q_2 + q_3 + q_4\"\n",
    "    reg_spec1_LS.append(smf.ols(formula=formula, data = spec1).fit(cov_type='HC1'))\n",
    "\n",
    "reg_spec2_LS = []\n",
    "for dep_var in dep_vars_LS:\n",
    "    formula = dep_var + \"~ post + m + post_m +  age + age2 + age3 + immig + primary + hsgrad + univ + sib + pleave + q_2 + q_3 + q_4\"\n",
    "    reg_spec2_LS.append(smf.ols(formula=formula, data = spec2).fit(cov_type='HC1'))\n",
    "\n",
    "reg_spec3_LS = []\n",
    "for dep_var in dep_vars_LS:\n",
    "    formula = dep_var + \"~ post + m + post_m +  age + age2 + age3 + immig + primary + hsgrad + univ + sib + pleave + q_2 + q_3 + q_4\"\n",
    "    reg_spec3_LS.append(smf.ols(formula=formula, data = spec3).fit(cov_type='HC1'))\n",
    "\n",
    "reg_spec4_LS = []\n",
    "for dep_var in dep_vars_LS:\n",
    "    formula = dep_var + \"~ post + age + age2 + age3 + immig + primary + hsgrad + univ + sib + pleave + q_2 + q_3 + q_4\"\n",
    "    reg_spec4_LS.append(smf.ols(formula=formula, data = spec4).fit(cov_type='HC1'))\n",
    "\n",
    "reg_spec5_LS = []\n",
    "for dep_var in dep_vars_LS:\n",
    "    formula = dep_var + \"~ post \"\n",
    "    reg_spec5_LS.append(smf.ols(formula=formula, data = spec5_6).fit(cov_type='HC1'))\n",
    "\n",
    "reg_spec6_LS = []\n",
    "for dep_var in dep_vars_LS:\n",
    "    formula = dep_var + \"~ post + age + age2 + age3 + immig + primary + hsgrad + univ + sib + pleave + q_2 + q_3 + q_4\"\n",
    "    reg_spec6_LS.append(smf.ols(formula=formula, data = spec5_6).fit(cov_type='HC1'))\n",
    "\n",
    "reg_spec7_LS = []\n",
    "for dep_var in dep_vars_LS:\n",
    "    formula = dep_var + \"~ post + m + post_m + m2 + post_m2 + age + age2 + age3 + immig + primary + hsgrad + univ + sib + pleave + q_2 + q_3 + q_4 + n_month_2 + n_month_3 + n_month_4 + n_month_5 + n_month_6 + n_month_7 + n_month_8 + n_month_9 + n_month_10 + n_month_11 + n_month_12\"\n",
    "    reg_spec7_LS.append(smf.ols(formula=formula, data = spec7).fit(cov_type='cluster', cov_kwds={'groups': df_lfs['m']}))\n",
    "\n",
    "# specification with global polynomial time trend:\n",
    "reg_spec7_LS_global = []\n",
    "for dep_var in dep_vars_LS:\n",
    "    formula = dep_var + \"~ post + m + m2 + age + age2 + age3 + immig + primary + hsgrad + univ + sib + pleave + q_2 + q_3 + q_4 + n_month_2 + n_month_3 + n_month_4 + n_month_5 + n_month_6 + n_month_7 + n_month_8 + n_month_9 + n_month_10 + n_month_11 + n_month_12\"\n",
    "    reg_spec7_LS_global.append(smf.ols(formula=formula, data = spec7).fit(cov_type='cluster', cov_kwds={'groups': df_lfs['m']}))\n",
    "\n",
    "\n",
    "# regressions needed for comparison in the autocorrelation part:\n",
    "reg_spec7_LS_robust = []\n",
    "for dep_var in dep_vars_LS:\n",
    "    formula = dep_var + \"~ post + m + post_m + m2 + post_m2 + age + age2 + age3 + immig + primary + hsgrad + univ + sib + pleave + q_2 + q_3 + q_4 + n_month_2 + n_month_3 + n_month_4 + n_month_5 + n_month_6 + n_month_7 + n_month_8 + n_month_9 + n_month_10 + n_month_11 + n_month_12\"\n",
    "    reg_spec7_LS_robust.append(smf.ols(formula=formula, data = spec7).fit(cov_type='HC1'))\n",
    "     \n",
    "reg_spec7_LS_NW = []\n",
    "for dep_var in dep_vars_LS:\n",
    "    formula = dep_var + \"~ post + m + post_m + m2 + post_m2 + age + age2 + age3 + immig + primary + hsgrad + univ + sib + pleave + q_2 + q_3 + q_4 + n_month_2 + n_month_3 + n_month_4 + n_month_5 + n_month_6 + n_month_7 + n_month_8 + n_month_9 + n_month_10 + n_month_11 + n_month_12\"\n",
    "    reg_spec7_LS_NW.append(smf.ols(formula=formula, data = spec7).fit(cov_type='HAC',cov_kwds={'maxlags':1}))"
   ]
  },
  {
   "cell_type": "code",
   "execution_count": 30,
   "metadata": {},
   "outputs": [
    {
     "name": "stdout",
     "output_type": "stream",
     "text": [
      "————————————————————————————————————————————————————————————————————————————————————————————————————————\n",
      "                       RDD 9m      RDD 6m      RDD 4m      RDD 3m      RDD 2m      RDD 2m         MFE   \n",
      "                          (1)         (2)         (3)         (4)         (5)         (6)         (7)   \n",
      "————————————————————————————————————————————————————————————————————————————————————————————————————————\n",
      "Working last week \u001b[1m      -0.064**    -0.043*     -0.058*     -0.053***   -0.055**    -0.058***   -0.021   \u001b[0m\n",
      "                         0.032       0.025       0.031       0.018       0.022       0.021       0.018   \n",
      "\n",
      "Employed          \u001b[1m      -0.063**    -0.039      -0.080***   -0.053***   -0.061***   -0.061***    0.005   \u001b[0m\n",
      "                         0.031       0.024       0.030       0.017       0.022       0.021       0.017   \n",
      "\n",
      "Linear trend in m         Yes         Yes         Yes          No          No          No         Yes\n",
      "Quad. trend in m          Yes          No          No          No          No          No         Yes\n",
      "Controls                  Yes         Yes         Yes         Yes          No         Yes         Yes\n",
      "————————————————————————————————————————————————————————————————————————————————————————————————————————\n",
      "Notes: For each of the dependent variables, the coefficient of the binary treatment indicator variable\n",
      "is printed in bold font. For all specifications, standard errors are heteroscedasticity-robust.\n",
      "Additionally, standard errors are clustered at the monthly level in the MFE specification.\n",
      "***Significance at the 1 percent level.\n",
      " **Significance at the 5 percent level.\n",
      "  *Significance at the 10 percent level.\n"
     ]
    }
   ],
   "source": [
    "table_LS(dep_vars_LS, dep_vars_LS_name, reg_spec1_LS, reg_spec2_LS, reg_spec3_LS, reg_spec4_LS, reg_spec5_LS, reg_spec6_LS, reg_spec7_LS)"
   ]
  },
  {
   "cell_type": "markdown",
   "metadata": {},
   "source": [
    "Unanimously, the point estimates of the RDD specifications are negative, some of the even signficantly negative on the 1 percent level. This suggests that receiving the child beneift induced a decrease in labor supply.\n",
    "\n",
    "Turning towards the MFE specification, again, the author employs a global polynomial time trend instead of a local polynomial one which would have allowed the time trend to differ pre/post-treatment. Here, we report the specification using a local polynomial approach. A comparison of both approaches will conducted later on.\n",
    "\n",
    "Also, for the only time in her whole analysis, González not only uses heteroscedasticity-robust standard errors but additionally clusteres the standard errors at the monthly level in the MFE specification. This will be investigated later on as well. "
   ]
  },
  {
   "cell_type": "markdown",
   "metadata": {},
   "source": [
    "<a id='critique'></a>\n",
    "## 4.) Critical Assesment of the Author's Empirical Work"
   ]
  },
  {
   "cell_type": "markdown",
   "metadata": {},
   "source": [
    "<a id='autocorr'></a>\n",
    "### 4.1) Autocorrelation"
   ]
  },
  {
   "cell_type": "markdown",
   "metadata": {},
   "source": [
    "As pointed out by Hausman and Rapson (2018), in a RDiT setting, the researcher has to be aware of the possibility to encounter serially correlated standard errors. Clearly, the number of conceptions as well as the number of abortions are both pure time series data and thus it stands to reason to examine whether the residuals obtained in the corresponding regressions exhibit autocorrelation. Since the author does not mention this issue in her article, we will conduct such an examination in the following.\n",
    "\n",
    "Starting with conceptions, we plot the Autocorrelation Functions (ACF) belonging to the respective regressions (see again the [regression table](#table_fertility))."
   ]
  },
  {
   "cell_type": "code",
   "execution_count": 31,
   "metadata": {},
   "outputs": [
    {
     "data": {
      "image/png": "[encoded data removed]",
      "text/plain": [
       "<Figure size 864x360 with 8 Axes>"
      ]
     },
     "metadata": {
      "needs_background": "light"
     },
     "output_type": "display_data"
    }
   ],
   "source": [
    "fig, axes = plt.subplots(ncols=4, nrows=2, sharex=True, sharey=True, figsize=(12,5))\n",
    "\n",
    "plt.tight_layout()\n",
    "fig.suptitle('ACF - Plots')\n",
    "plt.subplots_adjust(top=0.9)\n",
    "\n",
    "for x in range(4):\n",
    "    smt.graphics.plot_acf(reg_list_b[x].resid,lags=5,alpha=0.05, ax=axes[0,x])\n",
    "    axes[0,x].set_title('Spec. ('+str(x+1)+')')\n",
    "    smt.graphics.plot_acf(reg_list_b[x+4].resid,lags=5,alpha=0.05, ax=axes[1,x])\n",
    "    axes[1,x].set_title('Spec. ('+str(x+5)+')')"
   ]
  },
  {
   "cell_type": "markdown",
   "metadata": {},
   "source": [
    "At least with respect to specifications 6 and 7, controlling for first-order autocorrelation is indicated. Therefore, we perform both regressions again and this time, we account for autocorrelation up to lag 1 using autocorrelation-and-heteroscedasticity-robust standard errors, as proposed by Newey and West (1987)."
   ]
  },
  {
   "cell_type": "code",
   "execution_count": 32,
   "metadata": {
    "scrolled": true
   },
   "outputs": [
    {
     "name": "stdout",
     "output_type": "stream",
     "text": [
      "—————————————————————————————————————————————————\n",
      "                       MFE (6)        MFE (7)   \n",
      "                      10 years        7 years   \n",
      "—————————————————————————————————————————————————\n",
      "Conceptions -     \u001b[1m      0.0495***\u001b[0m\u001b[1m      0.0539***\u001b[0m                                                 \n",
      "  robust SE             0.0103         0.0088                                                    \n",
      "                                                 \n",
      "Conceptions -     \u001b[1m      0.0495***\u001b[0m\u001b[1m      0.0539***\u001b[0m                                                 \n",
      "  Newey West SE         0.0105         0.0085                                                    \n",
      "—————————————————————————————————————————————————\n",
      "Notes: The dependent variable is the natural logarithm of the monthly number of conceptions.\n",
      "For each of the specifications, the coefficient of the binary treatment indicator is printed\n",
      "in bold font. Standard errors are reported below.\n",
      "***Significance at the 1 percent level.\n",
      " **Significance at the 5 percent level.\n",
      "  *Significance at the 10 percent level.\n"
     ]
    }
   ],
   "source": [
    "reg_list_b_NW = reg_conceptions_NW(dfb)\n",
    "table_conceptions_NW(reg_list_b, reg_list_b_NW)"
   ]
  },
  {
   "cell_type": "markdown",
   "metadata": {},
   "source": [
    "Naturally, the point estimates stay the same But also the change in the standard errors is negligible. Still, we repeat the same exercise for abortions. The corresponding Autocorrelation Functions are plotted below."
   ]
  },
  {
   "cell_type": "code",
   "execution_count": 33,
   "metadata": {
    "scrolled": false
   },
   "outputs": [
    {
     "data": {
      "image/png": "[encoded data removed]",
      "text/plain": [
       "<Figure size 864x360 with 8 Axes>"
      ]
     },
     "metadata": {
      "needs_background": "light"
     },
     "output_type": "display_data"
    }
   ],
   "source": [
    "fig, axes = plt.subplots(ncols=4, nrows=2, sharex=True, sharey=True, figsize=(12,5))\n",
    "\n",
    "plt.tight_layout()\n",
    "fig.suptitle('ACF - Plots')\n",
    "plt.subplots_adjust(top=0.9)\n",
    "\n",
    "for x in range(4):\n",
    "    smt.graphics.plot_acf(reg_list_a[x].resid,lags=5,alpha=0.05, ax=axes[0,x])\n",
    "    axes[0,x].set_title('Spec. ('+str(x+1)+')')\n",
    "    smt.graphics.plot_acf(reg_list_a[x+4].resid,lags=5,alpha=0.05, ax=axes[1,x])\n",
    "    axes[1,x].set_title('Spec. ('+str(x+5)+')')"
   ]
  },
  {
   "cell_type": "markdown",
   "metadata": {},
   "source": [
    "Only with respect to specification 8 we can clearly detect first-order autocorrelation - this time with a negative sign. This suggests that without accounting for serially correlation, the standard error tends to be overestimated. Therefore, we perform the regression again."
   ]
  },
  {
   "cell_type": "code",
   "execution_count": 34,
   "metadata": {},
   "outputs": [
    {
     "name": "stdout",
     "output_type": "stream",
     "text": [
      "————————————————————————————————————————\n",
      "                       MFE (8)   \n",
      "                       5 years   \n",
      "————————————————————————————————————————\n",
      "Abortions -       \u001b[1m     -0.0649*  \u001b[0m                                                 \n",
      "  robust SE             0.0366                                                    \n",
      "                                                 \n",
      "Abortions -       \u001b[1m     -0.0649***\u001b[0m                                                 \n",
      "  Newey West SE         0.0208                                                    \n",
      "————————————————————————————————————————\n",
      "Notes: The dependent variable is the natural logarithm of the monthly number of abortions.\n",
      "The coefficient of the binary treatment indicator is printed in bold font. \n",
      "Standard errors are reported below.\n",
      "***Significance at the 1 percent level.\n",
      " **Significance at the 5 percent level.\n",
      "  *Significance at the 10 percent level.\n"
     ]
    }
   ],
   "source": [
    "reg_list_a_NW = reg_abortions_NW(dfa)\n",
    "table_abortions_NW(reg_list_a, reg_list_a_NW)"
   ]
  },
  {
   "cell_type": "markdown",
   "metadata": {},
   "source": [
    "As expected, the Newey West standard error is smaller than the one only accounting for heteroscedasticity. This time, the difference is even relevant for significance: the coefficient is now significant at the 1 percent level."
   ]
  },
  {
   "cell_type": "markdown",
   "metadata": {},
   "source": [
    "Lastly, we want to consider the one regression in which the author already adjusts standard errors: the MFE specification with labor supply variables as dependent variables. Again, we start with plotting the respective autocorrelation functions. Note that we base the regressions on a local polynomial time trend and not - as the author did - on a global polynomial trend."
   ]
  },
  {
   "cell_type": "code",
   "execution_count": 35,
   "metadata": {},
   "outputs": [
    {
     "data": {
      "text/plain": [
       "Text(0.5, 1.0, 'Employed')"
      ]
     },
     "execution_count": 35,
     "metadata": {},
     "output_type": "execute_result"
    },
    {
     "data": {
      "image/png": "[encoded data removed]",
      "text/plain": [
       "<Figure size 720x216 with 2 Axes>"
      ]
     },
     "metadata": {
      "needs_background": "light"
     },
     "output_type": "display_data"
    }
   ],
   "source": [
    "fig, axes = plt.subplots(ncols=2, nrows=1, sharex=True, sharey=True, figsize=(10,3))\n",
    "plt.tight_layout()\n",
    "fig.suptitle('ACF - Plots: Spec. (7)')\n",
    "plt.subplots_adjust(top=0.8)\n",
    "smt.graphics.plot_acf(reg_spec7_LS[0].resid,lags=5,alpha=0.05, ax=axes[0])\n",
    "axes[0].set_title('Working Last Week')\n",
    "smt.graphics.plot_acf(reg_spec7_LS[1].resid,lags=5,alpha=0.05, ax=axes[1])\n",
    "axes[1].set_title('Employed')"
   ]
  },
  {
   "cell_type": "markdown",
   "metadata": {},
   "source": [
    "Although the 5%-confidence bands are difficult to spot as they are very narrow around zero, accounting for first-order autocorrelation seems to be indicated. Thus, we compare the results for robust standard errors, clustered standard errors (as it is done by the author) and Newey-West standard errors in the following."
   ]
  },
  {
   "cell_type": "code",
   "execution_count": 36,
   "metadata": {},
   "outputs": [
    {
     "name": "stdout",
     "output_type": "stream",
     "text": [
      "————————————————————————————————————————\n",
      "                                  MFE   \n",
      "                                  (7)   \n",
      "————————————————————————————————————————\n",
      "Working last week -      \u001b[1m     -0.0213   \u001b[0m\n",
      "  robust SE                    0.0230   \n",
      "  clustered SE                 0.0185   \n",
      "  Newey-West SE                0.0232   \n",
      "                                                 \n",
      "Employed -               \u001b[1m      0.0049   \u001b[0m\n",
      "  robust SE                    0.0226   \n",
      "  clustered SE                 0.0175   \n",
      "  Newey-West SE                0.0228   \n",
      "————————————————————————————————————————\n",
      "Notes: The coefficient of the binary treatment indicator is always printed in bold font. \n",
      "Standard errors are reported below.\n",
      "***Significance at the 1 percent level.\n",
      " **Significance at the 5 percent level.\n",
      "  *Significance at the 10 percent level.\n"
     ]
    }
   ],
   "source": [
    "table_LS_ac(reg_spec7_LS_robust, reg_spec7_LS, reg_spec7_LS_NW)"
   ]
  },
  {
   "cell_type": "markdown",
   "metadata": {},
   "source": [
    "The difference between heteroscedasticity-robust and Newey-West standard errors is again negligible. Clustered standard errors, however, are considerably smaller. Still, none of them results in the coefficients being significant."
   ]
  },
  {
   "cell_type": "markdown",
   "metadata": {},
   "source": [
    "It remains the question why the author does not address the issue of autocorrelation in her article. One could speculate that she is aware of the problem since she employs clustering of the errors with respect to two dependent variables. However, it is unclear why she does not motivate or does not even mention this in the paper. In particular, she could have explained why she only applies this method to those two dependent variables and not with regard to the other ones that have similar regression specifications and time windows.\n",
    "\n",
    "More general, there does not appear to be an unquestionable way to deal with serial correlation in a RDiT setting. In a seminal paper in this strand of literature, Davis (2008) employs a RDiT design with respect to time series data on air pollution in Mexico City to infer the effect of a driving ban. He also uses clustered standard errors in his main specification but as alternative specification, he reports results with Newey-West standard errors. Clearly, it might be fruitful for further research to address the question how to appropriately deal with serial correlation in a RDiT framework."
   ]
  },
  {
   "cell_type": "markdown",
   "metadata": {},
   "source": [
    "<a id='mc_revised'></a>\n",
    "### 4.2) Computing Month of Conception More Precisely"
   ]
  },
  {
   "cell_type": "markdown",
   "metadata": {},
   "source": [
    "The author used the variable semanas to compute month of conception (mc). However, for some reason she did not extract the full information from this variable: If a woman stated that pregnancy lasted less than 39 weeks the author subtracted only 8 months from the variable month of birth. However, for a duration of less than 35 weeks the author did not subtract only 7 months but 8 months as well.\n",
    "\n",
    "Because the variable month of conception is the running variable and, therefore, the most important explaining variable of the analysis, we want to compute it as precisely as possible and check whether our results will be different than the ones obtained by the author. \n",
    "\n",
    "Note that since we addressed the issue of autocorrelation previously and concluded that it did not matter with respect to conceptions, here we only employ heteroscedasticity-robust standard errors. This also allows to directly compare the results."
   ]
  },
  {
   "cell_type": "code",
   "execution_count": 37,
   "metadata": {},
   "outputs": [
    {
     "name": "stdout",
     "output_type": "stream",
     "text": [
      "————————————————————————————————————————————————————————————————————————————————————————————————————————————————————\n",
      "               RDD (1)      RDD (2)      RDD (3)      RDD (4)      RDD (5)      MFE (6)      MFE (7)      MFE (8)   \n",
      "              10 years      5 years    12 months     9 months     3 months     10 years      7 years      5 years   \n",
      "————————————————————————————————————————————————————————————————————————————————————————————————————————————————————\n",
      "mc revised  \u001b[1m    0.0525** \u001b[0m\u001b[1m    0.0686***\u001b[0m\u001b[1m    0.0843** \u001b[0m\u001b[1m    0.0730** \u001b[0m\u001b[1m    0.0495   \u001b[0m\u001b[1m    0.0501***\u001b[0m\u001b[1m    0.0544***\u001b[0m\u001b[1m    0.0540***\u001b[0m                                                                                                                    \n",
      "                0.0218       0.0252       0.0369       0.0290       0.0321       0.0104       0.0087       0.0136                                                                                                                       \n",
      "                                                                                                                    \n",
      "mc old      \u001b[1m    0.0531** \u001b[0m\u001b[1m    0.0695***\u001b[0m\u001b[1m    0.0852** \u001b[0m\u001b[1m    0.0750***\u001b[0m\u001b[1m    0.0503   \u001b[0m\u001b[1m    0.0495***\u001b[0m\u001b[1m    0.0539***\u001b[0m\u001b[1m    0.0527***\u001b[0m                                                                                                                    \n",
      "                0.0219       0.0250       0.0359       0.0285       0.0314       0.0103       0.0088       0.0136                                                                                                                       \n",
      "————————————————————————————————————————————————————————————————————————————————————————————————————————————————————\n",
      "Notes: The dependent variable is always the natural logarithm of the monthly number of conceptions.\n",
      "For each of the specifications, the coefficient of the binary treatment indicator variable is printed in bold\n",
      "font. The corresponding heteroscedasticity-robust standard errors are reported below.\n",
      "***Significance at the 1 percent level.\n",
      " **Significance at the 5 percent level.\n",
      "  *Significance at the 10 percent level.\n"
     ]
    }
   ],
   "source": [
    "dfb_mc_new = mc_more_precisely()\n",
    "reg_list_b_mc_new = reg_conception(dfb_mc_new)\n",
    "table_reg_output_2(reg_list_b_mc_new, reg_list_b)"
   ]
  },
  {
   "cell_type": "markdown",
   "metadata": {},
   "source": [
    "The coefficient estimates using mc revised differ only slightly from our previous esimates. The significance levels at which one would reject the hypothesis that the policy had no effect on conceptions stay the same except for RDD (4). In RDD (4), with mc revised as dependent variable, the treatment dummy is significant at the 5 % level and not at the 1 % level anymore."
   ]
  },
  {
   "cell_type": "markdown",
   "metadata": {},
   "source": [
    "<a id='global_poly'></a>\n",
    "### 4.3) Global vs. Local Polynomial Time Trend"
   ]
  },
  {
   "cell_type": "markdown",
   "metadata": {},
   "source": [
    "In the following, we want to address the question whether deploying a global polynomial time trend changes the results compared to a specification with a local polynomial. Put differently: do the obtained coefficients differ when the interaction term $(m \\cdot D)$ in regression equation [(7)](#eq7) is excluded - which would give a global polynomial time trend. \n",
    "\n",
    "As pointed out before, the author utilizes a global polynomial time trend in the MFE regressions with respect to daycare. To explore the repercussions, we estimate both specification, global and local polynomial time trend, using only heteroscedasticity-robust standard errors to keep the results comaprable with the ones presented previously."
   ]
  },
  {
   "cell_type": "code",
   "execution_count": 38,
   "metadata": {},
   "outputs": [
    {
     "name": "stdout",
     "output_type": "stream",
     "text": [
      "————————————————————————————————————————\n",
      "                                  MFE   \n",
      "                                  (7)   \n",
      "————————————————————————————————————————\n",
      "Private day care         \u001b[1m   -107.5658   \u001b[0m\n",
      "- local polynomial           125.1260   \n",
      "                                                 \n",
      "Private day care         \u001b[1m   -176.6192** \u001b[0m\n",
      "- global polynomial           83.5973   \n",
      "                                                 \n",
      "Priv. day care (binary)  \u001b[1m      0.0244   \u001b[0m\n",
      "- local polynomial             0.0718   \n",
      "                                                 \n",
      "Priv. day care (binary)  \u001b[1m     -0.0364   \u001b[0m\n",
      "- global polynomial            0.0500   \n",
      "————————————————————————————————————————\n",
      "Notes: The coefficient of the binary treatment indicator is always printed in bold font. \n",
      "Heteroscedasticity-robust standard errors are reported below.\n",
      "***Significance at the 1 percent level.\n",
      " **Significance at the 5 percent level.\n",
      "  *Significance at the 10 percent level.\n"
     ]
    }
   ],
   "source": [
    "table_daycare_poly(reg_spec7_childcare_global, reg_spec7_childcare)"
   ]
  },
  {
   "cell_type": "markdown",
   "metadata": {},
   "source": [
    "The obtained differences are quite pronounced. With respect to \"Private day care\", employing a global polynomial time trend, as it is done by the author on this occasion, yields a significant effect on the 5 percent level and also the point estimate becomes more negative. With respect to the binary variable, both coefficients are insignificant but the point estimate is negative in the case of a global polynomial time trend.\n",
    "\n",
    "Undoubtedly, those results with a global polynomial time trend make a contribution such that the author was able conclude in her article that \"families reciving the benefit  may have spent significantly less in private day care during the first year of the child's life\" (González 2013: p. 180). This claim is mainly built upon the specification with a global polynomial as it is the only result being significant at the 5 percent level (see the [other results](#table_daycare) again).\n",
    "\n",
    "We can only speculate why the author does not mention or motivate the use of a global polynomial in this particular case. Maybe she simply forgot to add it in her Stata code. Still, this is particularly troubling as the whole argument put forward by the author with respect to the use of daycare draws on the results obtained when employing a global polynomial time trend.\n",
    "\n",
    "Generally, it is not clear whether a local polynomial approach is more appropriate than a global one. While Davis (2008) deploys a global polynomial time trend, Gelman and Imbens (2019) recommend the use of a local polynomial function of lower order, i.e. linear or quadratic. However, the choice might also be context-dependent. That is why it is unfortunate that the author does not give reasons why she switches from local to global polynomial functions in certain cases."
   ]
  },
  {
   "cell_type": "markdown",
   "metadata": {},
   "source": [
    "<a id='further_analyses'></a>\n",
    "## 5.) Further Analyses"
   ]
  },
  {
   "cell_type": "markdown",
   "metadata": {},
   "source": [
    "<a id='abolishment'></a>\n",
    "### 5.1) Abolishment of the Policy"
   ]
  },
  {
   "cell_type": "markdown",
   "metadata": {},
   "source": [
    "While being a lasting subject of political debate, the universal child benefit enjoyed great popularity in wide sections of the population - the media even coined a name for it: baby-checks (\"cheque-bebé\"). However, starting in 2008, Spain experienced a severe recession with massively negative effects on public budgets. The government intitally engaged in anti-cyclical economic policy and increased public spending but was then faced with an emerging debt crisis. \n",
    "\n",
    "In 2009, the Spanish Prime Minister Zapatero pronounced cuts to public spending but explicitly stated that the universal child benefit cannot be revoked. Nevertheless, the government unexpectedly announced in May that the policy was to expire by the end of the year 2010 (El País, 2010). \n",
    "\n",
    "Again, this policy change can be exploited for scientific puposes. Interestingly, González and coauthors did exactly this (Borra, González and Sevilla, 2019). Since mothers giving birth after December 31, 2010, were no longer eligible to receive the benefit and with this being publicly announced beforehand, they presume to find sorting behavior at the threshold. They argue that parents (together with their physicians) can schedule births early, in particular through a  cesarean-section. The authors purchased a data set from the Spanish National Statistics Institute which contains the exact date of every newborn child which they then combine with the publicly available data set that allowed us to study the effect on conceptions in this project. Together with detailed medical records, they obtain the following findings.  At least 2,000 parents shifted their delivery from January 2011 to December 2010 (out of 9,000 weekly \n",
    "births). Accordingly, this had negative health consequences for those children, in particular their birth-weight was about 250 grams lower and they were subject to 1,000 additional hospitalizations during the first 15 months following birth.  \n",
    "\n",
    "In the following, we will pursue a different approach that is realizable with the given data set as well as with additional publicly abailable data. Since the policy change was unexpected and we can assume the number of conceptions to react immediately (7 months lie between May and January, so conceptions should instantaneously drop), we can apply the same sharp RDiT design as before to the monthly number of conceptions. Therefore, we append the data set from González with more recent data on births from 2011-2017 (2018 has not been published so far). The data preparation procedure is the same as described above - but we are now computing the month of conception more precisely, as outlined before. The treatment indicator variable takes now value 1 starting in May 2010, the month the policy change was announced. \n",
    "\n",
    "The results for five different specifications are presented below. Note that we only use 5 years as our largest time horizon as otherwise the time frame would overlap with the introduction of the policy."
   ]
  },
  {
   "cell_type": "code",
   "execution_count": 39,
   "metadata": {},
   "outputs": [],
   "source": [
    "df_births = create_births()"
   ]
  },
  {
   "cell_type": "code",
   "execution_count": 40,
   "metadata": {},
   "outputs": [],
   "source": [
    "df_abolishment = preparation_abolishment(df_births)"
   ]
  },
  {
   "cell_type": "code",
   "execution_count": 41,
   "metadata": {},
   "outputs": [],
   "source": [
    "# create necessary subsets of df_abolishment\n",
    "df_abolishment_list = list()\n",
    "\n",
    "df_abolishment_list.append(df_abolishment.loc[(df_abolishment['mc']>-31) & (df_abolishment['mc']<30)]) # 5 years\n",
    "df_abolishment_list.append(df_abolishment.loc[(df_abolishment['mc']>-13) & (df_abolishment['mc']<12)]) # 12 months\n",
    "df_abolishment_list.append(df_abolishment.loc[(df_abolishment['mc']>-10) & (df_abolishment['mc']<9)]) # 9 months\n",
    "df_abolishment_list.append(df_abolishment.loc[(df_abolishment['mc']>-4) & (df_abolishment['mc']<3)]) # 3 months\n",
    "\n",
    "# run regressions\n",
    "reg1 = smf.ols(formula =\n",
    "        'ln ~ post + mc + post*mc + mc2 + post*mc2 + days', data=df_abolishment_list[0]).fit(cov_type='HC1')\n",
    "reg2 = smf.ols(formula =\n",
    "        'ln ~ post + mc + post*mc + mc2 + post*mc2 + days', data=df_abolishment_list[1]).fit(cov_type='HC1')\n",
    "reg3 = smf.ols(formula =\n",
    "        'ln ~ post + mc + post*mc + days', data=df_abolishment_list[2]).fit(cov_type='HC1')\n",
    "reg4 = smf.ols(formula =\n",
    "        'ln ~ post + days', data=df_abolishment_list[3]).fit(cov_type='HC1')\n",
    "reg5 = smf.ols(formula =\n",
    "        'ln ~ post + mc + post*mc + mc2 + post*mc2 + days + feb + mar + apr + mai + jun + jul + aug + sep + oct + nov + dec', data=df_abolishment_list[0]).fit(cov_type='HC1')\n",
    "\n",
    "# store regessions in list\n",
    "reg_list_abolishment = [reg1, reg2, reg3, reg4, reg5]"
   ]
  },
  {
   "cell_type": "code",
   "execution_count": 42,
   "metadata": {},
   "outputs": [
    {
     "name": "stdout",
     "output_type": "stream",
     "text": [
      "——————————————————————————————————————————————————————————————————————————————————————————————\n",
      "                       RDD (1)        RDD (2)        RDD (3)        RDD (4)        MFE (5)   \n",
      "                       5 years      12 months       9 months       3 months        5 years   \n",
      "——————————————————————————————————————————————————————————————————————————————————————————————\n",
      "Conceptions       \u001b[1m     -0.0952***\u001b[0m\u001b[1m     -0.1042** \u001b[0m\u001b[1m     -0.1256***\u001b[0m\u001b[1m     -0.0738*  \u001b[0m\u001b[1m     -0.0386** \u001b[0m                                                                                       \n",
      "                        0.0265         0.0427         0.0394         0.0381         0.0165                                                                                          \n",
      "                                                                                       \n",
      "Linear trend in m          Yes            Yes            Yes             No            Yes\n",
      "Quad. trend in m           Yes            Yes             No             No            Yes\n",
      "——————————————————————————————————————————————————————————————————————————————————————————————\n",
      "Notes: The dependent variable is the natural logarithm of the monthly number of conceptions.\n",
      "For each of the specifications, the coefficient of the binary treatment indicator variable is\n",
      "printed in bold font. The corresponding standard errors are always reported below.\n",
      "***Significance at the 1 percent level.\n",
      " **Significance at the 5 percent level.\n",
      "  *Significance at the 10 percent level.\n"
     ]
    }
   ],
   "source": [
    "table_abolishment(reg_list_abolishment)"
   ]
  },
  {
   "cell_type": "markdown",
   "metadata": {},
   "source": [
    "In accordance with our expectations, the point estimates unanimously have a negative sign (accounting for autocorrelation is not indicated, see [appendix](#acf_abolishment)). Considering the MFE specification, as this is in our opinion the most reliable application because it controlls for seasonality effects as far as possible, the estimate suggests that conceptions dropped by about 4 percent in reaction to the announcement of the government to abolish the policy. \n",
    "\n",
    "As always, we have to assume that no other events, such as other policy changes, discontinuously affected potential outcomes around the new threshold May 2010 to ensure that our identifying assumption [(A)](#A) holds. This is, however, highly unlikely since at that time Spain experienced a severe economic crisis and the government conducted various spending cuts. Therefore, the results shoud be treated with caution."
   ]
  },
  {
   "cell_type": "markdown",
   "metadata": {},
   "source": [
    "<a id='reliability'></a>\n",
    "### 5.2) General Reliability of the Research Design"
   ]
  },
  {
   "cell_type": "markdown",
   "metadata": {},
   "source": [
    "<a id='placebo'></a>\n",
    "#### 5.2.1) Placebo Tests"
   ]
  },
  {
   "cell_type": "markdown",
   "metadata": {},
   "source": [
    "In their article, Imbens and Lemieux (2008) point out the two most important concerns in the application of a RDD: sorting around the threshold and the possibility of other changes affecting potential outcomes around the threshold value. Both would lead to a violation of the crucial identification assumption [(A)](#A), but while the former can be ruled out in the given context, the latter remains a subject of discussion. \n",
    "\n",
    "One specification test proposed by the two authors involves testing for a discontinuity in observed outcomes where one can plausibly assume that there should not be a discontinuity. Importantly, González argues that no other policy change affected the considered outcome variables discontinuously around the threshold. As stated before, we can neither verify nor falsify this statement. Fortunately, an episode in Spanish politics allows to plausibly assume this statement to hold true. \n",
    "\n",
    "The Spanish general election of December 20, 2015, resulted in a hung parliament in which no political party proved to be in a position to form a government. A snap election on June 26, 2016, did not substantially change the majority situation in parliament and thus it took untill the end of October to end the political deadlock. In total, Spain experienced a period of 314 days without an elected government (Expansión, 2016). The resulting slow-down in law-making activity permits to rule out a discontinuous effect of a policy change during that time frame (see Linklaters, 2017, for the main legislative changes - none of them is suggested to have a discontinuous impact on fertility).\n",
    "\n",
    "Thus, this incidence allows to perform a Placebo test: we can plausibly rule out policy changes, so if there are no other unobserved events discontinuously affecting fertility (an assumption that is not testable), we should not detect a significant effect when applying a RDiT design to conceptions. In particular, we can now examine to which extent seasonality effects might bias the estimates - or if those seasonality effects are already appropriately controlled for.\n",
    "\n",
    "To motivate that seasonality effects might matter a lot, especially when considering small time frames, we plot the monthly number of conceptions (as computed by the author) for the years 2000-2009 and also add the mean."
   ]
  },
  {
   "cell_type": "code",
   "execution_count": 43,
   "metadata": {
    "scrolled": false
   },
   "outputs": [
    {
     "data": {
      "image/png": "[encoded data removed]",
      "text/plain": [
       "<Figure size 504x360 with 1 Axes>"
      ]
     },
     "metadata": {
      "needs_background": "light"
     },
     "output_type": "display_data"
    }
   ],
   "source": [
    "# collecting mean values per month\n",
    "month = {'month':[1, 2, 3, 4, 5, 6, 7, 8, 9, 10, 11, 12]}\n",
    "df_mean = pd.DataFrame(data=month)\n",
    "df_mean['mean'] = np.nan\n",
    "\n",
    "x=1\n",
    "while x < 13:\n",
    "    df_mean.loc[df_mean['month'] == x, 'mean'] = dfb.loc[(dfb['month']==x) & (dfb['year']>=2000) & \\\n",
    "                                                         (dfb['year']<=2009),'n'].mean()\n",
    "    x += 1\n",
    "\n",
    "\n",
    "# Plotting years\n",
    "fig, ax = plt.subplots()\n",
    "x=0\n",
    "while x<7 :\n",
    "    y=x/14\n",
    "    dfb.loc[dfb['year']==2000+x].plot(x='month',y='n',linestyle='-',linewidth=0.5, marker='.',ylim=(30000,45000), \\\n",
    "                                      ax=ax, label=2000+x, legend=None, color=str(y), figsize=(7,5))\n",
    "    x+=1\n",
    "\n",
    "dfb.loc[dfb['year']==2007].plot(x='month',y='n',linestyle='-',linewidth=0.8, marker='.',ylim=(30000,45000), \\\n",
    "                                      ax=ax, label=2007, legend=None, color=\"g\", figsize=(7,5))\n",
    "x=8\n",
    "while x<10 :\n",
    "    y=x/14\n",
    "    dfb.loc[dfb['year']==2000+x].plot(x='month',y='n',linestyle='-',linewidth=0.5, marker='.',ylim=(30000,45000), \\\n",
    "                                      ax=ax, label=2000+x, legend=None, color=str(y), figsize=(7,5))\n",
    "    x+=1\n",
    "\n",
    "df_mean.plot(x='month',y='mean',linestyle='-',linewidth=1, marker='o', legend=None, color=\"r\", ax=ax)\n",
    "fig.legend(loc=7)\n",
    "plt.axvline(x=6.5, color=\"black\", linewidth=1)\n",
    "plt.axvline(x=4.5, color=\"0.3\", linewidth=1, linestyle='dashed')\n",
    "fig.subplots_adjust(right=0.82)\n",
    "plt.xticks(np.arange(1,13, step=1))\n",
    "plt.yticks(np.arange(30000,45000, step=2000))\n",
    "plt.title(\"Monthly Conceptions 2000-2009\")\n",
    "plt.show()"
   ]
  },
  {
   "cell_type": "markdown",
   "metadata": {},
   "source": [
    "Clearly, one can identify a seasonal pattern. For instance, drops in May and Spetember recognized as well as a peaks in April and August. Note, however, that this seasonal pattern in the number of conceptions also partly reflects differences in the number of days per month.\n",
    "\n",
    "We further added a solid line indication the transition from June to July, which identifies the threshold in the original research design that is applied to the introduction of the child benefit in 2007. Additionally, the dashed line denotes the threshold when considering the abolishment of the policy.\n",
    "\n",
    "Cautiously interpreted, the visual representation particularly suggests a trend reversal from April to May, which, if not appropriately accounted for, can cause bias to obtained estimates."
   ]
  },
  {
   "cell_type": "markdown",
   "metadata": {},
   "source": [
    "*July 2016 as Threshold*"
   ]
  },
  {
   "cell_type": "markdown",
   "metadata": {},
   "source": [
    "To start with, we conduct a Placebo test with July as threshold. Since the data on births (and with it the information on conceptions which can be inferred from it) for the year 2018 is not yet published, we can only consider very narrow time frames - in particular those, that are vulnerable to bias from seasonality effects as monthly fixed effects cannot be estimated. The results are presented in the following. Note that we again calculate the month of conception as precisely as possible."
   ]
  },
  {
   "cell_type": "code",
   "execution_count": 44,
   "metadata": {},
   "outputs": [],
   "source": [
    "df_placebo_july = preparation_placebo_july(df_births)"
   ]
  },
  {
   "cell_type": "code",
   "execution_count": 45,
   "metadata": {},
   "outputs": [],
   "source": [
    "# create necessary subsets of df_placebo_july\n",
    "df_placebo_july_list = list()\n",
    "\n",
    "df_placebo_july_list.append(df_placebo_july.loc[(df_placebo_july['mc']>-10) & (df_placebo_july['mc']<9)]) # 9 months\n",
    "df_placebo_july_list.append(df_placebo_july.loc[(df_placebo_july['mc']>-4) & (df_placebo_july['mc']<3)]) # 3 months\n",
    "\n",
    "reg1 = smf.ols(formula =\n",
    "        'ln ~ post + mc + post*mc + days', data=df_placebo_july_list[0]).fit(cov_type='HC1')\n",
    "reg2 = smf.ols(formula =\n",
    "        'ln ~ post + days', data=df_placebo_july_list[1]).fit(cov_type='HC1')\n",
    "\n",
    "\n",
    "# store regessions in list\n",
    "reg_list_placebo_july = [reg1, reg2]"
   ]
  },
  {
   "cell_type": "code",
   "execution_count": 46,
   "metadata": {},
   "outputs": [
    {
     "name": "stdout",
     "output_type": "stream",
     "text": [
      "———————————————————————————————————————————————\n",
      "                       RDD (1)        RDD (2)   \n",
      "                      9 months       3 months   \n",
      "———————————————————————————————————————————————\n",
      "Conceptions       \u001b[1m      0.0423   \u001b[0m\u001b[1m      0.0053   \u001b[0m                                        \n",
      "                        0.0344         0.0246                                           \n",
      "                                        \n",
      "Linear trend in m          Yes             No\n",
      "———————————————————————————————————————————————\n",
      "Notes: The dependent variable is the natural logarithm of the monthly number of conceptions.\n",
      "For each of the specifications, the coefficient of the binary treatment indicator is printed\n",
      "in bold font. Heteroscedasticity-robust standard errors are reported below.\n",
      "***Significance at the 1 percent level.\n",
      " **Significance at the 5 percent level.\n",
      "  *Significance at the 10 percent level.\n"
     ]
    }
   ],
   "source": [
    "table_placebo_july(reg_list_placebo_july)"
   ]
  },
  {
   "cell_type": "markdown",
   "metadata": {},
   "source": [
    "While the point estimates are both positive, the coefficients are insignificant. Accounting for autocorrelation is not indicated in the present case, the corresponding ACF plots can be found in the [appendix](#acf_placebo_july).\n",
    "\n",
    "These results suggest that at least with respect to July as threshold, the RDD specifications applied to small time frames are not from the start rendered invalid."
   ]
  },
  {
   "cell_type": "markdown",
   "metadata": {},
   "source": [
    "*May 2016 as Threshold* "
   ]
  },
  {
   "cell_type": "markdown",
   "metadata": {},
   "source": [
    "We repeat the exercise with May 2016 as threshold. The respective results are reported below."
   ]
  },
  {
   "cell_type": "code",
   "execution_count": 47,
   "metadata": {},
   "outputs": [],
   "source": [
    "df_placebo_may = preparation_placebo_may(df_births)"
   ]
  },
  {
   "cell_type": "code",
   "execution_count": 48,
   "metadata": {},
   "outputs": [],
   "source": [
    "# create necessary subsets of df_placebo_may\n",
    "df_placebo_may_list = list()\n",
    "\n",
    "df_placebo_may_list.append(df_placebo_may.loc[(df_placebo_may['mc']>-10) & (df_placebo_may['mc']<9)]) # 9 months\n",
    "df_placebo_may_list.append(df_placebo_may.loc[(df_placebo_may['mc']>-4) & (df_placebo_may['mc']<3)]) # 3 months\n",
    "\n",
    "#running regressions:\n",
    "reg1 = smf.ols(formula =\n",
    "        'ln ~ post + mc + post*mc + days', data=df_placebo_may_list[0]).fit(cov_type='HC1')\n",
    "reg2 = smf.ols(formula =\n",
    "        'ln ~ post + days', data=df_placebo_may_list[1]).fit(cov_type='HC1') \n",
    "\n",
    "# store regessions in list\n",
    "reg_list_placebo_may = [reg1, reg2]"
   ]
  },
  {
   "cell_type": "code",
   "execution_count": 49,
   "metadata": {},
   "outputs": [
    {
     "name": "stdout",
     "output_type": "stream",
     "text": [
      "—————————————————————————————————————————————————\n",
      "                       RDD (1)        RDD (2)   \n",
      "                      9 months       3 months   \n",
      "—————————————————————————————————————————————————\n",
      "Conceptions       \u001b[1m     -0.1006***\u001b[0m\u001b[1m     -0.0452** \u001b[0m                                           \n",
      "                        0.0375         0.0188                                              \n",
      "                                        \n",
      "Linear trend in m          Yes             No\n",
      "—————————————————————————————————————————————————\n",
      "Notes: The dependent variable is the natural logarithm of the monthly number of conceptions.\n",
      "For each of the specifications, the coefficient of the binary treatment indicator is printed\n",
      "in bold font. Heteroscedasticity-robust standard errors are reported below.\n",
      "***Significance at the 1 percent level.\n",
      " **Significance at the 5 percent level.\n",
      "  *Significance at the 10 percent level.\n"
     ]
    }
   ],
   "source": [
    "table_placebo_may(reg_list_placebo_may)"
   ]
  },
  {
   "cell_type": "markdown",
   "metadata": {},
   "source": [
    "Here, the Placebo test suggests a significant decrease in conceptions when assuming May 2016 as hypothetical threshold (accounting for autocorrelation is not indicated, see [appendix](#acf_placebo_may)). This is probably driven by seasonality effects as already eluded to when considering the monthly pattern.\n",
    "\n",
    "However, this casts doubts on the research design - or at least compromises the RDD specifications that are based on a small time frame. In any case, the Placebo test suggests a cautious interpretation of the above described findings regarding the abolishment of the policy.\n"
   ]
  },
  {
   "cell_type": "markdown",
   "metadata": {},
   "source": [
    "<a id='simulation'></a>\n",
    "#### 5.2.2) Simulation Study"
   ]
  },
  {
   "cell_type": "markdown",
   "metadata": {},
   "source": [
    "For this simulation study we use ideas from Hausman and Rapson (2018) and consider them in our setting of the introduction of a child benefit. Hausman and Rapson (2018) study time-varying treatment using Monte Carlo simulations and emphasize the difference between short-run and long-run effects. These two aspects will be discussed in light of our setting in the following.\n",
    "\n",
    "Considering the introduction of a child benefit, we, first, thought about what policy makers would be interested in. González mentions that one explicit goal of governments offering a child benefit is to encourage fertility (p. 160). Therefore, they should be interested in whether the policy intervention increased the total number of births.\n",
    "\n",
    "Thinking about whether this intervention might have a time-varying treatment effect we conclude that people might only prepone already planned births because they expect that the benefit will not be paid permanently and they want to take the chance to get the cash payment. Thus, the policy might not trigger additional births but only change the timing of births. The counterfactual total number of births would then have been the same.\n",
    "\n",
    "Additionally, it seems implausible to us, that the intervention causes a *jump* only one month after the introduction. It takes some time to make an important decision like becoming parents and, furthermore, most women need some time until they conceive. Gnoth et al (2003) find that only after 6 months about 90% of truly fertile couples conceive.\n",
    "\n",
    "Thus, we are simulating a treatment effect which has two stages. The first stage has a positive effect on conceptions and lasts for about 6 months (the approximate time it takes until most women conceive) and the second stage has a negative effect and lasts for the next 6 months. These two stages simulate moving conceptions up in time. Furthermore, both stages have a \"smooth phase-in\" and a \"smooth decay\" (Hausman and Rapson, 2018, p.A-3) simulating that conceptions do not immediately work out. Note that with this treatment effect the total effect of the policy on the number of conceptions is 0. Simulating the treatment effect this way does not claim to be perfectly realisitic. However, it is a good approximation of preponing conceptions and allows us to use the sine-function for simulation.\n",
    "\n",
    "As argued above, policy makers would then be interested in the overall effect, which is 0 in our simulated case. We will see that with this kind of treatment effect one should not use small bandwidths in order to obtain the effect which is relevent for policy makers. Thus, one should try to estimate the long-run effect of the policy."
   ]
  },
  {
   "cell_type": "code",
   "execution_count": 50,
   "metadata": {},
   "outputs": [
    {
     "data": {
      "text/plain": [
       "Text(0.5, 1.0, 'No Policy Intervention')"
      ]
     },
     "execution_count": 50,
     "metadata": {},
     "output_type": "execute_result"
    },
    {
     "data": {
      "image/png": "[encoded data removed]",
      "text/plain": [
       "<Figure size 432x288 with 1 Axes>"
      ]
     },
     "metadata": {
      "needs_background": "light"
     },
     "output_type": "display_data"
    }
   ],
   "source": [
    "np.random.seed(234)\n",
    "z = np.linspace(-90, 29, num = 120, dtype = int)\n",
    "D = np.where(z < 0, 0, 1)\n",
    "y_0 = 20 + 0.05*z + np.random.normal(0, 0.5, len(z))\n",
    "plt.plot(z, y_0, 'o', color = 'k')\n",
    "plt.title('No Policy Intervention')"
   ]
  },
  {
   "cell_type": "markdown",
   "metadata": {},
   "source": [
    "The simulated data has the same number of observations like the real conceptions data. Furthermore, the data can be interpreted as monthly observations. However, the level of the simulated y cannot be compared to the natural logarithm of the number of conceptions. Therefore, the value of any estimated coefficient should not be interpreted."
   ]
  },
  {
   "cell_type": "markdown",
   "metadata": {},
   "source": [
    "The following is the simulation of the time-varying treatment effect with it's two stages as described above."
   ]
  },
  {
   "cell_type": "code",
   "execution_count": 51,
   "metadata": {},
   "outputs": [
    {
     "data": {
      "text/plain": [
       "Text(0.5, 1.0, 'Effect of Policy Intervention')"
      ]
     },
     "execution_count": 51,
     "metadata": {},
     "output_type": "execute_result"
    },
    {
     "data": {
      "image/png": "[encoded data removed]",
      "text/plain": [
       "<Figure size 432x288 with 1 Axes>"
      ]
     },
     "metadata": {
      "needs_background": "light"
     },
     "output_type": "display_data"
    }
   ],
   "source": [
    "sin = np.zeros(len(z))\n",
    "for i in z:\n",
    "    sin[i] = math.sin(0.5*z[i])\n",
    "\n",
    "T = np.where( (z < 0) | (z > 4*math.pi), 0, sin)\n",
    "plt.plot(z, T)\n",
    "plt.title('Effect of Policy Intervention')"
   ]
  },
  {
   "cell_type": "code",
   "execution_count": 52,
   "metadata": {},
   "outputs": [
    {
     "data": {
      "text/plain": [
       "Text(0.5, 1.0, 'With Policy Intervention')"
      ]
     },
     "execution_count": 52,
     "metadata": {},
     "output_type": "execute_result"
    },
    {
     "data": {
      "image/png": "[encoded data removed]",
      "text/plain": [
       "<Figure size 432x288 with 1 Axes>"
      ]
     },
     "metadata": {
      "needs_background": "light"
     },
     "output_type": "display_data"
    }
   ],
   "source": [
    "y = 20 + 0.05*z + T + np.random.normal(0, 0.5, len(z))\n",
    "plt.plot(z, y, 'o', color = 'k')\n",
    "plt.axvline(x = -0.5, color = 'k')\n",
    "plt.title('With Policy Intervention')"
   ]
  },
  {
   "cell_type": "markdown",
   "metadata": {},
   "source": [
    "After the cut-off one can see the shape of the sine-function."
   ]
  },
  {
   "cell_type": "code",
   "execution_count": 53,
   "metadata": {
    "scrolled": true
   },
   "outputs": [
    {
     "data": {
      "text/plain": [
       "Text(0.5, 1.0, 'Comparison - A Closer Look')"
      ]
     },
     "execution_count": 53,
     "metadata": {},
     "output_type": "execute_result"
    },
    {
     "data": {
      "image/png": "[encoded data removed]",
      "text/plain": [
       "<Figure size 432x288 with 1 Axes>"
      ]
     },
     "metadata": {
      "needs_background": "light"
     },
     "output_type": "display_data"
    }
   ],
   "source": [
    "plt.plot(z[60:110], y_0[60:110], 'o', color = 'k')\n",
    "plt.plot(z[90:110], y[90:110], 'o', color = 'r')\n",
    "plt.axvline(x = -0.5, color = 'k')\n",
    "plt.title('Comparison - A Closer Look')"
   ]
  },
  {
   "cell_type": "markdown",
   "metadata": {},
   "source": [
    "For the simulation study we will estimate the regressions below. They resemble González regression analysis in the bandwidths chosen. However, while she used cubic, quadratic, and linear specifications we only use the a linear specification for the first four regressions, because our simulated data has a linear time trend and the real data seems to have a polynomial trend. For the last specification, González and we fit the depending variable only on a constant and the post-policy-dummy, D, since only 6 observations are used for the regression."
   ]
  },
  {
   "cell_type": "code",
   "execution_count": 54,
   "metadata": {},
   "outputs": [],
   "source": [
    "df = pd.DataFrame(data = {'y': y, 'z': z, 'D': D})\n",
    "\n",
    "reg1 = smf.ols(formula = 'y ~ z + D + D*z', data = df).fit()\n",
    "reg2 = smf.ols(formula = 'y ~ z + D + D*z', data = df.loc[(df['z']>-31) & (df['z']<30)]).fit()\n",
    "reg3 = smf.ols(formula = 'y ~ z + D + D*z', data = df.loc[(df['z']>-13) & (df['z']<12)]).fit()\n",
    "reg4 = smf.ols(formula = 'y ~ z + D + D*z', data = df.loc[(df['z']>-10) & (df['z']<9)]).fit()\n",
    "reg5 = smf.ols(formula = 'y ~ D', data = df.loc[(df['z']>-4) & (df['z']<3)]).fit()"
   ]
  },
  {
   "cell_type": "markdown",
   "metadata": {},
   "source": [
    "The fitted values look different depending on the size of the bandwidth."
   ]
  },
  {
   "cell_type": "code",
   "execution_count": 55,
   "metadata": {},
   "outputs": [
    {
     "data": {
      "text/plain": [
       "Text(0.5, 1.0, 'Regression with large bandwidth')"
      ]
     },
     "execution_count": 55,
     "metadata": {},
     "output_type": "execute_result"
    },
    {
     "data": {
      "image/png": "[encoded data removed]",
      "text/plain": [
       "<Figure size 432x288 with 1 Axes>"
      ]
     },
     "metadata": {
      "needs_background": "light"
     },
     "output_type": "display_data"
    }
   ],
   "source": [
    "#plt.subplot(1, 2, 1)\n",
    "plt.plot(z, y, 'o', color = 'k')\n",
    "plt.plot(z[:90], reg1.fittedvalues[:90])\n",
    "plt.plot(z[90:], reg1.fittedvalues[90:])\n",
    "plt.axvline(x = -0.5, color = 'k')\n",
    "plt.title('Regression with large bandwidth')"
   ]
  },
  {
   "cell_type": "code",
   "execution_count": 56,
   "metadata": {},
   "outputs": [
    {
     "data": {
      "text/plain": [
       "Text(0.5, 1.0, 'Regression with medium bandwidth')"
      ]
     },
     "execution_count": 56,
     "metadata": {},
     "output_type": "execute_result"
    },
    {
     "data": {
      "image/png": "[encoded data removed]",
      "text/plain": [
       "<Figure size 432x288 with 1 Axes>"
      ]
     },
     "metadata": {
      "needs_background": "light"
     },
     "output_type": "display_data"
    }
   ],
   "source": [
    "plt.plot(z[60:119], y[60:119], 'o', color = 'k')\n",
    "plt.plot(z[60:90], reg2.fittedvalues[:30])\n",
    "plt.plot(z[90:119], reg2.fittedvalues[31:])\n",
    "plt.axvline(x = -0.5, color = 'k')\n",
    "plt.title('Regression with medium bandwidth')"
   ]
  },
  {
   "cell_type": "code",
   "execution_count": 57,
   "metadata": {
    "scrolled": true
   },
   "outputs": [
    {
     "data": {
      "text/plain": [
       "Text(0.5, 1.0, 'Regression with small bandwidth')"
      ]
     },
     "execution_count": 57,
     "metadata": {},
     "output_type": "execute_result"
    },
    {
     "data": {
      "image/png": "[encoded data removed]",
      "text/plain": [
       "<Figure size 432x288 with 1 Axes>"
      ]
     },
     "metadata": {
      "needs_background": "light"
     },
     "output_type": "display_data"
    }
   ],
   "source": [
    "plt.plot(z[78:101], y[78:101], 'o', color = 'k')\n",
    "plt.plot(z[78:90], reg3.fittedvalues[:12])\n",
    "plt.plot(z[90:101], reg3.fittedvalues[13:])\n",
    "plt.axvline(x = -0.5, color = 'k')\n",
    "plt.title('Regression with small bandwidth')"
   ]
  },
  {
   "cell_type": "markdown",
   "metadata": {},
   "source": [
    "From the plots above one can guess that the estimated coefficient of the post-policy-dummy, D, increases the smaller the bandwidth. Since this estimate would be interpreted as treatment effect in a standard RDD, its size is relevant.\n",
    "\n",
    "The following function simulates N samples and runs the regressions for each."
   ]
  },
  {
   "cell_type": "code",
   "execution_count": 58,
   "metadata": {},
   "outputs": [],
   "source": [
    "np.random.seed(234)\n",
    "N = 1000\n",
    "params, bse, in_ci = simulating_results_from_different_bandwidths(z, D, T, N)"
   ]
  },
  {
   "cell_type": "code",
   "execution_count": 59,
   "metadata": {},
   "outputs": [
    {
     "name": "stdout",
     "output_type": "stream",
     "text": [
      "Simulation Study - Results\n",
      "————————————————————————————————————————————————————————————————————————————————————————————————————\n",
      "                             RDD (1)       RDD (2)       RDD (3)       RDD (4)       RDD (5)\n",
      "                            10 years       5 years     12 months      9 months      3 months\n",
      "————————————————————————————————————————————————————————————————————————————————————————————————————\n",
      "Estimated Coef. of D         0.1554        0.1613        0.9196        0.8198        0.5937                                                                                                                        \n",
      "Standard Error               0.2895        0.3317        0.5234        0.5925        0.4664                                                                                                                        \n",
      "0 in 0.95-Conf. Int.         0.9680        0.9690        0.6170        0.7430        0.7410                                                                                                                        \n",
      "————————————————————————————————————————————————————————————————————————————————————————————————————\n",
      "The first row contains the average of the estimated coefficient of D. The second row contains the\n",
      "average of the corresponding standard error. The last row shows the relative frequency of the event\n",
      "that 0 (the overall effect) was included in the 95%-confidence interval.\n"
     ]
    }
   ],
   "source": [
    "print_simulation_results(params, bse, in_ci, N)"
   ]
  },
  {
   "cell_type": "markdown",
   "metadata": {},
   "source": [
    "As mentioned in the beginning, we see that if the policy intervention causes a preponing of conceptions and, thus, has an overall effect of 0 on conceptions, one should not use small bandwidths in order to obtain the effect which is relevent for policy makers. Rather one should use as many observations as possible and, thereby, try to estimate the long-run effect of the policy."
   ]
  },
  {
   "cell_type": "markdown",
   "metadata": {},
   "source": [
    "In case you wonder whether the true long run effect of the policy intervention is 0, you can increase the timespan available (beyond the timespan available for the article) and check that the mean of the estimated D-coefficient approaches zero."
   ]
  },
  {
   "cell_type": "code",
   "execution_count": 60,
   "metadata": {},
   "outputs": [
    {
     "data": {
      "text/plain": [
       "0.0006796841150375117"
      ]
     },
     "execution_count": 60,
     "metadata": {},
     "output_type": "execute_result"
    }
   ],
   "source": [
    "np.random.seed(234)\n",
    "params_ = increase_available_timespan(200)\n",
    "params_.mean()"
   ]
  },
  {
   "cell_type": "markdown",
   "metadata": {},
   "source": [
    "<a id='conclusion'></a>\n",
    "## 6.) Conclusion"
   ]
  },
  {
   "cell_type": "markdown",
   "metadata": {},
   "source": [
    "We were able to reproduce the main results obtained by González (2013). During our replication, we detected mistakes and inaccuracies among those some in fact had an influence on the regression results, partly even on the significance level. Therefore, we made a range of adjustments and corrections, such as accurately accounting for all leap years during the period under consideration as well as computing the month of conception as precisely as possible.\n",
    "\n",
    "Furthermore, we critically discussed the identification strategy using causal graphs and the potential outcome framework. We were especially concerned with potential pitfalls of a Regression Discontinuity Design in time. In particular, we examined whether adjusting for autocorrelation is necessary, an aspect that has not been mentioned by the author in her article. Additionally, we exemplarily showed that the specification of the polynomial time trend (local vs. global) is a critical factor decisively affecting the obtained estimates.\n",
    "\n",
    "As an additional contribution, we applied the identical research design to the abolishment of the policy using more recent data. Since we cannot plausibly claim that no other event, such as another policy change, did have a discontinuous impact on potential outcomes around the new threshold, our obtained findings of a significantly negative effect on conceptions should be treated with caution.\n",
    "\n",
    "Finally, we discussed the general reliabilty of the research design. For this purpose, we conducted two placebo tests with respect to conceptions. Exploiting a major slow-down in law-making activity occurring subsequent to the Spanish general elections in December 2015, we can plausibly claim that at least policy changes did not discontinuously affect fertility during a time frame of slightly less than one year. These placebo tests should rule out that the presumed effect of the policy is only driven by the seasonal pattern of conceptions that may not have been appropriately captured in specifications applied to small time frames. However, our results are ambiguous but suggest that the reliability of the research design depends on the employed threshold month. In addition to the placebo tests, we ran a simulation study analyzing the optimal bandwidth if a policy intervention has a time-varying effect. More precisely, we simulated a moving up in time of the number of conceptions using a sine-function and concluded that, in this particular case, one should use a large bandwidth to estimate the effect which is relevant for policy makers.\n",
    "\n",
    "With respect to further research, it might be fruitful to dive into exploring which way of dealing with serially correlated errors is most appropriate in a Regression Discontinuity in time setting. Furthermore, the question whether to employ global or local polynomial time trends (or even a different approach) is not conclusively answered yet. Addressing those aspects would help to advance the policy evaluation literature."
   ]
  },
  {
   "cell_type": "markdown",
   "metadata": {},
   "source": [
    "<a id='references'></a>\n",
    "## References"
   ]
  },
  {
   "cell_type": "markdown",
   "metadata": {},
   "source": [
    "Borra, C., González, L., & Sevilla, A. (2019). The Impact of Scheduling Birth Early on Infant Health. Journal of the European Economic Association, 17(1), 30-78.\n",
    "\n",
    "Davis, L. W. (2008). The effect of driving restrictions on air quality in Mexico City. Journal of Political Economy, 116(1), 38-81.\n",
    "\n",
    "El País (2010). El polémico 'cheque-bebé' desaparecerá el 31 de diciembre. https://elpais.com/diario/2010/05/13/espana/1273701614_850215.html.\n",
    "\n",
    "Expansión (2016). Fin del bloqueo: Mariano Rajoy, presidente gracias a la abstención de 68 diputados del PSOE. https://www.expansion.com/economia/politica/2016/10/29/5814e88846163f5f508b45bb.html.\n",
    "\n",
    "Frölich, M., & Sperlich, S. (2019). Impact evaluation. Cambridge University Press.\n",
    "\n",
    "Gelman, A., & Imbens, G. (2019). Why high-order polynomials should not be used in regression discontinuity designs. Journal of Business & Economic Statistics, 37(3), 447-456.\n",
    "\n",
    "González, L. (2013). The effect of a universal child benefit on conceptions, abortions, and early maternal labor supply. American Economic Journal: Economic Policy, 5(3), 160-88.\n",
    "\n",
    "Hahn, J., Todd, P., & Van der Klaauw, W. (2001). Identification and estimation of treatment effects with a regression‐discontinuity design. Econometrica, 69(1), 201-209.\n",
    "\n",
    "Hausman, C., & Rapson, D. S. (2018). Regression discontinuity in time: Considerations for empirical applications. Annual Review of Resource Economics, 10, 533-552.\n",
    "\n",
    "Lee, D. S., & Lemieux, T. (2010). Regression discontinuity designs in economics. Journal of economic literature, 48(2), 281-355.\n",
    "\n",
    "Linklaters (2017). Year in Review 2016 and Year to Come 2017 - Spanish Law. https://www.linklaters.com/de-de/insights/publications/year-review-year-to-come/2016-2017/spanish-law.\n",
    "\n",
    "Morgan, S. L., & Winship, C. (2015). Counterfactuals and causal inference. Cambridge University Press.\n",
    "\n",
    "Newey, W. K., & West, K. D. (1987). A Simple, Positive Semi-Definite, Heteroskedasticity and Autocorrelation Consistent Covariance Matrix. Econometrica: Journal of the Econometric Society, 703-708.\n",
    "\n",
    "Pearl, J. (2000). Causality: models, reasoning and inference (Vol. 29). Cambridge: MIT press.\n",
    "\n",
    "Rubin, D. B. (1974). Estimating causal effects of treatments in randomized and nonrandomized studies. Journal of educational Psychology, 66(5), 688.\n",
    "\n",
    "Thistlethwaite, D. L., & Campbell, D. T. (1960). Regression-discontinuity analysis: An alternative to the ex post facto experiment. Journal of Educational psychology, 51(6), 309.\n"
   ]
  },
  {
   "cell_type": "markdown",
   "metadata": {},
   "source": [
    "<a id='appendix'></a>\n",
    "## Appendix"
   ]
  },
  {
   "cell_type": "markdown",
   "metadata": {},
   "source": [
    "<a id='acf_abolishment'></a>"
   ]
  },
  {
   "cell_type": "code",
   "execution_count": 61,
   "metadata": {},
   "outputs": [
    {
     "data": {
      "image/png": "[encoded data removed]",
      "text/plain": [
       "<Figure size 1008x216 with 5 Axes>"
      ]
     },
     "metadata": {
      "needs_background": "light"
     },
     "output_type": "display_data"
    }
   ],
   "source": [
    "fig, axes = plt.subplots(ncols=5, nrows=1, sharex=True, sharey=True, figsize=(14,3))\n",
    "\n",
    "plt.tight_layout()\n",
    "fig.suptitle('ACF - Plots: Abolishment of the Policy')\n",
    "plt.subplots_adjust(top=0.8)\n",
    "\n",
    "for x in range(5):\n",
    "    smt.graphics.plot_acf(reg_list_abolishment[x].resid,lags=5,alpha=0.05, ax=axes[x])\n",
    "    axes[x].set_title('Spec. ('+str(x+1)+')')"
   ]
  },
  {
   "cell_type": "markdown",
   "metadata": {},
   "source": [
    "<a id='acf_placebo_july'></a>"
   ]
  },
  {
   "cell_type": "code",
   "execution_count": 62,
   "metadata": {},
   "outputs": [
    {
     "data": {
      "text/plain": [
       "Text(0.5, 1.0, 'RDD (2)')"
      ]
     },
     "execution_count": 62,
     "metadata": {},
     "output_type": "execute_result"
    },
    {
     "data": {
      "image/png": "[encoded data removed]",
      "text/plain": [
       "<Figure size 432x216 with 2 Axes>"
      ]
     },
     "metadata": {
      "needs_background": "light"
     },
     "output_type": "display_data"
    }
   ],
   "source": [
    "fig, axes = plt.subplots(ncols=2, nrows=1, sharex=True, sharey=True, figsize=(6,3))\n",
    "plt.tight_layout()\n",
    "fig.suptitle('ACF - Placebo Test July')\n",
    "plt.subplots_adjust(top=0.8)\n",
    "smt.graphics.plot_acf(reg_list_placebo_july[0].resid,lags=5,alpha=0.05, ax=axes[0])\n",
    "axes[0].set_title('RDD (1)')\n",
    "smt.graphics.plot_acf(reg_list_placebo_july[1].resid,lags=5,alpha=0.05, ax=axes[1])\n",
    "axes[1].set_title('RDD (2)')"
   ]
  },
  {
   "cell_type": "markdown",
   "metadata": {},
   "source": [
    "<a id='acf_placebo_july'></a>"
   ]
  },
  {
   "cell_type": "code",
   "execution_count": 63,
   "metadata": {},
   "outputs": [
    {
     "data": {
      "text/plain": [
       "Text(0.5, 1.0, 'RDD (2)')"
      ]
     },
     "execution_count": 63,
     "metadata": {},
     "output_type": "execute_result"
    },
    {
     "data": {
      "image/png": "[encoded data removed]",
      "text/plain": [
       "<Figure size 432x216 with 2 Axes>"
      ]
     },
     "metadata": {
      "needs_background": "light"
     },
     "output_type": "display_data"
    }
   ],
   "source": [
    "fig, axes = plt.subplots(ncols=2, nrows=1, sharex=True, sharey=True, figsize=(6,3))\n",
    "plt.tight_layout()\n",
    "fig.suptitle('ACF - Placebo Test May')\n",
    "plt.subplots_adjust(top=0.8)\n",
    "smt.graphics.plot_acf(reg_list_placebo_may[0].resid,lags=5,alpha=0.05, ax=axes[0])\n",
    "axes[0].set_title('RDD (1)')\n",
    "smt.graphics.plot_acf(reg_list_placebo_may[1].resid,lags=5,alpha=0.05, ax=axes[1])\n",
    "axes[1].set_title('RDD (2)')"
   ]
  },
  {
   "cell_type": "code",
   "execution_count": null,
   "metadata": {},
   "outputs": [],
   "source": []
  }
 ],
 "metadata": {
  "kernelspec": {
   "display_name": "Python 3",
   "language": "python",
   "name": "python3"
  },
  "language_info": {
   "codemirror_mode": {
    "name": "ipython",
    "version": 3
   },
   "file_extension": ".py",
   "mimetype": "text/x-python",
   "name": "python",
   "nbconvert_exporter": "python",
   "pygments_lexer": "ipython3",
   "version": "3.7.1"
  },
  "varInspector": {
   "cols": {
    "lenName": 16,
    "lenType": 16,
    "lenVar": 40
   },
   "kernels_config": {
    "python": {
     "delete_cmd_postfix": "",
     "delete_cmd_prefix": "del ",
     "library": "var_list.py",
     "varRefreshCmd": "print(var_dic_list())"
    },
    "r": {
     "delete_cmd_postfix": ") ",
     "delete_cmd_prefix": "rm(",
     "library": "var_list.r",
     "varRefreshCmd": "cat(var_dic_list()) "
    }
   },
   "types_to_exclude": [
    "module",
    "function",
    "builtin_function_or_method",
    "instance",
    "_Feature"
   ],
   "window_display": false
  }
 },
 "nbformat": 4,
 "nbformat_minor": 1
}
